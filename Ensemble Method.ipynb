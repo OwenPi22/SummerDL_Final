{
 "cells": [
  {
   "cell_type": "code",
   "execution_count": 1,
   "id": "54bfb866",
   "metadata": {},
   "outputs": [],
   "source": [
    "import pandas as pd\n",
    "from tensorflow.keras.preprocessing import image\n",
    "\n",
    "import tensorflow as tf\n",
    "\n",
    "from tensorflow.keras.applications.inception_v3 import InceptionV3\n",
    "from tensorflow.keras.applications.vgg16 import VGG16\n",
    "from tensorflow.keras.applications.resnet_v2 import ResNet152V2\n",
    "\n",
    "from tensorflow.keras.preprocessing.image import ImageDataGenerator\n",
    "from tensorflow.keras import layers\n",
    "from tensorflow.keras import models\n",
    "from tensorflow.keras import activations\n",
    "from tqdm import tqdm\n",
    "import numpy as np\n",
    "import seaborn as sns"
   ]
  },
  {
   "cell_type": "code",
   "execution_count": 2,
   "id": "ea71cf60",
   "metadata": {},
   "outputs": [],
   "source": [
    "physical_devices = tf.config.list_physical_devices('GPU') \n",
    "tf.config.experimental.set_memory_growth(physical_devices[0], True)"
   ]
  },
  {
   "cell_type": "code",
   "execution_count": 3,
   "id": "18ab63ed",
   "metadata": {},
   "outputs": [],
   "source": [
    "#Unagumented\n",
    "df = pd.read_csv('./Unaug_Data/HAM10000_Metadata')"
   ]
  },
  {
   "cell_type": "code",
   "execution_count": null,
   "id": "28b898f4",
   "metadata": {},
   "outputs": [],
   "source": []
  },
  {
   "cell_type": "code",
   "execution_count": 4,
   "id": "bb9e43e8",
   "metadata": {},
   "outputs": [
    {
     "data": {
      "text/html": [
       "<div>\n",
       "<style scoped>\n",
       "    .dataframe tbody tr th:only-of-type {\n",
       "        vertical-align: middle;\n",
       "    }\n",
       "\n",
       "    .dataframe tbody tr th {\n",
       "        vertical-align: top;\n",
       "    }\n",
       "\n",
       "    .dataframe thead th {\n",
       "        text-align: right;\n",
       "    }\n",
       "</style>\n",
       "<table border=\"1\" class=\"dataframe\">\n",
       "  <thead>\n",
       "    <tr style=\"text-align: right;\">\n",
       "      <th></th>\n",
       "      <th>lesion_id</th>\n",
       "      <th>image_id</th>\n",
       "      <th>dx</th>\n",
       "      <th>dx_type</th>\n",
       "      <th>age</th>\n",
       "      <th>sex</th>\n",
       "      <th>localization</th>\n",
       "      <th>dataset</th>\n",
       "      <th>risk</th>\n",
       "    </tr>\n",
       "  </thead>\n",
       "  <tbody>\n",
       "    <tr>\n",
       "      <th>0</th>\n",
       "      <td>HAM_0000118</td>\n",
       "      <td>ISIC_0027419</td>\n",
       "      <td>bkl</td>\n",
       "      <td>histo</td>\n",
       "      <td>80.0</td>\n",
       "      <td>male</td>\n",
       "      <td>scalp</td>\n",
       "      <td>vidir_modern</td>\n",
       "      <td>0.0</td>\n",
       "    </tr>\n",
       "    <tr>\n",
       "      <th>1</th>\n",
       "      <td>HAM_0000118</td>\n",
       "      <td>ISIC_0025030</td>\n",
       "      <td>bkl</td>\n",
       "      <td>histo</td>\n",
       "      <td>80.0</td>\n",
       "      <td>male</td>\n",
       "      <td>scalp</td>\n",
       "      <td>vidir_modern</td>\n",
       "      <td>0.0</td>\n",
       "    </tr>\n",
       "    <tr>\n",
       "      <th>2</th>\n",
       "      <td>HAM_0002730</td>\n",
       "      <td>ISIC_0026769</td>\n",
       "      <td>bkl</td>\n",
       "      <td>histo</td>\n",
       "      <td>80.0</td>\n",
       "      <td>male</td>\n",
       "      <td>scalp</td>\n",
       "      <td>vidir_modern</td>\n",
       "      <td>0.0</td>\n",
       "    </tr>\n",
       "    <tr>\n",
       "      <th>3</th>\n",
       "      <td>HAM_0002730</td>\n",
       "      <td>ISIC_0025661</td>\n",
       "      <td>bkl</td>\n",
       "      <td>histo</td>\n",
       "      <td>80.0</td>\n",
       "      <td>male</td>\n",
       "      <td>scalp</td>\n",
       "      <td>vidir_modern</td>\n",
       "      <td>0.0</td>\n",
       "    </tr>\n",
       "    <tr>\n",
       "      <th>4</th>\n",
       "      <td>HAM_0001466</td>\n",
       "      <td>ISIC_0031633</td>\n",
       "      <td>bkl</td>\n",
       "      <td>histo</td>\n",
       "      <td>75.0</td>\n",
       "      <td>male</td>\n",
       "      <td>ear</td>\n",
       "      <td>vidir_modern</td>\n",
       "      <td>0.0</td>\n",
       "    </tr>\n",
       "  </tbody>\n",
       "</table>\n",
       "</div>"
      ],
      "text/plain": [
       "     lesion_id      image_id   dx dx_type   age   sex localization  \\\n",
       "0  HAM_0000118  ISIC_0027419  bkl   histo  80.0  male        scalp   \n",
       "1  HAM_0000118  ISIC_0025030  bkl   histo  80.0  male        scalp   \n",
       "2  HAM_0002730  ISIC_0026769  bkl   histo  80.0  male        scalp   \n",
       "3  HAM_0002730  ISIC_0025661  bkl   histo  80.0  male        scalp   \n",
       "4  HAM_0001466  ISIC_0031633  bkl   histo  75.0  male          ear   \n",
       "\n",
       "        dataset  risk  \n",
       "0  vidir_modern   0.0  \n",
       "1  vidir_modern   0.0  \n",
       "2  vidir_modern   0.0  \n",
       "3  vidir_modern   0.0  \n",
       "4  vidir_modern   0.0  "
      ]
     },
     "execution_count": 4,
     "metadata": {},
     "output_type": "execute_result"
    }
   ],
   "source": [
    "#Unagumented\n",
    "risk = []\n",
    "\n",
    "for i in range(0, 10015):\n",
    "    if df.iloc[i]['dx'] in ['bkl', 'df', 'vasc']:\n",
    "        risk.append(0.0)\n",
    "    elif df.iloc[i]['dx'] == 'nv':\n",
    "        risk.append(1.0)\n",
    "    elif df.iloc[i]['dx'] == 'akiec':\n",
    "        risk.append(2.0)\n",
    "    elif df.iloc[i]['dx'] in ['mel', 'bcc']:\n",
    "        risk.append(3.0)\n",
    "        \n",
    "df['risk'] = risk\n",
    "\n",
    "df.head()"
   ]
  },
  {
   "cell_type": "code",
   "execution_count": 5,
   "id": "22543c7a",
   "metadata": {},
   "outputs": [
    {
     "data": {
      "text/plain": [
       "1.0    6705\n",
       "3.0    1627\n",
       "0.0    1356\n",
       "2.0     327\n",
       "Name: risk, dtype: int64"
      ]
     },
     "execution_count": 5,
     "metadata": {},
     "output_type": "execute_result"
    }
   ],
   "source": [
    "df['risk'].value_counts()"
   ]
  },
  {
   "cell_type": "markdown",
   "id": "a7903074",
   "metadata": {},
   "source": [
    "# Separate Data into Even Baskets and Testing Set"
   ]
  },
  {
   "cell_type": "code",
   "execution_count": 6,
   "id": "68186b1a",
   "metadata": {
    "scrolled": true
   },
   "outputs": [],
   "source": [
    "df0 = df.loc[df[\"risk\"] == 0]\n",
    "df1 = df.loc[df[\"risk\"] == 1] \n",
    "df2 = df.loc[df[\"risk\"] == 2] \n",
    "df3 = df.loc[df[\"risk\"] == 3] \n",
    "\n",
    "#Randomly Shuffle rows\n",
    "df0 = df0.sample(frac = 1).reset_index(drop = True)\n",
    "df1 = df1.sample(frac = 1).reset_index(drop = True)\n",
    "df2 = df2.sample(frac = 1).reset_index(drop = True)\n",
    "df3 = df3.sample(frac = 1).reset_index(drop = True)"
   ]
  },
  {
   "cell_type": "code",
   "execution_count": 7,
   "id": "b98e6416",
   "metadata": {},
   "outputs": [],
   "source": [
    "#Separate Training and Testing Dataset; select last 20 elements from each class as testing dataframe\n",
    "test_df = df0.iloc[-20:, :]\n",
    "test_df = test_df.append(df1.iloc[-20:,:])\n",
    "test_df = test_df.append(df2.iloc[-20:, :])\n",
    "test_df = test_df.append(df3.iloc[-20:, :])"
   ]
  },
  {
   "cell_type": "code",
   "execution_count": 8,
   "id": "5f9130d5",
   "metadata": {},
   "outputs": [],
   "source": [
    "#Drop last 20 elements from training dataframe\n",
    "df0 = df0.iloc[:-20,:]\n",
    "df1 = df1.iloc[:-20,:]\n",
    "df2 = df2.iloc[:-20,:]\n",
    "df3 = df3.iloc[:-20,:]"
   ]
  },
  {
   "cell_type": "code",
   "execution_count": null,
   "id": "cfe00c4b",
   "metadata": {},
   "outputs": [],
   "source": []
  },
  {
   "cell_type": "code",
   "execution_count": null,
   "id": "c6d1088e",
   "metadata": {},
   "outputs": [],
   "source": []
  },
  {
   "cell_type": "code",
   "execution_count": null,
   "id": "b6cc3512",
   "metadata": {},
   "outputs": [],
   "source": []
  },
  {
   "cell_type": "code",
   "execution_count": 9,
   "id": "0321e38c",
   "metadata": {},
   "outputs": [],
   "source": [
    "count = 265\n",
    "basket = 1\n",
    "start = 0\n",
    "total_df = df0.iloc[start: basket*count,:]\n",
    "while basket < 6:\n",
    "    total_df = total_df.append(df1.iloc[start:basket*count, :], ignore_index = True)\n",
    "    total_df = total_df.append(df2.iloc[0:265, :], ignore_index = True)\n",
    "    total_df = total_df.append(df3.iloc[start:basket*count, :], ignore_index = True)\n",
    "    basket = basket + 1\n",
    "    start += 265\n",
    "    total_df = total_df.append(df0.iloc[start:basket*count, :], ignore_index = True)\n",
    "total_df = total_df.iloc[:-11, :]"
   ]
  },
  {
   "cell_type": "code",
   "execution_count": null,
   "id": "c7b7934a",
   "metadata": {
    "scrolled": true
   },
   "outputs": [],
   "source": [
    "total_df"
   ]
  },
  {
   "cell_type": "code",
   "execution_count": null,
   "id": "ff368611",
   "metadata": {},
   "outputs": [],
   "source": [
    "total_df['risk'].value_counts()"
   ]
  },
  {
   "cell_type": "code",
   "execution_count": null,
   "id": "9ca8f484",
   "metadata": {
    "scrolled": true
   },
   "outputs": [],
   "source": [
    "pd.options.display.max_columns = 2000"
   ]
  },
  {
   "cell_type": "code",
   "execution_count": null,
   "id": "bcc2ed74",
   "metadata": {},
   "outputs": [],
   "source": []
  },
  {
   "cell_type": "code",
   "execution_count": null,
   "id": "347a67f2",
   "metadata": {},
   "outputs": [],
   "source": []
  },
  {
   "cell_type": "markdown",
   "id": "decf618d",
   "metadata": {},
   "source": [
    "# Preprocessing and Training Models"
   ]
  },
  {
   "cell_type": "code",
   "execution_count": 10,
   "id": "3f70ed26",
   "metadata": {},
   "outputs": [],
   "source": [
    "from tensorflow.keras.callbacks import EarlyStopping\n",
    "\n",
    "earlystop_callback = EarlyStopping(\n",
    "  monitor='val_accuracy', min_delta=0.001,\n",
    "  patience=3, restore_best_weights=True)"
   ]
  },
  {
   "cell_type": "markdown",
   "id": "4c4c0ee3",
   "metadata": {},
   "source": [
    "## Separate input and output into five fold"
   ]
  },
  {
   "cell_type": "code",
   "execution_count": 11,
   "id": "0b4d8f8f",
   "metadata": {},
   "outputs": [],
   "source": [
    "Basket = 1060\n",
    "df1 = total_df.iloc[0:Basket, :]\n",
    "df2 = total_df.iloc[Basket:2*Basket, :]\n",
    "df3 = total_df.iloc[2*Basket: 3*Basket, :]\n",
    "df4 = total_df.iloc[3*Basket:4*Basket, :]\n",
    "df5 = total_df.iloc[4*Basket:5*Basket, :]\n",
    "\n",
    "df1 = df1.sample(frac = 1).reset_index(drop = True)\n",
    "df2= df2.sample(frac = 1).reset_index(drop = True)\n",
    "df3 = df3.sample(frac = 1).reset_index(drop = True)\n",
    "df4 = df4.sample(frac = 1).reset_index(drop = True)\n",
    "df5 = df5.sample(frac = 1).reset_index(drop = True)\n",
    "test_df = test_df.sample(frac = 1).reset_index(drop = True)"
   ]
  },
  {
   "cell_type": "code",
   "execution_count": 12,
   "id": "4fb5eb3c",
   "metadata": {},
   "outputs": [],
   "source": [
    "NUM_VAL = 80\n",
    "NUM_TRN = 1060\n",
    "TOTAL = 1060"
   ]
  },
  {
   "cell_type": "code",
   "execution_count": 13,
   "id": "16f02fac",
   "metadata": {
    "scrolled": true
   },
   "outputs": [
    {
     "data": {
      "text/html": [
       "<div>\n",
       "<style scoped>\n",
       "    .dataframe tbody tr th:only-of-type {\n",
       "        vertical-align: middle;\n",
       "    }\n",
       "\n",
       "    .dataframe tbody tr th {\n",
       "        vertical-align: top;\n",
       "    }\n",
       "\n",
       "    .dataframe thead th {\n",
       "        text-align: right;\n",
       "    }\n",
       "</style>\n",
       "<table border=\"1\" class=\"dataframe\">\n",
       "  <thead>\n",
       "    <tr style=\"text-align: right;\">\n",
       "      <th></th>\n",
       "      <th>lesion_id</th>\n",
       "      <th>image_id</th>\n",
       "      <th>dx</th>\n",
       "      <th>dx_type</th>\n",
       "      <th>age</th>\n",
       "      <th>sex</th>\n",
       "      <th>localization</th>\n",
       "      <th>dataset</th>\n",
       "      <th>risk</th>\n",
       "    </tr>\n",
       "  </thead>\n",
       "  <tbody>\n",
       "    <tr>\n",
       "      <th>0</th>\n",
       "      <td>HAM_0002011</td>\n",
       "      <td>ISIC_0031711</td>\n",
       "      <td>mel</td>\n",
       "      <td>histo</td>\n",
       "      <td>55.0</td>\n",
       "      <td>female</td>\n",
       "      <td>lower extremity</td>\n",
       "      <td>vidir_modern</td>\n",
       "      <td>3.0</td>\n",
       "    </tr>\n",
       "    <tr>\n",
       "      <th>1</th>\n",
       "      <td>HAM_0004883</td>\n",
       "      <td>ISIC_0031851</td>\n",
       "      <td>bkl</td>\n",
       "      <td>histo</td>\n",
       "      <td>55.0</td>\n",
       "      <td>male</td>\n",
       "      <td>back</td>\n",
       "      <td>rosendahl</td>\n",
       "      <td>0.0</td>\n",
       "    </tr>\n",
       "    <tr>\n",
       "      <th>2</th>\n",
       "      <td>HAM_0004746</td>\n",
       "      <td>ISIC_0029021</td>\n",
       "      <td>mel</td>\n",
       "      <td>histo</td>\n",
       "      <td>65.0</td>\n",
       "      <td>female</td>\n",
       "      <td>back</td>\n",
       "      <td>rosendahl</td>\n",
       "      <td>3.0</td>\n",
       "    </tr>\n",
       "    <tr>\n",
       "      <th>3</th>\n",
       "      <td>HAM_0004397</td>\n",
       "      <td>ISIC_0025589</td>\n",
       "      <td>mel</td>\n",
       "      <td>histo</td>\n",
       "      <td>55.0</td>\n",
       "      <td>female</td>\n",
       "      <td>neck</td>\n",
       "      <td>vidir_modern</td>\n",
       "      <td>3.0</td>\n",
       "    </tr>\n",
       "    <tr>\n",
       "      <th>4</th>\n",
       "      <td>HAM_0005154</td>\n",
       "      <td>ISIC_0024762</td>\n",
       "      <td>nv</td>\n",
       "      <td>consensus</td>\n",
       "      <td>55.0</td>\n",
       "      <td>male</td>\n",
       "      <td>back</td>\n",
       "      <td>vidir_modern</td>\n",
       "      <td>1.0</td>\n",
       "    </tr>\n",
       "    <tr>\n",
       "      <th>...</th>\n",
       "      <td>...</td>\n",
       "      <td>...</td>\n",
       "      <td>...</td>\n",
       "      <td>...</td>\n",
       "      <td>...</td>\n",
       "      <td>...</td>\n",
       "      <td>...</td>\n",
       "      <td>...</td>\n",
       "      <td>...</td>\n",
       "    </tr>\n",
       "    <tr>\n",
       "      <th>75</th>\n",
       "      <td>HAM_0003144</td>\n",
       "      <td>ISIC_0032135</td>\n",
       "      <td>akiec</td>\n",
       "      <td>histo</td>\n",
       "      <td>65.0</td>\n",
       "      <td>female</td>\n",
       "      <td>face</td>\n",
       "      <td>rosendahl</td>\n",
       "      <td>2.0</td>\n",
       "    </tr>\n",
       "    <tr>\n",
       "      <th>76</th>\n",
       "      <td>HAM_0003001</td>\n",
       "      <td>ISIC_0032514</td>\n",
       "      <td>bkl</td>\n",
       "      <td>histo</td>\n",
       "      <td>75.0</td>\n",
       "      <td>male</td>\n",
       "      <td>face</td>\n",
       "      <td>vidir_modern</td>\n",
       "      <td>0.0</td>\n",
       "    </tr>\n",
       "    <tr>\n",
       "      <th>77</th>\n",
       "      <td>HAM_0003025</td>\n",
       "      <td>ISIC_0027440</td>\n",
       "      <td>nv</td>\n",
       "      <td>follow_up</td>\n",
       "      <td>35.0</td>\n",
       "      <td>female</td>\n",
       "      <td>trunk</td>\n",
       "      <td>vidir_molemax</td>\n",
       "      <td>1.0</td>\n",
       "    </tr>\n",
       "    <tr>\n",
       "      <th>78</th>\n",
       "      <td>HAM_0004472</td>\n",
       "      <td>ISIC_0025368</td>\n",
       "      <td>akiec</td>\n",
       "      <td>histo</td>\n",
       "      <td>40.0</td>\n",
       "      <td>female</td>\n",
       "      <td>face</td>\n",
       "      <td>rosendahl</td>\n",
       "      <td>2.0</td>\n",
       "    </tr>\n",
       "    <tr>\n",
       "      <th>79</th>\n",
       "      <td>HAM_0004224</td>\n",
       "      <td>ISIC_0027194</td>\n",
       "      <td>bkl</td>\n",
       "      <td>confocal</td>\n",
       "      <td>80.0</td>\n",
       "      <td>male</td>\n",
       "      <td>face</td>\n",
       "      <td>vidir_modern</td>\n",
       "      <td>0.0</td>\n",
       "    </tr>\n",
       "  </tbody>\n",
       "</table>\n",
       "<p>80 rows × 9 columns</p>\n",
       "</div>"
      ],
      "text/plain": [
       "      lesion_id      image_id     dx    dx_type   age     sex  \\\n",
       "0   HAM_0002011  ISIC_0031711    mel      histo  55.0  female   \n",
       "1   HAM_0004883  ISIC_0031851    bkl      histo  55.0    male   \n",
       "2   HAM_0004746  ISIC_0029021    mel      histo  65.0  female   \n",
       "3   HAM_0004397  ISIC_0025589    mel      histo  55.0  female   \n",
       "4   HAM_0005154  ISIC_0024762     nv  consensus  55.0    male   \n",
       "..          ...           ...    ...        ...   ...     ...   \n",
       "75  HAM_0003144  ISIC_0032135  akiec      histo  65.0  female   \n",
       "76  HAM_0003001  ISIC_0032514    bkl      histo  75.0    male   \n",
       "77  HAM_0003025  ISIC_0027440     nv  follow_up  35.0  female   \n",
       "78  HAM_0004472  ISIC_0025368  akiec      histo  40.0  female   \n",
       "79  HAM_0004224  ISIC_0027194    bkl   confocal  80.0    male   \n",
       "\n",
       "       localization        dataset  risk  \n",
       "0   lower extremity   vidir_modern   3.0  \n",
       "1              back      rosendahl   0.0  \n",
       "2              back      rosendahl   3.0  \n",
       "3              neck   vidir_modern   3.0  \n",
       "4              back   vidir_modern   1.0  \n",
       "..              ...            ...   ...  \n",
       "75             face      rosendahl   2.0  \n",
       "76             face   vidir_modern   0.0  \n",
       "77            trunk  vidir_molemax   1.0  \n",
       "78             face      rosendahl   2.0  \n",
       "79             face   vidir_modern   0.0  \n",
       "\n",
       "[80 rows x 9 columns]"
      ]
     },
     "execution_count": 13,
     "metadata": {},
     "output_type": "execute_result"
    }
   ],
   "source": [
    "test_df"
   ]
  },
  {
   "cell_type": "markdown",
   "id": "da68614d",
   "metadata": {},
   "source": [
    "## VGG Model Setup"
   ]
  },
  {
   "cell_type": "markdown",
   "id": "1ccef647",
   "metadata": {},
   "source": [
    "### Testing Dataset"
   ]
  },
  {
   "cell_type": "code",
   "execution_count": 14,
   "id": "38191d2a",
   "metadata": {},
   "outputs": [
    {
     "name": "stderr",
     "output_type": "stream",
     "text": [
      "100%|██████████████████████████████████████████████████████████████████████████████████| 80/80 [00:08<00:00,  9.67it/s]\n"
     ]
    }
   ],
   "source": [
    "# VGG-16\n",
    "preprocessed = []\n",
    "\n",
    "resnet_load = ResNet152V2(weights='imagenet', include_top=False)\n",
    "model = models.Sequential()\n",
    "model.add(resnet_load)\n",
    "model.add(layers.Flatten())\n",
    "\n",
    "\n",
    "for i in tqdm(range(0, 80)):\n",
    "    file = test_df.iloc[i]['image_id']\n",
    "    #feat = feat_X[i]\n",
    "    \n",
    "    #img = image.load_img('./Data/HAM10000_images/' + file + '.jpg', target_size= (224,224))\n",
    "    img = image.load_img('./Unaug_Data/HAM10000_images/' + file + '.jpg', target_size= (224,224))\n",
    "    img = image.img_to_array(img)\n",
    "    img = np.expand_dims(img, axis=0)\n",
    "    img = tf.keras.applications.resnet_v2.preprocess_input(img)\n",
    "    preds = model.predict(img).reshape(100352)\n",
    "\n",
    "    preprocessed.append(preds)#np.concatenate((preds, feat)))\n",
    "'''mx = 0\n",
    "for i in range(0, TOTAL):\n",
    "    if mx < np.amax(preprocessed[i]):\n",
    "        mx = np.amax(preprocessed[i])\n",
    "\n",
    "preprocessed = list(preprocessed / mx)\n",
    "'''\n",
    "VGG_X = preprocessed"
   ]
  },
  {
   "cell_type": "code",
   "execution_count": 15,
   "id": "57bd991b",
   "metadata": {},
   "outputs": [],
   "source": [
    "VGG_X_val = np.array(VGG_X)\n",
    "del VGG_X"
   ]
  },
  {
   "cell_type": "code",
   "execution_count": 32,
   "id": "040e69b1",
   "metadata": {},
   "outputs": [],
   "source": [
    "y_val = np.array(test_df['risk'])"
   ]
  },
  {
   "cell_type": "code",
   "execution_count": 20,
   "id": "7c13cd77",
   "metadata": {},
   "outputs": [
    {
     "data": {
      "text/plain": [
       "(80, 4)"
      ]
     },
     "execution_count": 20,
     "metadata": {},
     "output_type": "execute_result"
    }
   ],
   "source": [
    "risk = []\n",
    "for ele in test_df['risk']:\n",
    "    risk.append(tf.one_hot(int(ele),4))\n",
    "y_val = np.array(risk)\n",
    "y_val.shape"
   ]
  },
  {
   "cell_type": "code",
   "execution_count": null,
   "id": "8ce571a7",
   "metadata": {},
   "outputs": [],
   "source": []
  },
  {
   "cell_type": "code",
   "execution_count": 33,
   "id": "b39b15a9",
   "metadata": {},
   "outputs": [
    {
     "data": {
      "text/plain": [
       "(80,)"
      ]
     },
     "execution_count": 33,
     "metadata": {},
     "output_type": "execute_result"
    }
   ],
   "source": [
    "new_y_val = []\n",
    "for ele in y_val:\n",
    "    new_y_val.append(ele)\n",
    "    \n",
    "new_y_val = np.array(new_y_val)\n",
    "\n",
    "new_y_val.shape"
   ]
  },
  {
   "cell_type": "code",
   "execution_count": 22,
   "id": "65b4bb35",
   "metadata": {},
   "outputs": [
    {
     "name": "stderr",
     "output_type": "stream",
     "text": [
      "100%|███████████████████████████████████████████████████████████████████████████████| 80/80 [00:00<00:00, 17786.61it/s]\n"
     ]
    }
   ],
   "source": [
    "new_VGG_val = []\n",
    "\n",
    "for i in tqdm(range(0, NUM_VAL)):\n",
    "    new_VGG_val.append(np.array(VGG_X_val[i]))\n",
    "\n",
    "new_VGG_val = np.array(new_VGG_val)"
   ]
  },
  {
   "cell_type": "code",
   "execution_count": 19,
   "id": "d9e0418b",
   "metadata": {},
   "outputs": [
    {
     "data": {
      "text/plain": [
       "array([3., 0., 3., 3., 1., 0., 1., 0., 0., 3., 0., 3., 3., 2., 3., 2., 2.,\n",
       "       2., 3., 2., 1., 2., 0., 1., 1., 1., 3., 3., 3., 1., 2., 2., 3., 1.,\n",
       "       0., 3., 2., 2., 1., 2., 0., 1., 3., 0., 0., 0., 3., 1., 2., 0., 0.,\n",
       "       1., 2., 1., 2., 3., 2., 1., 3., 1., 1., 3., 1., 0., 0., 2., 3., 0.,\n",
       "       3., 0., 2., 1., 0., 2., 1., 2., 0., 1., 2., 0.])"
      ]
     },
     "execution_count": 19,
     "metadata": {},
     "output_type": "execute_result"
    }
   ],
   "source": [
    "y_val"
   ]
  },
  {
   "cell_type": "code",
   "execution_count": null,
   "id": "22857098",
   "metadata": {},
   "outputs": [],
   "source": []
  },
  {
   "cell_type": "markdown",
   "id": "6dd3cd51",
   "metadata": {},
   "source": [
    "### Basket 1"
   ]
  },
  {
   "cell_type": "code",
   "execution_count": 23,
   "id": "90a7e72b",
   "metadata": {},
   "outputs": [
    {
     "name": "stderr",
     "output_type": "stream",
     "text": [
      "100%|██████████████████████████████████████████████████████████████████████████████| 1060/1060 [01:02<00:00, 16.94it/s]\n"
     ]
    }
   ],
   "source": [
    "# VGG-16\n",
    "preprocessed = []\n",
    "\n",
    "resnet_load = ResNet152V2(weights='imagenet', include_top=False)\n",
    "model = models.Sequential()\n",
    "model.add(resnet_load)\n",
    "model.add(layers.Flatten())\n",
    "\n",
    "\n",
    "for i in tqdm(range(0, 1060)):\n",
    "    file = df1.iloc[i]['image_id']\n",
    "    #feat = feat_X[i]\n",
    "    \n",
    "    #img = image.load_img('./Data/HAM10000_images/' + file + '.jpg', target_size= (224,224))\n",
    "    img = image.load_img('./Unaug_Data/HAM10000_images/' + file + '.jpg', target_size= (224,224))\n",
    "    img = image.img_to_array(img)\n",
    "    img = np.expand_dims(img, axis=0)\n",
    "    img = tf.keras.applications.resnet_v2.preprocess_input(img)\n",
    "    preds = model.predict(img).reshape(100352)\n",
    "\n",
    "    preprocessed.append(preds)#np.concatenate((preds, feat)))\n",
    "'''mx = 0\n",
    "for i in range(0, TOTAL):\n",
    "    if mx < np.amax(preprocessed[i]):\n",
    "        mx = np.amax(preprocessed[i])\n",
    "\n",
    "preprocessed = list(preprocessed / mx)\n",
    "'''\n",
    "VGG_X = preprocessed"
   ]
  },
  {
   "cell_type": "code",
   "execution_count": 24,
   "id": "03a5b5cf",
   "metadata": {},
   "outputs": [],
   "source": [
    "y_trn = np.array(df1['risk'])"
   ]
  },
  {
   "cell_type": "code",
   "execution_count": 25,
   "id": "7278581d",
   "metadata": {},
   "outputs": [],
   "source": [
    "VGG_X_trn = np.array(VGG_X)\n",
    "\n",
    "del VGG_X"
   ]
  },
  {
   "cell_type": "code",
   "execution_count": 26,
   "id": "23b98853",
   "metadata": {},
   "outputs": [
    {
     "data": {
      "text/plain": [
       "(1060,)"
      ]
     },
     "execution_count": 26,
     "metadata": {},
     "output_type": "execute_result"
    }
   ],
   "source": [
    "new_y_trn = []\n",
    "for ele in y_trn:\n",
    "    new_y_trn.append(ele)\n",
    "    \n",
    "new_y_trn = np.array(new_y_trn)\n",
    "\n",
    "new_y_trn.shape"
   ]
  },
  {
   "cell_type": "code",
   "execution_count": 27,
   "id": "713d66e1",
   "metadata": {},
   "outputs": [
    {
     "name": "stderr",
     "output_type": "stream",
     "text": [
      "100%|████████████████████████████████████████████████████████████████████████████| 1060/1060 [00:00<00:00, 8783.73it/s]\n"
     ]
    }
   ],
   "source": [
    "new_VGG_trn = []\n",
    "\n",
    "for i in tqdm(range(0, NUM_TRN)):\n",
    "    new_VGG_trn.append(np.array(VGG_X_trn[i]))\n",
    "\n",
    "new_VGG_trn = np.array(new_VGG_trn)"
   ]
  },
  {
   "cell_type": "code",
   "execution_count": 28,
   "id": "df877ae9",
   "metadata": {},
   "outputs": [
    {
     "data": {
      "text/plain": [
       "(1060, 100352)"
      ]
     },
     "execution_count": 28,
     "metadata": {},
     "output_type": "execute_result"
    }
   ],
   "source": [
    "new_VGG_trn.shape"
   ]
  },
  {
   "cell_type": "code",
   "execution_count": 47,
   "id": "647cd2f8",
   "metadata": {},
   "outputs": [],
   "source": [
    "vgg_model1 = models.Sequential()\n",
    "#vgg_model.add(layers.Dense(8192, activation='relu'))\n",
    "#vgg_model.add(layers.Dense(4096, activation='relu'))\n",
    "vgg_model1.add(layers.Dense(2048, activation='tanh'))\n",
    "vgg_model1.add(layers.BatchNormalization())\n",
    "vgg_model1.add(layers.Dense(1024, activation='tanh'))\n",
    "vgg_model1.add(layers.BatchNormalization())\n",
    "vgg_model1.add(layers.Dense(512, activation='tanh'))\n",
    "vgg_model1.add(layers.BatchNormalization())\n",
    "vgg_model1.add(layers.Dense(128, activation='tanh'))\n",
    "vgg_model1.add(layers.Dense(4))"
   ]
  },
  {
   "cell_type": "code",
   "execution_count": 48,
   "id": "c5634a7b",
   "metadata": {},
   "outputs": [
    {
     "data": {
      "text/plain": [
       "(1060,)"
      ]
     },
     "execution_count": 48,
     "metadata": {},
     "output_type": "execute_result"
    }
   ],
   "source": [
    "new_y_trn.shape"
   ]
  },
  {
   "cell_type": "code",
   "execution_count": 49,
   "id": "0c4cb4f6",
   "metadata": {},
   "outputs": [
    {
     "name": "stdout",
     "output_type": "stream",
     "text": [
      "Epoch 1/10\n",
      "133/133 [==============================] - 3s 18ms/step - loss: 10.0080 - accuracy: 0.2566 - val_loss: 9.6648 - val_accuracy: 0.2250\n",
      "Epoch 2/10\n",
      "133/133 [==============================] - 2s 17ms/step - loss: 9.5933 - accuracy: 0.2377 - val_loss: 9.9108 - val_accuracy: 0.2000\n",
      "Epoch 3/10\n",
      "133/133 [==============================] - 2s 17ms/step - loss: 9.3716 - accuracy: 0.2311 - val_loss: 9.6556 - val_accuracy: 0.2875\n",
      "Epoch 4/10\n",
      "133/133 [==============================] - 2s 17ms/step - loss: 9.2732 - accuracy: 0.2481 - val_loss: 9.7763 - val_accuracy: 0.2375\n",
      "Epoch 5/10\n",
      "133/133 [==============================] - 2s 17ms/step - loss: 9.1672 - accuracy: 0.2151 - val_loss: 9.6425 - val_accuracy: 0.2625\n",
      "Epoch 6/10\n",
      "133/133 [==============================] - 2s 17ms/step - loss: 9.0951 - accuracy: 0.2160 - val_loss: 9.5152 - val_accuracy: 0.2500\n"
     ]
    },
    {
     "data": {
      "text/plain": [
       "<keras.callbacks.History at 0x145e3b85d00>"
      ]
     },
     "execution_count": 49,
     "metadata": {},
     "output_type": "execute_result"
    }
   ],
   "source": [
    "vgg_model1.compile(optimizer=tf.keras.optimizers.Adam(learning_rate=0.000005),\n",
    "              loss=tf.nn.softmax_cross_entropy_with_logits,\n",
    "              metrics=['accuracy'])\n",
    "vgg_model1.fit(new_VGG_trn, new_y_trn, \n",
    "              epochs=10, \n",
    "              validation_data=(new_VGG_val, new_y_val),\n",
    "              batch_size = 8,\n",
    "              callbacks=[earlystop_callback])"
   ]
  },
  {
   "cell_type": "code",
   "execution_count": null,
   "id": "c64dc9ad",
   "metadata": {},
   "outputs": [],
   "source": [
    "#Save vgg model\n",
    "vgg_model1.save(\"VGG_P1.h5\")"
   ]
  },
  {
   "cell_type": "code",
   "execution_count": 50,
   "id": "fef76f3e",
   "metadata": {},
   "outputs": [
    {
     "name": "stderr",
     "output_type": "stream",
     "text": [
      "100%|██████████████████████████████████████████████████████████████████████████████████████████| 80/80 [00:00<?, ?it/s]\n"
     ]
    }
   ],
   "source": [
    "predict_y_vgg_val_1 = []\n",
    "#temp_vgg_trn = vgg_model.predict(new_VGG_trn)\n",
    "temp_vgg_val_1 = vgg_model1.predict(new_VGG_val)\n",
    "\n",
    "#del new_VGG_trn\n",
    "#del new_VGG_val\n",
    "\n",
    "for i in tqdm(range(0, NUM_VAL)):\n",
    "    pred = np.argmax(temp_vgg_val_1[i])\n",
    "    predict_y_vgg_val_1.append(pred)"
   ]
  },
  {
   "cell_type": "code",
   "execution_count": 51,
   "id": "9a438577",
   "metadata": {
    "scrolled": true
   },
   "outputs": [
    {
     "data": {
      "text/plain": [
       "[1,\n",
       " 1,\n",
       " 1,\n",
       " 3,\n",
       " 0,\n",
       " 1,\n",
       " 0,\n",
       " 0,\n",
       " 1,\n",
       " 0,\n",
       " 0,\n",
       " 0,\n",
       " 3,\n",
       " 2,\n",
       " 3,\n",
       " 0,\n",
       " 0,\n",
       " 3,\n",
       " 1,\n",
       " 1,\n",
       " 2,\n",
       " 3,\n",
       " 2,\n",
       " 2,\n",
       " 3,\n",
       " 0,\n",
       " 2,\n",
       " 2,\n",
       " 2,\n",
       " 0,\n",
       " 3,\n",
       " 2,\n",
       " 3,\n",
       " 3,\n",
       " 1,\n",
       " 3,\n",
       " 0,\n",
       " 3,\n",
       " 3,\n",
       " 2,\n",
       " 3,\n",
       " 2,\n",
       " 2,\n",
       " 3,\n",
       " 3,\n",
       " 2,\n",
       " 0,\n",
       " 3,\n",
       " 2,\n",
       " 2,\n",
       " 1,\n",
       " 2,\n",
       " 0,\n",
       " 0,\n",
       " 0,\n",
       " 2,\n",
       " 3,\n",
       " 3,\n",
       " 0,\n",
       " 2,\n",
       " 1,\n",
       " 3,\n",
       " 1,\n",
       " 0,\n",
       " 1,\n",
       " 2,\n",
       " 3,\n",
       " 0,\n",
       " 3,\n",
       " 3,\n",
       " 3,\n",
       " 1,\n",
       " 0,\n",
       " 0,\n",
       " 3,\n",
       " 0,\n",
       " 0,\n",
       " 0,\n",
       " 0,\n",
       " 0]"
      ]
     },
     "execution_count": 51,
     "metadata": {},
     "output_type": "execute_result"
    }
   ],
   "source": [
    "predict_y_vgg_val_1"
   ]
  },
  {
   "cell_type": "code",
   "execution_count": 46,
   "id": "73082228",
   "metadata": {},
   "outputs": [
    {
     "data": {
      "text/plain": [
       "array([3., 0., 3., 3., 1., 0., 1., 0., 0., 3., 0., 3., 3., 2., 3., 2., 2.,\n",
       "       2., 3., 2., 1., 2., 0., 1., 1., 1., 3., 3., 3., 1., 2., 2., 3., 1.,\n",
       "       0., 3., 2., 2., 1., 2., 0., 1., 3., 0., 0., 0., 3., 1., 2., 0., 0.,\n",
       "       1., 2., 1., 2., 3., 2., 1., 3., 1., 1., 3., 1., 0., 0., 2., 3., 0.,\n",
       "       3., 0., 2., 1., 0., 2., 1., 2., 0., 1., 2., 0.])"
      ]
     },
     "execution_count": 46,
     "metadata": {},
     "output_type": "execute_result"
    }
   ],
   "source": [
    "y_val"
   ]
  },
  {
   "cell_type": "markdown",
   "id": "2ed494be",
   "metadata": {},
   "source": [
    "### Basket 2"
   ]
  },
  {
   "cell_type": "code",
   "execution_count": 35,
   "id": "4c42448b",
   "metadata": {},
   "outputs": [
    {
     "name": "stderr",
     "output_type": "stream",
     "text": [
      "100%|██████████████████████████████████████████████████████████████████████████████| 1060/1060 [01:03<00:00, 16.62it/s]\n"
     ]
    }
   ],
   "source": [
    "# VGG-16\n",
    "preprocessed = []\n",
    "\n",
    "resnet_load = ResNet152V2(weights='imagenet', include_top=False)\n",
    "model = models.Sequential()\n",
    "model.add(resnet_load)\n",
    "model.add(layers.Flatten())\n",
    "\n",
    "\n",
    "for i in tqdm(range(0, 1060)):\n",
    "    file = df2.iloc[i]['image_id']\n",
    "    #feat = feat_X[i]\n",
    "    \n",
    "    #img = image.load_img('./Data/HAM10000_images/' + file + '.jpg', target_size= (224,224))\n",
    "    img = image.load_img('./Unaug_Data/HAM10000_images/' + file + '.jpg', target_size= (224,224))\n",
    "    img = image.img_to_array(img)\n",
    "    img = np.expand_dims(img, axis=0)\n",
    "    img = tf.keras.applications.resnet_v2.preprocess_input(img)\n",
    "    preds = model.predict(img).reshape(100352)\n",
    "\n",
    "    preprocessed.append(preds)#np.concatenate((preds, feat)))\n",
    "'''mx = 0\n",
    "for i in range(0, TOTAL):\n",
    "    if mx < np.amax(preprocessed[i]):\n",
    "        mx = np.amax(preprocessed[i])\n",
    "\n",
    "preprocessed = list(preprocessed / mx)\n",
    "'''\n",
    "VGG_X = preprocessed"
   ]
  },
  {
   "cell_type": "code",
   "execution_count": 36,
   "id": "c2017891",
   "metadata": {},
   "outputs": [
    {
     "name": "stderr",
     "output_type": "stream",
     "text": [
      "100%|████████████████████████████████████████████████████████████████████████████| 1060/1060 [00:00<00:00, 7085.54it/s]\n"
     ]
    }
   ],
   "source": [
    "y_trn = np.array(df2['risk'])\n",
    "\n",
    "\n",
    "VGG_X_trn = np.array(VGG_X)\n",
    "\n",
    "\n",
    "del VGG_X\n",
    "\n",
    "\n",
    "\n",
    "new_y_trn = []\n",
    "for ele in y_trn:\n",
    "    new_y_trn.append(ele)\n",
    "    \n",
    "new_y_trn = np.array(new_y_trn)\n",
    "\n",
    "\n",
    "new_VGG_trn = []\n",
    "\n",
    "for i in tqdm(range(0, NUM_TRN)):\n",
    "    new_VGG_trn.append(np.array(VGG_X_trn[i]))\n",
    "\n",
    "new_VGG_trn = np.array(new_VGG_trn)"
   ]
  },
  {
   "cell_type": "code",
   "execution_count": 37,
   "id": "ee0b15cf",
   "metadata": {},
   "outputs": [
    {
     "name": "stdout",
     "output_type": "stream",
     "text": [
      "Epoch 1/30\n",
      "133/133 [==============================] - 3s 19ms/step - loss: 10.3834 - accuracy: 0.2491 - val_loss: 9.3716 - val_accuracy: 0.3000\n",
      "Epoch 2/30\n",
      "133/133 [==============================] - 2s 18ms/step - loss: 9.4722 - accuracy: 0.2594 - val_loss: 10.1210 - val_accuracy: 0.2750\n",
      "Epoch 3/30\n",
      "133/133 [==============================] - 2s 18ms/step - loss: 9.0948 - accuracy: 0.2472 - val_loss: 9.1054 - val_accuracy: 0.2125\n",
      "Epoch 4/30\n",
      "133/133 [==============================] - 2s 18ms/step - loss: 8.8596 - accuracy: 0.2632 - val_loss: 9.4624 - val_accuracy: 0.2750\n"
     ]
    },
    {
     "data": {
      "text/plain": [
       "<keras.callbacks.History at 0x145d0b87400>"
      ]
     },
     "execution_count": 37,
     "metadata": {},
     "output_type": "execute_result"
    }
   ],
   "source": [
    "vgg_model2 = models.Sequential()\n",
    "\n",
    "#vgg_model.add(layers.Dense(8192, activation='relu'))\n",
    "#vgg_model.add(layers.Dense(4096, activation='relu'))\n",
    "vgg_model2.add(layers.Dense(2048, activation='tanh'))\n",
    "vgg_model2.add(layers.BatchNormalization())\n",
    "vgg_model2.add(layers.Dense(1024, activation='tanh'))\n",
    "vgg_model2.add(layers.BatchNormalization())\n",
    "vgg_model2.add(layers.Dense(512, activation='tanh'))\n",
    "vgg_model2.add(layers.BatchNormalization())\n",
    "vgg_model2.add(layers.Dense(128, activation='tanh'))\n",
    "vgg_model2.add(layers.BatchNormalization())\n",
    "vgg_model2.add(layers.Dense(4))\n",
    "\n",
    "vgg_model2.compile(optimizer=tf.keras.optimizers.Adam(learning_rate=0.00005),\n",
    "              loss=tf.nn.softmax_cross_entropy_with_logits,\n",
    "              metrics=['accuracy'])\n",
    "vgg_model2.fit(new_VGG_trn, new_y_trn, \n",
    "              epochs=30, \n",
    "              validation_data=(new_VGG_val, new_y_val),\n",
    "              batch_size = 8,\n",
    "              callbacks=[earlystop_callback])"
   ]
  },
  {
   "cell_type": "code",
   "execution_count": 38,
   "id": "6dab5c40",
   "metadata": {},
   "outputs": [],
   "source": [
    "#Save vgg model\n",
    "vgg_model2.save(\"VGG_P2.h5\")"
   ]
  },
  {
   "cell_type": "code",
   "execution_count": 39,
   "id": "71c73dcd",
   "metadata": {},
   "outputs": [
    {
     "name": "stderr",
     "output_type": "stream",
     "text": [
      "100%|██████████████████████████████████████████████████████████████████████████████████████████| 80/80 [00:00<?, ?it/s]\n"
     ]
    }
   ],
   "source": [
    "predict_y_vgg_val_2 = []\n",
    "#temp_vgg_trn = vgg_model.predict(new_VGG_trn)\n",
    "temp_vgg_val_2 = vgg_model2.predict(new_VGG_val)\n",
    "\n",
    "#del new_VGG_trn\n",
    "#del new_VGG_val\n",
    "\n",
    "for i in tqdm(range(0, NUM_VAL)):\n",
    "    pred = np.argmax(temp_vgg_val_2[i])\n",
    "    predict_y_vgg_val_2.append(pred)"
   ]
  },
  {
   "cell_type": "code",
   "execution_count": 40,
   "id": "afc1f03b",
   "metadata": {
    "scrolled": true
   },
   "outputs": [
    {
     "data": {
      "text/plain": [
       "[1,\n",
       " 1,\n",
       " 0,\n",
       " 1,\n",
       " 0,\n",
       " 2,\n",
       " 1,\n",
       " 2,\n",
       " 0,\n",
       " 1,\n",
       " 1,\n",
       " 3,\n",
       " 2,\n",
       " 1,\n",
       " 0,\n",
       " 1,\n",
       " 3,\n",
       " 1,\n",
       " 1,\n",
       " 2,\n",
       " 2,\n",
       " 1,\n",
       " 0,\n",
       " 0,\n",
       " 1,\n",
       " 1,\n",
       " 1,\n",
       " 0,\n",
       " 2,\n",
       " 2,\n",
       " 2,\n",
       " 3,\n",
       " 1,\n",
       " 3,\n",
       " 1,\n",
       " 1,\n",
       " 2,\n",
       " 2,\n",
       " 1,\n",
       " 1,\n",
       " 1,\n",
       " 1,\n",
       " 1,\n",
       " 2,\n",
       " 1,\n",
       " 1,\n",
       " 3,\n",
       " 1,\n",
       " 2,\n",
       " 1,\n",
       " 3,\n",
       " 1,\n",
       " 3,\n",
       " 1,\n",
       " 1,\n",
       " 2,\n",
       " 2,\n",
       " 3,\n",
       " 2,\n",
       " 2,\n",
       " 1,\n",
       " 1,\n",
       " 1,\n",
       " 1,\n",
       " 2,\n",
       " 2,\n",
       " 1,\n",
       " 1,\n",
       " 0,\n",
       " 1,\n",
       " 2,\n",
       " 1,\n",
       " 1,\n",
       " 1,\n",
       " 2,\n",
       " 1,\n",
       " 1,\n",
       " 2,\n",
       " 2,\n",
       " 2]"
      ]
     },
     "execution_count": 40,
     "metadata": {},
     "output_type": "execute_result"
    }
   ],
   "source": [
    "predict_y_vgg_val_2"
   ]
  },
  {
   "cell_type": "markdown",
   "id": "346b4cae",
   "metadata": {},
   "source": [
    "### Basket 3"
   ]
  },
  {
   "cell_type": "code",
   "execution_count": 52,
   "id": "20fb832f",
   "metadata": {},
   "outputs": [
    {
     "name": "stderr",
     "output_type": "stream",
     "text": [
      "\r",
      "  0%|                                                                                         | 0/1060 [00:00<?, ?it/s]"
     ]
    },
    {
     "name": "stdout",
     "output_type": "stream",
     "text": [
      "WARNING:tensorflow:5 out of the last 1070 calls to <function Model.make_predict_function.<locals>.predict_function at 0x00000145BC83FAF0> triggered tf.function retracing. Tracing is expensive and the excessive number of tracings could be due to (1) creating @tf.function repeatedly in a loop, (2) passing tensors with different shapes, (3) passing Python objects instead of tensors. For (1), please define your @tf.function outside of the loop. For (2), @tf.function has experimental_relax_shapes=True option that relaxes argument shapes that can avoid unnecessary retracing. For (3), please refer to https://www.tensorflow.org/guide/function#controlling_retracing and https://www.tensorflow.org/api_docs/python/tf/function for  more details.\n"
     ]
    },
    {
     "name": "stderr",
     "output_type": "stream",
     "text": [
      "100%|██████████████████████████████████████████████████████████████████████████████| 1060/1060 [01:00<00:00, 17.49it/s]\n"
     ]
    }
   ],
   "source": [
    "# VGG-16\n",
    "preprocessed = []\n",
    "\n",
    "resnet_load = ResNet152V2(weights='imagenet', include_top=False)\n",
    "model = models.Sequential()\n",
    "model.add(resnet_load)\n",
    "model.add(layers.Flatten())\n",
    "\n",
    "\n",
    "for i in tqdm(range(0, 1060)):\n",
    "    file = df3.iloc[i]['image_id']\n",
    "    #feat = feat_X[i]\n",
    "    \n",
    "    #img = image.load_img('./Data/HAM10000_images/' + file + '.jpg', target_size= (224,224))\n",
    "    img = image.load_img('./Unaug_Data/HAM10000_images/' + file + '.jpg', target_size= (224,224))\n",
    "    img = image.img_to_array(img)\n",
    "    img = np.expand_dims(img, axis=0)\n",
    "    img = tf.keras.applications.resnet_v2.preprocess_input(img)\n",
    "    preds = model.predict(img).reshape(100352)\n",
    "\n",
    "    preprocessed.append(preds)#np.concatenate((preds, feat)))\n",
    "'''mx = 0\n",
    "for i in range(0, TOTAL):\n",
    "    if mx < np.amax(preprocessed[i]):\n",
    "        mx = np.amax(preprocessed[i])\n",
    "\n",
    "preprocessed = list(preprocessed / mx)\n",
    "'''\n",
    "VGG_X = preprocessed"
   ]
  },
  {
   "cell_type": "code",
   "execution_count": 53,
   "id": "bd70b297",
   "metadata": {},
   "outputs": [
    {
     "name": "stderr",
     "output_type": "stream",
     "text": [
      "100%|████████████████████████████████████████████████████████████████████████████| 1060/1060 [00:00<00:00, 8856.94it/s]\n"
     ]
    }
   ],
   "source": [
    "y_trn = np.array(df3['risk'])\n",
    "\n",
    "\n",
    "VGG_X_trn = np.array(VGG_X)\n",
    "\n",
    "\n",
    "del VGG_X\n",
    "\n",
    "\n",
    "\n",
    "new_y_trn = []\n",
    "for ele in y_trn:\n",
    "    new_y_trn.append(ele)\n",
    "    \n",
    "new_y_trn = np.array(new_y_trn)\n",
    "\n",
    "\n",
    "new_VGG_trn = []\n",
    "\n",
    "for i in tqdm(range(0, NUM_TRN)):\n",
    "    new_VGG_trn.append(np.array(VGG_X_trn[i]))\n",
    "\n",
    "new_VGG_trn = np.array(new_VGG_trn)"
   ]
  },
  {
   "cell_type": "code",
   "execution_count": 65,
   "id": "a66086ef",
   "metadata": {},
   "outputs": [
    {
     "name": "stdout",
     "output_type": "stream",
     "text": [
      "Epoch 1/30\n",
      "34/34 [==============================] - 1s 21ms/step - loss: 11.0549 - accuracy: 0.2698 - val_loss: 10.0212 - val_accuracy: 0.2375\n",
      "Epoch 2/30\n",
      "34/34 [==============================] - 1s 19ms/step - loss: 17.6872 - accuracy: 0.2594 - val_loss: 36.2834 - val_accuracy: 0.2625\n",
      "Epoch 3/30\n",
      "34/34 [==============================] - 1s 18ms/step - loss: 99.5561 - accuracy: 0.2594 - val_loss: 264.2057 - val_accuracy: 0.2500\n",
      "Epoch 4/30\n",
      "34/34 [==============================] - 1s 19ms/step - loss: 685.0918 - accuracy: 0.2547 - val_loss: 1963.3142 - val_accuracy: 0.2500\n",
      "Epoch 5/30\n",
      "34/34 [==============================] - 1s 18ms/step - loss: 1499.3347 - accuracy: 0.2538 - val_loss: 1346.1414 - val_accuracy: 0.2500\n"
     ]
    },
    {
     "data": {
      "text/plain": [
       "<keras.callbacks.History at 0x14543552dc0>"
      ]
     },
     "execution_count": 65,
     "metadata": {},
     "output_type": "execute_result"
    }
   ],
   "source": [
    "vgg_model3 = models.Sequential()\n",
    "#vgg_model.add(layers.Dense(8192, activation='relu'))\n",
    "#vgg_model.add(layers.Dense(4096, activation='relu'))\n",
    "vgg_model3.add(layers.Dense(2048, activation='relu'))\n",
    "vgg_model2.add(layers.BatchNormalization())\n",
    "vgg_model3.add(layers.Dense(1024, activation='relu'))\n",
    "vgg_model2.add(layers.BatchNormalization())\n",
    "vgg_model3.add(layers.Dense(512, activation='relu'))\n",
    "vgg_model2.add(layers.BatchNormalization())\n",
    "vgg_model3.add(layers.Dense(128, activation='relu'))\n",
    "vgg_model3.add(layers.Dense(4))\n",
    "\n",
    "vgg_model3.compile(optimizer=tf.keras.optimizers.Adam(learning_rate=0.00005),\n",
    "              loss=tf.nn.softmax_cross_entropy_with_logits,\n",
    "              metrics=['accuracy'])\n",
    "vgg_model3.fit(new_VGG_trn, new_y_trn, \n",
    "              epochs=30, \n",
    "              validation_data=(new_VGG_val, new_y_val), \n",
    "              callbacks=[earlystop_callback])"
   ]
  },
  {
   "cell_type": "code",
   "execution_count": null,
   "id": "2a60f7de",
   "metadata": {},
   "outputs": [],
   "source": [
    "#Save vgg model\n",
    "vgg_model3.save(\"VGG_P3.h5\")"
   ]
  },
  {
   "cell_type": "code",
   "execution_count": 66,
   "id": "e7a9c1a1",
   "metadata": {},
   "outputs": [
    {
     "name": "stderr",
     "output_type": "stream",
     "text": [
      "100%|███████████████████████████████████████████████████████████████████████████████| 80/80 [00:00<00:00, 80216.19it/s]\n"
     ]
    }
   ],
   "source": [
    "predict_y_vgg_val_3 = []\n",
    "#temp_vgg_trn = vgg_model.predict(new_VGG_trn)\n",
    "temp_vgg_val_3 = vgg_model3.predict(new_VGG_val)\n",
    "\n",
    "#del new_VGG_trn\n",
    "#del new_VGG_val\n",
    "\n",
    "for i in tqdm(range(0, NUM_VAL)):\n",
    "    pred = np.argmax(temp_vgg_val_3[i])\n",
    "    predict_y_vgg_val_3.append(pred)"
   ]
  },
  {
   "cell_type": "code",
   "execution_count": 67,
   "id": "6811aba8",
   "metadata": {
    "scrolled": true
   },
   "outputs": [
    {
     "data": {
      "text/plain": [
       "[3,\n",
       " 3,\n",
       " 3,\n",
       " 3,\n",
       " 3,\n",
       " 3,\n",
       " 3,\n",
       " 3,\n",
       " 3,\n",
       " 3,\n",
       " 3,\n",
       " 3,\n",
       " 3,\n",
       " 3,\n",
       " 3,\n",
       " 3,\n",
       " 3,\n",
       " 3,\n",
       " 3,\n",
       " 3,\n",
       " 3,\n",
       " 3,\n",
       " 3,\n",
       " 3,\n",
       " 3,\n",
       " 3,\n",
       " 3,\n",
       " 3,\n",
       " 3,\n",
       " 3,\n",
       " 3,\n",
       " 3,\n",
       " 3,\n",
       " 3,\n",
       " 3,\n",
       " 3,\n",
       " 3,\n",
       " 3,\n",
       " 3,\n",
       " 3,\n",
       " 3,\n",
       " 3,\n",
       " 3,\n",
       " 3,\n",
       " 3,\n",
       " 3,\n",
       " 3,\n",
       " 3,\n",
       " 3,\n",
       " 2,\n",
       " 3,\n",
       " 3,\n",
       " 3,\n",
       " 3,\n",
       " 3,\n",
       " 3,\n",
       " 2,\n",
       " 3,\n",
       " 3,\n",
       " 3,\n",
       " 3,\n",
       " 3,\n",
       " 3,\n",
       " 2,\n",
       " 2,\n",
       " 3,\n",
       " 3,\n",
       " 3,\n",
       " 3,\n",
       " 3,\n",
       " 3,\n",
       " 3,\n",
       " 3,\n",
       " 3,\n",
       " 3,\n",
       " 3,\n",
       " 3,\n",
       " 3,\n",
       " 3,\n",
       " 2]"
      ]
     },
     "execution_count": 67,
     "metadata": {},
     "output_type": "execute_result"
    }
   ],
   "source": [
    "predict_y_vgg_val_3"
   ]
  },
  {
   "cell_type": "markdown",
   "id": "b3373f73",
   "metadata": {},
   "source": [
    "### Basket 4"
   ]
  },
  {
   "cell_type": "code",
   "execution_count": 68,
   "id": "d86318c2",
   "metadata": {},
   "outputs": [
    {
     "name": "stderr",
     "output_type": "stream",
     "text": [
      "\r",
      "  0%|                                                                                         | 0/1060 [00:00<?, ?it/s]"
     ]
    },
    {
     "name": "stdout",
     "output_type": "stream",
     "text": [
      "WARNING:tensorflow:5 out of the last 1070 calls to <function Model.make_predict_function.<locals>.predict_function at 0x0000014536A405E0> triggered tf.function retracing. Tracing is expensive and the excessive number of tracings could be due to (1) creating @tf.function repeatedly in a loop, (2) passing tensors with different shapes, (3) passing Python objects instead of tensors. For (1), please define your @tf.function outside of the loop. For (2), @tf.function has experimental_relax_shapes=True option that relaxes argument shapes that can avoid unnecessary retracing. For (3), please refer to https://www.tensorflow.org/guide/function#controlling_retracing and https://www.tensorflow.org/api_docs/python/tf/function for  more details.\n"
     ]
    },
    {
     "name": "stderr",
     "output_type": "stream",
     "text": [
      "100%|██████████████████████████████████████████████████████████████████████████████| 1060/1060 [01:02<00:00, 16.94it/s]\n"
     ]
    }
   ],
   "source": [
    "# VGG-16\n",
    "preprocessed = []\n",
    "\n",
    "resnet_load = ResNet152V2(weights='imagenet', include_top=False)\n",
    "model = models.Sequential()\n",
    "model.add(resnet_load)\n",
    "model.add(layers.Flatten())\n",
    "\n",
    "\n",
    "for i in tqdm(range(0, 1060)):\n",
    "    file = df4.iloc[i]['image_id']\n",
    "    #feat = feat_X[i]\n",
    "    \n",
    "    #img = image.load_img('./Data/HAM10000_images/' + file + '.jpg', target_size= (224,224))\n",
    "    img = image.load_img('./Unaug_Data/HAM10000_images/' + file + '.jpg', target_size= (224,224))\n",
    "    img = image.img_to_array(img)\n",
    "    img = np.expand_dims(img, axis=0)\n",
    "    img = tf.keras.applications.resnet_v2.preprocess_input(img)\n",
    "    preds = model.predict(img).reshape(100352)\n",
    "\n",
    "    preprocessed.append(preds)#np.concatenate((preds, feat)))\n",
    "'''mx = 0\n",
    "for i in range(0, TOTAL):\n",
    "    if mx < np.amax(preprocessed[i]):\n",
    "        mx = np.amax(preprocessed[i])\n",
    "\n",
    "preprocessed = list(preprocessed / mx)\n",
    "'''\n",
    "VGG_X = preprocessed"
   ]
  },
  {
   "cell_type": "code",
   "execution_count": 69,
   "id": "42c3b145",
   "metadata": {},
   "outputs": [
    {
     "name": "stderr",
     "output_type": "stream",
     "text": [
      "100%|████████████████████████████████████████████████████████████████████████████| 1060/1060 [00:00<00:00, 7564.35it/s]\n"
     ]
    }
   ],
   "source": [
    "y_trn = np.array(df4['risk'])\n",
    "\n",
    "\n",
    "VGG_X_trn = np.array(VGG_X)\n",
    "\n",
    "\n",
    "del VGG_X\n",
    "\n",
    "\n",
    "\n",
    "new_y_trn = []\n",
    "for ele in y_trn:\n",
    "    new_y_trn.append(ele)\n",
    "    \n",
    "new_y_trn = np.array(new_y_trn)\n",
    "\n",
    "\n",
    "new_VGG_trn = []\n",
    "\n",
    "for i in tqdm(range(0, NUM_TRN)):\n",
    "    new_VGG_trn.append(np.array(VGG_X_trn[i]))\n",
    "\n",
    "new_VGG_trn = np.array(new_VGG_trn)"
   ]
  },
  {
   "cell_type": "code",
   "execution_count": 71,
   "id": "7deb5065",
   "metadata": {},
   "outputs": [
    {
     "name": "stdout",
     "output_type": "stream",
     "text": [
      "Epoch 1/30\n"
     ]
    },
    {
     "ename": "ResourceExhaustedError",
     "evalue": "in user code:\n\n    C:\\Users\\15521\\Anaconda3\\envs\\tensorflow\\lib\\site-packages\\keras\\engine\\training.py:858 train_function  *\n        return step_function(self, iterator)\n    C:\\Users\\15521\\Anaconda3\\envs\\tensorflow\\lib\\site-packages\\keras\\engine\\training.py:847 step_function  **\n        outputs = model.distribute_strategy.run(run_step, args=(data,))\n    C:\\Users\\15521\\Anaconda3\\envs\\tensorflow\\lib\\site-packages\\tensorflow\\python\\distribute\\distribute_lib.py:1286 run\n        return self._extended.call_for_each_replica(fn, args=args, kwargs=kwargs)\n    C:\\Users\\15521\\Anaconda3\\envs\\tensorflow\\lib\\site-packages\\tensorflow\\python\\distribute\\distribute_lib.py:2849 call_for_each_replica\n        return self._call_for_each_replica(fn, args, kwargs)\n    C:\\Users\\15521\\Anaconda3\\envs\\tensorflow\\lib\\site-packages\\tensorflow\\python\\distribute\\distribute_lib.py:3652 _call_for_each_replica\n        return fn(*args, **kwargs)\n    C:\\Users\\15521\\Anaconda3\\envs\\tensorflow\\lib\\site-packages\\keras\\engine\\training.py:840 run_step  **\n        outputs = model.train_step(data)\n    C:\\Users\\15521\\Anaconda3\\envs\\tensorflow\\lib\\site-packages\\keras\\engine\\training.py:792 train_step\n        y_pred = self(x, training=True)\n    C:\\Users\\15521\\Anaconda3\\envs\\tensorflow\\lib\\site-packages\\keras\\engine\\base_layer.py:1037 __call__\n        outputs = call_fn(inputs, *args, **kwargs)\n    C:\\Users\\15521\\Anaconda3\\envs\\tensorflow\\lib\\site-packages\\keras\\engine\\sequential.py:383 call\n        outputs = layer(inputs, **kwargs)\n    C:\\Users\\15521\\Anaconda3\\envs\\tensorflow\\lib\\site-packages\\keras\\engine\\base_layer.py:1030 __call__\n        self._maybe_build(inputs)\n    C:\\Users\\15521\\Anaconda3\\envs\\tensorflow\\lib\\site-packages\\keras\\engine\\base_layer.py:2659 _maybe_build\n        self.build(input_shapes)  # pylint:disable=not-callable\n    C:\\Users\\15521\\Anaconda3\\envs\\tensorflow\\lib\\site-packages\\keras\\layers\\core.py:1178 build\n        self.kernel = self.add_weight(\n    C:\\Users\\15521\\Anaconda3\\envs\\tensorflow\\lib\\site-packages\\keras\\engine\\base_layer.py:647 add_weight\n        variable = self._add_variable_with_custom_getter(\n    C:\\Users\\15521\\Anaconda3\\envs\\tensorflow\\lib\\site-packages\\tensorflow\\python\\training\\tracking\\base.py:813 _add_variable_with_custom_getter\n        new_variable = getter(\n    C:\\Users\\15521\\Anaconda3\\envs\\tensorflow\\lib\\site-packages\\keras\\engine\\base_layer_utils.py:117 make_variable\n        return tf.compat.v1.Variable(\n    C:\\Users\\15521\\Anaconda3\\envs\\tensorflow\\lib\\site-packages\\tensorflow\\python\\ops\\variables.py:266 __call__\n        return cls._variable_v1_call(*args, **kwargs)\n    C:\\Users\\15521\\Anaconda3\\envs\\tensorflow\\lib\\site-packages\\tensorflow\\python\\ops\\variables.py:212 _variable_v1_call\n        return previous_getter(\n    C:\\Users\\15521\\Anaconda3\\envs\\tensorflow\\lib\\site-packages\\tensorflow\\python\\ops\\variables.py:67 getter\n        return captured_getter(captured_previous, **kwargs)\n    C:\\Users\\15521\\Anaconda3\\envs\\tensorflow\\lib\\site-packages\\tensorflow\\python\\distribute\\distribute_lib.py:3567 creator\n        return next_creator(**kwargs)\n    C:\\Users\\15521\\Anaconda3\\envs\\tensorflow\\lib\\site-packages\\tensorflow\\python\\ops\\variables.py:67 getter\n        return captured_getter(captured_previous, **kwargs)\n    C:\\Users\\15521\\Anaconda3\\envs\\tensorflow\\lib\\site-packages\\tensorflow\\python\\distribute\\distribute_lib.py:3567 creator\n        return next_creator(**kwargs)\n    C:\\Users\\15521\\Anaconda3\\envs\\tensorflow\\lib\\site-packages\\tensorflow\\python\\ops\\variables.py:67 getter\n        return captured_getter(captured_previous, **kwargs)\n    C:\\Users\\15521\\Anaconda3\\envs\\tensorflow\\lib\\site-packages\\tensorflow\\python\\distribute\\distribute_lib.py:3567 creator\n        return next_creator(**kwargs)\n    C:\\Users\\15521\\Anaconda3\\envs\\tensorflow\\lib\\site-packages\\tensorflow\\python\\ops\\variables.py:67 getter\n        return captured_getter(captured_previous, **kwargs)\n    C:\\Users\\15521\\Anaconda3\\envs\\tensorflow\\lib\\site-packages\\tensorflow\\python\\eager\\def_function.py:746 variable_capturing_scope\n        v = UnliftedInitializerVariable(\n    C:\\Users\\15521\\Anaconda3\\envs\\tensorflow\\lib\\site-packages\\tensorflow\\python\\ops\\variables.py:270 __call__\n        return super(VariableMetaclass, cls).__call__(*args, **kwargs)\n    C:\\Users\\15521\\Anaconda3\\envs\\tensorflow\\lib\\site-packages\\tensorflow\\python\\eager\\def_function.py:294 __init__\n        initial_value = initial_value()\n    C:\\Users\\15521\\Anaconda3\\envs\\tensorflow\\lib\\site-packages\\keras\\initializers\\initializers_v2.py:517 __call__\n        return self._random_generator.random_uniform(shape, -limit, limit, dtype)\n    C:\\Users\\15521\\Anaconda3\\envs\\tensorflow\\lib\\site-packages\\keras\\initializers\\initializers_v2.py:972 random_uniform\n        return op(\n    C:\\Users\\15521\\Anaconda3\\envs\\tensorflow\\lib\\site-packages\\tensorflow\\python\\util\\dispatch.py:206 wrapper\n        return target(*args, **kwargs)\n    C:\\Users\\15521\\Anaconda3\\envs\\tensorflow\\lib\\site-packages\\tensorflow\\python\\ops\\random_ops.py:315 random_uniform\n        result = math_ops.add(result * (maxval - minval), minval, name=name)\n    C:\\Users\\15521\\Anaconda3\\envs\\tensorflow\\lib\\site-packages\\tensorflow\\python\\util\\dispatch.py:206 wrapper\n        return target(*args, **kwargs)\n    C:\\Users\\15521\\Anaconda3\\envs\\tensorflow\\lib\\site-packages\\tensorflow\\python\\ops\\math_ops.py:3943 add\n        return gen_math_ops.add_v2(x, y, name=name)\n    C:\\Users\\15521\\Anaconda3\\envs\\tensorflow\\lib\\site-packages\\tensorflow\\python\\ops\\gen_math_ops.py:454 add_v2\n        _ops.raise_from_not_ok_status(e, name)\n    C:\\Users\\15521\\Anaconda3\\envs\\tensorflow\\lib\\site-packages\\tensorflow\\python\\framework\\ops.py:7023 raise_from_not_ok_status\n        six.raise_from(core._status_to_exception(e.code, message), None)\n    <string>:3 raise_from\n        \n\n    ResourceExhaustedError: failed to allocate memory [Op:AddV2]\n",
     "output_type": "error",
     "traceback": [
      "\u001b[1;31m---------------------------------------------------------------------------\u001b[0m",
      "\u001b[1;31mResourceExhaustedError\u001b[0m                    Traceback (most recent call last)",
      "\u001b[1;32m<ipython-input-71-bab8bdc20b37>\u001b[0m in \u001b[0;36m<module>\u001b[1;34m\u001b[0m\n\u001b[0;32m     14\u001b[0m               \u001b[0mloss\u001b[0m\u001b[1;33m=\u001b[0m\u001b[0mtf\u001b[0m\u001b[1;33m.\u001b[0m\u001b[0mnn\u001b[0m\u001b[1;33m.\u001b[0m\u001b[0msoftmax_cross_entropy_with_logits\u001b[0m\u001b[1;33m,\u001b[0m\u001b[1;33m\u001b[0m\u001b[1;33m\u001b[0m\u001b[0m\n\u001b[0;32m     15\u001b[0m               metrics=['accuracy'])\n\u001b[1;32m---> 16\u001b[1;33m vgg_model4.fit(new_VGG_trn, new_y_trn, \n\u001b[0m\u001b[0;32m     17\u001b[0m               \u001b[0mepochs\u001b[0m\u001b[1;33m=\u001b[0m\u001b[1;36m30\u001b[0m\u001b[1;33m,\u001b[0m\u001b[1;33m\u001b[0m\u001b[1;33m\u001b[0m\u001b[0m\n\u001b[0;32m     18\u001b[0m               \u001b[0mvalidation_data\u001b[0m\u001b[1;33m=\u001b[0m\u001b[1;33m(\u001b[0m\u001b[0mnew_VGG_val\u001b[0m\u001b[1;33m,\u001b[0m \u001b[0mnew_y_val\u001b[0m\u001b[1;33m)\u001b[0m\u001b[1;33m,\u001b[0m\u001b[1;33m\u001b[0m\u001b[1;33m\u001b[0m\u001b[0m\n",
      "\u001b[1;32m~\\Anaconda3\\envs\\tensorflow\\lib\\site-packages\\keras\\engine\\training.py\u001b[0m in \u001b[0;36mfit\u001b[1;34m(self, x, y, batch_size, epochs, verbose, callbacks, validation_split, validation_data, shuffle, class_weight, sample_weight, initial_epoch, steps_per_epoch, validation_steps, validation_batch_size, validation_freq, max_queue_size, workers, use_multiprocessing)\u001b[0m\n\u001b[0;32m   1187\u001b[0m                 _r=1):\n\u001b[0;32m   1188\u001b[0m               \u001b[0mcallbacks\u001b[0m\u001b[1;33m.\u001b[0m\u001b[0mon_train_batch_begin\u001b[0m\u001b[1;33m(\u001b[0m\u001b[0mstep\u001b[0m\u001b[1;33m)\u001b[0m\u001b[1;33m\u001b[0m\u001b[1;33m\u001b[0m\u001b[0m\n\u001b[1;32m-> 1189\u001b[1;33m               \u001b[0mtmp_logs\u001b[0m \u001b[1;33m=\u001b[0m \u001b[0mself\u001b[0m\u001b[1;33m.\u001b[0m\u001b[0mtrain_function\u001b[0m\u001b[1;33m(\u001b[0m\u001b[0miterator\u001b[0m\u001b[1;33m)\u001b[0m\u001b[1;33m\u001b[0m\u001b[1;33m\u001b[0m\u001b[0m\n\u001b[0m\u001b[0;32m   1190\u001b[0m               \u001b[1;32mif\u001b[0m \u001b[0mdata_handler\u001b[0m\u001b[1;33m.\u001b[0m\u001b[0mshould_sync\u001b[0m\u001b[1;33m:\u001b[0m\u001b[1;33m\u001b[0m\u001b[1;33m\u001b[0m\u001b[0m\n\u001b[0;32m   1191\u001b[0m                 \u001b[0mcontext\u001b[0m\u001b[1;33m.\u001b[0m\u001b[0masync_wait\u001b[0m\u001b[1;33m(\u001b[0m\u001b[1;33m)\u001b[0m\u001b[1;33m\u001b[0m\u001b[1;33m\u001b[0m\u001b[0m\n",
      "\u001b[1;32m~\\Anaconda3\\envs\\tensorflow\\lib\\site-packages\\tensorflow\\python\\eager\\def_function.py\u001b[0m in \u001b[0;36m__call__\u001b[1;34m(self, *args, **kwds)\u001b[0m\n\u001b[0;32m    883\u001b[0m \u001b[1;33m\u001b[0m\u001b[0m\n\u001b[0;32m    884\u001b[0m       \u001b[1;32mwith\u001b[0m \u001b[0mOptionalXlaContext\u001b[0m\u001b[1;33m(\u001b[0m\u001b[0mself\u001b[0m\u001b[1;33m.\u001b[0m\u001b[0m_jit_compile\u001b[0m\u001b[1;33m)\u001b[0m\u001b[1;33m:\u001b[0m\u001b[1;33m\u001b[0m\u001b[1;33m\u001b[0m\u001b[0m\n\u001b[1;32m--> 885\u001b[1;33m         \u001b[0mresult\u001b[0m \u001b[1;33m=\u001b[0m \u001b[0mself\u001b[0m\u001b[1;33m.\u001b[0m\u001b[0m_call\u001b[0m\u001b[1;33m(\u001b[0m\u001b[1;33m*\u001b[0m\u001b[0margs\u001b[0m\u001b[1;33m,\u001b[0m \u001b[1;33m**\u001b[0m\u001b[0mkwds\u001b[0m\u001b[1;33m)\u001b[0m\u001b[1;33m\u001b[0m\u001b[1;33m\u001b[0m\u001b[0m\n\u001b[0m\u001b[0;32m    886\u001b[0m \u001b[1;33m\u001b[0m\u001b[0m\n\u001b[0;32m    887\u001b[0m       \u001b[0mnew_tracing_count\u001b[0m \u001b[1;33m=\u001b[0m \u001b[0mself\u001b[0m\u001b[1;33m.\u001b[0m\u001b[0mexperimental_get_tracing_count\u001b[0m\u001b[1;33m(\u001b[0m\u001b[1;33m)\u001b[0m\u001b[1;33m\u001b[0m\u001b[1;33m\u001b[0m\u001b[0m\n",
      "\u001b[1;32m~\\Anaconda3\\envs\\tensorflow\\lib\\site-packages\\tensorflow\\python\\eager\\def_function.py\u001b[0m in \u001b[0;36m_call\u001b[1;34m(self, *args, **kwds)\u001b[0m\n\u001b[0;32m    931\u001b[0m       \u001b[1;31m# This is the first call of __call__, so we have to initialize.\u001b[0m\u001b[1;33m\u001b[0m\u001b[1;33m\u001b[0m\u001b[1;33m\u001b[0m\u001b[0m\n\u001b[0;32m    932\u001b[0m       \u001b[0minitializers\u001b[0m \u001b[1;33m=\u001b[0m \u001b[1;33m[\u001b[0m\u001b[1;33m]\u001b[0m\u001b[1;33m\u001b[0m\u001b[1;33m\u001b[0m\u001b[0m\n\u001b[1;32m--> 933\u001b[1;33m       \u001b[0mself\u001b[0m\u001b[1;33m.\u001b[0m\u001b[0m_initialize\u001b[0m\u001b[1;33m(\u001b[0m\u001b[0margs\u001b[0m\u001b[1;33m,\u001b[0m \u001b[0mkwds\u001b[0m\u001b[1;33m,\u001b[0m \u001b[0madd_initializers_to\u001b[0m\u001b[1;33m=\u001b[0m\u001b[0minitializers\u001b[0m\u001b[1;33m)\u001b[0m\u001b[1;33m\u001b[0m\u001b[1;33m\u001b[0m\u001b[0m\n\u001b[0m\u001b[0;32m    934\u001b[0m     \u001b[1;32mfinally\u001b[0m\u001b[1;33m:\u001b[0m\u001b[1;33m\u001b[0m\u001b[1;33m\u001b[0m\u001b[0m\n\u001b[0;32m    935\u001b[0m       \u001b[1;31m# At this point we know that the initialization is complete (or less\u001b[0m\u001b[1;33m\u001b[0m\u001b[1;33m\u001b[0m\u001b[1;33m\u001b[0m\u001b[0m\n",
      "\u001b[1;32m~\\Anaconda3\\envs\\tensorflow\\lib\\site-packages\\tensorflow\\python\\eager\\def_function.py\u001b[0m in \u001b[0;36m_initialize\u001b[1;34m(self, args, kwds, add_initializers_to)\u001b[0m\n\u001b[0;32m    757\u001b[0m     \u001b[0mself\u001b[0m\u001b[1;33m.\u001b[0m\u001b[0m_graph_deleter\u001b[0m \u001b[1;33m=\u001b[0m \u001b[0mFunctionDeleter\u001b[0m\u001b[1;33m(\u001b[0m\u001b[0mself\u001b[0m\u001b[1;33m.\u001b[0m\u001b[0m_lifted_initializer_graph\u001b[0m\u001b[1;33m)\u001b[0m\u001b[1;33m\u001b[0m\u001b[1;33m\u001b[0m\u001b[0m\n\u001b[0;32m    758\u001b[0m     self._concrete_stateful_fn = (\n\u001b[1;32m--> 759\u001b[1;33m         self._stateful_fn._get_concrete_function_internal_garbage_collected(  # pylint: disable=protected-access\n\u001b[0m\u001b[0;32m    760\u001b[0m             *args, **kwds))\n\u001b[0;32m    761\u001b[0m \u001b[1;33m\u001b[0m\u001b[0m\n",
      "\u001b[1;32m~\\Anaconda3\\envs\\tensorflow\\lib\\site-packages\\tensorflow\\python\\eager\\function.py\u001b[0m in \u001b[0;36m_get_concrete_function_internal_garbage_collected\u001b[1;34m(self, *args, **kwargs)\u001b[0m\n\u001b[0;32m   3064\u001b[0m       \u001b[0margs\u001b[0m\u001b[1;33m,\u001b[0m \u001b[0mkwargs\u001b[0m \u001b[1;33m=\u001b[0m \u001b[1;32mNone\u001b[0m\u001b[1;33m,\u001b[0m \u001b[1;32mNone\u001b[0m\u001b[1;33m\u001b[0m\u001b[1;33m\u001b[0m\u001b[0m\n\u001b[0;32m   3065\u001b[0m     \u001b[1;32mwith\u001b[0m \u001b[0mself\u001b[0m\u001b[1;33m.\u001b[0m\u001b[0m_lock\u001b[0m\u001b[1;33m:\u001b[0m\u001b[1;33m\u001b[0m\u001b[1;33m\u001b[0m\u001b[0m\n\u001b[1;32m-> 3066\u001b[1;33m       \u001b[0mgraph_function\u001b[0m\u001b[1;33m,\u001b[0m \u001b[0m_\u001b[0m \u001b[1;33m=\u001b[0m \u001b[0mself\u001b[0m\u001b[1;33m.\u001b[0m\u001b[0m_maybe_define_function\u001b[0m\u001b[1;33m(\u001b[0m\u001b[0margs\u001b[0m\u001b[1;33m,\u001b[0m \u001b[0mkwargs\u001b[0m\u001b[1;33m)\u001b[0m\u001b[1;33m\u001b[0m\u001b[1;33m\u001b[0m\u001b[0m\n\u001b[0m\u001b[0;32m   3067\u001b[0m     \u001b[1;32mreturn\u001b[0m \u001b[0mgraph_function\u001b[0m\u001b[1;33m\u001b[0m\u001b[1;33m\u001b[0m\u001b[0m\n\u001b[0;32m   3068\u001b[0m \u001b[1;33m\u001b[0m\u001b[0m\n",
      "\u001b[1;32m~\\Anaconda3\\envs\\tensorflow\\lib\\site-packages\\tensorflow\\python\\eager\\function.py\u001b[0m in \u001b[0;36m_maybe_define_function\u001b[1;34m(self, args, kwargs)\u001b[0m\n\u001b[0;32m   3461\u001b[0m \u001b[1;33m\u001b[0m\u001b[0m\n\u001b[0;32m   3462\u001b[0m           \u001b[0mself\u001b[0m\u001b[1;33m.\u001b[0m\u001b[0m_function_cache\u001b[0m\u001b[1;33m.\u001b[0m\u001b[0mmissed\u001b[0m\u001b[1;33m.\u001b[0m\u001b[0madd\u001b[0m\u001b[1;33m(\u001b[0m\u001b[0mcall_context_key\u001b[0m\u001b[1;33m)\u001b[0m\u001b[1;33m\u001b[0m\u001b[1;33m\u001b[0m\u001b[0m\n\u001b[1;32m-> 3463\u001b[1;33m           \u001b[0mgraph_function\u001b[0m \u001b[1;33m=\u001b[0m \u001b[0mself\u001b[0m\u001b[1;33m.\u001b[0m\u001b[0m_create_graph_function\u001b[0m\u001b[1;33m(\u001b[0m\u001b[0margs\u001b[0m\u001b[1;33m,\u001b[0m \u001b[0mkwargs\u001b[0m\u001b[1;33m)\u001b[0m\u001b[1;33m\u001b[0m\u001b[1;33m\u001b[0m\u001b[0m\n\u001b[0m\u001b[0;32m   3464\u001b[0m           \u001b[0mself\u001b[0m\u001b[1;33m.\u001b[0m\u001b[0m_function_cache\u001b[0m\u001b[1;33m.\u001b[0m\u001b[0mprimary\u001b[0m\u001b[1;33m[\u001b[0m\u001b[0mcache_key\u001b[0m\u001b[1;33m]\u001b[0m \u001b[1;33m=\u001b[0m \u001b[0mgraph_function\u001b[0m\u001b[1;33m\u001b[0m\u001b[1;33m\u001b[0m\u001b[0m\n\u001b[0;32m   3465\u001b[0m \u001b[1;33m\u001b[0m\u001b[0m\n",
      "\u001b[1;32m~\\Anaconda3\\envs\\tensorflow\\lib\\site-packages\\tensorflow\\python\\eager\\function.py\u001b[0m in \u001b[0;36m_create_graph_function\u001b[1;34m(self, args, kwargs, override_flat_arg_shapes)\u001b[0m\n\u001b[0;32m   3296\u001b[0m     \u001b[0marg_names\u001b[0m \u001b[1;33m=\u001b[0m \u001b[0mbase_arg_names\u001b[0m \u001b[1;33m+\u001b[0m \u001b[0mmissing_arg_names\u001b[0m\u001b[1;33m\u001b[0m\u001b[1;33m\u001b[0m\u001b[0m\n\u001b[0;32m   3297\u001b[0m     graph_function = ConcreteFunction(\n\u001b[1;32m-> 3298\u001b[1;33m         func_graph_module.func_graph_from_py_func(\n\u001b[0m\u001b[0;32m   3299\u001b[0m             \u001b[0mself\u001b[0m\u001b[1;33m.\u001b[0m\u001b[0m_name\u001b[0m\u001b[1;33m,\u001b[0m\u001b[1;33m\u001b[0m\u001b[1;33m\u001b[0m\u001b[0m\n\u001b[0;32m   3300\u001b[0m             \u001b[0mself\u001b[0m\u001b[1;33m.\u001b[0m\u001b[0m_python_function\u001b[0m\u001b[1;33m,\u001b[0m\u001b[1;33m\u001b[0m\u001b[1;33m\u001b[0m\u001b[0m\n",
      "\u001b[1;32m~\\Anaconda3\\envs\\tensorflow\\lib\\site-packages\\tensorflow\\python\\framework\\func_graph.py\u001b[0m in \u001b[0;36mfunc_graph_from_py_func\u001b[1;34m(name, python_func, args, kwargs, signature, func_graph, autograph, autograph_options, add_control_dependencies, arg_names, op_return_value, collections, capture_by_value, override_flat_arg_shapes, acd_record_initial_resource_uses)\u001b[0m\n\u001b[0;32m   1005\u001b[0m         \u001b[0m_\u001b[0m\u001b[1;33m,\u001b[0m \u001b[0moriginal_func\u001b[0m \u001b[1;33m=\u001b[0m \u001b[0mtf_decorator\u001b[0m\u001b[1;33m.\u001b[0m\u001b[0munwrap\u001b[0m\u001b[1;33m(\u001b[0m\u001b[0mpython_func\u001b[0m\u001b[1;33m)\u001b[0m\u001b[1;33m\u001b[0m\u001b[1;33m\u001b[0m\u001b[0m\n\u001b[0;32m   1006\u001b[0m \u001b[1;33m\u001b[0m\u001b[0m\n\u001b[1;32m-> 1007\u001b[1;33m       \u001b[0mfunc_outputs\u001b[0m \u001b[1;33m=\u001b[0m \u001b[0mpython_func\u001b[0m\u001b[1;33m(\u001b[0m\u001b[1;33m*\u001b[0m\u001b[0mfunc_args\u001b[0m\u001b[1;33m,\u001b[0m \u001b[1;33m**\u001b[0m\u001b[0mfunc_kwargs\u001b[0m\u001b[1;33m)\u001b[0m\u001b[1;33m\u001b[0m\u001b[1;33m\u001b[0m\u001b[0m\n\u001b[0m\u001b[0;32m   1008\u001b[0m \u001b[1;33m\u001b[0m\u001b[0m\n\u001b[0;32m   1009\u001b[0m       \u001b[1;31m# invariant: `func_outputs` contains only Tensors, CompositeTensors,\u001b[0m\u001b[1;33m\u001b[0m\u001b[1;33m\u001b[0m\u001b[1;33m\u001b[0m\u001b[0m\n",
      "\u001b[1;32m~\\Anaconda3\\envs\\tensorflow\\lib\\site-packages\\tensorflow\\python\\eager\\def_function.py\u001b[0m in \u001b[0;36mwrapped_fn\u001b[1;34m(*args, **kwds)\u001b[0m\n\u001b[0;32m    666\u001b[0m         \u001b[1;31m# the function a weak reference to itself to avoid a reference cycle.\u001b[0m\u001b[1;33m\u001b[0m\u001b[1;33m\u001b[0m\u001b[1;33m\u001b[0m\u001b[0m\n\u001b[0;32m    667\u001b[0m         \u001b[1;32mwith\u001b[0m \u001b[0mOptionalXlaContext\u001b[0m\u001b[1;33m(\u001b[0m\u001b[0mcompile_with_xla\u001b[0m\u001b[1;33m)\u001b[0m\u001b[1;33m:\u001b[0m\u001b[1;33m\u001b[0m\u001b[1;33m\u001b[0m\u001b[0m\n\u001b[1;32m--> 668\u001b[1;33m           \u001b[0mout\u001b[0m \u001b[1;33m=\u001b[0m \u001b[0mweak_wrapped_fn\u001b[0m\u001b[1;33m(\u001b[0m\u001b[1;33m)\u001b[0m\u001b[1;33m.\u001b[0m\u001b[0m__wrapped__\u001b[0m\u001b[1;33m(\u001b[0m\u001b[1;33m*\u001b[0m\u001b[0margs\u001b[0m\u001b[1;33m,\u001b[0m \u001b[1;33m**\u001b[0m\u001b[0mkwds\u001b[0m\u001b[1;33m)\u001b[0m\u001b[1;33m\u001b[0m\u001b[1;33m\u001b[0m\u001b[0m\n\u001b[0m\u001b[0;32m    669\u001b[0m         \u001b[1;32mreturn\u001b[0m \u001b[0mout\u001b[0m\u001b[1;33m\u001b[0m\u001b[1;33m\u001b[0m\u001b[0m\n\u001b[0;32m    670\u001b[0m \u001b[1;33m\u001b[0m\u001b[0m\n",
      "\u001b[1;32m~\\Anaconda3\\envs\\tensorflow\\lib\\site-packages\\tensorflow\\python\\framework\\func_graph.py\u001b[0m in \u001b[0;36mwrapper\u001b[1;34m(*args, **kwargs)\u001b[0m\n\u001b[0;32m    992\u001b[0m           \u001b[1;32mexcept\u001b[0m \u001b[0mException\u001b[0m \u001b[1;32mas\u001b[0m \u001b[0me\u001b[0m\u001b[1;33m:\u001b[0m  \u001b[1;31m# pylint:disable=broad-except\u001b[0m\u001b[1;33m\u001b[0m\u001b[1;33m\u001b[0m\u001b[0m\n\u001b[0;32m    993\u001b[0m             \u001b[1;32mif\u001b[0m \u001b[0mhasattr\u001b[0m\u001b[1;33m(\u001b[0m\u001b[0me\u001b[0m\u001b[1;33m,\u001b[0m \u001b[1;34m\"ag_error_metadata\"\u001b[0m\u001b[1;33m)\u001b[0m\u001b[1;33m:\u001b[0m\u001b[1;33m\u001b[0m\u001b[1;33m\u001b[0m\u001b[0m\n\u001b[1;32m--> 994\u001b[1;33m               \u001b[1;32mraise\u001b[0m \u001b[0me\u001b[0m\u001b[1;33m.\u001b[0m\u001b[0mag_error_metadata\u001b[0m\u001b[1;33m.\u001b[0m\u001b[0mto_exception\u001b[0m\u001b[1;33m(\u001b[0m\u001b[0me\u001b[0m\u001b[1;33m)\u001b[0m\u001b[1;33m\u001b[0m\u001b[1;33m\u001b[0m\u001b[0m\n\u001b[0m\u001b[0;32m    995\u001b[0m             \u001b[1;32melse\u001b[0m\u001b[1;33m:\u001b[0m\u001b[1;33m\u001b[0m\u001b[1;33m\u001b[0m\u001b[0m\n\u001b[0;32m    996\u001b[0m               \u001b[1;32mraise\u001b[0m\u001b[1;33m\u001b[0m\u001b[1;33m\u001b[0m\u001b[0m\n",
      "\u001b[1;31mResourceExhaustedError\u001b[0m: in user code:\n\n    C:\\Users\\15521\\Anaconda3\\envs\\tensorflow\\lib\\site-packages\\keras\\engine\\training.py:858 train_function  *\n        return step_function(self, iterator)\n    C:\\Users\\15521\\Anaconda3\\envs\\tensorflow\\lib\\site-packages\\keras\\engine\\training.py:847 step_function  **\n        outputs = model.distribute_strategy.run(run_step, args=(data,))\n    C:\\Users\\15521\\Anaconda3\\envs\\tensorflow\\lib\\site-packages\\tensorflow\\python\\distribute\\distribute_lib.py:1286 run\n        return self._extended.call_for_each_replica(fn, args=args, kwargs=kwargs)\n    C:\\Users\\15521\\Anaconda3\\envs\\tensorflow\\lib\\site-packages\\tensorflow\\python\\distribute\\distribute_lib.py:2849 call_for_each_replica\n        return self._call_for_each_replica(fn, args, kwargs)\n    C:\\Users\\15521\\Anaconda3\\envs\\tensorflow\\lib\\site-packages\\tensorflow\\python\\distribute\\distribute_lib.py:3652 _call_for_each_replica\n        return fn(*args, **kwargs)\n    C:\\Users\\15521\\Anaconda3\\envs\\tensorflow\\lib\\site-packages\\keras\\engine\\training.py:840 run_step  **\n        outputs = model.train_step(data)\n    C:\\Users\\15521\\Anaconda3\\envs\\tensorflow\\lib\\site-packages\\keras\\engine\\training.py:792 train_step\n        y_pred = self(x, training=True)\n    C:\\Users\\15521\\Anaconda3\\envs\\tensorflow\\lib\\site-packages\\keras\\engine\\base_layer.py:1037 __call__\n        outputs = call_fn(inputs, *args, **kwargs)\n    C:\\Users\\15521\\Anaconda3\\envs\\tensorflow\\lib\\site-packages\\keras\\engine\\sequential.py:383 call\n        outputs = layer(inputs, **kwargs)\n    C:\\Users\\15521\\Anaconda3\\envs\\tensorflow\\lib\\site-packages\\keras\\engine\\base_layer.py:1030 __call__\n        self._maybe_build(inputs)\n    C:\\Users\\15521\\Anaconda3\\envs\\tensorflow\\lib\\site-packages\\keras\\engine\\base_layer.py:2659 _maybe_build\n        self.build(input_shapes)  # pylint:disable=not-callable\n    C:\\Users\\15521\\Anaconda3\\envs\\tensorflow\\lib\\site-packages\\keras\\layers\\core.py:1178 build\n        self.kernel = self.add_weight(\n    C:\\Users\\15521\\Anaconda3\\envs\\tensorflow\\lib\\site-packages\\keras\\engine\\base_layer.py:647 add_weight\n        variable = self._add_variable_with_custom_getter(\n    C:\\Users\\15521\\Anaconda3\\envs\\tensorflow\\lib\\site-packages\\tensorflow\\python\\training\\tracking\\base.py:813 _add_variable_with_custom_getter\n        new_variable = getter(\n    C:\\Users\\15521\\Anaconda3\\envs\\tensorflow\\lib\\site-packages\\keras\\engine\\base_layer_utils.py:117 make_variable\n        return tf.compat.v1.Variable(\n    C:\\Users\\15521\\Anaconda3\\envs\\tensorflow\\lib\\site-packages\\tensorflow\\python\\ops\\variables.py:266 __call__\n        return cls._variable_v1_call(*args, **kwargs)\n    C:\\Users\\15521\\Anaconda3\\envs\\tensorflow\\lib\\site-packages\\tensorflow\\python\\ops\\variables.py:212 _variable_v1_call\n        return previous_getter(\n    C:\\Users\\15521\\Anaconda3\\envs\\tensorflow\\lib\\site-packages\\tensorflow\\python\\ops\\variables.py:67 getter\n        return captured_getter(captured_previous, **kwargs)\n    C:\\Users\\15521\\Anaconda3\\envs\\tensorflow\\lib\\site-packages\\tensorflow\\python\\distribute\\distribute_lib.py:3567 creator\n        return next_creator(**kwargs)\n    C:\\Users\\15521\\Anaconda3\\envs\\tensorflow\\lib\\site-packages\\tensorflow\\python\\ops\\variables.py:67 getter\n        return captured_getter(captured_previous, **kwargs)\n    C:\\Users\\15521\\Anaconda3\\envs\\tensorflow\\lib\\site-packages\\tensorflow\\python\\distribute\\distribute_lib.py:3567 creator\n        return next_creator(**kwargs)\n    C:\\Users\\15521\\Anaconda3\\envs\\tensorflow\\lib\\site-packages\\tensorflow\\python\\ops\\variables.py:67 getter\n        return captured_getter(captured_previous, **kwargs)\n    C:\\Users\\15521\\Anaconda3\\envs\\tensorflow\\lib\\site-packages\\tensorflow\\python\\distribute\\distribute_lib.py:3567 creator\n        return next_creator(**kwargs)\n    C:\\Users\\15521\\Anaconda3\\envs\\tensorflow\\lib\\site-packages\\tensorflow\\python\\ops\\variables.py:67 getter\n        return captured_getter(captured_previous, **kwargs)\n    C:\\Users\\15521\\Anaconda3\\envs\\tensorflow\\lib\\site-packages\\tensorflow\\python\\eager\\def_function.py:746 variable_capturing_scope\n        v = UnliftedInitializerVariable(\n    C:\\Users\\15521\\Anaconda3\\envs\\tensorflow\\lib\\site-packages\\tensorflow\\python\\ops\\variables.py:270 __call__\n        return super(VariableMetaclass, cls).__call__(*args, **kwargs)\n    C:\\Users\\15521\\Anaconda3\\envs\\tensorflow\\lib\\site-packages\\tensorflow\\python\\eager\\def_function.py:294 __init__\n        initial_value = initial_value()\n    C:\\Users\\15521\\Anaconda3\\envs\\tensorflow\\lib\\site-packages\\keras\\initializers\\initializers_v2.py:517 __call__\n        return self._random_generator.random_uniform(shape, -limit, limit, dtype)\n    C:\\Users\\15521\\Anaconda3\\envs\\tensorflow\\lib\\site-packages\\keras\\initializers\\initializers_v2.py:972 random_uniform\n        return op(\n    C:\\Users\\15521\\Anaconda3\\envs\\tensorflow\\lib\\site-packages\\tensorflow\\python\\util\\dispatch.py:206 wrapper\n        return target(*args, **kwargs)\n    C:\\Users\\15521\\Anaconda3\\envs\\tensorflow\\lib\\site-packages\\tensorflow\\python\\ops\\random_ops.py:315 random_uniform\n        result = math_ops.add(result * (maxval - minval), minval, name=name)\n    C:\\Users\\15521\\Anaconda3\\envs\\tensorflow\\lib\\site-packages\\tensorflow\\python\\util\\dispatch.py:206 wrapper\n        return target(*args, **kwargs)\n    C:\\Users\\15521\\Anaconda3\\envs\\tensorflow\\lib\\site-packages\\tensorflow\\python\\ops\\math_ops.py:3943 add\n        return gen_math_ops.add_v2(x, y, name=name)\n    C:\\Users\\15521\\Anaconda3\\envs\\tensorflow\\lib\\site-packages\\tensorflow\\python\\ops\\gen_math_ops.py:454 add_v2\n        _ops.raise_from_not_ok_status(e, name)\n    C:\\Users\\15521\\Anaconda3\\envs\\tensorflow\\lib\\site-packages\\tensorflow\\python\\framework\\ops.py:7023 raise_from_not_ok_status\n        six.raise_from(core._status_to_exception(e.code, message), None)\n    <string>:3 raise_from\n        \n\n    ResourceExhaustedError: failed to allocate memory [Op:AddV2]\n"
     ]
    }
   ],
   "source": [
    "vgg_model4 = models.Sequential()\n",
    "#vgg_model.add(layers.Dense(8192, activation='relu'))\n",
    "#vgg_model.add(layers.Dense(4096, activation='relu'))\n",
    "vgg_model4.add(layers.Dense(2048, activation='relu'))\n",
    "vgg_model2.add(layers.BatchNormalization())\n",
    "vgg_model4.add(layers.Dense(1024, activation='relu'))\n",
    "vgg_model2.add(layers.BatchNormalization())\n",
    "vgg_model4.add(layers.Dense(512, activation='relu'))\n",
    "vgg_model2.add(layers.BatchNormalization())\n",
    "vgg_model4.add(layers.Dense(128, activation='relu'))\n",
    "vgg_model4.add(layers.Dense(4))\n",
    "\n",
    "vgg_model4.compile(optimizer=tf.keras.optimizers.Adam(learning_rate=0.00005),\n",
    "              loss=tf.nn.softmax_cross_entropy_with_logits,\n",
    "              metrics=['accuracy'])\n",
    "vgg_model4.fit(new_VGG_trn, new_y_trn, \n",
    "              epochs=30, \n",
    "              validation_data=(new_VGG_val, new_y_val), \n",
    "              callbacks=[earlystop_callback])"
   ]
  },
  {
   "cell_type": "code",
   "execution_count": null,
   "id": "fdce0e2d",
   "metadata": {},
   "outputs": [],
   "source": [
    "#Save vgg model\n",
    "vgg_model4.save(\"VGG_P4.h5\")"
   ]
  },
  {
   "cell_type": "code",
   "execution_count": null,
   "id": "ea0cdfc5",
   "metadata": {},
   "outputs": [],
   "source": [
    "predict_y_vgg_val_4 = []\n",
    "#temp_vgg_trn = vgg_model.predict(new_VGG_trn)\n",
    "temp_vgg_val_4 = vgg_model4.predict(new_VGG_val)\n",
    "\n",
    "#del new_VGG_trn\n",
    "#del new_VGG_val\n",
    "\n",
    "for i in tqdm(range(0, NUM_VAL)):\n",
    "    pred = np.argmax(temp_vgg_val_4[i])\n",
    "    predict_y_vgg_val_4.append(pred)"
   ]
  },
  {
   "cell_type": "markdown",
   "id": "f1bd0551",
   "metadata": {},
   "source": [
    "### Basket 5"
   ]
  },
  {
   "cell_type": "code",
   "execution_count": null,
   "id": "9492e36c",
   "metadata": {},
   "outputs": [],
   "source": [
    "# VGG-16\n",
    "preprocessed = []\n",
    "\n",
    "resnet_load = ResNet152V2(weights='imagenet', include_top=False)\n",
    "model = models.Sequential()\n",
    "model.add(resnet_load)\n",
    "model.add(layers.Flatten())\n",
    "\n",
    "\n",
    "for i in tqdm(range(0, 1060)):\n",
    "    file = df5.iloc[i]['image_id']\n",
    "    #feat = feat_X[i]\n",
    "    \n",
    "    #img = image.load_img('./Data/HAM10000_images/' + file + '.jpg', target_size= (224,224))\n",
    "    img = image.load_img('./Unaug_Data/HAM10000_images/' + file + '.jpg', target_size= (224,224))\n",
    "    img = image.img_to_array(img)\n",
    "    img = np.expand_dims(img, axis=0)\n",
    "    img = tf.keras.applications.resnet_v2.preprocess_input(img)\n",
    "    preds = model.predict(img).reshape(100352)\n",
    "\n",
    "    preprocessed.append(preds)#np.concatenate((preds, feat)))\n",
    "'''mx = 0\n",
    "for i in range(0, TOTAL):\n",
    "    if mx < np.amax(preprocessed[i]):\n",
    "        mx = np.amax(preprocessed[i])\n",
    "\n",
    "preprocessed = list(preprocessed / mx)\n",
    "'''\n",
    "VGG_X = preprocessed"
   ]
  },
  {
   "cell_type": "code",
   "execution_count": null,
   "id": "4b4287aa",
   "metadata": {},
   "outputs": [],
   "source": [
    "y_trn = np.array(df5['risk'])\n",
    "\n",
    "\n",
    "VGG_X_trn = np.array(VGG_X)\n",
    "\n",
    "\n",
    "del VGG_X\n",
    "\n",
    "\n",
    "\n",
    "new_y_trn = []\n",
    "for ele in y_trn:\n",
    "    new_y_trn.append(ele)\n",
    "    \n",
    "new_y_trn = np.array(new_y_trn)\n",
    "\n",
    "\n",
    "new_VGG_trn = []\n",
    "\n",
    "for i in tqdm(range(0, NUM_TRN)):\n",
    "    new_VGG_trn.append(np.array(VGG_X_trn[i]))\n",
    "\n",
    "new_VGG_trn = np.array(new_VGG_trn)"
   ]
  },
  {
   "cell_type": "code",
   "execution_count": null,
   "id": "21963eac",
   "metadata": {},
   "outputs": [],
   "source": [
    "vgg_model5 = models.Sequential()\n",
    "#vgg_model.add(layers.Dense(8192, activation='relu'))\n",
    "#vgg_model.add(layers.Dense(4096, activation='relu'))\n",
    "vgg_model5.add(layers.Dense(2048, activation='relu'))\n",
    "vgg_model5.add(layers.Dense(1024, activation='relu'))\n",
    "vgg_model5.add(layers.Dense(512, activation='relu'))\n",
    "vgg_model5.add(layers.Dense(128, activation='relu'))\n",
    "vgg_model5.add(layers.Dense(4))\n",
    "\n",
    "vgg_model5.compile(optimizer=tf.keras.optimizers.Adam(learning_rate=0.00005),\n",
    "              loss=tf.nn.softmax_cross_entropy_with_logits,\n",
    "              metrics=['accuracy'])\n",
    "vgg_model5.fit(new_VGG_trn, new_y_trn, \n",
    "              epochs=30, \n",
    "              validation_data=(new_VGG_val, new_y_val), \n",
    "              callbacks=[earlystop_callback])"
   ]
  },
  {
   "cell_type": "code",
   "execution_count": null,
   "id": "cfa7df85",
   "metadata": {},
   "outputs": [],
   "source": [
    "#Save vgg model\n",
    "vgg_model5.save(\"VGG_P5.h5\")"
   ]
  },
  {
   "cell_type": "code",
   "execution_count": null,
   "id": "c0a3f367",
   "metadata": {},
   "outputs": [],
   "source": [
    "predict_y_vgg_val_5 = []\n",
    "#temp_vgg_trn = vgg_model.predict(new_VGG_trn)\n",
    "temp_vgg_val_5 = vgg_model5.predict(new_VGG_val)\n",
    "\n",
    "#del new_VGG_trn\n",
    "#del new_VGG_val\n",
    "\n",
    "for i in tqdm(range(0, NUM_VAL)):\n",
    "    pred = np.argmax(temp_vgg_val_5[i])\n",
    "    predict_y_vgg_val_5.append(pred)"
   ]
  },
  {
   "cell_type": "markdown",
   "id": "b2252aa4",
   "metadata": {},
   "source": [
    "# Ensemble Five Models"
   ]
  },
  {
   "cell_type": "markdown",
   "id": "2bf6e3c7",
   "metadata": {},
   "source": [
    "### Average Method"
   ]
  },
  {
   "cell_type": "code",
   "execution_count": 77,
   "id": "4c7018ed",
   "metadata": {},
   "outputs": [],
   "source": [
    "temp_all = []\n",
    "for i in range(0, NUM_VAL):\n",
    "    temp_all.append((temp_vgg_val_1[i]+temp_vgg_val_2[i]+temp_vgg_val_3[i])/3)#+temp_vgg_val_4[i]+temp_vgg_val_5[i]))\n",
    "temp_all = np.array(temp_all)"
   ]
  },
  {
   "cell_type": "code",
   "execution_count": 78,
   "id": "1ac1ee16",
   "metadata": {},
   "outputs": [
    {
     "name": "stderr",
     "output_type": "stream",
     "text": [
      "100%|██████████████████████████████████████████████████████████████████████████████████████████| 80/80 [00:00<?, ?it/s]\n"
     ]
    }
   ],
   "source": [
    "predict_y_final_val = []\n",
    "\n",
    "for i in tqdm(range(0, NUM_VAL)):\n",
    "    pred = np.argmax(temp_all[i])\n",
    "    predict_y_final_val.append(pred)"
   ]
  },
  {
   "cell_type": "code",
   "execution_count": 79,
   "id": "9646e37b",
   "metadata": {},
   "outputs": [],
   "source": [
    "cm_final = tf.math.confusion_matrix(np.array(test_df['risk']), np.array(predict_y_final_val))\n",
    "\n",
    "cm_final = np.array(cm_final).astype('float32')\n",
    "\n",
    "cm_final[0] = cm_final[0] / (1.0 * cm_final[0].sum())\n",
    "cm_final[1] = cm_final[1] / (1.0 * cm_final[1].sum())\n",
    "cm_final[2] = cm_final[2] / (1.0 * cm_final[2].sum())\n",
    "cm_final[3] = cm_final[3] / (1.0 * cm_final[3].sum())"
   ]
  },
  {
   "cell_type": "code",
   "execution_count": 88,
   "id": "f60dabbd",
   "metadata": {},
   "outputs": [
    {
     "data": {
      "image/png": "[encoded data removed]",
      "text/plain": [
       "<Figure size 432x288 with 2 Axes>"
      ]
     },
     "metadata": {
      "needs_background": "light"
     },
     "output_type": "display_data"
    }
   ],
   "source": [
    "svm = sns.heatmap(cm_final, annot=True)"
   ]
  },
  {
   "cell_type": "code",
   "execution_count": 89,
   "id": "fb211349",
   "metadata": {},
   "outputs": [],
   "source": [
    "#Save final pic\n",
    "figure = svm.get_figure()\n",
    "figure.savefig(r\"A:\\Deep Learning\\Term Project\\Pic\\Ensemble-Resnet-no adjustment\\final.png\", dpi = 400)"
   ]
  },
  {
   "cell_type": "code",
   "execution_count": null,
   "id": "cd67ae66",
   "metadata": {
    "scrolled": true
   },
   "outputs": [],
   "source": [
    "predict_y_vgg_val_5"
   ]
  },
  {
   "cell_type": "code",
   "execution_count": 90,
   "id": "546b1f39",
   "metadata": {},
   "outputs": [],
   "source": [
    "cm_model1 = tf.math.confusion_matrix(np.array(test_df['risk']), np.array(predict_y_vgg_val_1))\n",
    "cm_model1 = np.array(cm_model1).astype('float32')\n",
    "\n",
    "cm_model2 = tf.math.confusion_matrix(np.array(test_df['risk']), np.array(predict_y_vgg_val_2))\n",
    "cm_model2 = np.array(cm_model2).astype('float32')\n",
    "\n",
    "cm_model3 = tf.math.confusion_matrix(np.array(test_df['risk']), np.array(predict_y_vgg_val_3))\n",
    "cm_model3 = np.array(cm_model3).astype('float32')"
   ]
  },
  {
   "cell_type": "code",
   "execution_count": 100,
   "id": "fb2aca36",
   "metadata": {
    "scrolled": true
   },
   "outputs": [
    {
     "data": {
      "text/plain": [
       "[3,\n",
       " 3,\n",
       " 3,\n",
       " 3,\n",
       " 3,\n",
       " 3,\n",
       " 3,\n",
       " 3,\n",
       " 3,\n",
       " 3,\n",
       " 3,\n",
       " 3,\n",
       " 3,\n",
       " 3,\n",
       " 3,\n",
       " 3,\n",
       " 3,\n",
       " 3,\n",
       " 3,\n",
       " 3,\n",
       " 3,\n",
       " 3,\n",
       " 3,\n",
       " 3,\n",
       " 3,\n",
       " 3,\n",
       " 3,\n",
       " 3,\n",
       " 3,\n",
       " 3,\n",
       " 3,\n",
       " 3,\n",
       " 3,\n",
       " 3,\n",
       " 3,\n",
       " 3,\n",
       " 3,\n",
       " 3,\n",
       " 3,\n",
       " 3,\n",
       " 3,\n",
       " 3,\n",
       " 3,\n",
       " 3,\n",
       " 3,\n",
       " 3,\n",
       " 3,\n",
       " 3,\n",
       " 3,\n",
       " 2,\n",
       " 3,\n",
       " 3,\n",
       " 3,\n",
       " 3,\n",
       " 3,\n",
       " 3,\n",
       " 2,\n",
       " 3,\n",
       " 3,\n",
       " 3,\n",
       " 3,\n",
       " 3,\n",
       " 3,\n",
       " 2,\n",
       " 2,\n",
       " 3,\n",
       " 3,\n",
       " 3,\n",
       " 3,\n",
       " 3,\n",
       " 3,\n",
       " 3,\n",
       " 3,\n",
       " 3,\n",
       " 3,\n",
       " 3,\n",
       " 3,\n",
       " 3,\n",
       " 3,\n",
       " 2]"
      ]
     },
     "execution_count": 100,
     "metadata": {},
     "output_type": "execute_result"
    }
   ],
   "source": []
  },
  {
   "cell_type": "code",
   "execution_count": 91,
   "id": "a99a7b6d",
   "metadata": {},
   "outputs": [],
   "source": [
    "cm_model1[0] = cm_model1[0] / (1.0 * cm_model1[0].sum())\n",
    "cm_model1[1] = cm_model1[1] / (1.0 * cm_model1[1].sum())\n",
    "cm_model1[2] = cm_model1[2] / (1.0 * cm_model1[2].sum())\n",
    "cm_model1[3] = cm_model1[3] / (1.0 * cm_model1[3].sum())\n",
    "\n",
    "cm_model2[0] = cm_model2[0] / (1.0 * cm_model2[0].sum())\n",
    "cm_model2[1] = cm_model2[1] / (1.0 * cm_model2[1].sum())\n",
    "cm_model2[2] = cm_model2[2] / (1.0 * cm_model2[2].sum())\n",
    "cm_model2[3] = cm_model2[3] / (1.0 * cm_model2[3].sum())\n",
    "\n",
    "cm_model3[0] = cm_model3[0] / (1.0 * cm_model3[0].sum())\n",
    "cm_model3[1] = cm_model3[1] / (1.0 * cm_model3[1].sum())\n",
    "cm_model3[2] = cm_model3[2] / (1.0 * cm_model3[2].sum())\n",
    "cm_model3[3] = cm_model3[3] / (1.0 * cm_model3[3].sum())"
   ]
  },
  {
   "cell_type": "code",
   "execution_count": 93,
   "id": "9bc50cbc",
   "metadata": {},
   "outputs": [
    {
     "data": {
      "image/png": "[encoded data removed]",
      "text/plain": [
       "<Figure size 432x288 with 2 Axes>"
      ]
     },
     "metadata": {
      "needs_background": "light"
     },
     "output_type": "display_data"
    }
   ],
   "source": [
    "svm1 = sns.heatmap(cm_model1, annot=True);"
   ]
  },
  {
   "cell_type": "code",
   "execution_count": 101,
   "id": "d6c32aa5",
   "metadata": {},
   "outputs": [
    {
     "data": {
      "image/png": "[encoded data removed]",
      "text/plain": [
       "<Figure size 432x288 with 2 Axes>"
      ]
     },
     "metadata": {
      "needs_background": "light"
     },
     "output_type": "display_data"
    }
   ],
   "source": [
    "svm2 = sns.heatmap(cm_model2, annot=True);\n"
   ]
  },
  {
   "cell_type": "code",
   "execution_count": 102,
   "id": "3623992f",
   "metadata": {},
   "outputs": [
    {
     "data": {
      "image/png": "[encoded data removed]",
      "text/plain": [
       "<Figure size 432x288 with 2 Axes>"
      ]
     },
     "metadata": {
      "needs_background": "light"
     },
     "output_type": "display_data"
    }
   ],
   "source": [
    "svm3 = sns.heatmap(cm_model3, annot=True);"
   ]
  },
  {
   "cell_type": "code",
   "execution_count": 87,
   "id": "22ac2a3d",
   "metadata": {},
   "outputs": [],
   "source": [
    "figure1 = svm1.get_figure()\n",
    "figure1.savefig(r\"A:\\Deep Learning\\Term Project\\Pic\\Ensemble-Resnet-no adjustment\\model1.png\", dpi = 400)"
   ]
  },
  {
   "cell_type": "code",
   "execution_count": 103,
   "id": "c37cba5e",
   "metadata": {},
   "outputs": [],
   "source": [
    "figure2 = svm2.get_figure()\n",
    "figure2.savefig(r\"A:\\Deep Learning\\Term Project\\Pic\\Ensemble-Resnet-no adjustment\\model2.png\", dpi = 400)"
   ]
  },
  {
   "cell_type": "code",
   "execution_count": 104,
   "id": "2800caf4",
   "metadata": {},
   "outputs": [],
   "source": [
    "figure3 = svm3.get_figure()\n",
    "figure3.savefig(r\"A:\\Deep Learning\\Term Project\\Pic\\Ensemble-Resnet-no adjustment\\model3.png\", dpi = 400)"
   ]
  },
  {
   "cell_type": "code",
   "execution_count": null,
   "id": "0f6c16ea",
   "metadata": {},
   "outputs": [],
   "source": []
  }
 ],
 "metadata": {
  "kernelspec": {
   "display_name": "tensorflow gpu",
   "language": "python",
   "name": "tensorflow"
  },
  "language_info": {
   "codemirror_mode": {
    "name": "ipython",
    "version": 3
   },
   "file_extension": ".py",
   "mimetype": "text/x-python",
   "name": "python",
   "nbconvert_exporter": "python",
   "pygments_lexer": "ipython3",
   "version": "3.8.10"
  }
 },
 "nbformat": 4,
 "nbformat_minor": 5
}
