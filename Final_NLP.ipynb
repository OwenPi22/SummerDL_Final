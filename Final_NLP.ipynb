{
 "cells": [
  {
   "cell_type": "code",
   "execution_count": 1,
   "id": "9a872cac",
   "metadata": {},
   "outputs": [],
   "source": [
    "import tensorflow as tf\n",
    "import spacy\n",
    "import textacy"
   ]
  },
  {
   "cell_type": "code",
   "execution_count": 2,
   "id": "e9dac7a0",
   "metadata": {},
   "outputs": [
    {
     "name": "stdout",
     "output_type": "stream",
     "text": [
      "Num GPUs Available:  1\n"
     ]
    }
   ],
   "source": [
    "print(\"Num GPUs Available: \", len(tf.config.list_physical_devices('GPU')))"
   ]
  },
  {
   "cell_type": "code",
   "execution_count": null,
   "id": "2684afec",
   "metadata": {},
   "outputs": [],
   "source": [
    "nlp = spacy.load(\"en_core_web_trf\")"
   ]
  },
  {
   "cell_type": "code",
   "execution_count": 37,
   "id": "618a49a8",
   "metadata": {},
   "outputs": [],
   "source": [
    "inputs = \"My name is Jerry. I'm a 26 year old man.There are skin lesions on my face.I felt a lot of pain at night\""
   ]
  },
  {
   "cell_type": "code",
   "execution_count": 4,
   "id": "985451de",
   "metadata": {},
   "outputs": [],
   "source": []
  },
  {
   "cell_type": "code",
   "execution_count": 38,
   "id": "aa1302c7",
   "metadata": {},
   "outputs": [],
   "source": [
    "doc = nlp(inputs)"
   ]
  },
  {
   "cell_type": "code",
   "execution_count": 39,
   "id": "687c29df",
   "metadata": {},
   "outputs": [
    {
     "data": {
      "text/plain": [
       "My name is Jerry. I'm a 26 year old man.There are skin lesions on my face.I felt a lot of pain at night"
      ]
     },
     "execution_count": 39,
     "metadata": {},
     "output_type": "execute_result"
    }
   ],
   "source": [
    "doc"
   ]
  },
  {
   "cell_type": "code",
   "execution_count": 40,
   "id": "bc69d248",
   "metadata": {},
   "outputs": [
    {
     "name": "stdout",
     "output_type": "stream",
     "text": [
      "[name, year, man, skin, lesions, face, lot, pain, night]\n"
     ]
    }
   ],
   "source": [
    "noun = []\n",
    "for token in doc:\n",
    "    if token.pos_ == \"NOUN\":\n",
    "        noun.append(token)\n",
    "print(noun)"
   ]
  },
  {
   "cell_type": "code",
   "execution_count": 33,
   "id": "a2eba627",
   "metadata": {},
   "outputs": [
    {
     "name": "stdout",
     "output_type": "stream",
     "text": [
      "[Jerry]\n"
     ]
    }
   ],
   "source": [
    "#Entity Extraction\n",
    "ents = list(doc.ents)\n",
    "people = []\n",
    "for ent in ents:\n",
    "    if ent.label_ == \"PERSON\":\n",
    "        people.append(ent)\n",
    "print(people)"
   ]
  },
  {
   "cell_type": "code",
   "execution_count": 36,
   "id": "7cb641d0",
   "metadata": {},
   "outputs": [
    {
     "data": {
      "text/plain": [
       "'DATE'"
      ]
     },
     "execution_count": 36,
     "metadata": {},
     "output_type": "execute_result"
    }
   ],
   "source": [
    "ents[1].label_"
   ]
  },
  {
   "cell_type": "code",
   "execution_count": null,
   "id": "57bcd9c4",
   "metadata": {},
   "outputs": [],
   "source": []
  }
 ],
 "metadata": {
  "kernelspec": {
   "display_name": "Python(tensorflow)",
   "language": "python",
   "name": "tensorflow"
  },
  "language_info": {
   "codemirror_mode": {
    "name": "ipython",
    "version": 3
   },
   "file_extension": ".py",
   "mimetype": "text/x-python",
   "name": "python",
   "nbconvert_exporter": "python",
   "pygments_lexer": "ipython3",
   "version": "3.7.10"
  }
 },
 "nbformat": 4,
 "nbformat_minor": 5
}
