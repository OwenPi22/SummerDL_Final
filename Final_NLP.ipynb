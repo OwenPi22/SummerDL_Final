{
 "cells": [
  {
   "cell_type": "code",
   "execution_count": 15,
   "id": "9a872cac",
   "metadata": {},
   "outputs": [],
   "source": [
    "import tensorflow as tf\n",
    "import spacy\n",
    "import textacy"
   ]
  },
  {
   "cell_type": "code",
   "execution_count": 17,
   "id": "e9dac7a0",
   "metadata": {},
   "outputs": [
    {
     "name": "stdout",
     "output_type": "stream",
     "text": [
      "Num GPUs Available:  0\n"
     ]
    }
   ],
   "source": [
    "print(\"Num GPUs Available: \", len(tf.config.list_physical_devices('GPU')))"
   ]
  },
  {
   "cell_type": "code",
   "execution_count": 19,
   "id": "2684afec",
   "metadata": {},
   "outputs": [],
   "source": [
    "nlp = spacy.load(\"en_core_web_sm\")"
   ]
  },
  {
   "cell_type": "code",
   "execution_count": 42,
   "id": "618a49a8",
   "metadata": {},
   "outputs": [],
   "source": [
    "inputs = \"My name is Jerry. I'm a 26 year old man. There are skin lesions on my face. I felt a lot of pain at night. I really enjoy getting sun tans and ultraviolate (UV) radiations\""
   ]
  },
  {
   "cell_type": "code",
   "execution_count": null,
   "id": "985451de",
   "metadata": {},
   "outputs": [],
   "source": []
  },
  {
   "cell_type": "code",
   "execution_count": 31,
   "id": "aa1302c7",
   "metadata": {},
   "outputs": [],
   "source": [
    "doc = nlp(inputs)"
   ]
  },
  {
   "cell_type": "code",
   "execution_count": 32,
   "id": "687c29df",
   "metadata": {},
   "outputs": [
    {
     "data": {
      "text/plain": [
       "My name is Jerry. I'm a 26 year old man.There are skin lesions on my face.I felt a lot of pain at night. I really enjoy getting sun tans and ultraviolate (UV) radiations"
      ]
     },
     "execution_count": 32,
     "metadata": {},
     "output_type": "execute_result"
    }
   ],
   "source": [
    "doc"
   ]
  },
  {
   "cell_type": "code",
   "execution_count": 33,
   "id": "bc69d248",
   "metadata": {},
   "outputs": [
    {
     "name": "stdout",
     "output_type": "stream",
     "text": [
      "[name, year, man, skin, lesions, face, lot, pain, night, sun, tans, UV, radiations]\n"
     ]
    }
   ],
   "source": [
    "noun = []\n",
    "for token in doc:\n",
    "    if token.pos_ == \"NOUN\":\n",
    "        noun.append(token)\n",
    "print(noun)"
   ]
  },
  {
   "cell_type": "code",
   "execution_count": 24,
   "id": "a2eba627",
   "metadata": {},
   "outputs": [
    {
     "name": "stdout",
     "output_type": "stream",
     "text": [
      "[Jerry]\n"
     ]
    }
   ],
   "source": [
    "#Entity Extraction\n",
    "ents = list(doc.ents)\n",
    "people = []\n",
    "for ent in ents:\n",
    "    if ent.label_ == \"PERSON\":\n",
    "        people.append(ent)\n",
    "print(people)"
   ]
  },
  {
   "cell_type": "code",
   "execution_count": null,
   "id": "d561a759",
   "metadata": {},
   "outputs": [],
   "source": []
  },
  {
   "cell_type": "code",
   "execution_count": null,
   "id": "ddeee9ef",
   "metadata": {},
   "outputs": [],
   "source": []
  },
  {
   "cell_type": "code",
   "execution_count": null,
   "id": "dcb88223",
   "metadata": {},
   "outputs": [],
   "source": []
  },
  {
   "cell_type": "code",
   "execution_count": null,
   "id": "2e2f5ef1",
   "metadata": {},
   "outputs": [],
   "source": []
  },
  {
   "cell_type": "code",
   "execution_count": null,
   "id": "742ea05e",
   "metadata": {},
   "outputs": [],
   "source": []
  },
  {
   "cell_type": "code",
   "execution_count": null,
   "id": "aa28e56a",
   "metadata": {},
   "outputs": [],
   "source": []
  },
  {
   "cell_type": "code",
   "execution_count": null,
   "id": "c91820e7",
   "metadata": {},
   "outputs": [],
   "source": []
  },
  {
   "cell_type": "code",
   "execution_count": null,
   "id": "172d1a9e",
   "metadata": {},
   "outputs": [],
   "source": []
  },
  {
   "cell_type": "code",
   "execution_count": null,
   "id": "ebf362da",
   "metadata": {},
   "outputs": [],
   "source": []
  },
  {
   "cell_type": "code",
   "execution_count": null,
   "id": "b0f7e5f8",
   "metadata": {},
   "outputs": [],
   "source": []
  },
  {
   "cell_type": "code",
   "execution_count": 84,
   "id": "8516f169",
   "metadata": {},
   "outputs": [],
   "source": [
    "risk_factors = [\"sun\", \"sunlight\", \"tan\", \"uv\", \"sunburn\", \"burn\", \"family\", \"cancer\"]"
   ]
  },
  {
   "cell_type": "code",
   "execution_count": 113,
   "id": "65093ecb",
   "metadata": {},
   "outputs": [],
   "source": [
    "inputs = \"My name is Jerry. I'm a 26 year old man. There are skin lesions on my face. \\\n",
    "I felt a lot of pain at night. \\\n",
    "I really enjoy getting sun tans and ultraviolate (UV) radiations. \\\n",
    "I get sun burns frequently. \\\n",
    "My family has a history of skin cancer. \\\n",
    "The sunshine of my family, my son named Tan, has had a ton of sunburn and has cancer. \\\n",
    "I'm happy LMAO\""
   ]
  },
  {
   "cell_type": "code",
   "execution_count": 114,
   "id": "128563f8",
   "metadata": {},
   "outputs": [],
   "source": [
    "doc = nlp(inputs)"
   ]
  },
  {
   "cell_type": "code",
   "execution_count": 115,
   "id": "41654df1",
   "metadata": {},
   "outputs": [],
   "source": [
    "sent_dict = {}\n",
    "\n",
    "for sent in doc.sents:\n",
    "    score = 0\n",
    "    for word in sent:\n",
    "        if word.lemma_ in risk_factors:\n",
    "            score = score + 1\n",
    "        sent_dict[sent] = score"
   ]
  },
  {
   "cell_type": "code",
   "execution_count": 116,
   "id": "8ad0c2ed",
   "metadata": {},
   "outputs": [
    {
     "data": {
      "text/plain": [
       "{My name is Jerry.: 0,\n",
       " I'm a 26 year old man.: 0,\n",
       " There are skin lesions on my face.: 0,\n",
       " I felt a lot of pain at night.: 0,\n",
       " I really enjoy getting sun tans and ultraviolate (UV) radiations.: 3,\n",
       " I get sun burns frequently.: 2,\n",
       " My family has a history of skin cancer.: 2,\n",
       " The sunshine of my family, my son named Tan, has had a ton of sunburn and has cancer.: 3,\n",
       " I'm happy LMAO: 0}"
      ]
     },
     "execution_count": 116,
     "metadata": {},
     "output_type": "execute_result"
    }
   ],
   "source": [
    "sent_dict"
   ]
  },
  {
   "cell_type": "code",
   "execution_count": null,
   "id": "2711563c",
   "metadata": {},
   "outputs": [],
   "source": []
  }
 ],
 "metadata": {
  "kernelspec": {
   "display_name": "Python 3 (ipykernel)",
   "language": "python",
   "name": "python3"
  },
  "language_info": {
   "codemirror_mode": {
    "name": "ipython",
    "version": 3
   },
   "file_extension": ".py",
   "mimetype": "text/x-python",
   "name": "python",
   "nbconvert_exporter": "python",
   "pygments_lexer": "ipython3",
   "version": "3.8.10"
  }
 },
 "nbformat": 4,
 "nbformat_minor": 5
}
