{
 "cells": [
  {
   "cell_type": "code",
   "execution_count": 1,
   "id": "8d9c9bed",
   "metadata": {},
   "outputs": [],
   "source": [
    "import pandas as pd\n",
    "from tensorflow.keras.preprocessing import image\n",
    "\n",
    "import tensorflow as tf\n",
    "\n",
    "from tensorflow.keras.applications.inception_v3 import InceptionV3\n",
    "from tensorflow.keras.applications.vgg16 import VGG16\n",
    "from tensorflow.keras.applications.resnet_v2 import ResNet152V2\n",
    "\n",
    "from tensorflow.keras.preprocessing.image import ImageDataGenerator\n",
    "from tensorflow.keras import layers\n",
    "from tensorflow.keras import models\n",
    "from tensorflow.keras import activations\n",
    "from tqdm import tqdm\n",
    "import numpy as np"
   ]
  },
  {
   "cell_type": "code",
   "execution_count": 2,
   "id": "7038ab07",
   "metadata": {},
   "outputs": [
    {
     "name": "stdout",
     "output_type": "stream",
     "text": [
      "Num GPUs Available:  1\n"
     ]
    }
   ],
   "source": [
    "print(\"Num GPUs Available: \", len(tf.config.list_physical_devices('GPU')))"
   ]
  },
  {
   "cell_type": "code",
   "execution_count": 3,
   "id": "261c3484",
   "metadata": {},
   "outputs": [],
   "source": [
    "df = pd.read_csv('./data/HAM10000_Metadata')"
   ]
  },
  {
   "cell_type": "markdown",
   "id": "81ddfe42",
   "metadata": {},
   "source": [
    "(Warning for Sunlight, increased risk of cancer) Actinic keratoses and intraepithelial carcinoma / Bowen's disease (__akiec__), 0\n",
    "\n",
    "(Skin cancer) basal cell carcinoma (__bcc__), 1\n",
    "\n",
    "(HARMLESS) benign keratosis-like lesions (solar lentigines / seborrheic keratoses and lichen-planus like keratoses, __bkl__), 2\n",
    "\n",
    "(HARMLESS) dermatofibroma (__df__),  3\n",
    "\n",
    "melanoma (__mel__),  4\n",
    "\n",
    "(Not entirely harmless) melanocytic nevi (__nv__)   5\n",
    "\n",
    "(HARMLESS) vascular lesions (angiomas, angiokeratomas, pyogenic granulomas and hemorrhage, __vasc__). 6 \n",
    "\n",
    "\n",
    "More than 50% of lesions are confirmed through histopathology (histo), the ground truth for the rest of the cases is either follow-up examination (follow_up), expert consensus (consensus), or confirmation by in-vivo confocal microscopy (confocal). The dataset includes lesions with multiple images, which can be tracked by the lesion_id-column within the HAM10000_metadata file."
   ]
  },
  {
   "cell_type": "code",
   "execution_count": 4,
   "id": "fd5f5d5d",
   "metadata": {},
   "outputs": [
    {
     "data": {
      "text/plain": [
       "1956"
      ]
     },
     "execution_count": 4,
     "metadata": {},
     "output_type": "execute_result"
    }
   ],
   "source": [
    "# Number of cases where we can use LSTM\n",
    "\n",
    "(df['lesion_id'].value_counts() > 1).sum()"
   ]
  },
  {
   "cell_type": "code",
   "execution_count": 5,
   "id": "544945c3",
   "metadata": {},
   "outputs": [
    {
     "data": {
      "text/html": [
       "<div>\n",
       "<style scoped>\n",
       "    .dataframe tbody tr th:only-of-type {\n",
       "        vertical-align: middle;\n",
       "    }\n",
       "\n",
       "    .dataframe tbody tr th {\n",
       "        vertical-align: top;\n",
       "    }\n",
       "\n",
       "    .dataframe thead th {\n",
       "        text-align: right;\n",
       "    }\n",
       "</style>\n",
       "<table border=\"1\" class=\"dataframe\">\n",
       "  <thead>\n",
       "    <tr style=\"text-align: right;\">\n",
       "      <th></th>\n",
       "      <th>lesion_id</th>\n",
       "      <th>image_id</th>\n",
       "      <th>dx</th>\n",
       "      <th>dx_type</th>\n",
       "      <th>age</th>\n",
       "      <th>sex</th>\n",
       "      <th>localization</th>\n",
       "      <th>dataset</th>\n",
       "    </tr>\n",
       "  </thead>\n",
       "  <tbody>\n",
       "    <tr>\n",
       "      <th>0</th>\n",
       "      <td>HAM_0000118</td>\n",
       "      <td>ISIC_0027419</td>\n",
       "      <td>bkl</td>\n",
       "      <td>histo</td>\n",
       "      <td>80.0</td>\n",
       "      <td>male</td>\n",
       "      <td>scalp</td>\n",
       "      <td>vidir_modern</td>\n",
       "    </tr>\n",
       "    <tr>\n",
       "      <th>1</th>\n",
       "      <td>HAM_0000118</td>\n",
       "      <td>ISIC_0025030</td>\n",
       "      <td>bkl</td>\n",
       "      <td>histo</td>\n",
       "      <td>80.0</td>\n",
       "      <td>male</td>\n",
       "      <td>scalp</td>\n",
       "      <td>vidir_modern</td>\n",
       "    </tr>\n",
       "    <tr>\n",
       "      <th>2</th>\n",
       "      <td>HAM_0002730</td>\n",
       "      <td>ISIC_0026769</td>\n",
       "      <td>bkl</td>\n",
       "      <td>histo</td>\n",
       "      <td>80.0</td>\n",
       "      <td>male</td>\n",
       "      <td>scalp</td>\n",
       "      <td>vidir_modern</td>\n",
       "    </tr>\n",
       "    <tr>\n",
       "      <th>3</th>\n",
       "      <td>HAM_0002730</td>\n",
       "      <td>ISIC_0025661</td>\n",
       "      <td>bkl</td>\n",
       "      <td>histo</td>\n",
       "      <td>80.0</td>\n",
       "      <td>male</td>\n",
       "      <td>scalp</td>\n",
       "      <td>vidir_modern</td>\n",
       "    </tr>\n",
       "    <tr>\n",
       "      <th>4</th>\n",
       "      <td>HAM_0001466</td>\n",
       "      <td>ISIC_0031633</td>\n",
       "      <td>bkl</td>\n",
       "      <td>histo</td>\n",
       "      <td>75.0</td>\n",
       "      <td>male</td>\n",
       "      <td>ear</td>\n",
       "      <td>vidir_modern</td>\n",
       "    </tr>\n",
       "  </tbody>\n",
       "</table>\n",
       "</div>"
      ],
      "text/plain": [
       "     lesion_id      image_id   dx dx_type   age   sex localization  \\\n",
       "0  HAM_0000118  ISIC_0027419  bkl   histo  80.0  male        scalp   \n",
       "1  HAM_0000118  ISIC_0025030  bkl   histo  80.0  male        scalp   \n",
       "2  HAM_0002730  ISIC_0026769  bkl   histo  80.0  male        scalp   \n",
       "3  HAM_0002730  ISIC_0025661  bkl   histo  80.0  male        scalp   \n",
       "4  HAM_0001466  ISIC_0031633  bkl   histo  75.0  male          ear   \n",
       "\n",
       "        dataset  \n",
       "0  vidir_modern  \n",
       "1  vidir_modern  \n",
       "2  vidir_modern  \n",
       "3  vidir_modern  \n",
       "4  vidir_modern  "
      ]
     },
     "execution_count": 5,
     "metadata": {},
     "output_type": "execute_result"
    }
   ],
   "source": [
    "df.head()"
   ]
  },
  {
   "cell_type": "code",
   "execution_count": 6,
   "id": "89856d5a",
   "metadata": {},
   "outputs": [
    {
     "data": {
      "text/html": [
       "<div>\n",
       "<style scoped>\n",
       "    .dataframe tbody tr th:only-of-type {\n",
       "        vertical-align: middle;\n",
       "    }\n",
       "\n",
       "    .dataframe tbody tr th {\n",
       "        vertical-align: top;\n",
       "    }\n",
       "\n",
       "    .dataframe thead th {\n",
       "        text-align: right;\n",
       "    }\n",
       "</style>\n",
       "<table border=\"1\" class=\"dataframe\">\n",
       "  <thead>\n",
       "    <tr style=\"text-align: right;\">\n",
       "      <th></th>\n",
       "      <th>index</th>\n",
       "      <th>lesion_id</th>\n",
       "      <th>image_id</th>\n",
       "      <th>dx</th>\n",
       "      <th>dx_type</th>\n",
       "      <th>age</th>\n",
       "      <th>sex</th>\n",
       "      <th>localization</th>\n",
       "      <th>dataset</th>\n",
       "    </tr>\n",
       "  </thead>\n",
       "  <tbody>\n",
       "    <tr>\n",
       "      <th>0</th>\n",
       "      <td>8641</td>\n",
       "      <td>HAM_0000851</td>\n",
       "      <td>ISIC_0025074</td>\n",
       "      <td>nv</td>\n",
       "      <td>histo</td>\n",
       "      <td>50.0</td>\n",
       "      <td>female</td>\n",
       "      <td>back</td>\n",
       "      <td>rosendahl</td>\n",
       "    </tr>\n",
       "    <tr>\n",
       "      <th>1</th>\n",
       "      <td>7535</td>\n",
       "      <td>HAM_0001246</td>\n",
       "      <td>ISIC_0032822</td>\n",
       "      <td>nv</td>\n",
       "      <td>histo</td>\n",
       "      <td>40.0</td>\n",
       "      <td>female</td>\n",
       "      <td>lower extremity</td>\n",
       "      <td>vidir_modern</td>\n",
       "    </tr>\n",
       "    <tr>\n",
       "      <th>2</th>\n",
       "      <td>2843</td>\n",
       "      <td>HAM_0007507</td>\n",
       "      <td>ISIC_0031056</td>\n",
       "      <td>bcc</td>\n",
       "      <td>histo</td>\n",
       "      <td>65.0</td>\n",
       "      <td>female</td>\n",
       "      <td>lower extremity</td>\n",
       "      <td>rosendahl</td>\n",
       "    </tr>\n",
       "    <tr>\n",
       "      <th>3</th>\n",
       "      <td>5861</td>\n",
       "      <td>HAM_0000665</td>\n",
       "      <td>ISIC_0030259</td>\n",
       "      <td>nv</td>\n",
       "      <td>follow_up</td>\n",
       "      <td>60.0</td>\n",
       "      <td>male</td>\n",
       "      <td>lower extremity</td>\n",
       "      <td>vidir_molemax</td>\n",
       "    </tr>\n",
       "    <tr>\n",
       "      <th>4</th>\n",
       "      <td>9055</td>\n",
       "      <td>HAM_0000836</td>\n",
       "      <td>ISIC_0030311</td>\n",
       "      <td>nv</td>\n",
       "      <td>histo</td>\n",
       "      <td>45.0</td>\n",
       "      <td>female</td>\n",
       "      <td>back</td>\n",
       "      <td>rosendahl</td>\n",
       "    </tr>\n",
       "  </tbody>\n",
       "</table>\n",
       "</div>"
      ],
      "text/plain": [
       "   index    lesion_id      image_id   dx    dx_type   age     sex  \\\n",
       "0   8641  HAM_0000851  ISIC_0025074   nv      histo  50.0  female   \n",
       "1   7535  HAM_0001246  ISIC_0032822   nv      histo  40.0  female   \n",
       "2   2843  HAM_0007507  ISIC_0031056  bcc      histo  65.0  female   \n",
       "3   5861  HAM_0000665  ISIC_0030259   nv  follow_up  60.0    male   \n",
       "4   9055  HAM_0000836  ISIC_0030311   nv      histo  45.0  female   \n",
       "\n",
       "      localization        dataset  \n",
       "0             back      rosendahl  \n",
       "1  lower extremity   vidir_modern  \n",
       "2  lower extremity      rosendahl  \n",
       "3  lower extremity  vidir_molemax  \n",
       "4             back      rosendahl  "
      ]
     },
     "execution_count": 6,
     "metadata": {},
     "output_type": "execute_result"
    }
   ],
   "source": [
    "df = df.sample(frac = 1).reset_index()\n",
    "\n",
    "df.head()"
   ]
  },
  {
   "cell_type": "code",
   "execution_count": 7,
   "id": "3064aeaa",
   "metadata": {},
   "outputs": [
    {
     "data": {
      "text/plain": [
       "array(['back', 'lower extremity', 'unknown', 'abdomen', 'trunk',\n",
       "       'upper extremity', 'foot', 'face', 'chest', 'hand', 'neck',\n",
       "       'scalp', 'ear', 'genital', 'acral'], dtype=object)"
      ]
     },
     "execution_count": 7,
     "metadata": {},
     "output_type": "execute_result"
    }
   ],
   "source": [
    "df['localization'].unique()"
   ]
  },
  {
   "cell_type": "code",
   "execution_count": 8,
   "id": "8e38650b",
   "metadata": {},
   "outputs": [],
   "source": [
    "temp = []\n",
    "\n",
    "for i in range(0, 10015):\n",
    "    loc = df.iloc[i]['localization']\n",
    "    if loc == 'abdomen':\n",
    "        temp.append(tf.one_hot(0, 15))\n",
    "    elif loc == 'scalp':\n",
    "        temp.append(tf.one_hot(1, 15))\n",
    "    elif loc == 'lower extremity':\n",
    "        temp.append(tf.one_hot(2, 15))\n",
    "    elif loc == 'trunk':\n",
    "        temp.append(tf.one_hot(3, 15))\n",
    "    elif loc == 'upper extremity':\n",
    "        temp.append(tf.one_hot(4, 15))\n",
    "    elif loc == 'back':\n",
    "        temp.append(tf.one_hot(5, 15))\n",
    "    elif loc == 'neck':\n",
    "        temp.append(tf.one_hot(6, 15))\n",
    "    elif loc == 'face':\n",
    "        temp.append(tf.one_hot(7, 15))\n",
    "    elif loc == 'chest':\n",
    "        temp.append(tf.one_hot(8, 15))\n",
    "    elif loc == 'foot':\n",
    "        temp.append(tf.one_hot(9, 15))\n",
    "    elif loc == 'ear':\n",
    "        temp.append(tf.one_hot(10, 15))\n",
    "    elif loc == 'unknown':\n",
    "        temp.append(tf.one_hot(11, 15))\n",
    "    elif loc == 'hand':\n",
    "        temp.append(tf.one_hot(12, 15))\n",
    "    elif loc == 'acral':\n",
    "        temp.append(tf.one_hot(13, 15))\n",
    "    elif loc == 'genital':\n",
    "        temp.append(tf.one_hot(14, 15))"
   ]
  },
  {
   "cell_type": "code",
   "execution_count": 9,
   "id": "958a6fdd",
   "metadata": {},
   "outputs": [
    {
     "data": {
      "text/plain": [
       "array([[0., 0., 0., ..., 0., 0., 0.],\n",
       "       [0., 0., 1., ..., 0., 0., 0.],\n",
       "       [0., 0., 1., ..., 0., 0., 0.],\n",
       "       ...,\n",
       "       [0., 0., 1., ..., 0., 0., 0.],\n",
       "       [0., 0., 0., ..., 0., 0., 0.],\n",
       "       [0., 0., 0., ..., 0., 0., 0.]], dtype=float32)"
      ]
     },
     "execution_count": 9,
     "metadata": {},
     "output_type": "execute_result"
    }
   ],
   "source": [
    "one_hot_loc = np.array(temp)\n",
    "\n",
    "one_hot_loc"
   ]
  },
  {
   "cell_type": "code",
   "execution_count": 10,
   "id": "a8a5e4b8",
   "metadata": {},
   "outputs": [
    {
     "name": "stderr",
     "output_type": "stream",
     "text": [
      "100%|████████████████████████████████████████████████████████████████████████████| 10015/10015 [06:19<00:00, 26.37it/s]\n"
     ]
    }
   ],
   "source": [
    "# VGG-16\n",
    "preprocessed = []\n",
    "\n",
    "VGG_load = VGG16(weights='imagenet', include_top=False)\n",
    "model = models.Sequential()\n",
    "model.add(VGG_load)\n",
    "model.add(layers.Flatten())\n",
    "\n",
    "\n",
    "for i in tqdm(range(0, 10015)):\n",
    "    file = df.iloc[i]['image_id']\n",
    "    ohl = one_hot_loc[i]\n",
    "    \n",
    "    img = image.load_img('./Data/HAM10000_images/' + file + '.jpg', target_size= (224,224))\n",
    "    img = image.img_to_array(img)\n",
    "    img = np.expand_dims(img, axis=0)\n",
    "    img = tf.keras.applications.vgg16.preprocess_input(img)\n",
    "    preds = model.predict(img).reshape(25088)\n",
    "\n",
    "    preprocessed.append(np.concatenate((preds, ohl)))\n",
    "    \n",
    "df['VGG16'] = preprocessed"
   ]
  },
  {
   "cell_type": "code",
   "execution_count": 11,
   "id": "88325339",
   "metadata": {},
   "outputs": [
    {
     "name": "stderr",
     "output_type": "stream",
     "text": [
      "100%|████████████████████████████████████████████████████████████████████████████| 10015/10015 [08:24<00:00, 19.84it/s]\n"
     ]
    }
   ],
   "source": [
    "# Inception\n",
    "preprocessed = []\n",
    "\n",
    "IV3_load = InceptionV3(weights='imagenet', include_top=False)\n",
    "model = models.Sequential()\n",
    "model.add(IV3_load)\n",
    "model.add(layers.Flatten())\n",
    "\n",
    "for i in tqdm(range(0, 10015)):\n",
    "    file = df.iloc[i]['image_id']\n",
    "    ohl = one_hot_loc[i]\n",
    "    \n",
    "    img = image.load_img('./Data/HAM10000_images/' + file + '.jpg', target_size= (299,299))\n",
    "    img = image.img_to_array(img)\n",
    "    img = np.expand_dims(img, axis=0)\n",
    "    img = tf.keras.applications.inception_v3.preprocess_input(img)\n",
    "    preds = model.predict(img).reshape(131072)\n",
    "\n",
    "    preprocessed.append(np.concatenate((preds, ohl)))\n",
    "    \n",
    "df['IV3'] = preprocessed"
   ]
  },
  {
   "cell_type": "code",
   "execution_count": 12,
   "id": "4a0493b0",
   "metadata": {},
   "outputs": [
    {
     "name": "stderr",
     "output_type": "stream",
     "text": [
      "100%|████████████████████████████████████████████████████████████████████████████| 10015/10015 [10:14<00:00, 16.29it/s]\n"
     ]
    }
   ],
   "source": [
    "# ResNet\n",
    "preprocessed = []\n",
    "\n",
    "resnet_load = ResNet152V2(weights='imagenet', include_top=False)\n",
    "model = models.Sequential()\n",
    "model.add(resnet_load)\n",
    "model.add(layers.Flatten())\n",
    "\n",
    "\n",
    "for i in tqdm(range(0, 10015)):\n",
    "    file = df.iloc[i]['image_id']\n",
    "    ohl = one_hot_loc[i]    \n",
    "    \n",
    "    img = image.load_img('./Data/HAM10000_images/' + file + '.jpg', target_size= (224,224))\n",
    "    img = image.img_to_array(img)\n",
    "    img = np.expand_dims(img, axis=0)\n",
    "    img = tf.keras.applications.resnet_v2.preprocess_input(img)\n",
    "    preds = model.predict(img).reshape(100352)\n",
    "\n",
    "    preprocessed.append(np.concatenate((preds, ohl)))\n",
    "    \n",
    "df['resnet'] = preprocessed"
   ]
  },
  {
   "cell_type": "code",
   "execution_count": 13,
   "id": "ff649448",
   "metadata": {},
   "outputs": [],
   "source": [
    "labels = []\n",
    "for i in range(0, 10015):\n",
    "    dx = df.iloc[i]['dx']\n",
    "    if dx == 'akiec':\n",
    "        labels.append(tf.one_hot(0, 7))\n",
    "    elif dx == 'bcc':\n",
    "        labels.append(tf.one_hot(1, 7))\n",
    "    elif dx == 'bkl':\n",
    "        labels.append(tf.one_hot(2, 7))\n",
    "    elif dx == 'df':\n",
    "        labels.append(tf.one_hot(3, 7))\n",
    "    elif dx == 'mel':\n",
    "        labels.append(tf.one_hot(4, 7))\n",
    "    elif dx == 'nv':\n",
    "        labels.append(tf.one_hot(5, 7))\n",
    "    elif dx == 'vasc':\n",
    "        labels.append(tf.one_hot(6, 7))\n",
    "        \n",
    "df['one_hot'] = labels"
   ]
  },
  {
   "cell_type": "code",
   "execution_count": 14,
   "id": "d4cf74db",
   "metadata": {
    "scrolled": true
   },
   "outputs": [
    {
     "data": {
      "text/html": [
       "<div>\n",
       "<style scoped>\n",
       "    .dataframe tbody tr th:only-of-type {\n",
       "        vertical-align: middle;\n",
       "    }\n",
       "\n",
       "    .dataframe tbody tr th {\n",
       "        vertical-align: top;\n",
       "    }\n",
       "\n",
       "    .dataframe thead th {\n",
       "        text-align: right;\n",
       "    }\n",
       "</style>\n",
       "<table border=\"1\" class=\"dataframe\">\n",
       "  <thead>\n",
       "    <tr style=\"text-align: right;\">\n",
       "      <th></th>\n",
       "      <th>index</th>\n",
       "      <th>lesion_id</th>\n",
       "      <th>image_id</th>\n",
       "      <th>dx</th>\n",
       "      <th>dx_type</th>\n",
       "      <th>age</th>\n",
       "      <th>sex</th>\n",
       "      <th>localization</th>\n",
       "      <th>dataset</th>\n",
       "      <th>VGG16</th>\n",
       "      <th>IV3</th>\n",
       "      <th>resnet</th>\n",
       "      <th>one_hot</th>\n",
       "    </tr>\n",
       "  </thead>\n",
       "  <tbody>\n",
       "    <tr>\n",
       "      <th>0</th>\n",
       "      <td>8641</td>\n",
       "      <td>HAM_0000851</td>\n",
       "      <td>ISIC_0025074</td>\n",
       "      <td>nv</td>\n",
       "      <td>histo</td>\n",
       "      <td>50.0</td>\n",
       "      <td>female</td>\n",
       "      <td>back</td>\n",
       "      <td>rosendahl</td>\n",
       "      <td>[0.0, 0.0, 0.0, 0.0, 0.0, 0.0, 0.0, 0.0, 0.0, ...</td>\n",
       "      <td>[0.058568966, 0.0, 0.0, 0.18749638, 0.0, 0.377...</td>\n",
       "      <td>[0.0, 0.0, 0.0, 0.0, 0.0, 0.0, 0.0, 0.0, 0.0, ...</td>\n",
       "      <td>(tf.Tensor(0.0, shape=(), dtype=float32), tf.T...</td>\n",
       "    </tr>\n",
       "    <tr>\n",
       "      <th>1</th>\n",
       "      <td>7535</td>\n",
       "      <td>HAM_0001246</td>\n",
       "      <td>ISIC_0032822</td>\n",
       "      <td>nv</td>\n",
       "      <td>histo</td>\n",
       "      <td>40.0</td>\n",
       "      <td>female</td>\n",
       "      <td>lower extremity</td>\n",
       "      <td>vidir_modern</td>\n",
       "      <td>[0.0, 0.0, 0.0, 0.0, 0.0, 0.0, 0.0, 0.0, 0.0, ...</td>\n",
       "      <td>[0.0, 0.0, 0.0, 0.44673705, 0.0, 0.0, 0.0, 0.0...</td>\n",
       "      <td>[0.0, 0.0, 0.0, 0.0, 0.0, 0.0, 0.0, 0.0, 0.0, ...</td>\n",
       "      <td>(tf.Tensor(0.0, shape=(), dtype=float32), tf.T...</td>\n",
       "    </tr>\n",
       "    <tr>\n",
       "      <th>2</th>\n",
       "      <td>2843</td>\n",
       "      <td>HAM_0007507</td>\n",
       "      <td>ISIC_0031056</td>\n",
       "      <td>bcc</td>\n",
       "      <td>histo</td>\n",
       "      <td>65.0</td>\n",
       "      <td>female</td>\n",
       "      <td>lower extremity</td>\n",
       "      <td>rosendahl</td>\n",
       "      <td>[0.0, 0.0, 0.0, 0.0, 0.0, 0.0, 0.0, 0.0, 0.0, ...</td>\n",
       "      <td>[0.0, 0.2396596, 0.0, 0.0, 0.0, 0.20554794, 0....</td>\n",
       "      <td>[0.0, 0.0, 0.0, 0.0, 0.0, 0.0, 0.0, 0.0, 0.0, ...</td>\n",
       "      <td>(tf.Tensor(0.0, shape=(), dtype=float32), tf.T...</td>\n",
       "    </tr>\n",
       "    <tr>\n",
       "      <th>3</th>\n",
       "      <td>5861</td>\n",
       "      <td>HAM_0000665</td>\n",
       "      <td>ISIC_0030259</td>\n",
       "      <td>nv</td>\n",
       "      <td>follow_up</td>\n",
       "      <td>60.0</td>\n",
       "      <td>male</td>\n",
       "      <td>lower extremity</td>\n",
       "      <td>vidir_molemax</td>\n",
       "      <td>[0.0, 0.0, 0.0, 0.0, 0.0, 0.0, 0.0, 0.0, 0.0, ...</td>\n",
       "      <td>[0.01993767, 0.0, 0.0, 0.0, 0.0, 0.0, 0.0, 0.0...</td>\n",
       "      <td>[0.0, 0.0, 0.0, 0.0, 0.0, 0.0, 0.0, 0.0, 0.0, ...</td>\n",
       "      <td>(tf.Tensor(0.0, shape=(), dtype=float32), tf.T...</td>\n",
       "    </tr>\n",
       "    <tr>\n",
       "      <th>4</th>\n",
       "      <td>9055</td>\n",
       "      <td>HAM_0000836</td>\n",
       "      <td>ISIC_0030311</td>\n",
       "      <td>nv</td>\n",
       "      <td>histo</td>\n",
       "      <td>45.0</td>\n",
       "      <td>female</td>\n",
       "      <td>back</td>\n",
       "      <td>rosendahl</td>\n",
       "      <td>[0.0, 0.0, 0.0, 0.0, 0.0, 0.0, 0.0, 0.0, 0.0, ...</td>\n",
       "      <td>[1.3947097, 0.7318024, 0.0, 0.29196405, 0.0, 0...</td>\n",
       "      <td>[0.0, 0.0, 0.0, 0.0, 0.0, 0.0, 0.0, 0.0, 0.0, ...</td>\n",
       "      <td>(tf.Tensor(0.0, shape=(), dtype=float32), tf.T...</td>\n",
       "    </tr>\n",
       "  </tbody>\n",
       "</table>\n",
       "</div>"
      ],
      "text/plain": [
       "   index    lesion_id      image_id   dx    dx_type   age     sex  \\\n",
       "0   8641  HAM_0000851  ISIC_0025074   nv      histo  50.0  female   \n",
       "1   7535  HAM_0001246  ISIC_0032822   nv      histo  40.0  female   \n",
       "2   2843  HAM_0007507  ISIC_0031056  bcc      histo  65.0  female   \n",
       "3   5861  HAM_0000665  ISIC_0030259   nv  follow_up  60.0    male   \n",
       "4   9055  HAM_0000836  ISIC_0030311   nv      histo  45.0  female   \n",
       "\n",
       "      localization        dataset  \\\n",
       "0             back      rosendahl   \n",
       "1  lower extremity   vidir_modern   \n",
       "2  lower extremity      rosendahl   \n",
       "3  lower extremity  vidir_molemax   \n",
       "4             back      rosendahl   \n",
       "\n",
       "                                               VGG16  \\\n",
       "0  [0.0, 0.0, 0.0, 0.0, 0.0, 0.0, 0.0, 0.0, 0.0, ...   \n",
       "1  [0.0, 0.0, 0.0, 0.0, 0.0, 0.0, 0.0, 0.0, 0.0, ...   \n",
       "2  [0.0, 0.0, 0.0, 0.0, 0.0, 0.0, 0.0, 0.0, 0.0, ...   \n",
       "3  [0.0, 0.0, 0.0, 0.0, 0.0, 0.0, 0.0, 0.0, 0.0, ...   \n",
       "4  [0.0, 0.0, 0.0, 0.0, 0.0, 0.0, 0.0, 0.0, 0.0, ...   \n",
       "\n",
       "                                                 IV3  \\\n",
       "0  [0.058568966, 0.0, 0.0, 0.18749638, 0.0, 0.377...   \n",
       "1  [0.0, 0.0, 0.0, 0.44673705, 0.0, 0.0, 0.0, 0.0...   \n",
       "2  [0.0, 0.2396596, 0.0, 0.0, 0.0, 0.20554794, 0....   \n",
       "3  [0.01993767, 0.0, 0.0, 0.0, 0.0, 0.0, 0.0, 0.0...   \n",
       "4  [1.3947097, 0.7318024, 0.0, 0.29196405, 0.0, 0...   \n",
       "\n",
       "                                              resnet  \\\n",
       "0  [0.0, 0.0, 0.0, 0.0, 0.0, 0.0, 0.0, 0.0, 0.0, ...   \n",
       "1  [0.0, 0.0, 0.0, 0.0, 0.0, 0.0, 0.0, 0.0, 0.0, ...   \n",
       "2  [0.0, 0.0, 0.0, 0.0, 0.0, 0.0, 0.0, 0.0, 0.0, ...   \n",
       "3  [0.0, 0.0, 0.0, 0.0, 0.0, 0.0, 0.0, 0.0, 0.0, ...   \n",
       "4  [0.0, 0.0, 0.0, 0.0, 0.0, 0.0, 0.0, 0.0, 0.0, ...   \n",
       "\n",
       "                                             one_hot  \n",
       "0  (tf.Tensor(0.0, shape=(), dtype=float32), tf.T...  \n",
       "1  (tf.Tensor(0.0, shape=(), dtype=float32), tf.T...  \n",
       "2  (tf.Tensor(0.0, shape=(), dtype=float32), tf.T...  \n",
       "3  (tf.Tensor(0.0, shape=(), dtype=float32), tf.T...  \n",
       "4  (tf.Tensor(0.0, shape=(), dtype=float32), tf.T...  "
      ]
     },
     "execution_count": 14,
     "metadata": {},
     "output_type": "execute_result"
    }
   ],
   "source": [
    "df.head()"
   ]
  },
  {
   "cell_type": "markdown",
   "id": "3d21be79",
   "metadata": {},
   "source": [
    "(Warning for Sunlight, increased risk of cancer) Actinic keratoses and intraepithelial carcinoma / Bowen's disease (__akiec__), 0\n",
    "\n",
    "(Skin cancer) basal cell carcinoma (__bcc__), 1\n",
    "\n",
    "(HARMLESS) benign keratosis-like lesions (solar lentigines / seborrheic keratoses and lichen-planus like keratoses, __bkl__), 2\n",
    "\n",
    "(HARMLESS) dermatofibroma (__df__),  3\n",
    "\n",
    "melanoma (__mel__),  4\n",
    "\n",
    "(Not entirely harmless) melanocytic nevi (__nv__)   5\n",
    "\n",
    "(HARMLESS) vascular lesions (angiomas, angiokeratomas, pyogenic granulomas and hemorrhage, __vasc__). 6 \n",
    "\n",
    "\n",
    "More than 50% of lesions are confirmed through histopathology (histo), the ground truth for the rest of the cases is either follow-up examination (follow_up), expert consensus (consensus), or confirmation by in-vivo confocal microscopy (confocal). The dataset includes lesions with multiple images, which can be tracked by the lesion_id-column within the HAM10000_metadata file."
   ]
  },
  {
   "cell_type": "code",
   "execution_count": 15,
   "id": "8d4b2329",
   "metadata": {
    "scrolled": true
   },
   "outputs": [
    {
     "data": {
      "text/html": [
       "<div>\n",
       "<style scoped>\n",
       "    .dataframe tbody tr th:only-of-type {\n",
       "        vertical-align: middle;\n",
       "    }\n",
       "\n",
       "    .dataframe tbody tr th {\n",
       "        vertical-align: top;\n",
       "    }\n",
       "\n",
       "    .dataframe thead th {\n",
       "        text-align: right;\n",
       "    }\n",
       "</style>\n",
       "<table border=\"1\" class=\"dataframe\">\n",
       "  <thead>\n",
       "    <tr style=\"text-align: right;\">\n",
       "      <th></th>\n",
       "      <th>index</th>\n",
       "      <th>lesion_id</th>\n",
       "      <th>image_id</th>\n",
       "      <th>dx</th>\n",
       "      <th>dx_type</th>\n",
       "      <th>age</th>\n",
       "      <th>sex</th>\n",
       "      <th>localization</th>\n",
       "      <th>dataset</th>\n",
       "      <th>VGG16</th>\n",
       "      <th>IV3</th>\n",
       "      <th>resnet</th>\n",
       "      <th>one_hot</th>\n",
       "      <th>risk</th>\n",
       "    </tr>\n",
       "  </thead>\n",
       "  <tbody>\n",
       "    <tr>\n",
       "      <th>0</th>\n",
       "      <td>8641</td>\n",
       "      <td>HAM_0000851</td>\n",
       "      <td>ISIC_0025074</td>\n",
       "      <td>nv</td>\n",
       "      <td>histo</td>\n",
       "      <td>50.0</td>\n",
       "      <td>female</td>\n",
       "      <td>back</td>\n",
       "      <td>rosendahl</td>\n",
       "      <td>[0.0, 0.0, 0.0, 0.0, 0.0, 0.0, 0.0, 0.0, 0.0, ...</td>\n",
       "      <td>[0.058568966, 0.0, 0.0, 0.18749638, 0.0, 0.377...</td>\n",
       "      <td>[0.0, 0.0, 0.0, 0.0, 0.0, 0.0, 0.0, 0.0, 0.0, ...</td>\n",
       "      <td>(tf.Tensor(0.0, shape=(), dtype=float32), tf.T...</td>\n",
       "      <td>1.0</td>\n",
       "    </tr>\n",
       "    <tr>\n",
       "      <th>1</th>\n",
       "      <td>7535</td>\n",
       "      <td>HAM_0001246</td>\n",
       "      <td>ISIC_0032822</td>\n",
       "      <td>nv</td>\n",
       "      <td>histo</td>\n",
       "      <td>40.0</td>\n",
       "      <td>female</td>\n",
       "      <td>lower extremity</td>\n",
       "      <td>vidir_modern</td>\n",
       "      <td>[0.0, 0.0, 0.0, 0.0, 0.0, 0.0, 0.0, 0.0, 0.0, ...</td>\n",
       "      <td>[0.0, 0.0, 0.0, 0.44673705, 0.0, 0.0, 0.0, 0.0...</td>\n",
       "      <td>[0.0, 0.0, 0.0, 0.0, 0.0, 0.0, 0.0, 0.0, 0.0, ...</td>\n",
       "      <td>(tf.Tensor(0.0, shape=(), dtype=float32), tf.T...</td>\n",
       "      <td>1.0</td>\n",
       "    </tr>\n",
       "    <tr>\n",
       "      <th>2</th>\n",
       "      <td>2843</td>\n",
       "      <td>HAM_0007507</td>\n",
       "      <td>ISIC_0031056</td>\n",
       "      <td>bcc</td>\n",
       "      <td>histo</td>\n",
       "      <td>65.0</td>\n",
       "      <td>female</td>\n",
       "      <td>lower extremity</td>\n",
       "      <td>rosendahl</td>\n",
       "      <td>[0.0, 0.0, 0.0, 0.0, 0.0, 0.0, 0.0, 0.0, 0.0, ...</td>\n",
       "      <td>[0.0, 0.2396596, 0.0, 0.0, 0.0, 0.20554794, 0....</td>\n",
       "      <td>[0.0, 0.0, 0.0, 0.0, 0.0, 0.0, 0.0, 0.0, 0.0, ...</td>\n",
       "      <td>(tf.Tensor(0.0, shape=(), dtype=float32), tf.T...</td>\n",
       "      <td>3.0</td>\n",
       "    </tr>\n",
       "    <tr>\n",
       "      <th>3</th>\n",
       "      <td>5861</td>\n",
       "      <td>HAM_0000665</td>\n",
       "      <td>ISIC_0030259</td>\n",
       "      <td>nv</td>\n",
       "      <td>follow_up</td>\n",
       "      <td>60.0</td>\n",
       "      <td>male</td>\n",
       "      <td>lower extremity</td>\n",
       "      <td>vidir_molemax</td>\n",
       "      <td>[0.0, 0.0, 0.0, 0.0, 0.0, 0.0, 0.0, 0.0, 0.0, ...</td>\n",
       "      <td>[0.01993767, 0.0, 0.0, 0.0, 0.0, 0.0, 0.0, 0.0...</td>\n",
       "      <td>[0.0, 0.0, 0.0, 0.0, 0.0, 0.0, 0.0, 0.0, 0.0, ...</td>\n",
       "      <td>(tf.Tensor(0.0, shape=(), dtype=float32), tf.T...</td>\n",
       "      <td>1.0</td>\n",
       "    </tr>\n",
       "    <tr>\n",
       "      <th>4</th>\n",
       "      <td>9055</td>\n",
       "      <td>HAM_0000836</td>\n",
       "      <td>ISIC_0030311</td>\n",
       "      <td>nv</td>\n",
       "      <td>histo</td>\n",
       "      <td>45.0</td>\n",
       "      <td>female</td>\n",
       "      <td>back</td>\n",
       "      <td>rosendahl</td>\n",
       "      <td>[0.0, 0.0, 0.0, 0.0, 0.0, 0.0, 0.0, 0.0, 0.0, ...</td>\n",
       "      <td>[1.3947097, 0.7318024, 0.0, 0.29196405, 0.0, 0...</td>\n",
       "      <td>[0.0, 0.0, 0.0, 0.0, 0.0, 0.0, 0.0, 0.0, 0.0, ...</td>\n",
       "      <td>(tf.Tensor(0.0, shape=(), dtype=float32), tf.T...</td>\n",
       "      <td>1.0</td>\n",
       "    </tr>\n",
       "  </tbody>\n",
       "</table>\n",
       "</div>"
      ],
      "text/plain": [
       "   index    lesion_id      image_id   dx    dx_type   age     sex  \\\n",
       "0   8641  HAM_0000851  ISIC_0025074   nv      histo  50.0  female   \n",
       "1   7535  HAM_0001246  ISIC_0032822   nv      histo  40.0  female   \n",
       "2   2843  HAM_0007507  ISIC_0031056  bcc      histo  65.0  female   \n",
       "3   5861  HAM_0000665  ISIC_0030259   nv  follow_up  60.0    male   \n",
       "4   9055  HAM_0000836  ISIC_0030311   nv      histo  45.0  female   \n",
       "\n",
       "      localization        dataset  \\\n",
       "0             back      rosendahl   \n",
       "1  lower extremity   vidir_modern   \n",
       "2  lower extremity      rosendahl   \n",
       "3  lower extremity  vidir_molemax   \n",
       "4             back      rosendahl   \n",
       "\n",
       "                                               VGG16  \\\n",
       "0  [0.0, 0.0, 0.0, 0.0, 0.0, 0.0, 0.0, 0.0, 0.0, ...   \n",
       "1  [0.0, 0.0, 0.0, 0.0, 0.0, 0.0, 0.0, 0.0, 0.0, ...   \n",
       "2  [0.0, 0.0, 0.0, 0.0, 0.0, 0.0, 0.0, 0.0, 0.0, ...   \n",
       "3  [0.0, 0.0, 0.0, 0.0, 0.0, 0.0, 0.0, 0.0, 0.0, ...   \n",
       "4  [0.0, 0.0, 0.0, 0.0, 0.0, 0.0, 0.0, 0.0, 0.0, ...   \n",
       "\n",
       "                                                 IV3  \\\n",
       "0  [0.058568966, 0.0, 0.0, 0.18749638, 0.0, 0.377...   \n",
       "1  [0.0, 0.0, 0.0, 0.44673705, 0.0, 0.0, 0.0, 0.0...   \n",
       "2  [0.0, 0.2396596, 0.0, 0.0, 0.0, 0.20554794, 0....   \n",
       "3  [0.01993767, 0.0, 0.0, 0.0, 0.0, 0.0, 0.0, 0.0...   \n",
       "4  [1.3947097, 0.7318024, 0.0, 0.29196405, 0.0, 0...   \n",
       "\n",
       "                                              resnet  \\\n",
       "0  [0.0, 0.0, 0.0, 0.0, 0.0, 0.0, 0.0, 0.0, 0.0, ...   \n",
       "1  [0.0, 0.0, 0.0, 0.0, 0.0, 0.0, 0.0, 0.0, 0.0, ...   \n",
       "2  [0.0, 0.0, 0.0, 0.0, 0.0, 0.0, 0.0, 0.0, 0.0, ...   \n",
       "3  [0.0, 0.0, 0.0, 0.0, 0.0, 0.0, 0.0, 0.0, 0.0, ...   \n",
       "4  [0.0, 0.0, 0.0, 0.0, 0.0, 0.0, 0.0, 0.0, 0.0, ...   \n",
       "\n",
       "                                             one_hot  risk  \n",
       "0  (tf.Tensor(0.0, shape=(), dtype=float32), tf.T...   1.0  \n",
       "1  (tf.Tensor(0.0, shape=(), dtype=float32), tf.T...   1.0  \n",
       "2  (tf.Tensor(0.0, shape=(), dtype=float32), tf.T...   3.0  \n",
       "3  (tf.Tensor(0.0, shape=(), dtype=float32), tf.T...   1.0  \n",
       "4  (tf.Tensor(0.0, shape=(), dtype=float32), tf.T...   1.0  "
      ]
     },
     "execution_count": 15,
     "metadata": {},
     "output_type": "execute_result"
    }
   ],
   "source": [
    "risk = []\n",
    "\n",
    "for i in range(0, 10015):\n",
    "    if df.iloc[i]['dx'] in ['bkl', 'df', 'vasc']:\n",
    "        risk.append(0.0)\n",
    "    elif df.iloc[i]['dx'] == 'nv':\n",
    "        risk.append(1.0)\n",
    "    elif df.iloc[i]['dx'] == 'akiec':\n",
    "        risk.append(2.0)\n",
    "    elif df.iloc[i]['dx'] in ['mel', 'bcc']:\n",
    "        risk.append(3.0)\n",
    "        \n",
    "df['risk'] = risk\n",
    "\n",
    "df.head()"
   ]
  },
  {
   "cell_type": "code",
   "execution_count": null,
   "id": "3e0f5f7a",
   "metadata": {},
   "outputs": [],
   "source": [
    "import pickle"
   ]
  },
  {
   "cell_type": "code",
   "execution_count": null,
   "id": "76abdfad",
   "metadata": {},
   "outputs": [],
   "source": [
    "pickle_in = open(\"VGG16.pickle\", \"rb\")\n",
    "z_vgg = pickle.load(pickle_in)\n",
    "\n",
    "pickle_in = open(\"IV3.pickle\", \"rb\")\n",
    "z_iv3 = pickle.load(pickle_in)\n",
    "\n",
    "pickle_in = open(\"resnet.pickle\", \"rb\")\n",
    "z_res = pickle.load(pickle_in)"
   ]
  },
  {
   "cell_type": "code",
   "execution_count": null,
   "id": "e02ead55",
   "metadata": {},
   "outputs": [],
   "source": [
    "pickle_in = open(\"one_hot.pickle\", \"rb\")\n",
    "z_one_hot = pickle.load(pickle_in)\n",
    "\n",
    "pickle_in = open(\"risk.pickle\", \"rb\")\n",
    "z_risk = pickle.load(pickle_in)"
   ]
  },
  {
   "cell_type": "code",
   "execution_count": 16,
   "id": "96b7bf1a",
   "metadata": {},
   "outputs": [],
   "source": [
    "VGG_X = np.array(df['VGG16'])\n",
    "IV3_X = np.array(df['IV3'])\n",
    "RES_X = np.array(df['resnet'])"
   ]
  },
  {
   "cell_type": "code",
   "execution_count": 17,
   "id": "7a30f467",
   "metadata": {},
   "outputs": [],
   "source": [
    "#y = np.array(df['one_hot'])\n",
    "\n",
    "y = np.array(df['risk'])"
   ]
  },
  {
   "cell_type": "code",
   "execution_count": 18,
   "id": "a92e6603",
   "metadata": {},
   "outputs": [],
   "source": [
    "vgg_model = models.Sequential()\n",
    "vgg_model.add(layers.Dense(8192, activation='relu'))\n",
    "vgg_model.add(layers.Dense(4096, activation='relu'))\n",
    "vgg_model.add(layers.Dense(2048, activation='relu'))\n",
    "vgg_model.add(layers.Dense(1024, activation='relu'))\n",
    "vgg_model.add(layers.Dense(512, activation='relu'))\n",
    "vgg_model.add(layers.Dense(128, activation='relu'))\n",
    "vgg_model.add(layers.Dense(4))"
   ]
  },
  {
   "cell_type": "code",
   "execution_count": 19,
   "id": "30cc39d0",
   "metadata": {},
   "outputs": [
    {
     "name": "stderr",
     "output_type": "stream",
     "text": [
      "100%|██████████████████████████████████████████████████████████████████████████| 10015/10015 [00:01<00:00, 6315.51it/s]\n"
     ]
    },
    {
     "data": {
      "text/plain": [
       "(10015, 25103)"
      ]
     },
     "execution_count": 19,
     "metadata": {},
     "output_type": "execute_result"
    }
   ],
   "source": [
    "new_VGG = []\n",
    "\n",
    "for i in tqdm(range(0, 10015)):\n",
    "    new_VGG.append(np.array(VGG_X[i]))\n",
    "\n",
    "new_VGG = np.array(new_VGG)\n",
    "\n",
    "new_VGG.shape"
   ]
  },
  {
   "cell_type": "code",
   "execution_count": null,
   "id": "d6ab76db",
   "metadata": {},
   "outputs": [],
   "source": []
  },
  {
   "cell_type": "code",
   "execution_count": 20,
   "id": "97c802b2",
   "metadata": {},
   "outputs": [
    {
     "data": {
      "text/plain": [
       "(10015, 4)"
      ]
     },
     "execution_count": 20,
     "metadata": {},
     "output_type": "execute_result"
    }
   ],
   "source": [
    "new_y = []\n",
    "for ele in y:\n",
    "    new_y.append(tf.one_hot(int(ele), 4))#np.array(tf.one_hot(ele, 4)))\n",
    "    \n",
    "new_y = np.array(new_y)\n",
    "\n",
    "new_y.shape"
   ]
  },
  {
   "cell_type": "code",
   "execution_count": 36,
   "id": "d70daa63",
   "metadata": {},
   "outputs": [
    {
     "data": {
      "text/plain": [
       "(10015, 4)"
      ]
     },
     "execution_count": 36,
     "metadata": {},
     "output_type": "execute_result"
    }
   ],
   "source": [
    "new_y.shape"
   ]
  },
  {
   "cell_type": "code",
   "execution_count": 37,
   "id": "f5801ad0",
   "metadata": {
    "scrolled": false
   },
   "outputs": [
    {
     "name": "stdout",
     "output_type": "stream",
     "text": [
      "Epoch 1/20\n",
      "282/282 [==============================] - 6s 20ms/step - loss: 0.1022 - accuracy: 0.9838 - val_loss: 2.1559 - val_accuracy: 0.8114\n",
      "Epoch 2/20\n",
      "282/282 [==============================] - 5s 19ms/step - loss: 0.1231 - accuracy: 0.9805 - val_loss: 1.9356 - val_accuracy: 0.8114\n",
      "Epoch 3/20\n",
      "282/282 [==============================] - 5s 18ms/step - loss: 0.2403 - accuracy: 0.9570 - val_loss: 1.3855 - val_accuracy: 0.7834\n",
      "Epoch 4/20\n",
      "282/282 [==============================] - 5s 18ms/step - loss: 0.2454 - accuracy: 0.9469 - val_loss: 1.2990 - val_accuracy: 0.8004\n",
      "Epoch 5/20\n",
      "282/282 [==============================] - 5s 18ms/step - loss: 0.2356 - accuracy: 0.9283 - val_loss: 1.1609 - val_accuracy: 0.8114\n",
      "Epoch 6/20\n",
      "282/282 [==============================] - 5s 18ms/step - loss: 0.0837 - accuracy: 0.9828 - val_loss: 1.2351 - val_accuracy: 0.8104\n",
      "Epoch 7/20\n",
      "282/282 [==============================] - 5s 18ms/step - loss: 0.0437 - accuracy: 0.9917 - val_loss: 1.4772 - val_accuracy: 0.8114\n",
      "Epoch 8/20\n",
      "282/282 [==============================] - 5s 17ms/step - loss: 0.0310 - accuracy: 0.9938 - val_loss: 3.2383 - val_accuracy: 0.8144\n",
      "Epoch 9/20\n",
      "282/282 [==============================] - 5s 18ms/step - loss: 0.0909 - accuracy: 0.9808 - val_loss: 0.7844 - val_accuracy: 0.7974\n",
      "Epoch 10/20\n",
      "282/282 [==============================] - 6s 20ms/step - loss: 0.0515 - accuracy: 0.9900 - val_loss: 1.4058 - val_accuracy: 0.7745\n",
      "Epoch 11/20\n",
      "282/282 [==============================] - 5s 18ms/step - loss: 0.0267 - accuracy: 0.9927 - val_loss: 3.4472 - val_accuracy: 0.8114\n",
      "Epoch 12/20\n",
      "282/282 [==============================] - 5s 18ms/step - loss: 0.0849 - accuracy: 0.9834 - val_loss: 1.0184 - val_accuracy: 0.7894\n",
      "Epoch 13/20\n",
      "282/282 [==============================] - 5s 18ms/step - loss: 0.0806 - accuracy: 0.9846 - val_loss: 2.8690 - val_accuracy: 0.8253\n",
      "Epoch 14/20\n",
      "282/282 [==============================] - 5s 18ms/step - loss: 0.0593 - accuracy: 0.9896 - val_loss: 3.2246 - val_accuracy: 0.8114\n",
      "Epoch 15/20\n",
      "282/282 [==============================] - 5s 18ms/step - loss: 0.1009 - accuracy: 0.9817 - val_loss: 1.5652 - val_accuracy: 0.8184\n",
      "Epoch 16/20\n",
      "282/282 [==============================] - 5s 18ms/step - loss: 0.1098 - accuracy: 0.9743 - val_loss: 1.5589 - val_accuracy: 0.7675\n",
      "Epoch 17/20\n",
      "282/282 [==============================] - 5s 18ms/step - loss: 0.1008 - accuracy: 0.9746 - val_loss: 1.4772 - val_accuracy: 0.8124\n",
      "Epoch 18/20\n",
      "282/282 [==============================] - 5s 18ms/step - loss: 0.0479 - accuracy: 0.9947 - val_loss: 1.4541 - val_accuracy: 0.8024\n",
      "Epoch 19/20\n",
      "282/282 [==============================] - 5s 18ms/step - loss: 0.0252 - accuracy: 0.9953 - val_loss: 2.0456 - val_accuracy: 0.8214\n",
      "Epoch 20/20\n",
      "282/282 [==============================] - 5s 19ms/step - loss: 0.0201 - accuracy: 0.9977 - val_loss: 1.9068 - val_accuracy: 0.8343\n"
     ]
    },
    {
     "data": {
      "text/plain": [
       "<keras.callbacks.History at 0x24fc2f55220>"
      ]
     },
     "execution_count": 37,
     "metadata": {},
     "output_type": "execute_result"
    }
   ],
   "source": [
    "vgg_model.compile(optimizer='Adam',\n",
    "              loss=tf.nn.softmax_cross_entropy_with_logits,\n",
    "              metrics=['accuracy'])\n",
    "vgg_model.fit(new_VGG, new_y, epochs=20, validation_split=0.1)"
   ]
  },
  {
   "cell_type": "code",
   "execution_count": 38,
   "id": "1274a1cf",
   "metadata": {},
   "outputs": [
    {
     "name": "stderr",
     "output_type": "stream",
     "text": [
      "100%|██████████████████████████████████████████████████████████████████████████| 10015/10015 [00:02<00:00, 3986.37it/s]\n"
     ]
    },
    {
     "data": {
      "text/plain": [
       "(10015, 100367)"
      ]
     },
     "execution_count": 38,
     "metadata": {},
     "output_type": "execute_result"
    }
   ],
   "source": [
    "new_RES = []\n",
    "\n",
    "for i in tqdm(range(0, 10015)):\n",
    "    new_RES.append(np.array(RES_X[i]))\n",
    "\n",
    "new_RES = np.array(new_RES)\n",
    "\n",
    "new_RES.shape"
   ]
  },
  {
   "cell_type": "code",
   "execution_count": 39,
   "id": "acf3646e",
   "metadata": {},
   "outputs": [],
   "source": [
    "res_model = models.Sequential()\n",
    "#res_model.add(layers.Dense(8192, activation='relu'))\n",
    "res_model.add(layers.Dense(4096, activation='relu'))\n",
    "#res_model.add(layers.Dense(2048, activation='relu'))\n",
    "res_model.add(layers.Dense(1024, activation='relu'))\n",
    "#res_model.add(layers.Dense(512, activation='relu'))\n",
    "res_model.add(layers.Dense(128, activation='relu'))\n",
    "res_model.add(layers.Dense(4))"
   ]
  },
  {
   "cell_type": "code",
   "execution_count": 40,
   "id": "768b87fe",
   "metadata": {},
   "outputs": [
    {
     "name": "stdout",
     "output_type": "stream",
     "text": [
      "Epoch 1/5\n",
      "282/282 [==============================] - 9s 32ms/step - loss: 3.3895 - accuracy: 0.6993 - val_loss: 0.6027 - val_accuracy: 0.7505\n",
      "Epoch 2/5\n",
      "282/282 [==============================] - 9s 31ms/step - loss: 0.4019 - accuracy: 0.8509 - val_loss: 0.6313 - val_accuracy: 0.7924\n",
      "Epoch 3/5\n",
      "282/282 [==============================] - 9s 31ms/step - loss: 0.2073 - accuracy: 0.9267 - val_loss: 0.8644 - val_accuracy: 0.7844\n",
      "Epoch 4/5\n",
      "282/282 [==============================] - 9s 31ms/step - loss: 0.1208 - accuracy: 0.9558 - val_loss: 0.8220 - val_accuracy: 0.8174\n",
      "Epoch 5/5\n",
      "282/282 [==============================] - 9s 32ms/step - loss: 0.1320 - accuracy: 0.9573 - val_loss: 0.8893 - val_accuracy: 0.7924\n"
     ]
    },
    {
     "data": {
      "text/plain": [
       "<keras.callbacks.History at 0x24a575ba730>"
      ]
     },
     "execution_count": 40,
     "metadata": {},
     "output_type": "execute_result"
    }
   ],
   "source": [
    "res_model.compile(optimizer='Adam',\n",
    "              loss=tf.nn.softmax_cross_entropy_with_logits,\n",
    "              metrics=['accuracy'])\n",
    "res_model.fit(new_RES, new_y, epochs=5, validation_split=0.1)"
   ]
  },
  {
   "cell_type": "code",
   "execution_count": 44,
   "id": "94a49d02",
   "metadata": {},
   "outputs": [
    {
     "name": "stderr",
     "output_type": "stream",
     "text": [
      "100%|██████████████████████████████████████████████████████████████████████████| 10015/10015 [00:02<00:00, 3720.49it/s]\n"
     ]
    },
    {
     "ename": "MemoryError",
     "evalue": "Unable to allocate 4.89 GiB for an array with shape (10015, 131087) and data type float32",
     "output_type": "error",
     "traceback": [
      "\u001b[1;31m---------------------------------------------------------------------------\u001b[0m",
      "\u001b[1;31mMemoryError\u001b[0m                               Traceback (most recent call last)",
      "\u001b[1;32m<ipython-input-44-92e564996090>\u001b[0m in \u001b[0;36m<module>\u001b[1;34m\u001b[0m\n\u001b[0;32m      4\u001b[0m     \u001b[0mnew_IV3\u001b[0m\u001b[1;33m.\u001b[0m\u001b[0mappend\u001b[0m\u001b[1;33m(\u001b[0m\u001b[0mnp\u001b[0m\u001b[1;33m.\u001b[0m\u001b[0marray\u001b[0m\u001b[1;33m(\u001b[0m\u001b[0mIV3_X\u001b[0m\u001b[1;33m[\u001b[0m\u001b[0mi\u001b[0m\u001b[1;33m]\u001b[0m\u001b[1;33m)\u001b[0m\u001b[1;33m)\u001b[0m\u001b[1;33m\u001b[0m\u001b[1;33m\u001b[0m\u001b[0m\n\u001b[0;32m      5\u001b[0m \u001b[1;33m\u001b[0m\u001b[0m\n\u001b[1;32m----> 6\u001b[1;33m \u001b[0mnew_IV3\u001b[0m \u001b[1;33m=\u001b[0m \u001b[0mnp\u001b[0m\u001b[1;33m.\u001b[0m\u001b[0marray\u001b[0m\u001b[1;33m(\u001b[0m\u001b[0mnew_IV3\u001b[0m\u001b[1;33m)\u001b[0m\u001b[1;33m\u001b[0m\u001b[1;33m\u001b[0m\u001b[0m\n\u001b[0m\u001b[0;32m      7\u001b[0m \u001b[1;33m\u001b[0m\u001b[0m\n\u001b[0;32m      8\u001b[0m \u001b[0mnew_IV3\u001b[0m\u001b[1;33m.\u001b[0m\u001b[0mshape\u001b[0m\u001b[1;33m\u001b[0m\u001b[1;33m\u001b[0m\u001b[0m\n",
      "\u001b[1;31mMemoryError\u001b[0m: Unable to allocate 4.89 GiB for an array with shape (10015, 131087) and data type float32"
     ]
    }
   ],
   "source": [
    "new_IV3 = []\n",
    "\n",
    "for i in tqdm(range(0, 10015)):\n",
    "    new_IV3.append(np.array(IV3_X[i]))\n",
    "\n",
    "new_IV3 = np.array(new_IV3)\n",
    "\n",
    "new_IV3.shape"
   ]
  },
  {
   "cell_type": "code",
   "execution_count": null,
   "id": "8308fc05",
   "metadata": {},
   "outputs": [],
   "source": []
  },
  {
   "cell_type": "code",
   "execution_count": 42,
   "id": "606eb590",
   "metadata": {},
   "outputs": [],
   "source": [
    "iv3_model = models.Sequential()\n",
    "#iv3_model.add(layers.Dense(8192, activation='relu'))\n",
    "iv3_model.add(layers.Dense(1024, activation='relu'))\n",
    "#iv3_model.add(layers.Dense(2048, activation='relu'))\n",
    "iv3_model.add(layers.Dense(256, activation='relu'))\n",
    "#iv3_model.add(layers.Dense(512, activation='relu'))\n",
    "#iv3_model.add(layers.Dense(128, activation='relu'))\n",
    "iv3_model.add(layers.Dense(4))"
   ]
  },
  {
   "cell_type": "code",
   "execution_count": 43,
   "id": "84b6f400",
   "metadata": {},
   "outputs": [
    {
     "ename": "ValueError",
     "evalue": "Data cardinality is ambiguous:\n  x sizes: 117978, 117978, 117978, 117978, 117978, 117978, 117978, 117978, 117978, 117978, 117978, 117978, 117978, 117978, 117978, 117978, 117978, 117978, 117978, 117978, 117978, 117978, 117978, 117978, 117978, 117978, 117978, 117978, 117978, 117978, 117978, 117978, 117978, 117978, 117978, 117978, 117978, 117978, 117978, 117978, 117978, 117978, 117978, 117978, 117978, 117978, 117978, 117978, 117978, 117978, 117978, 117978, 117978, 117978, 117978, 117978, 117978, 117978, 117978, 117978, 117978, 117978, 117978, 117978, 117978, 117978, 117978, 117978, 117978, 117978, 117978, 117978, 117978, 117978, 117978, 117978, 117978, 117978, 117978, 117978, 117978, 117978, 117978, 117978, 117978, 117978, 117978, 117978, 117978, 117978, 117978, 117978, 117978, 117978, 117978, 117978, 117978, 117978, 117978, 117978, 117978, 117978, 117978, 117978, 117978, 117978, 117978, 117978, 117978, 117978, 117978, 117978, 117978, 117978, 117978, 117978, 117978, 117978, 117978, 117978, 117978, 117978, 117978, 117978, 117978, 117978, 117978, 117978, 117978, 117978, 117978, 117978, 117978, 117978, 117978, 117978, 117978, 117978, 117978, 117978, 117978, 117978, 117978, 117978, 117978, 117978, 117978, 117978, 117978, 117978, 117978, 117978, 117978, 117978, 117978, 117978, 117978, 117978, 117978, 117978, 117978, 117978, 117978, 117978, 117978, 117978, 117978, 117978, 117978, 117978, 117978, 117978, 117978, 117978, 117978, 117978, 117978, 117978, 117978, 117978, 117978, 117978, 117978, 117978, 117978, 117978, 117978, 117978, 117978, 117978, 117978, 117978, 117978, 117978, 117978, 117978, 117978, 117978, 117978, 117978, 117978, 117978, 117978, 117978, 117978, 117978, 117978, 117978, 117978, 117978, 117978, 117978, 117978, 117978, 117978, 117978, 117978, 117978, 117978, 117978, 117978, 117978, 117978, 117978, 117978, 117978, 117978, 117978, 117978, 117978, 117978, 117978, 117978, 117978, 117978, 117978, 117978, 117978, 117978, 117978, 117978, 117978, 117978, 117978, 117978, 117978, 117978, 117978, 117978, 117978, 117978, 117978, 117978, 117978, 117978, 117978, 117978, 117978, 117978, 117978, 117978, 117978, 117978, 117978, 117978, 117978, 117978, 117978, 117978, 117978, 117978, 117978, 117978, 117978, 117978, 117978, 117978, 117978, 117978, 117978, 117978, 117978, 117978, 117978, 117978, 117978, 117978, 117978, 117978, 117978, 117978, 117978, 117978, 117978, 117978, 117978, 117978, 117978, 117978, 117978, 117978, 117978, 117978, 117978, 117978, 117978, 117978, 117978, 117978, 117978, 117978, 117978, 117978, 117978, 117978, 117978, 117978, 117978, 117978, 117978, 117978, 117978, 117978, 117978, 117978, 117978, 117978, 117978, 117978, 117978, 117978, 117978, 117978, 117978, 117978, 117978, 117978, 117978, 117978, 117978, 117978, 117978, 117978, 117978, 117978, 117978, 117978, 117978, 117978, 117978, 117978, 117978, 117978, 117978, 117978, 117978, 117978, 117978, 117978, 117978, 117978, 117978, 117978, 117978, 117978, 117978, 117978, 117978, 117978, 117978, 117978, 117978, 117978, 117978, 117978, 117978, 117978, 117978, 117978, 117978, 117978, 117978, 117978, 117978, 117978, 117978, 117978, 117978, 117978, 117978, 117978, 117978, 117978, 117978, 117978, 117978, 117978, 117978, 117978, 117978, 117978, 117978, 117978, 117978, 117978, 117978, 117978, 117978, 117978, 117978, 117978, 117978, 117978, 117978, 117978, 117978, 117978, 117978, 117978, 117978, 117978, 117978, 117978, 117978, 117978, 117978, 117978, 117978, 117978, 117978, 117978, 117978, 117978, 117978, 117978, 117978, 117978, 117978, 117978, 117978, 117978, 117978, 117978, 117978, 117978, 117978, 117978, 117978, 117978, 117978, 117978, 117978, 117978, 117978, 117978, 117978, 117978, 117978, 117978, 117978, 117978, 117978, 117978, 117978, 117978, 117978, 117978, 117978, 117978, 117978, 117978, 117978, 117978, 117978, 117978, 117978, 117978, 117978, 117978, 117978, 117978, 117978, 117978, 117978, 117978, 117978, 117978, 117978, 117978, 117978, 117978, 117978, 117978, 117978, 117978, 117978, 117978, 117978, 117978, 117978, 117978, 117978, 117978, 117978, 117978, 117978, 117978, 117978, 117978, 117978, 117978, 117978, 117978, 117978, 117978, 117978, 117978, 117978, 117978, 117978, 117978, 117978, 117978, 117978, 117978, 117978, 117978, 117978, 117978, 117978, 117978, 117978, 117978, 117978, 117978, 117978, 117978, 117978, 117978, 117978, 117978, 117978, 117978, 117978, 117978, 117978, 117978, 117978, 117978, 117978, 117978, 117978, 117978, 117978, 117978, 117978, 117978, 117978, 117978, 117978, 117978, 117978, 117978, 117978, 117978, 117978, 117978, 117978, 117978, 117978, 117978, 117978, 117978, 117978, 117978, 117978, 117978, 117978, 117978, 117978, 117978, 117978, 117978, 117978, 117978, 117978, 117978, 117978, 117978, 117978, 117978, 117978, 117978, 117978, 117978, 117978, 117978, 117978, 117978, 117978, 117978, 117978, 117978, 117978, 117978, 117978, 117978, 117978, 117978, 117978, 117978, 117978, 117978, 117978, 117978, 117978, 117978, 117978, 117978, 117978, 117978, 117978, 117978, 117978, 117978, 117978, 117978, 117978, 117978, 117978, 117978, 117978, 117978, 117978, 117978, 117978, 117978, 117978, 117978, 117978, 117978, 117978, 117978, 117978, 117978, 117978, 117978, 117978, 117978, 117978, 117978, 117978, 117978, 117978, 117978, 117978, 117978, 117978, 117978, 117978, 117978, 117978, 117978, 117978, 117978, 117978, 117978, 117978, 117978, 117978, 117978, 117978, 117978, 117978, 117978, 117978, 117978, 117978, 117978, 117978, 117978, 117978, 117978, 117978, 117978, 117978, 117978, 117978, 117978, 117978, 117978, 117978, 117978, 117978, 117978, 117978, 117978, 117978, 117978, 117978, 117978, 117978, 117978, 117978, 117978, 117978, 117978, 117978, 117978, 117978, 117978, 117978, 117978, 117978, 117978, 117978, 117978, 117978, 117978, 117978, 117978, 117978, 117978, 117978, 117978, 117978, 117978, 117978, 117978, 117978, 117978, 117978, 117978, 117978, 117978, 117978, 117978, 117978, 117978, 117978, 117978, 117978, 117978, 117978, 117978, 117978, 117978, 117978, 117978, 117978, 117978, 117978, 117978, 117978, 117978, 117978, 117978, 117978, 117978, 117978, 117978, 117978, 117978, 117978, 117978, 117978, 117978, 117978, 117978, 117978, 117978, 117978, 117978, 117978, 117978, 117978, 117978, 117978, 117978, 117978, 117978, 117978, 117978, 117978, 117978, 117978, 117978, 117978, 117978, 117978, 117978, 117978, 117978, 117978, 117978, 117978, 117978, 117978, 117978, 117978, 117978, 117978, 117978, 117978, 117978, 117978, 117978, 117978, 117978, 117978, 117978, 117978, 117978, 117978, 117978, 117978, 117978, 117978, 117978, 117978, 117978, 117978, 117978, 117978, 117978, 117978, 117978, 117978, 117978, 117978, 117978, 117978, 117978, 117978, 117978, 117978, 117978, 117978, 117978, 117978, 117978, 117978, 117978, 117978, 117978, 117978, 117978, 117978, 117978, 117978, 117978, 117978, 117978, 117978, 117978, 117978, 117978, 117978, 117978, 117978, 117978, 117978, 117978, 117978, 117978, 117978, 117978, 117978, 117978, 117978, 117978, 117978, 117978, 117978, 117978, 117978, 117978, 117978, 117978, 117978, 117978, 117978, 117978, 117978, 117978, 117978, 117978, 117978, 117978, 117978, 117978, 117978, 117978, 117978, 117978, 117978, 117978, 117978, 117978, 117978, 117978, 117978, 117978, 117978, 117978, 117978, 117978, 117978, 117978, 117978, 117978, 117978, 117978, 117978, 117978, 117978, 117978, 117978, 117978, 117978, 117978, 117978, 117978, 117978, 117978, 117978, 117978, 117978, 117978, 117978, 117978, 117978, 117978, 117978, 117978, 117978, 117978, 117978, 117978, 117978, 117978, 117978, 117978, 117978, 117978, 117978, 117978, 117978, 117978, 117978, 117978, 117978, 117978, 117978, 117978, 117978, 117978, 117978, 117978, 117978, 117978, 117978, 117978, 117978, 117978, 117978, 117978, 117978, 117978, 117978, 117978, 117978, 117978, 117978, 117978, 117978, 117978, 117978, 117978, 117978, 117978, 117978, 117978, 117978, 117978, 117978, 117978, 117978, 117978, 117978, 117978, 117978, 117978, 117978, 117978, 117978, 117978, 117978, 117978, 117978, 117978, 117978, 117978, 117978, 117978, 117978, 117978, 117978, 117978, 117978, 117978, 117978, 117978, 117978, 117978, 117978, 117978, 117978, 117978, 117978, 117978, 117978, 117978, 117978, 117978, 117978, 117978, 117978, 117978, 117978, 117978, 117978, 117978, 117978, 117978, 117978, 117978, 117978, 117978, 117978, 117978, 117978, 117978, 117978, 117978, 117978, 117978, 117978, 117978, 117978, 117978, 117978, 117978, 117978, 117978, 117978, 117978, 117978, 117978, 117978, 117978, 117978, 117978, 117978, 117978, 117978, 117978, 117978, 117978, 117978, 117978, 117978, 117978, 117978, 117978, 117978, 117978, 117978, 117978, 117978, 117978, 117978, 117978, 117978, 117978, 117978, 117978, 117978, 117978, 117978, 117978, 117978, 117978, 117978, 117978, 117978, 117978, 117978, 117978, 117978, 117978, 117978, 117978, 117978, 117978, 117978, 117978, 117978, 117978, 117978, 117978, 117978, 117978, 117978, 117978, 117978, 117978, 117978, 117978, 117978, 117978, 117978, 117978, 117978, 117978, 117978, 117978, 117978, 117978, 117978, 117978, 117978, 117978, 117978, 117978, 117978, 117978, 117978, 117978, 117978, 117978, 117978, 117978, 117978, 117978, 117978, 117978, 117978, 117978, 117978, 117978, 117978, 117978, 117978, 117978, 117978, 117978, 117978, 117978, 117978, 117978, 117978, 117978, 117978, 117978, 117978, 117978, 117978, 117978, 117978, 117978, 117978, 117978, 117978, 117978, 117978, 117978, 117978, 117978, 117978, 117978, 117978, 117978, 117978, 117978, 117978, 117978, 117978, 117978, 117978, 117978, 117978, 117978, 117978, 117978, 117978, 117978, 117978, 117978, 117978, 117978, 117978, 117978, 117978, 117978, 117978, 117978, 117978, 117978, 117978, 117978, 117978, 117978, 117978, 117978, 117978, 117978, 117978, 117978, 117978, 117978, 117978, 117978, 117978, 117978, 117978, 117978, 117978, 117978, 117978, 117978, 117978, 117978, 117978, 117978, 117978, 117978, 117978, 117978, 117978, 117978, 117978, 117978, 117978, 117978, 117978, 117978, 117978, 117978, 117978, 117978, 117978, 117978, 117978, 117978, 117978, 117978, 117978, 117978, 117978, 117978, 117978, 117978, 117978, 117978, 117978, 117978, 117978, 117978, 117978, 117978, 117978, 117978, 117978, 117978, 117978, 117978, 117978, 117978, 117978, 117978, 117978, 117978, 117978, 117978, 117978, 117978, 117978, 117978, 117978, 117978, 117978, 117978, 117978, 117978, 117978, 117978, 117978, 117978, 117978, 117978, 117978, 117978, 117978, 117978, 117978, 117978, 117978, 117978, 117978, 117978, 117978, 117978, 117978, 117978, 117978, 117978, 117978, 117978, 117978, 117978, 117978, 117978, 117978, 117978, 117978, 117978, 117978, 117978, 117978, 117978, 117978, 117978, 117978, 117978, 117978, 117978, 117978, 117978, 117978, 117978, 117978, 117978, 117978, 117978, 117978, 117978, 117978, 117978, 117978, 117978, 117978, 117978, 117978, 117978, 117978, 117978, 117978, 117978, 117978, 117978, 117978, 117978, 117978, 117978, 117978, 117978, 117978, 117978, 117978, 117978, 117978, 117978, 117978, 117978, 117978, 117978, 117978, 117978, 117978, 117978, 117978, 117978, 117978, 117978, 117978, 117978, 117978, 117978, 117978, 117978, 117978, 117978, 117978, 117978, 117978, 117978, 117978, 117978, 117978, 117978, 117978, 117978, 117978, 117978, 117978, 117978, 117978, 117978, 117978, 117978, 117978, 117978, 117978, 117978, 117978, 117978, 117978, 117978, 117978, 117978, 117978, 117978, 117978, 117978, 117978, 117978, 117978, 117978, 117978, 117978, 117978, 117978, 117978, 117978, 117978, 117978, 117978, 117978, 117978, 117978, 117978, 117978, 117978, 117978, 117978, 117978, 117978, 117978, 117978, 117978, 117978, 117978, 117978, 117978, 117978, 117978, 117978, 117978, 117978, 117978, 117978, 117978, 117978, 117978, 117978, 117978, 117978, 117978, 117978, 117978, 117978, 117978, 117978, 117978, 117978, 117978, 117978, 117978, 117978, 117978, 117978, 117978, 117978, 117978, 117978, 117978, 117978, 117978, 117978, 117978, 117978, 117978, 117978, 117978, 117978, 117978, 117978, 117978, 117978, 117978, 117978, 117978, 117978, 117978, 117978, 117978, 117978, 117978, 117978, 117978, 117978, 117978, 117978, 117978, 117978, 117978, 117978, 117978, 117978, 117978, 117978, 117978, 117978, 117978, 117978, 117978, 117978, 117978, 117978, 117978, 117978, 117978, 117978, 117978, 117978, 117978, 117978, 117978, 117978, 117978, 117978, 117978, 117978, 117978, 117978, 117978, 117978, 117978, 117978, 117978, 117978, 117978, 117978, 117978, 117978, 117978, 117978, 117978, 117978, 117978, 117978, 117978, 117978, 117978, 117978, 117978, 117978, 117978, 117978, 117978, 117978, 117978, 117978, 117978, 117978, 117978, 117978, 117978, 117978, 117978, 117978, 117978, 117978, 117978, 117978, 117978, 117978, 117978, 117978, 117978, 117978, 117978, 117978, 117978, 117978, 117978, 117978, 117978, 117978, 117978, 117978, 117978, 117978, 117978, 117978, 117978, 117978, 117978, 117978, 117978, 117978, 117978, 117978, 117978, 117978, 117978, 117978, 117978, 117978, 117978, 117978, 117978, 117978, 117978, 117978, 117978, 117978, 117978, 117978, 117978, 117978, 117978, 117978, 117978, 117978, 117978, 117978, 117978, 117978, 117978, 117978, 117978, 117978, 117978, 117978, 117978, 117978, 117978, 117978, 117978, 117978, 117978, 117978, 117978, 117978, 117978, 117978, 117978, 117978, 117978, 117978, 117978, 117978, 117978, 117978, 117978, 117978, 117978, 117978, 117978, 117978, 117978, 117978, 117978, 117978, 117978, 117978, 117978, 117978, 117978, 117978, 117978, 117978, 117978, 117978, 117978, 117978, 117978, 117978, 117978, 117978, 117978, 117978, 117978, 117978, 117978, 117978, 117978, 117978, 117978, 117978, 117978, 117978, 117978, 117978, 117978, 117978, 117978, 117978, 117978, 117978, 117978, 117978, 117978, 117978, 117978, 117978, 117978, 117978, 117978, 117978, 117978, 117978, 117978, 117978, 117978, 117978, 117978, 117978, 117978, 117978, 117978, 117978, 117978, 117978, 117978, 117978, 117978, 117978, 117978, 117978, 117978, 117978, 117978, 117978, 117978, 117978, 117978, 117978, 117978, 117978, 117978, 117978, 117978, 117978, 117978, 117978, 117978, 117978, 117978, 117978, 117978, 117978, 117978, 117978, 117978, 117978, 117978, 117978, 117978, 117978, 117978, 117978, 117978, 117978, 117978, 117978, 117978, 117978, 117978, 117978, 117978, 117978, 117978, 117978, 117978, 117978, 117978, 117978, 117978, 117978, 117978, 117978, 117978, 117978, 117978, 117978, 117978, 117978, 117978, 117978, 117978, 117978, 117978, 117978, 117978, 117978, 117978, 117978, 117978, 117978, 117978, 117978, 117978, 117978, 117978, 117978, 117978, 117978, 117978, 117978, 117978, 117978, 117978, 117978, 117978, 117978, 117978, 117978, 117978, 117978, 117978, 117978, 117978, 117978, 117978, 117978, 117978, 117978, 117978, 117978, 117978, 117978, 117978, 117978, 117978, 117978, 117978, 117978, 117978, 117978, 117978, 117978, 117978, 117978, 117978, 117978, 117978, 117978, 117978, 117978, 117978, 117978, 117978, 117978, 117978, 117978, 117978, 117978, 117978, 117978, 117978, 117978, 117978, 117978, 117978, 117978, 117978, 117978, 117978, 117978, 117978, 117978, 117978, 117978, 117978, 117978, 117978, 117978, 117978, 117978, 117978, 117978, 117978, 117978, 117978, 117978, 117978, 117978, 117978, 117978, 117978, 117978, 117978, 117978, 117978, 117978, 117978, 117978, 117978, 117978, 117978, 117978, 117978, 117978, 117978, 117978, 117978, 117978, 117978, 117978, 117978, 117978, 117978, 117978, 117978, 117978, 117978, 117978, 117978, 117978, 117978, 117978, 117978, 117978, 117978, 117978, 117978, 117978, 117978, 117978, 117978, 117978, 117978, 117978, 117978, 117978, 117978, 117978, 117978, 117978, 117978, 117978, 117978, 117978, 117978, 117978, 117978, 117978, 117978, 117978, 117978, 117978, 117978, 117978, 117978, 117978, 117978, 117978, 117978, 117978, 117978, 117978, 117978, 117978, 117978, 117978, 117978, 117978, 117978, 117978, 117978, 117978, 117978, 117978, 117978, 117978, 117978, 117978, 117978, 117978, 117978, 117978, 117978, 117978, 117978, 117978, 117978, 117978, 117978, 117978, 117978, 117978, 117978, 117978, 117978, 117978, 117978, 117978, 117978, 117978, 117978, 117978, 117978, 117978, 117978, 117978, 117978, 117978, 117978, 117978, 117978, 117978, 117978, 117978, 117978, 117978, 117978, 117978, 117978, 117978, 117978, 117978, 117978, 117978, 117978, 117978, 117978, 117978, 117978, 117978, 117978, 117978, 117978, 117978, 117978, 117978, 117978, 117978, 117978, 117978, 117978, 117978, 117978, 117978, 117978, 117978, 117978, 117978, 117978, 117978, 117978, 117978, 117978, 117978, 117978, 117978, 117978, 117978, 117978, 117978, 117978, 117978, 117978, 117978, 117978, 117978, 117978, 117978, 117978, 117978, 117978, 117978, 117978, 117978, 117978, 117978, 117978, 117978, 117978, 117978, 117978, 117978, 117978, 117978, 117978, 117978, 117978, 117978, 117978, 117978, 117978, 117978, 117978, 117978, 117978, 117978, 117978, 117978, 117978, 117978, 117978, 117978, 117978, 117978, 117978, 117978, 117978, 117978, 117978, 117978, 117978, 117978, 117978, 117978, 117978, 117978, 117978, 117978, 117978, 117978, 117978, 117978, 117978, 117978, 117978, 117978, 117978, 117978, 117978, 117978, 117978, 117978, 117978, 117978, 117978, 117978, 117978, 117978, 117978, 117978, 117978, 117978, 117978, 117978, 117978, 117978, 117978, 117978, 117978, 117978, 117978, 117978, 117978, 117978, 117978, 117978, 117978, 117978, 117978, 117978, 117978, 117978, 117978, 117978, 117978, 117978, 117978, 117978, 117978, 117978, 117978, 117978, 117978, 117978, 117978, 117978, 117978, 117978, 117978, 117978, 117978, 117978, 117978, 117978, 117978, 117978, 117978, 117978, 117978, 117978, 117978, 117978, 117978, 117978, 117978, 117978, 117978, 117978, 117978, 117978, 117978, 117978, 117978, 117978, 117978, 117978, 117978, 117978, 117978, 117978, 117978, 117978, 117978, 117978, 117978, 117978, 117978, 117978, 117978, 117978, 117978, 117978, 117978, 117978, 117978, 117978, 117978, 117978, 117978, 117978, 117978, 117978, 117978, 117978, 117978, 117978, 117978, 117978, 117978, 117978, 117978, 117978, 117978, 117978, 117978, 117978, 117978, 117978, 117978, 117978, 117978, 117978, 117978, 117978, 117978, 117978, 117978, 117978, 117978, 117978, 117978, 117978, 117978, 117978, 117978, 117978, 117978, 117978, 117978, 117978, 117978, 117978, 117978, 117978, 117978, 117978, 117978, 117978, 117978, 117978, 117978, 117978, 117978, 117978, 117978, 117978, 117978, 117978, 117978, 117978, 117978, 117978, 117978, 117978, 117978, 117978, 117978, 117978, 117978, 117978, 117978, 117978, 117978, 117978, 117978, 117978, 117978, 117978, 117978, 117978, 117978, 117978, 117978, 117978, 117978, 117978, 117978, 117978, 117978, 117978, 117978, 117978, 117978, 117978, 117978, 117978, 117978, 117978, 117978, 117978, 117978, 117978, 117978, 117978, 117978, 117978, 117978, 117978, 117978, 117978, 117978, 117978, 117978, 117978, 117978, 117978, 117978, 117978, 117978, 117978, 117978, 117978, 117978, 117978, 117978, 117978, 117978, 117978, 117978, 117978, 117978, 117978, 117978, 117978, 117978, 117978, 117978, 117978, 117978, 117978, 117978, 117978, 117978, 117978, 117978, 117978, 117978, 117978, 117978, 117978, 117978, 117978, 117978, 117978, 117978, 117978, 117978, 117978, 117978, 117978, 117978, 117978, 117978, 117978, 117978, 117978, 117978, 117978, 117978, 117978, 117978, 117978, 117978, 117978, 117978, 117978, 117978, 117978, 117978, 117978, 117978, 117978, 117978, 117978, 117978, 117978, 117978, 117978, 117978, 117978, 117978, 117978, 117978, 117978, 117978, 117978, 117978, 117978, 117978, 117978, 117978, 117978, 117978, 117978, 117978, 117978, 117978, 117978, 117978, 117978, 117978, 117978, 117978, 117978, 117978, 117978, 117978, 117978, 117978, 117978, 117978, 117978, 117978, 117978, 117978, 117978, 117978, 117978, 117978, 117978, 117978, 117978, 117978, 117978, 117978, 117978, 117978, 117978, 117978, 117978, 117978, 117978, 117978, 117978, 117978, 117978, 117978, 117978, 117978, 117978, 117978, 117978, 117978, 117978, 117978, 117978, 117978, 117978, 117978, 117978, 117978, 117978, 117978, 117978, 117978, 117978, 117978, 117978, 117978, 117978, 117978, 117978, 117978, 117978, 117978, 117978, 117978, 117978, 117978, 117978, 117978, 117978, 117978, 117978, 117978, 117978, 117978, 117978, 117978, 117978, 117978, 117978, 117978, 117978, 117978, 117978, 117978, 117978, 117978, 117978, 117978, 117978, 117978, 117978, 117978, 117978, 117978, 117978, 117978, 117978, 117978, 117978, 117978, 117978, 117978, 117978, 117978, 117978, 117978, 117978, 117978, 117978, 117978, 117978, 117978, 117978, 117978, 117978, 117978, 117978, 117978, 117978, 117978, 117978, 117978, 117978, 117978, 117978, 117978, 117978, 117978, 117978, 117978, 117978, 117978, 117978, 117978, 117978, 117978, 117978, 117978, 117978, 117978, 117978, 117978, 117978, 117978, 117978, 117978, 117978, 117978, 117978, 117978, 117978, 117978, 117978, 117978, 117978, 117978, 117978, 117978, 117978, 117978, 117978, 117978, 117978, 117978, 117978, 117978, 117978, 117978, 117978, 117978, 117978, 117978, 117978, 117978, 117978, 117978, 117978, 117978, 117978, 117978, 117978, 117978, 117978, 117978, 117978, 117978, 117978, 117978, 117978, 117978, 117978, 117978, 117978, 117978, 117978, 117978, 117978, 117978, 117978, 117978, 117978, 117978, 117978, 117978, 117978, 117978, 117978, 117978, 117978, 117978, 117978, 117978, 117978, 117978, 117978, 117978, 117978, 117978, 117978, 117978, 117978, 117978, 117978, 117978, 117978, 117978, 117978, 117978, 117978, 117978, 117978, 117978, 117978, 117978, 117978, 117978, 117978, 117978, 117978, 117978, 117978, 117978, 117978, 117978, 117978, 117978, 117978, 117978, 117978, 117978, 117978, 117978, 117978, 117978, 117978, 117978, 117978, 117978, 117978, 117978, 117978, 117978, 117978, 117978, 117978, 117978, 117978, 117978, 117978, 117978, 117978, 117978, 117978, 117978, 117978, 117978, 117978, 117978, 117978, 117978, 117978, 117978, 117978, 117978, 117978, 117978, 117978, 117978, 117978, 117978, 117978, 117978, 117978, 117978, 117978, 117978, 117978, 117978, 117978, 117978, 117978, 117978, 117978, 117978, 117978, 117978, 117978, 117978, 117978, 117978, 117978, 117978, 117978, 117978, 117978, 117978, 117978, 117978, 117978, 117978, 117978, 117978, 117978, 117978, 117978, 117978, 117978, 117978, 117978, 117978, 117978, 117978, 117978, 117978, 117978, 117978, 117978, 117978, 117978, 117978, 117978, 117978, 117978, 117978, 117978, 117978, 117978, 117978, 117978, 117978, 117978, 117978, 117978, 117978, 117978, 117978, 117978, 117978, 117978, 117978, 117978, 117978, 117978, 117978, 117978, 117978, 117978, 117978, 117978, 117978, 117978, 117978, 117978, 117978, 117978, 117978, 117978, 117978, 117978, 117978, 117978, 117978, 117978, 117978, 117978, 117978, 117978, 117978, 117978, 117978, 117978, 117978, 117978, 117978, 117978, 117978, 117978, 117978, 117978, 117978, 117978, 117978, 117978, 117978, 117978, 117978, 117978, 117978, 117978, 117978, 117978, 117978, 117978, 117978, 117978, 117978, 117978, 117978, 117978, 117978, 117978, 117978, 117978, 117978, 117978, 117978, 117978, 117978, 117978, 117978, 117978, 117978, 117978, 117978, 117978, 117978, 117978, 117978, 117978, 117978, 117978, 117978, 117978, 117978, 117978, 117978, 117978, 117978, 117978, 117978, 117978, 117978, 117978, 117978, 117978, 117978, 117978, 117978, 117978, 117978, 117978, 117978, 117978, 117978, 117978, 117978, 117978, 117978, 117978, 117978, 117978, 117978, 117978, 117978, 117978, 117978, 117978, 117978, 117978, 117978, 117978, 117978, 117978, 117978, 117978, 117978, 117978, 117978, 117978, 117978, 117978, 117978, 117978, 117978, 117978, 117978, 117978, 117978, 117978, 117978, 117978, 117978, 117978, 117978, 117978, 117978, 117978, 117978, 117978, 117978, 117978, 117978, 117978, 117978, 117978, 117978, 117978, 117978, 117978, 117978, 117978, 117978, 117978, 117978, 117978, 117978, 117978, 117978, 117978, 117978, 117978, 117978, 117978, 117978, 117978, 117978, 117978, 117978, 117978, 117978, 117978, 117978, 117978, 117978, 117978, 117978, 117978, 117978, 117978, 117978, 117978, 117978, 117978, 117978, 117978, 117978, 117978, 117978, 117978, 117978, 117978, 117978, 117978, 117978, 117978, 117978, 117978, 117978, 117978, 117978, 117978, 117978, 117978, 117978, 117978, 117978, 117978, 117978, 117978, 117978, 117978, 117978, 117978, 117978, 117978, 117978, 117978, 117978, 117978, 117978, 117978, 117978, 117978, 117978, 117978, 117978, 117978, 117978, 117978, 117978, 117978, 117978, 117978, 117978, 117978, 117978, 117978, 117978, 117978, 117978, 117978, 117978, 117978, 117978, 117978, 117978, 117978, 117978, 117978, 117978, 117978, 117978, 117978, 117978, 117978, 117978, 117978, 117978, 117978, 117978, 117978, 117978, 117978, 117978, 117978, 117978, 117978, 117978, 117978, 117978, 117978, 117978, 117978, 117978, 117978, 117978, 117978, 117978, 117978, 117978, 117978, 117978, 117978, 117978, 117978, 117978, 117978, 117978, 117978, 117978, 117978, 117978, 117978, 117978, 117978, 117978, 117978, 117978, 117978, 117978, 117978, 117978, 117978, 117978, 117978, 117978, 117978, 117978, 117978, 117978, 117978, 117978, 117978, 117978, 117978, 117978, 117978, 117978, 117978, 117978, 117978, 117978, 117978, 117978, 117978, 117978, 117978, 117978, 117978, 117978, 117978, 117978, 117978, 117978, 117978, 117978, 117978, 117978, 117978, 117978, 117978, 117978, 117978, 117978, 117978, 117978, 117978, 117978, 117978, 117978, 117978, 117978, 117978, 117978, 117978, 117978, 117978, 117978, 117978, 117978, 117978, 117978, 117978, 117978, 117978, 117978, 117978, 117978, 117978, 117978, 117978, 117978, 117978, 117978, 117978, 117978, 117978, 117978, 117978, 117978, 117978, 117978, 117978, 117978, 117978, 117978, 117978, 117978, 117978, 117978, 117978, 117978, 117978, 117978, 117978, 117978, 117978, 117978, 117978, 117978, 117978, 117978, 117978, 117978, 117978, 117978, 117978, 117978, 117978, 117978, 117978, 117978, 117978, 117978, 117978, 117978, 117978, 117978, 117978, 117978, 117978, 117978, 117978, 117978, 117978, 117978, 117978, 117978, 117978, 117978, 117978, 117978, 117978, 117978, 117978, 117978, 117978, 117978, 117978, 117978, 117978, 117978, 117978, 117978, 117978, 117978, 117978, 117978, 117978, 117978, 117978, 117978, 117978, 117978, 117978, 117978, 117978, 117978, 117978, 117978, 117978, 117978, 117978, 117978, 117978, 117978, 117978, 117978, 117978, 117978, 117978, 117978, 117978, 117978, 117978, 117978, 117978, 117978, 117978, 117978, 117978, 117978, 117978, 117978, 117978, 117978, 117978, 117978, 117978, 117978, 117978, 117978, 117978, 117978, 117978, 117978, 117978, 117978, 117978, 117978, 117978, 117978, 117978, 117978, 117978, 117978, 117978, 117978, 117978, 117978, 117978, 117978, 117978, 117978, 117978, 117978, 117978, 117978, 117978, 117978, 117978, 117978, 117978, 117978, 117978, 117978, 117978, 117978, 117978, 117978, 117978, 117978, 117978, 117978, 117978, 117978, 117978, 117978, 117978, 117978, 117978, 117978, 117978, 117978, 117978, 117978, 117978, 117978, 117978, 117978, 117978, 117978, 117978, 117978, 117978, 117978, 117978, 117978, 117978, 117978, 117978, 117978, 117978, 117978, 117978, 117978, 117978, 117978, 117978, 117978, 117978, 117978, 117978, 117978, 117978, 117978, 117978, 117978, 117978, 117978, 117978, 117978, 117978, 117978, 117978, 117978, 117978, 117978, 117978, 117978, 117978, 117978, 117978, 117978, 117978, 117978, 117978, 117978, 117978, 117978, 117978, 117978, 117978, 117978, 117978, 117978, 117978, 117978, 117978, 117978, 117978, 117978, 117978, 117978, 117978, 117978, 117978, 117978, 117978, 117978, 117978, 117978, 117978, 117978, 117978, 117978, 117978, 117978, 117978, 117978, 117978, 117978, 117978, 117978, 117978, 117978, 117978, 117978, 117978, 117978, 117978, 117978, 117978, 117978, 117978, 117978, 117978, 117978, 117978, 117978, 117978, 117978, 117978, 117978, 117978, 117978, 117978, 117978, 117978, 117978, 117978, 117978, 117978, 117978, 117978, 117978, 117978, 117978, 117978, 117978, 117978, 117978, 117978, 117978, 117978, 117978, 117978, 117978, 117978, 117978, 117978, 117978, 117978, 117978, 117978, 117978, 117978, 117978, 117978, 117978, 117978, 117978, 117978, 117978, 117978, 117978, 117978, 117978, 117978, 117978, 117978, 117978, 117978, 117978, 117978, 117978, 117978, 117978, 117978, 117978, 117978, 117978, 117978, 117978, 117978, 117978, 117978, 117978, 117978, 117978, 117978, 117978, 117978, 117978, 117978, 117978, 117978, 117978, 117978, 117978, 117978, 117978, 117978, 117978, 117978, 117978, 117978, 117978, 117978, 117978, 117978, 117978, 117978, 117978, 117978, 117978, 117978, 117978, 117978, 117978, 117978, 117978, 117978, 117978, 117978, 117978, 117978, 117978, 117978, 117978, 117978, 117978, 117978, 117978, 117978, 117978, 117978, 117978, 117978, 117978, 117978, 117978, 117978, 117978, 117978, 117978, 117978, 117978, 117978, 117978, 117978, 117978, 117978, 117978, 117978, 117978, 117978, 117978, 117978, 117978, 117978, 117978, 117978, 117978, 117978, 117978, 117978, 117978, 117978, 117978, 117978, 117978, 117978, 117978, 117978, 117978, 117978, 117978, 117978, 117978, 117978, 117978, 117978, 117978, 117978, 117978, 117978, 117978, 117978, 117978, 117978, 117978, 117978, 117978, 117978, 117978, 117978, 117978, 117978, 117978, 117978, 117978, 117978, 117978, 117978, 117978, 117978, 117978, 117978, 117978, 117978, 117978, 117978, 117978, 117978, 117978, 117978, 117978, 117978, 117978, 117978, 117978, 117978, 117978, 117978, 117978, 117978, 117978, 117978, 117978, 117978, 117978, 117978, 117978, 117978, 117978, 117978, 117978, 117978, 117978, 117978, 117978, 117978, 117978, 117978, 117978, 117978, 117978, 117978, 117978, 117978, 117978, 117978, 117978, 117978, 117978, 117978, 117978, 117978, 117978, 117978, 117978, 117978, 117978, 117978, 117978, 117978, 117978, 117978, 117978, 117978, 117978, 117978, 117978, 117978, 117978, 117978, 117978, 117978, 117978, 117978, 117978, 117978, 117978, 117978, 117978, 117978, 117978, 117978, 117978, 117978, 117978, 117978, 117978, 117978, 117978, 117978, 117978, 117978, 117978, 117978, 117978, 117978, 117978, 117978, 117978, 117978, 117978, 117978, 117978, 117978, 117978, 117978, 117978, 117978, 117978, 117978, 117978, 117978, 117978, 117978, 117978, 117978, 117978, 117978, 117978, 117978, 117978, 117978, 117978, 117978, 117978, 117978, 117978, 117978, 117978, 117978, 117978, 117978, 117978, 117978, 117978, 117978, 117978, 117978, 117978, 117978, 117978, 117978, 117978, 117978, 117978, 117978, 117978, 117978, 117978, 117978, 117978, 117978, 117978, 117978, 117978, 117978, 117978, 117978, 117978, 117978, 117978, 117978, 117978, 117978, 117978, 117978, 117978, 117978, 117978, 117978, 117978, 117978, 117978, 117978, 117978, 117978, 117978, 117978, 117978, 117978, 117978, 117978, 117978, 117978, 117978, 117978, 117978, 117978, 117978, 117978, 117978, 117978, 117978, 117978, 117978, 117978, 117978, 117978, 117978, 117978, 117978, 117978, 117978, 117978, 117978, 117978, 117978, 117978, 117978, 117978, 117978, 117978, 117978, 117978, 117978, 117978, 117978, 117978, 117978, 117978, 117978, 117978, 117978, 117978, 117978, 117978, 117978, 117978, 117978, 117978, 117978, 117978, 117978, 117978, 117978, 117978, 117978, 117978, 117978, 117978, 117978, 117978, 117978, 117978, 117978, 117978, 117978, 117978, 117978, 117978, 117978, 117978, 117978, 117978, 117978, 117978, 117978, 117978, 117978, 117978, 117978, 117978, 117978, 117978, 117978, 117978, 117978, 117978, 117978, 117978, 117978, 117978, 117978, 117978, 117978, 117978, 117978, 117978, 117978, 117978, 117978, 117978, 117978, 117978, 117978, 117978, 117978, 117978, 117978, 117978, 117978, 117978, 117978, 117978, 117978, 117978, 117978, 117978, 117978, 117978, 117978, 117978, 117978, 117978, 117978, 117978, 117978, 117978, 117978, 117978, 117978, 117978, 117978, 117978, 117978, 117978, 117978, 117978, 117978, 117978, 117978, 117978, 117978, 117978, 117978, 117978, 117978, 117978, 117978, 117978, 117978, 117978, 117978, 117978, 117978, 117978, 117978, 117978, 117978, 117978, 117978, 117978, 117978, 117978, 117978, 117978, 117978, 117978, 117978, 117978, 117978, 117978, 117978, 117978, 117978, 117978, 117978, 117978, 117978, 117978, 117978, 117978, 117978, 117978, 117978, 117978, 117978, 117978, 117978, 117978, 117978, 117978, 117978, 117978, 117978, 117978, 117978, 117978, 117978, 117978, 117978, 117978, 117978, 117978, 117978, 117978, 117978, 117978, 117978, 117978, 117978, 117978, 117978, 117978, 117978, 117978, 117978, 117978, 117978, 117978, 117978, 117978, 117978, 117978, 117978, 117978, 117978, 117978, 117978, 117978, 117978, 117978, 117978, 117978, 117978, 117978, 117978, 117978, 117978, 117978, 117978, 117978, 117978, 117978, 117978, 117978, 117978, 117978, 117978, 117978, 117978, 117978, 117978, 117978, 117978, 117978, 117978, 117978, 117978, 117978, 117978, 117978, 117978, 117978, 117978, 117978, 117978, 117978, 117978, 117978, 117978, 117978, 117978, 117978, 117978, 117978, 117978, 117978, 117978, 117978, 117978, 117978, 117978, 117978, 117978, 117978, 117978, 117978, 117978, 117978, 117978, 117978, 117978, 117978, 117978, 117978, 117978, 117978, 117978, 117978, 117978, 117978, 117978, 117978, 117978, 117978, 117978, 117978, 117978, 117978, 117978, 117978, 117978, 117978, 117978, 117978, 117978, 117978, 117978, 117978, 117978, 117978, 117978, 117978, 117978, 117978, 117978, 117978, 117978, 117978, 117978, 117978, 117978, 117978, 117978, 117978, 117978, 117978, 117978, 117978, 117978, 117978, 117978, 117978, 117978, 117978, 117978, 117978, 117978, 117978, 117978, 117978, 117978, 117978, 117978, 117978, 117978, 117978, 117978, 117978, 117978, 117978, 117978, 117978, 117978, 117978, 117978, 117978, 117978, 117978, 117978, 117978, 117978, 117978, 117978, 117978, 117978, 117978, 117978, 117978, 117978, 117978, 117978, 117978, 117978, 117978, 117978, 117978, 117978, 117978, 117978, 117978, 117978, 117978, 117978, 117978, 117978, 117978, 117978, 117978, 117978, 117978, 117978, 117978, 117978, 117978, 117978, 117978, 117978, 117978, 117978, 117978, 117978, 117978, 117978, 117978, 117978, 117978, 117978, 117978, 117978, 117978, 117978, 117978, 117978, 117978, 117978, 117978, 117978, 117978, 117978, 117978, 117978, 117978, 117978, 117978, 117978, 117978, 117978, 117978, 117978, 117978, 117978, 117978, 117978, 117978, 117978, 117978, 117978, 117978, 117978, 117978, 117978, 117978, 117978, 117978, 117978, 117978, 117978, 117978, 117978, 117978, 117978, 117978, 117978, 117978, 117978, 117978, 117978, 117978, 117978, 117978, 117978, 117978, 117978, 117978, 117978, 117978, 117978, 117978, 117978, 117978, 117978, 117978, 117978, 117978, 117978, 117978, 117978, 117978, 117978, 117978, 117978, 117978, 117978, 117978, 117978, 117978, 117978, 117978, 117978, 117978, 117978, 117978, 117978, 117978, 117978, 117978, 117978, 117978, 117978, 117978, 117978, 117978, 117978, 117978, 117978, 117978, 117978, 117978, 117978, 117978, 117978, 117978, 117978, 117978, 117978, 117978, 117978, 117978, 117978, 117978, 117978, 117978, 117978, 117978, 117978, 117978, 117978, 117978, 117978, 117978, 117978, 117978, 117978, 117978, 117978, 117978, 117978, 117978, 117978, 117978, 117978, 117978, 117978, 117978, 117978, 117978, 117978, 117978, 117978, 117978, 117978, 117978, 117978, 117978, 117978, 117978, 117978, 117978, 117978, 117978, 117978, 117978, 117978, 117978, 117978, 117978, 117978, 117978, 117978, 117978, 117978, 117978, 117978, 117978, 117978, 117978, 117978, 117978, 117978, 117978, 117978, 117978, 117978, 117978, 117978, 117978, 117978, 117978, 117978, 117978, 117978, 117978, 117978, 117978, 117978, 117978, 117978, 117978, 117978, 117978, 117978, 117978, 117978, 117978, 117978, 117978, 117978, 117978, 117978, 117978, 117978, 117978, 117978, 117978, 117978, 117978, 117978, 117978, 117978, 117978, 117978, 117978, 117978, 117978, 117978, 117978, 117978, 117978, 117978, 117978, 117978, 117978, 117978, 117978, 117978, 117978, 117978, 117978, 117978, 117978, 117978, 117978, 117978, 117978, 117978, 117978, 117978, 117978, 117978, 117978, 117978, 117978, 117978, 117978, 117978, 117978, 117978, 117978, 117978, 117978, 117978, 117978, 117978, 117978, 117978, 117978, 117978, 117978, 117978, 117978, 117978, 117978, 117978, 117978, 117978, 117978, 117978, 117978, 117978, 117978, 117978, 117978, 117978, 117978, 117978, 117978, 117978, 117978, 117978, 117978, 117978, 117978, 117978, 117978, 117978, 117978, 117978, 117978, 117978, 117978, 117978, 117978, 117978, 117978, 117978, 117978, 117978, 117978, 117978, 117978, 117978, 117978, 117978, 117978, 117978, 117978, 117978, 117978, 117978, 117978, 117978, 117978, 117978, 117978, 117978, 117978, 117978, 117978, 117978, 117978, 117978, 117978, 117978, 117978, 117978, 117978, 117978, 117978, 117978, 117978, 117978, 117978, 117978, 117978, 117978, 117978, 117978, 117978, 117978, 117978, 117978, 117978, 117978, 117978, 117978, 117978, 117978, 117978, 117978, 117978, 117978, 117978, 117978, 117978, 117978, 117978, 117978, 117978, 117978, 117978, 117978, 117978, 117978, 117978, 117978, 117978, 117978, 117978, 117978, 117978, 117978, 117978, 117978, 117978, 117978, 117978, 117978, 117978, 117978, 117978, 117978, 117978, 117978, 117978, 117978, 117978, 117978, 117978, 117978, 117978, 117978, 117978, 117978, 117978, 117978, 117978, 117978, 117978, 117978, 117978, 117978, 117978, 117978, 117978, 117978, 117978, 117978, 117978, 117978, 117978, 117978, 117978, 117978, 117978, 117978, 117978, 117978, 117978, 117978, 117978, 117978, 117978, 117978, 117978, 117978, 117978, 117978, 117978, 117978, 117978, 117978, 117978, 117978, 117978, 117978, 117978, 117978, 117978, 117978, 117978, 117978, 117978, 117978, 117978, 117978, 117978, 117978, 117978, 117978, 117978, 117978, 117978, 117978, 117978, 117978, 117978, 117978, 117978, 117978, 117978, 117978, 117978, 117978, 117978, 117978, 117978, 117978, 117978, 117978, 117978, 117978, 117978, 117978, 117978, 117978, 117978, 117978, 117978, 117978, 117978, 117978, 117978, 117978, 117978, 117978, 117978, 117978, 117978, 117978, 117978, 117978, 117978, 117978, 117978, 117978, 117978, 117978, 117978, 117978, 117978, 117978, 117978, 117978, 117978, 117978, 117978, 117978, 117978, 117978, 117978, 117978, 117978, 117978, 117978, 117978, 117978, 117978, 117978, 117978, 117978, 117978, 117978, 117978, 117978, 117978, 117978, 117978, 117978, 117978, 117978, 117978, 117978, 117978, 117978, 117978, 117978, 117978, 117978, 117978, 117978, 117978, 117978, 117978, 117978, 117978, 117978, 117978, 117978, 117978, 117978, 117978, 117978, 117978, 117978, 117978, 117978, 117978, 117978, 117978, 117978, 117978, 117978, 117978, 117978, 117978, 117978, 117978, 117978, 117978, 117978, 117978, 117978, 117978, 117978, 117978, 117978, 117978, 117978, 117978, 117978, 117978, 117978, 117978, 117978, 117978, 117978, 117978, 117978, 117978, 117978, 117978, 117978, 117978, 117978, 117978, 117978, 117978, 117978, 117978, 117978, 117978, 117978, 117978, 117978, 117978, 117978, 117978, 117978, 117978, 117978, 117978, 117978, 117978, 117978, 117978, 117978, 117978, 117978, 117978, 117978, 117978, 117978, 117978, 117978, 117978, 117978, 117978, 117978, 117978, 117978, 117978, 117978, 117978, 117978, 117978, 117978, 117978, 117978, 117978, 117978, 117978, 117978, 117978, 117978, 117978, 117978, 117978, 117978, 117978, 117978, 117978, 117978, 117978, 117978, 117978, 117978, 117978, 117978, 117978, 117978, 117978, 117978, 117978, 117978, 117978, 117978, 117978, 117978, 117978, 117978, 117978, 117978, 117978, 117978, 117978, 117978, 117978, 117978, 117978, 117978, 117978, 117978, 117978, 117978, 117978, 117978, 117978, 117978, 117978, 117978, 117978, 117978, 117978, 117978, 117978, 117978, 117978, 117978, 117978, 117978, 117978, 117978, 117978, 117978, 117978, 117978, 117978, 117978, 117978, 117978, 117978, 117978, 117978, 117978, 117978, 117978, 117978, 117978, 117978, 117978, 117978, 117978, 117978, 117978, 117978, 117978, 117978, 117978, 117978, 117978, 117978, 117978, 117978, 117978, 117978, 117978, 117978, 117978, 117978, 117978, 117978, 117978, 117978, 117978, 117978, 117978, 117978, 117978, 117978, 117978, 117978, 117978, 117978, 117978, 117978, 117978, 117978, 117978, 117978, 117978, 117978, 117978, 117978, 117978, 117978, 117978, 117978, 117978, 117978, 117978, 117978, 117978, 117978, 117978, 117978, 117978, 117978, 117978, 117978, 117978, 117978, 117978, 117978, 117978, 117978, 117978, 117978, 117978, 117978, 117978, 117978, 117978, 117978, 117978, 117978, 117978, 117978, 117978, 117978, 117978, 117978, 117978, 117978, 117978, 117978, 117978, 117978, 117978, 117978, 117978, 117978, 117978, 117978, 117978, 117978, 117978, 117978, 117978, 117978, 117978, 117978, 117978, 117978, 117978, 117978, 117978, 117978, 117978, 117978, 117978, 117978, 117978, 117978, 117978, 117978, 117978, 117978, 117978, 117978, 117978, 117978, 117978, 117978, 117978, 117978, 117978, 117978, 117978, 117978, 117978, 117978, 117978, 117978, 117978, 117978, 117978, 117978, 117978, 117978, 117978, 117978, 117978, 117978, 117978, 117978, 117978, 117978, 117978, 117978, 117978, 117978, 117978, 117978, 117978, 117978, 117978, 117978, 117978, 117978, 117978, 117978, 117978, 117978, 117978, 117978, 117978, 117978, 117978, 117978, 117978, 117978, 117978, 117978, 117978, 117978, 117978, 117978, 117978, 117978, 117978, 117978, 117978, 117978, 117978, 117978, 117978, 117978, 117978, 117978, 117978, 117978, 117978, 117978, 117978, 117978, 117978, 117978, 117978, 117978, 117978, 117978, 117978, 117978, 117978, 117978, 117978, 117978, 117978, 117978, 117978, 117978, 117978, 117978, 117978, 117978, 117978, 117978, 117978, 117978, 117978, 117978, 117978, 117978, 117978, 117978, 117978, 117978, 117978, 117978, 117978, 117978, 117978, 117978, 117978, 117978, 117978, 117978, 117978, 117978, 117978, 117978, 117978, 117978, 117978, 117978, 117978, 117978, 117978, 117978, 117978, 117978, 117978, 117978, 117978, 117978, 117978, 117978, 117978, 117978, 117978, 117978, 117978, 117978, 117978, 117978, 117978, 117978, 117978, 117978, 117978, 117978, 117978, 117978, 117978, 117978, 117978, 117978, 117978, 117978, 117978, 117978, 117978, 117978, 117978, 117978, 117978, 117978, 117978, 117978, 117978, 117978, 117978, 117978, 117978, 117978, 117978, 117978, 117978, 117978, 117978, 117978, 117978, 117978, 117978, 117978, 117978, 117978, 117978, 117978, 117978, 117978, 117978, 117978, 117978, 117978, 117978, 117978, 117978, 117978, 117978, 117978, 117978, 117978, 117978, 117978, 117978, 117978, 117978, 117978, 117978, 117978, 117978, 117978, 117978, 117978, 117978, 117978, 117978, 117978, 117978, 117978, 117978, 117978, 117978, 117978, 117978, 117978, 117978, 117978, 117978, 117978, 117978, 117978, 117978, 117978, 117978, 117978, 117978, 117978, 117978, 117978, 117978, 117978, 117978, 117978, 117978, 117978, 117978, 117978, 117978, 117978, 117978, 117978, 117978, 117978, 117978, 117978, 117978, 117978, 117978, 117978, 117978, 117978, 117978, 117978, 117978, 117978, 117978, 117978, 117978, 117978, 117978, 117978, 117978, 117978, 117978, 117978, 117978, 117978, 117978, 117978, 117978, 117978, 117978, 117978, 117978, 117978, 117978, 117978, 117978, 117978, 117978, 117978, 117978, 117978, 117978, 117978, 117978, 117978, 117978, 117978, 117978, 117978, 117978, 117978, 117978, 117978, 117978, 117978, 117978, 117978, 117978, 117978, 117978, 117978, 117978, 117978, 117978, 117978, 117978, 117978, 117978, 117978, 117978, 117978, 117978, 117978, 117978, 117978, 117978, 117978, 117978, 117978, 117978, 117978, 117978, 117978, 117978, 117978, 117978, 117978, 117978, 117978, 117978, 117978, 117978, 117978, 117978, 117978, 117978, 117978, 117978, 117978, 117978, 117978, 117978, 117978, 117978, 117978, 117978, 117978, 117978, 117978, 117978, 117978, 117978, 117978, 117978, 117978, 117978, 117978, 117978, 117978, 117978, 117978, 117978, 117978, 117978, 117978, 117978, 117978, 117978, 117978, 117978, 117978, 117978, 117978, 117978, 117978, 117978, 117978, 117978, 117978, 117978, 117978, 117978, 117978, 117978, 117978, 117978, 117978, 117978, 117978, 117978, 117978, 117978, 117978, 117978, 117978, 117978, 117978, 117978, 117978, 117978, 117978, 117978, 117978, 117978, 117978, 117978, 117978, 117978, 117978, 117978, 117978, 117978, 117978, 117978, 117978, 117978, 117978, 117978, 117978, 117978, 117978, 117978, 117978, 117978, 117978, 117978, 117978, 117978, 117978, 117978, 117978, 117978, 117978, 117978, 117978, 117978, 117978, 117978, 117978, 117978, 117978, 117978, 117978, 117978, 117978, 117978, 117978, 117978, 117978, 117978, 117978, 117978, 117978, 117978, 117978, 117978, 117978, 117978, 117978, 117978, 117978, 117978, 117978, 117978, 117978, 117978, 117978, 117978, 117978, 117978, 117978, 117978, 117978, 117978, 117978, 117978, 117978, 117978, 117978, 117978, 117978, 117978, 117978, 117978, 117978, 117978, 117978, 117978, 117978, 117978, 117978, 117978, 117978, 117978, 117978, 117978, 117978, 117978, 117978, 117978, 117978, 117978, 117978, 117978, 117978, 117978, 117978, 117978, 117978, 117978, 117978, 117978, 117978, 117978, 117978, 117978, 117978, 117978, 117978, 117978, 117978, 117978, 117978, 117978, 117978, 117978, 117978, 117978, 117978, 117978, 117978, 117978, 117978, 117978, 117978, 117978, 117978, 117978, 117978, 117978, 117978, 117978, 117978, 117978, 117978, 117978, 117978, 117978, 117978, 117978, 117978, 117978, 117978, 117978, 117978, 117978, 117978, 117978, 117978, 117978, 117978, 117978, 117978, 117978, 117978, 117978, 117978, 117978, 117978, 117978, 117978, 117978, 117978, 117978, 117978, 117978, 117978, 117978, 117978, 117978, 117978, 117978, 117978, 117978, 117978, 117978, 117978, 117978, 117978, 117978, 117978, 117978, 117978, 117978, 117978, 117978, 117978, 117978, 117978, 117978, 117978, 117978, 117978, 117978, 117978, 117978, 117978, 117978, 117978, 117978, 117978, 117978, 117978, 117978, 117978, 117978, 117978, 117978, 117978, 117978, 117978, 117978, 117978, 117978, 117978, 117978, 117978, 117978, 117978, 117978, 117978, 117978, 117978, 117978, 117978, 117978, 117978, 117978, 117978, 117978, 117978, 117978, 117978, 117978, 117978, 117978, 117978, 117978, 117978, 117978, 117978, 117978, 117978, 117978, 117978, 117978, 117978, 117978, 117978, 117978, 117978, 117978, 117978, 117978, 117978, 117978, 117978, 117978, 117978, 117978, 117978, 117978, 117978, 117978, 117978, 117978, 117978, 117978, 117978, 117978, 117978, 117978, 117978, 117978, 117978, 117978, 117978, 117978, 117978, 117978, 117978, 117978, 117978, 117978, 117978, 117978, 117978, 117978, 117978, 117978, 117978, 117978, 117978, 117978, 117978, 117978, 117978, 117978, 117978, 117978, 117978, 117978, 117978, 117978, 117978, 117978, 117978, 117978, 117978, 117978, 117978, 117978, 117978, 117978, 117978, 117978, 117978, 117978, 117978, 117978, 117978, 117978, 117978, 117978, 117978, 117978, 117978, 117978, 117978, 117978, 117978, 117978, 117978, 117978, 117978, 117978, 117978, 117978, 117978, 117978, 117978, 117978, 117978, 117978, 117978, 117978, 117978, 117978, 117978, 117978, 117978, 117978, 117978, 117978, 117978, 117978, 117978, 117978, 117978, 117978, 117978, 117978, 117978, 117978, 117978, 117978, 117978, 117978, 117978, 117978, 117978, 117978, 117978, 117978, 117978, 117978, 117978, 117978, 117978, 117978, 117978, 117978, 117978, 117978, 117978, 117978, 117978, 117978, 117978, 117978, 117978, 117978, 117978, 117978, 117978, 117978, 117978, 117978, 117978, 117978, 117978, 117978, 117978, 117978, 117978, 117978, 117978, 117978, 117978, 117978, 117978, 117978, 117978, 117978, 117978, 117978, 117978, 117978, 117978, 117978, 117978, 117978, 117978, 117978, 117978, 117978, 117978, 117978, 117978, 117978, 117978, 117978, 117978, 117978, 117978, 117978, 117978, 117978, 117978, 117978, 117978, 117978, 117978, 117978, 117978, 117978, 117978, 117978, 117978, 117978, 117978, 117978, 117978, 117978, 117978, 117978, 117978, 117978, 117978, 117978, 117978, 117978, 117978, 117978, 117978, 117978, 117978, 117978, 117978, 117978, 117978, 117978, 117978, 117978, 117978, 117978, 117978, 117978, 117978, 117978, 117978, 117978, 117978, 117978, 117978, 117978, 117978, 117978, 117978, 117978, 117978, 117978, 117978, 117978, 117978, 117978, 117978, 117978, 117978, 117978, 117978, 117978, 117978, 117978, 117978, 117978, 117978, 117978, 117978, 117978, 117978, 117978, 117978, 117978, 117978, 117978, 117978, 117978, 117978, 117978, 117978, 117978, 117978, 117978, 117978, 117978, 117978, 117978, 117978, 117978, 117978, 117978, 117978, 117978, 117978, 117978, 117978, 117978, 117978, 117978, 117978, 117978, 117978, 117978, 117978, 117978, 117978, 117978, 117978, 117978, 117978, 117978, 117978, 117978, 117978, 117978, 117978, 117978, 117978, 117978, 117978, 117978, 117978, 117978, 117978, 117978, 117978, 117978, 117978, 117978, 117978, 117978, 117978, 117978, 117978, 117978, 117978, 117978, 117978, 117978, 117978, 117978, 117978, 117978, 117978, 117978, 117978, 117978, 117978, 117978, 117978, 117978, 117978, 117978, 117978, 117978, 117978, 117978, 117978, 117978, 117978, 117978, 117978, 117978, 117978, 117978, 117978, 117978, 117978, 117978, 117978, 117978, 117978, 117978, 117978, 117978, 117978, 117978, 117978, 117978, 117978, 117978, 117978, 117978, 117978, 117978, 117978, 117978, 117978, 117978, 117978, 117978, 117978, 117978, 117978, 117978, 117978, 117978, 117978, 117978, 117978, 117978, 117978, 117978, 117978, 117978, 117978, 117978, 117978, 117978, 117978, 117978, 117978, 117978, 117978, 117978, 117978, 117978, 117978, 117978, 117978, 117978, 117978, 117978, 117978, 117978, 117978, 117978, 117978, 117978, 117978, 117978, 117978, 117978, 117978, 117978, 117978, 117978, 117978, 117978, 117978, 117978, 117978, 117978, 117978, 117978, 117978, 117978, 117978, 117978, 117978, 117978, 117978, 117978, 117978, 117978, 117978, 117978, 117978, 117978, 117978, 117978, 117978, 117978, 117978, 117978, 117978, 117978, 117978, 117978, 117978, 117978, 117978, 117978, 117978, 117978, 117978, 117978, 117978, 117978, 117978, 117978, 117978, 117978, 117978, 117978, 117978, 117978, 117978, 117978, 117978, 117978, 117978, 117978, 117978, 117978, 117978, 117978, 117978, 117978, 117978, 117978, 117978, 117978, 117978, 117978, 117978, 117978, 117978, 117978, 117978, 117978, 117978, 117978, 117978, 117978, 117978, 117978, 117978, 117978, 117978, 117978, 117978, 117978, 117978, 117978, 117978, 117978, 117978, 117978, 117978, 117978, 117978, 117978, 117978, 117978, 117978, 117978, 117978, 117978, 117978, 117978, 117978, 117978, 117978, 117978, 117978, 117978, 117978, 117978, 117978, 117978, 117978, 117978, 117978, 117978, 117978, 117978, 117978, 117978, 117978, 117978, 117978, 117978, 117978, 117978, 117978, 117978, 117978, 117978, 117978, 117978, 117978, 117978, 117978, 117978, 117978, 117978, 117978, 117978, 117978, 117978, 117978, 117978, 117978, 117978, 117978, 117978, 117978, 117978, 117978, 117978, 117978, 117978, 117978, 117978, 117978, 117978, 117978, 117978, 117978, 117978, 117978, 117978, 117978, 117978, 117978, 117978, 117978, 117978, 117978, 117978, 117978, 117978, 117978, 117978, 117978, 117978, 117978, 117978, 117978, 117978, 117978, 117978, 117978, 117978, 117978, 117978, 117978, 117978, 117978, 117978, 117978, 117978, 117978, 117978, 117978, 117978, 117978, 117978, 117978, 117978, 117978, 117978, 117978, 117978, 117978, 117978, 117978, 117978, 117978, 117978, 117978, 117978, 117978, 117978, 117978, 117978, 117978, 117978, 117978, 117978, 117978, 117978, 117978, 117978, 117978, 117978, 117978, 117978, 117978, 117978, 117978, 117978, 117978, 117978, 117978, 117978, 117978, 117978, 117978, 117978, 117978, 117978, 117978, 117978, 117978, 117978, 117978, 117978, 117978, 117978, 117978, 117978, 117978, 117978, 117978, 117978, 117978, 117978, 117978, 117978, 117978, 117978, 117978, 117978, 117978, 117978, 117978, 117978, 117978, 117978, 117978, 117978, 117978, 117978, 117978, 117978, 117978, 117978, 117978, 117978, 117978, 117978, 117978, 117978, 117978, 117978, 117978, 117978, 117978, 117978, 117978, 117978, 117978, 117978, 117978, 117978, 117978, 117978, 117978, 117978, 117978, 117978, 117978, 117978, 117978, 117978, 117978, 117978, 117978, 117978, 117978, 117978, 117978, 117978, 117978, 117978, 117978, 117978, 117978, 117978, 117978, 117978, 117978, 117978, 117978, 117978, 117978, 117978, 117978, 117978, 117978, 117978, 117978, 117978, 117978, 117978, 117978, 117978, 117978, 117978, 117978, 117978, 117978, 117978, 117978, 117978, 117978, 117978, 117978, 117978, 117978, 117978, 117978, 117978, 117978, 117978, 117978, 117978, 117978, 117978, 117978, 117978, 117978, 117978, 117978, 117978, 117978, 117978, 117978, 117978, 117978, 117978, 117978, 117978, 117978, 117978, 117978, 117978, 117978, 117978, 117978, 117978, 117978, 117978, 117978, 117978, 117978, 117978, 117978, 117978, 117978, 117978, 117978, 117978, 117978, 117978, 117978, 117978, 117978, 117978, 117978, 117978, 117978, 117978, 117978, 117978, 117978, 117978, 117978, 117978, 117978, 117978, 117978, 117978, 117978, 117978, 117978, 117978, 117978, 117978, 117978, 117978, 117978, 117978, 117978, 117978, 117978, 117978, 117978, 117978, 117978, 117978, 117978, 117978, 117978, 117978, 117978, 117978, 117978, 117978, 117978, 117978, 117978, 117978, 117978, 117978, 117978, 117978, 117978, 117978, 117978, 117978, 117978, 117978, 117978, 117978, 117978, 117978, 117978, 117978, 117978, 117978, 117978, 117978, 117978, 117978, 117978, 117978, 117978, 117978, 117978, 117978, 117978, 117978, 117978, 117978, 117978, 117978, 117978, 117978, 117978, 117978, 117978, 117978, 117978, 117978, 117978, 117978, 117978, 117978, 117978, 117978, 117978, 117978, 117978, 117978, 117978, 117978, 117978, 117978, 117978, 117978, 117978, 117978, 117978, 117978, 117978, 117978, 117978, 117978, 117978, 117978, 117978, 117978, 117978, 117978, 117978, 117978, 117978, 117978, 117978, 117978, 117978, 117978, 117978, 117978, 117978, 117978, 117978, 117978, 117978, 117978, 117978, 117978, 117978, 117978, 117978, 117978, 117978, 117978, 117978, 117978, 117978, 117978, 117978, 117978, 117978, 117978, 117978, 117978, 117978, 117978, 117978, 117978, 117978, 117978, 117978, 117978, 117978, 117978, 117978, 117978, 117978, 117978, 117978, 117978, 117978, 117978, 117978, 117978, 117978, 117978, 117978, 117978, 117978, 117978, 117978, 117978, 117978, 117978, 117978, 117978, 117978, 117978, 117978, 117978, 117978, 117978, 117978, 117978, 117978, 117978, 117978, 117978, 117978, 117978, 117978, 117978, 117978, 117978, 117978, 117978, 117978, 117978, 117978, 117978, 117978, 117978, 117978, 117978, 117978, 117978, 117978, 117978, 117978, 117978, 117978, 117978, 117978, 117978, 117978, 117978, 117978, 117978, 117978, 117978, 117978, 117978, 117978, 117978, 117978, 117978, 117978, 117978, 117978, 117978, 117978, 117978, 117978, 117978, 117978, 117978, 117978, 117978, 117978, 117978, 117978, 117978, 117978, 117978, 117978, 117978, 117978, 117978, 117978, 117978, 117978, 117978, 117978, 117978, 117978, 117978, 117978, 117978, 117978, 117978, 117978, 117978, 117978, 117978, 117978, 117978, 117978, 117978, 117978, 117978, 117978, 117978, 117978, 117978, 117978, 117978, 117978, 117978, 117978, 117978, 117978, 117978, 117978, 117978, 117978, 117978, 117978, 117978, 117978, 117978, 117978, 117978, 117978, 117978, 117978, 117978, 117978, 117978, 117978, 117978, 117978, 117978, 117978, 117978, 117978, 117978, 117978, 117978, 117978, 117978, 117978, 117978, 117978, 117978, 117978, 117978, 117978, 117978, 117978, 117978, 117978, 117978, 117978, 117978, 117978, 117978, 117978, 117978, 117978, 117978, 117978, 117978, 117978, 117978, 117978, 117978, 117978, 117978, 117978, 117978, 117978, 117978, 117978, 117978, 117978, 117978, 117978, 117978, 117978, 117978, 117978, 117978, 117978, 117978, 117978, 117978, 117978, 117978, 117978, 117978, 117978, 117978, 117978, 117978, 117978, 117978, 117978, 117978, 117978, 117978, 117978, 117978, 117978, 117978, 117978, 117978, 117978, 117978, 117978, 117978, 117978, 117978, 117978, 117978, 117978, 117978, 117978, 117978, 117978, 117978, 117978, 117978, 117978, 117978, 117978, 117978, 117978, 117978, 117978, 117978, 117978, 117978, 117978, 117978, 117978, 117978, 117978, 117978, 117978, 117978, 117978, 117978, 117978, 117978, 117978, 117978, 117978, 117978, 117978, 117978, 117978, 117978, 117978, 117978, 117978, 117978, 117978, 117978, 117978, 117978, 117978, 117978, 117978, 117978, 117978, 117978, 117978, 117978, 117978, 117978, 117978, 117978, 117978, 117978, 117978, 117978, 117978, 117978, 117978, 117978, 117978, 117978, 117978, 117978, 117978, 117978, 117978, 117978, 117978, 117978, 117978, 117978, 117978, 117978, 117978, 117978, 117978, 117978, 117978, 117978, 117978, 117978, 117978, 117978, 117978, 117978, 117978, 117978, 117978, 117978, 117978, 117978, 117978, 117978, 117978, 117978, 117978, 117978, 117978, 117978, 117978, 117978, 117978, 117978, 117978, 117978, 117978, 117978, 117978, 117978, 117978, 117978, 117978, 117978, 117978, 117978, 117978, 117978, 117978, 117978, 117978, 117978, 117978, 117978, 117978, 117978, 117978, 117978, 117978, 117978, 117978, 117978, 117978, 117978, 117978, 117978, 117978, 117978, 117978, 117978, 117978, 117978, 117978, 117978, 117978, 117978, 117978, 117978, 117978, 117978, 117978, 117978, 117978, 117978, 117978, 117978, 117978, 117978, 117978, 117978, 117978, 117978, 117978, 117978, 117978, 117978, 117978, 117978, 117978, 117978, 117978, 117978, 117978, 117978, 117978, 117978, 117978, 117978, 117978, 117978, 117978, 117978, 117978, 117978, 117978, 117978, 117978, 117978, 117978, 117978, 117978, 117978, 117978, 117978, 117978, 117978, 117978, 117978, 117978, 117978, 117978, 117978, 117978, 117978, 117978, 117978, 117978, 117978, 117978, 117978, 117978, 117978, 117978, 117978, 117978, 117978, 117978, 117978, 117978, 117978, 117978, 117978, 117978, 117978, 117978, 117978, 117978, 117978, 117978, 117978, 117978, 117978, 117978, 117978, 117978, 117978, 117978, 117978, 117978, 117978, 117978, 117978, 117978, 117978, 117978, 117978, 117978, 117978, 117978, 117978, 117978, 117978, 117978, 117978, 117978, 117978, 117978, 117978, 117978, 117978, 117978, 117978, 117978, 117978, 117978, 117978, 117978, 117978, 117978, 117978, 117978, 117978, 117978, 117978, 117978, 117978, 117978, 117978, 117978, 117978, 117978, 117978, 117978, 117978, 117978, 117978, 117978, 117978, 117978, 117978, 117978, 117978, 117978, 117978, 117978, 117978, 117978, 117978, 117978, 117978, 117978, 117978, 117978, 117978, 117978, 117978, 117978, 117978, 117978, 117978, 117978, 117978, 117978, 117978, 117978, 117978, 117978, 117978, 117978, 117978, 117978, 117978, 117978, 117978, 117978, 117978, 117978, 117978, 117978, 117978, 117978, 117978, 117978, 117978, 117978, 117978, 117978, 117978, 117978, 117978, 117978, 117978, 117978, 117978, 117978, 117978, 117978, 117978, 117978, 117978, 117978, 117978, 117978, 117978, 117978, 117978, 117978, 117978, 117978, 117978, 117978, 117978, 117978, 117978, 117978, 117978, 117978, 117978, 117978, 117978, 117978, 117978, 117978, 117978, 117978, 117978, 117978, 117978, 117978, 117978, 117978, 117978, 117978, 117978, 117978, 117978, 117978, 117978, 117978, 117978, 117978, 117978, 117978, 117978, 117978, 117978, 117978, 117978, 117978, 117978, 117978, 117978, 117978, 117978, 117978, 117978, 117978, 117978, 117978, 117978, 117978, 117978, 117978, 117978, 117978, 117978, 117978, 117978, 117978, 117978, 117978, 117978, 117978, 117978, 117978, 117978, 117978, 117978, 117978, 117978, 117978, 117978, 117978, 117978, 117978, 117978, 117978, 117978, 117978, 117978, 117978, 117978, 117978, 117978, 117978, 117978, 117978, 117978, 117978, 117978, 117978, 117978, 117978, 117978, 117978, 117978, 117978, 117978, 117978, 117978, 117978, 117978, 117978, 117978, 117978, 117978, 117978, 117978, 117978, 117978, 117978, 117978, 117978, 117978, 117978, 117978, 117978, 117978, 117978, 117978, 117978, 117978, 117978, 117978, 117978, 117978, 117978, 117978, 117978, 117978, 117978, 117978, 117978, 117978, 117978, 117978, 117978, 117978, 117978, 117978, 117978, 117978, 117978, 117978, 117978, 117978, 117978, 117978, 117978, 117978, 117978, 117978, 117978, 117978, 117978, 117978, 117978, 117978, 117978, 117978, 117978, 117978, 117978, 117978, 117978, 117978, 117978, 117978, 117978, 117978, 117978, 117978, 117978, 117978, 117978, 117978, 117978, 117978, 117978, 117978, 117978, 117978, 117978, 117978, 117978, 117978, 117978, 117978, 117978, 117978, 117978, 117978, 117978, 117978, 117978, 117978, 117978, 117978, 117978, 117978, 117978, 117978, 117978, 117978, 117978, 117978, 117978, 117978, 117978, 117978, 117978, 117978, 117978, 117978, 117978, 117978, 117978, 117978, 117978, 117978, 117978, 117978, 117978, 117978, 117978, 117978, 117978, 117978, 117978, 117978, 117978, 117978, 117978, 117978, 117978, 117978, 117978, 117978, 117978, 117978, 117978, 117978, 117978, 117978, 117978, 117978, 117978, 117978, 117978, 117978, 117978, 117978, 117978, 117978, 117978, 117978, 117978, 117978, 117978, 117978, 117978, 117978, 117978, 117978, 117978, 117978, 117978, 117978, 117978, 117978, 117978, 117978, 117978, 117978, 117978, 117978, 117978, 117978, 117978, 117978, 117978, 117978, 117978, 117978, 117978, 117978, 117978, 117978, 117978, 117978, 117978, 117978, 117978, 117978, 117978, 117978, 117978, 117978, 117978, 117978, 117978, 117978, 117978, 117978, 117978, 117978, 117978, 117978, 117978, 117978, 117978, 117978, 117978, 117978, 117978, 117978, 117978, 117978, 117978, 117978, 117978, 117978, 117978, 117978, 117978, 117978, 117978, 117978, 117978, 117978, 117978, 117978, 117978, 117978, 117978, 117978, 117978, 117978, 117978, 117978, 117978, 117978, 117978, 117978, 117978, 117978, 117978, 117978, 117978, 117978, 117978, 117978, 117978, 117978, 117978, 117978, 117978, 117978, 117978, 117978, 117978, 117978, 117978, 117978, 117978, 117978, 117978, 117978, 117978, 117978, 117978, 117978, 117978, 117978, 117978, 117978, 117978, 117978, 117978, 117978, 117978, 117978, 117978, 117978, 117978, 117978, 117978, 117978, 117978, 117978, 117978, 117978, 117978, 117978, 117978, 117978, 117978, 117978, 117978, 117978, 117978, 117978, 117978, 117978, 117978, 117978, 117978, 117978, 117978, 117978, 117978, 117978, 117978, 117978, 117978, 117978, 117978, 117978, 117978, 117978, 117978, 117978, 117978, 117978, 117978, 117978, 117978, 117978, 117978, 117978, 117978, 117978, 117978, 117978, 117978, 117978, 117978, 117978, 117978, 117978, 117978, 117978, 117978, 117978, 117978, 117978, 117978, 117978, 117978, 117978, 117978, 117978, 117978, 117978, 117978, 117978, 117978, 117978, 117978, 117978, 117978, 117978, 117978, 117978, 117978, 117978, 117978, 117978, 117978, 117978, 117978, 117978, 117978, 117978, 117978, 117978, 117978, 117978, 117978, 117978, 117978, 117978, 117978, 117978, 117978, 117978, 117978, 117978, 117978, 117978, 117978, 117978, 117978, 117978, 117978, 117978, 117978, 117978, 117978, 117978, 117978, 117978, 117978, 117978, 117978, 117978, 117978, 117978, 117978, 117978, 117978, 117978, 117978, 117978, 117978, 117978, 117978, 117978, 117978, 117978, 117978, 117978, 117978, 117978, 117978, 117978, 117978, 117978, 117978, 117978, 117978, 117978, 117978, 117978, 117978, 117978, 117978, 117978, 117978, 117978, 117978, 117978, 117978, 117978, 117978, 117978, 117978, 117978, 117978, 117978, 117978, 117978, 117978, 117978, 117978, 117978, 117978, 117978, 117978, 117978, 117978, 117978, 117978, 117978, 117978, 117978, 117978, 117978, 117978, 117978, 117978, 117978, 117978, 117978, 117978, 117978, 117978, 117978, 117978, 117978, 117978, 117978, 117978, 117978, 117978, 117978, 117978, 117978, 117978, 117978, 117978, 117978, 117978, 117978, 117978, 117978, 117978, 117978, 117978, 117978, 117978, 117978, 117978, 117978, 117978, 117978, 117978, 117978, 117978, 117978, 117978, 117978, 117978, 117978, 117978, 117978, 117978, 117978, 117978, 117978, 117978, 117978, 117978, 117978, 117978, 117978, 117978, 117978, 117978, 117978, 117978, 117978, 117978, 117978, 117978, 117978, 117978, 117978, 117978, 117978, 117978, 117978, 117978, 117978, 117978, 117978, 117978, 117978, 117978, 117978, 117978, 117978, 117978, 117978, 117978, 117978, 117978, 117978, 117978, 117978, 117978, 117978, 117978, 117978, 117978, 117978, 117978, 117978, 117978, 117978, 117978, 117978, 117978, 117978, 117978, 117978, 117978, 117978, 117978, 117978, 117978, 117978, 117978, 117978, 117978, 117978, 117978, 117978, 117978, 117978, 117978, 117978, 117978, 117978, 117978, 117978, 117978, 117978, 117978, 117978, 117978, 117978, 117978, 117978, 117978, 117978, 117978, 117978, 117978, 117978, 117978, 117978, 117978, 117978, 117978, 117978, 117978, 117978, 117978, 117978, 117978, 117978, 117978, 117978, 117978, 117978, 117978, 117978, 117978, 117978, 117978, 117978, 117978, 117978, 117978, 117978, 117978, 117978, 117978, 117978, 117978, 117978, 117978, 117978, 117978, 117978, 117978, 117978, 117978, 117978, 117978, 117978, 117978, 117978, 117978, 117978, 117978, 117978, 117978, 117978, 117978, 117978, 117978, 117978, 117978, 117978, 117978, 117978, 117978, 117978, 117978, 117978, 117978, 117978, 117978, 117978, 117978, 117978, 117978, 117978, 117978, 117978, 117978, 117978, 117978, 117978, 117978, 117978, 117978, 117978, 117978, 117978, 117978, 117978, 117978, 117978, 117978, 117978, 117978, 117978, 117978, 117978, 117978, 117978, 117978, 117978, 117978, 117978, 117978, 117978, 117978, 117978, 117978, 117978, 117978, 117978, 117978, 117978, 117978, 117978, 117978, 117978, 117978, 117978, 117978, 117978, 117978, 117978, 117978, 117978, 117978, 117978, 117978, 117978, 117978, 117978, 117978, 117978, 117978, 117978, 117978, 117978, 117978, 117978, 117978, 117978, 117978, 117978, 117978, 117978, 117978, 117978, 117978, 117978, 117978, 117978, 117978, 117978, 117978, 117978, 117978, 117978, 117978, 117978, 117978, 117978, 117978, 117978, 117978, 117978, 117978, 117978, 117978, 117978, 117978, 117978, 117978, 117978, 117978, 117978, 117978, 117978, 117978, 117978, 117978, 117978, 117978, 117978, 117978, 117978, 117978, 117978, 117978, 117978, 117978, 117978, 117978, 117978, 117978, 117978, 117978, 117978, 117978, 117978, 117978, 117978, 117978, 117978, 117978, 117978, 117978, 117978, 117978, 117978, 117978, 117978, 117978, 117978, 117978, 117978, 117978, 117978, 117978, 117978, 117978, 117978, 117978, 117978, 117978, 117978, 117978, 117978, 117978, 117978, 117978, 117978, 117978, 117978, 117978, 117978, 117978, 117978, 117978, 117978, 117978, 117978, 117978, 117978, 117978, 117978, 117978, 117978, 117978, 117978, 117978, 117978, 117978, 117978, 117978, 117978, 117978, 117978, 117978, 117978, 117978, 117978, 117978, 117978, 117978, 117978, 117978, 117978, 117978, 117978, 117978, 117978, 117978, 117978, 117978, 117978, 117978, 117978, 117978, 117978, 117978, 117978, 117978, 117978, 117978, 117978, 117978, 117978, 117978, 117978, 117978, 117978, 117978, 117978, 117978, 117978, 117978, 117978, 117978, 117978, 117978, 117978, 117978, 117978, 117978, 117978, 117978, 117978, 117978, 117978, 117978, 117978, 117978, 117978, 117978, 117978, 117978, 117978, 117978, 117978, 117978, 117978, 117978, 117978, 117978, 117978, 117978, 117978, 117978, 117978, 117978, 117978, 117978, 117978, 117978, 117978, 117978, 117978, 117978, 117978, 117978, 117978, 117978, 117978, 117978, 117978, 117978, 117978, 117978, 117978, 117978, 117978, 117978, 117978, 117978, 117978, 117978, 117978, 117978, 117978, 117978, 117978, 117978, 117978, 117978, 117978, 117978, 117978, 117978, 117978, 117978, 117978, 117978, 117978, 117978, 117978, 117978, 117978, 117978, 117978, 117978, 117978, 117978, 117978, 117978, 117978, 117978, 117978, 117978, 117978, 117978, 117978, 117978, 117978, 117978, 117978, 117978, 117978, 117978, 117978, 117978, 117978, 117978, 117978, 117978, 117978, 117978, 117978, 117978, 117978, 117978, 117978, 117978, 117978, 117978, 117978, 117978, 117978, 117978, 117978, 117978, 117978, 117978, 117978, 117978, 117978, 117978, 117978, 117978, 117978, 117978, 117978, 117978, 117978, 117978, 117978, 117978, 117978, 117978, 117978, 117978, 117978, 117978, 117978, 117978, 117978, 117978, 117978, 117978, 117978, 117978, 117978, 117978, 117978, 117978, 117978, 117978, 117978, 117978, 117978, 117978, 117978, 117978, 117978, 117978, 117978, 117978, 117978, 117978, 117978, 117978, 117978, 117978, 117978, 117978, 117978, 117978, 117978, 117978, 117978, 117978, 117978, 117978, 117978, 117978, 117978, 117978, 117978, 117978, 117978, 117978, 117978, 117978, 117978, 117978, 117978, 117978, 117978, 117978, 117978, 117978, 117978, 117978, 117978, 117978, 117978, 117978, 117978, 117978, 117978, 117978, 117978, 117978, 117978, 117978, 117978, 117978, 117978, 117978, 117978, 117978, 117978, 117978, 117978, 117978, 117978, 117978, 117978, 117978, 117978, 117978, 117978, 117978, 117978, 117978, 117978, 117978, 117978, 117978, 117978, 117978, 117978, 117978, 117978, 117978, 117978, 117978, 117978, 117978, 117978, 117978, 117978, 117978, 117978, 117978, 117978, 117978, 117978, 117978, 117978, 117978, 117978, 117978, 117978, 117978, 117978, 117978, 117978, 117978, 117978, 117978, 117978, 117978, 117978, 117978, 117978, 117978, 117978, 117978, 117978, 117978, 117978, 117978, 117978, 117978, 117978, 117978, 117978, 117978, 117978, 117978, 117978, 117978, 117978, 117978, 117978, 117978, 117978, 117978, 117978, 117978, 117978, 117978, 117978, 117978, 117978, 117978, 117978, 117978, 117978, 117978, 117978, 117978, 117978, 117978, 117978, 117978, 117978, 117978, 117978, 117978, 117978, 117978, 117978, 117978, 117978, 117978, 117978, 117978, 117978, 117978, 117978, 117978, 117978, 117978, 117978, 117978, 117978, 117978, 117978, 117978, 117978, 117978, 117978, 117978, 117978, 117978, 117978, 117978, 117978, 117978, 117978, 117978, 117978, 117978, 117978, 117978, 117978, 117978, 117978, 117978, 117978, 117978, 117978, 117978, 117978, 117978, 117978, 117978, 117978, 117978, 117978, 117978, 117978, 117978, 117978, 117978, 117978, 117978, 117978, 117978, 117978, 117978, 117978, 117978, 117978, 117978, 117978, 117978, 117978, 117978, 117978, 117978, 117978, 117978, 117978, 117978, 117978, 117978, 117978, 117978, 117978, 117978, 117978, 117978, 117978, 117978, 117978, 117978, 117978, 117978, 117978, 117978, 117978, 117978, 117978, 117978, 117978, 117978, 117978, 117978, 117978, 117978, 117978, 117978, 117978, 117978, 117978, 117978, 117978, 117978, 117978, 117978, 117978, 117978, 117978, 117978, 117978, 117978, 117978, 117978, 117978, 117978, 117978, 117978, 117978, 117978, 117978, 117978, 117978, 117978, 117978, 117978, 117978, 117978, 117978, 117978, 117978, 117978, 117978, 117978, 117978, 117978, 117978, 117978, 117978, 117978, 117978, 117978, 117978, 117978, 117978, 117978, 117978, 117978, 117978, 117978, 117978, 117978, 117978, 117978, 117978, 117978, 117978, 117978, 117978, 117978, 117978, 117978, 117978, 117978, 117978, 117978, 117978, 117978, 117978, 117978, 117978, 117978, 117978, 117978, 117978, 117978, 117978, 117978, 117978, 117978, 117978, 117978, 117978, 117978, 117978, 117978, 117978, 117978, 117978, 117978, 117978, 117978, 117978, 117978, 117978, 117978, 117978, 117978, 117978, 117978, 117978, 117978, 117978, 117978, 117978, 117978, 117978, 117978, 117978, 117978, 117978, 117978, 117978, 117978, 117978, 117978, 117978, 117978, 117978, 117978, 117978, 117978, 117978, 117978, 117978, 117978, 117978, 117978, 117978, 117978, 117978, 117978, 117978, 117978, 117978, 117978, 117978, 117978, 117978, 117978, 117978, 117978, 117978, 117978, 117978, 117978, 117978, 117978, 117978, 117978, 117978, 117978, 117978, 117978, 117978, 117978, 117978, 117978, 117978, 117978, 117978, 117978, 117978, 117978, 117978, 117978, 117978, 117978, 117978, 117978, 117978, 117978, 117978, 117978, 117978, 117978, 117978, 117978, 117978, 117978, 117978, 117978, 117978, 117978, 117978, 117978, 117978, 117978, 117978, 117978, 117978, 117978, 117978, 117978, 117978, 117978, 117978, 117978, 117978, 117978, 117978, 117978, 117978, 117978, 117978, 117978, 117978, 117978, 117978, 117978, 117978, 117978, 117978, 117978, 117978, 117978, 117978, 117978, 117978, 117978, 117978, 117978, 117978, 117978, 117978, 117978, 117978, 117978, 117978, 117978, 117978, 117978, 117978, 117978, 117978, 117978, 117978, 117978, 117978, 117978, 117978, 117978, 117978, 117978, 117978, 117978, 117978, 117978, 117978, 117978, 117978, 117978, 117978, 117978, 117978, 117978, 117978, 117978, 117978, 117978, 117978, 117978, 117978, 117978, 117978, 117978, 117978, 117978, 117978, 117978, 117978, 117978, 117978, 117978, 117978, 117978, 117978, 117978, 117978, 117978, 117978, 117978, 117978, 117978, 117978, 117978, 117978, 117978, 117978, 117978, 117978, 117978, 117978, 117978, 117978, 117978, 117978, 117978, 117978, 117978, 117978, 117978, 117978, 117978, 117978, 117978, 117978, 117978, 117978, 117978, 117978, 117978, 117978, 117978, 117978, 117978, 117978, 117978, 117978, 117978, 117978, 117978, 117978, 117978, 117978, 117978, 117978, 117978, 117978, 117978, 117978, 117978, 117978, 117978, 117978, 117978, 117978, 117978, 117978, 117978, 117978, 117978, 117978, 117978, 117978, 117978, 117978, 117978, 117978, 117978, 117978, 117978, 117978, 117978, 117978, 117978, 117978, 117978, 117978, 117978, 117978, 117978, 117978, 117978, 117978, 117978, 117978, 117978, 117978, 117978, 117978, 117978, 117978, 117978, 117978, 117978, 117978, 117978, 117978, 117978, 117978, 117978, 117978, 117978, 117978, 117978, 117978, 117978, 117978, 117978, 117978, 117978, 117978, 117978, 117978, 117978, 117978, 117978, 117978, 117978, 117978, 117978, 117978, 117978, 117978, 117978, 117978, 117978, 117978, 117978, 117978, 117978, 117978, 117978, 117978, 117978, 117978, 117978, 117978, 117978, 117978, 117978, 117978, 117978, 117978, 117978, 117978, 117978, 117978, 117978, 117978, 117978, 117978, 117978, 117978, 117978, 117978, 117978, 117978, 117978, 117978, 117978, 117978, 117978, 117978, 117978, 117978, 117978, 117978, 117978, 117978, 117978, 117978, 117978, 117978, 117978, 117978, 117978, 117978, 117978, 117978, 117978, 117978, 117978, 117978, 117978, 117978, 117978, 117978, 117978, 117978, 117978, 117978, 117978, 117978, 117978, 117978, 117978, 117978, 117978, 117978, 117978, 117978, 117978, 117978, 117978, 117978, 117978, 117978, 117978, 117978, 117978, 117978, 117978, 117978, 117978, 117978, 117978, 117978, 117978, 117978, 117978, 117978, 117978, 117978, 117978, 117978, 117978, 117978, 117978, 117978, 117978, 117978, 117978, 117978, 117978, 117978, 117978, 117978, 117978, 117978, 117978, 117978, 117978, 117978, 117978, 117978, 117978, 117978, 117978, 117978, 117978, 117978, 117978, 117978, 117978, 117978, 117978, 117978, 117978, 117978, 117978, 117978, 117978, 117978, 117978, 117978, 117978, 117978, 117978, 117978, 117978, 117978, 117978, 117978, 117978, 117978, 117978, 117978, 117978, 117978, 117978, 117978, 117978, 117978, 117978, 117978, 117978, 117978, 117978, 117978, 117978, 117978, 117978, 117978, 117978, 117978, 117978, 117978, 117978, 117978, 117978, 117978, 117978, 117978, 117978, 117978, 117978, 117978, 117978, 117978, 117978, 117978, 117978, 117978, 117978, 117978, 117978, 117978, 117978, 117978, 117978, 117978, 117978, 117978, 117978, 117978, 117978, 117978, 117978, 117978, 117978, 117978, 117978, 117978, 117978, 117978, 117978, 117978, 117978, 117978, 117978, 117978, 117978, 117978, 117978, 117978, 117978, 117978, 117978, 117978, 117978, 117978, 117978, 117978, 117978, 117978, 117978, 117978, 117978, 117978, 117978, 117978, 117978, 117978, 117978, 117978, 117978, 117978, 117978, 117978, 117978, 117978, 117978, 117978, 117978, 117978, 117978, 117978, 117978, 117978, 117978, 117978, 117978, 117978, 117978, 117978, 117978, 117978, 117978, 117978, 117978, 117978, 117978, 117978, 117978, 117978, 117978, 117978, 117978, 117978, 117978, 117978, 117978, 117978, 117978, 117978, 117978, 117978, 117978, 117978, 117978, 117978, 117978, 117978, 117978, 117978, 117978, 117978, 117978, 117978, 117978, 117978, 117978, 117978, 117978, 117978, 117978, 117978, 117978, 117978, 117978, 117978, 117978, 117978, 117978, 117978, 117978, 117978, 117978, 117978, 117978, 117978, 117978, 117978, 117978, 117978, 117978, 117978, 117978, 117978, 117978, 117978, 117978, 117978, 117978, 117978, 117978, 117978, 117978, 117978, 117978, 117978, 117978, 117978, 117978, 117978, 117978, 117978, 117978, 117978, 117978, 117978, 117978, 117978, 117978, 117978, 117978, 117978, 117978, 117978, 117978, 117978, 117978, 117978, 117978, 117978, 117978, 117978, 117978, 117978, 117978, 117978, 117978, 117978, 117978, 117978, 117978, 117978, 117978, 117978, 117978, 117978, 117978, 117978, 117978, 117978, 117978, 117978, 117978, 117978, 117978, 117978, 117978, 117978, 117978, 117978, 117978, 117978, 117978, 117978, 117978, 117978, 117978, 117978, 117978, 117978, 117978, 117978, 117978, 117978, 117978, 117978, 117978, 117978, 117978, 117978, 117978, 117978, 117978, 117978, 117978, 117978, 117978, 117978, 117978, 117978, 117978, 117978, 117978, 117978, 117978, 117978, 117978, 117978, 117978, 117978, 117978, 117978, 117978, 117978, 117978, 117978, 117978, 117978, 117978, 117978, 117978, 117978, 117978, 117978, 117978, 117978, 117978, 117978, 117978, 117978, 117978, 117978, 117978, 117978, 117978, 117978, 117978, 117978, 117978, 117978, 117978, 117978, 117978, 117978, 117978, 117978, 117978, 117978, 117978, 117978, 117978, 117978, 117978, 117978, 117978, 117978, 117978, 117978, 117978, 117978, 117978, 117978, 117978, 117978, 117978, 117978, 117978, 117978, 117978, 117978, 117978, 117978, 117978, 117978, 117978, 117978, 117978, 117978, 117978, 117978, 117978, 117978, 117978, 117978, 117978, 117978, 117978, 117978, 117978, 117978, 117978, 117978, 117978, 117978, 117978, 117978, 117978, 117978, 117978, 117978, 117978, 117978, 117978, 117978, 117978, 117978, 117978, 117978, 117978, 117978, 117978, 117978, 117978, 117978, 117978, 117978, 117978, 117978, 117978, 117978, 117978, 117978, 117978, 117978, 117978, 117978, 117978, 117978, 117978, 117978, 117978, 117978, 117978, 117978, 117978, 117978, 117978, 117978, 117978, 117978, 117978, 117978, 117978, 117978, 117978, 117978, 117978, 117978, 117978, 117978, 117978, 117978, 117978, 117978, 117978, 117978, 117978, 117978, 117978, 117978, 117978, 117978, 117978, 117978, 117978, 117978, 117978, 117978, 117978, 117978, 117978, 117978, 117978, 117978, 117978, 117978, 117978, 117978, 117978, 117978, 117978, 117978, 117978, 117978, 117978, 117978, 117978, 117978, 117978, 117978, 117978, 117978, 117978, 117978, 117978, 117978, 117978, 117978, 117978, 117978, 117978, 117978, 117978, 117978, 117978, 117978, 117978, 117978, 117978, 117978, 117978, 117978, 117978, 117978, 117978, 117978, 117978, 117978, 117978, 117978, 117978, 117978, 117978, 117978, 117978, 117978, 117978, 117978, 117978, 117978, 117978, 117978, 117978, 117978, 117978, 117978, 117978, 117978, 117978, 117978, 117978, 117978, 117978, 117978, 117978, 117978, 117978, 117978, 117978, 117978, 117978, 117978, 117978, 117978, 117978, 117978, 117978, 117978, 117978, 117978, 117978, 117978, 117978, 117978, 117978, 117978, 117978, 117978, 117978, 117978, 117978, 117978, 117978, 117978, 117978, 117978, 117978, 117978, 117978, 117978, 117978, 117978, 117978, 117978, 117978, 117978, 117978, 117978, 117978, 117978, 117978, 117978, 117978, 117978, 117978, 117978, 117978, 117978, 117978, 117978, 117978, 117978, 117978, 117978, 117978, 117978, 117978, 117978, 117978, 117978, 117978, 117978, 117978, 117978, 117978, 117978, 117978, 117978, 117978, 117978, 117978, 117978, 117978, 117978, 117978, 117978, 117978, 117978, 117978, 117978, 117978, 117978, 117978, 117978, 117978, 117978, 117978, 117978, 117978, 117978, 117978, 117978, 117978, 117978, 117978, 117978, 117978, 117978, 117978, 117978, 117978, 117978, 117978, 117978, 117978, 117978, 117978, 117978, 117978, 117978, 117978, 117978, 117978, 117978, 117978, 117978, 117978, 117978, 117978, 117978, 117978, 117978, 117978, 117978, 117978, 117978, 117978, 117978, 117978, 117978, 117978, 117978, 117978, 117978, 117978, 117978, 117978, 117978, 117978, 117978, 117978\n  y sizes: 10015\nMake sure all arrays contain the same number of samples.",
     "output_type": "error",
     "traceback": [
      "\u001b[1;31m---------------------------------------------------------------------------\u001b[0m",
      "\u001b[1;31mValueError\u001b[0m                                Traceback (most recent call last)",
      "\u001b[1;32m<ipython-input-43-c94e0590f4b2>\u001b[0m in \u001b[0;36m<module>\u001b[1;34m\u001b[0m\n\u001b[0;32m      2\u001b[0m               \u001b[0mloss\u001b[0m\u001b[1;33m=\u001b[0m\u001b[0mtf\u001b[0m\u001b[1;33m.\u001b[0m\u001b[0mnn\u001b[0m\u001b[1;33m.\u001b[0m\u001b[0msoftmax_cross_entropy_with_logits\u001b[0m\u001b[1;33m,\u001b[0m\u001b[1;33m\u001b[0m\u001b[1;33m\u001b[0m\u001b[0m\n\u001b[0;32m      3\u001b[0m               metrics=['accuracy'])\n\u001b[1;32m----> 4\u001b[1;33m \u001b[0miv3_model\u001b[0m\u001b[1;33m.\u001b[0m\u001b[0mfit\u001b[0m\u001b[1;33m(\u001b[0m\u001b[0mnew_IV3\u001b[0m\u001b[1;33m,\u001b[0m \u001b[0mnew_y\u001b[0m\u001b[1;33m,\u001b[0m \u001b[0mepochs\u001b[0m\u001b[1;33m=\u001b[0m\u001b[1;36m5\u001b[0m\u001b[1;33m,\u001b[0m \u001b[0mvalidation_split\u001b[0m\u001b[1;33m=\u001b[0m\u001b[1;36m0.1\u001b[0m\u001b[1;33m)\u001b[0m\u001b[1;33m\u001b[0m\u001b[1;33m\u001b[0m\u001b[0m\n\u001b[0m",
      "\u001b[1;32m~\\Anaconda3\\envs\\tensorflow\\lib\\site-packages\\keras\\engine\\training.py\u001b[0m in \u001b[0;36mfit\u001b[1;34m(self, x, y, batch_size, epochs, verbose, callbacks, validation_split, validation_data, shuffle, class_weight, sample_weight, initial_epoch, steps_per_epoch, validation_steps, validation_batch_size, validation_freq, max_queue_size, workers, use_multiprocessing)\u001b[0m\n\u001b[0;32m   1137\u001b[0m          \u001b[0mtraining_utils\u001b[0m\u001b[1;33m.\u001b[0m\u001b[0mRespectCompiledTrainableState\u001b[0m\u001b[1;33m(\u001b[0m\u001b[0mself\u001b[0m\u001b[1;33m)\u001b[0m\u001b[1;33m:\u001b[0m\u001b[1;33m\u001b[0m\u001b[1;33m\u001b[0m\u001b[0m\n\u001b[0;32m   1138\u001b[0m       \u001b[1;31m# Creates a `tf.data.Dataset` and handles batch and epoch iteration.\u001b[0m\u001b[1;33m\u001b[0m\u001b[1;33m\u001b[0m\u001b[1;33m\u001b[0m\u001b[0m\n\u001b[1;32m-> 1139\u001b[1;33m       data_handler = data_adapter.get_data_handler(\n\u001b[0m\u001b[0;32m   1140\u001b[0m           \u001b[0mx\u001b[0m\u001b[1;33m=\u001b[0m\u001b[0mx\u001b[0m\u001b[1;33m,\u001b[0m\u001b[1;33m\u001b[0m\u001b[1;33m\u001b[0m\u001b[0m\n\u001b[0;32m   1141\u001b[0m           \u001b[0my\u001b[0m\u001b[1;33m=\u001b[0m\u001b[0my\u001b[0m\u001b[1;33m,\u001b[0m\u001b[1;33m\u001b[0m\u001b[1;33m\u001b[0m\u001b[0m\n",
      "\u001b[1;32m~\\Anaconda3\\envs\\tensorflow\\lib\\site-packages\\keras\\engine\\data_adapter.py\u001b[0m in \u001b[0;36mget_data_handler\u001b[1;34m(*args, **kwargs)\u001b[0m\n\u001b[0;32m   1381\u001b[0m   \u001b[1;32mif\u001b[0m \u001b[0mgetattr\u001b[0m\u001b[1;33m(\u001b[0m\u001b[0mkwargs\u001b[0m\u001b[1;33m[\u001b[0m\u001b[1;34m\"model\"\u001b[0m\u001b[1;33m]\u001b[0m\u001b[1;33m,\u001b[0m \u001b[1;34m\"_cluster_coordinator\"\u001b[0m\u001b[1;33m,\u001b[0m \u001b[1;32mNone\u001b[0m\u001b[1;33m)\u001b[0m\u001b[1;33m:\u001b[0m\u001b[1;33m\u001b[0m\u001b[1;33m\u001b[0m\u001b[0m\n\u001b[0;32m   1382\u001b[0m     \u001b[1;32mreturn\u001b[0m \u001b[0m_ClusterCoordinatorDataHandler\u001b[0m\u001b[1;33m(\u001b[0m\u001b[1;33m*\u001b[0m\u001b[0margs\u001b[0m\u001b[1;33m,\u001b[0m \u001b[1;33m**\u001b[0m\u001b[0mkwargs\u001b[0m\u001b[1;33m)\u001b[0m\u001b[1;33m\u001b[0m\u001b[1;33m\u001b[0m\u001b[0m\n\u001b[1;32m-> 1383\u001b[1;33m   \u001b[1;32mreturn\u001b[0m \u001b[0mDataHandler\u001b[0m\u001b[1;33m(\u001b[0m\u001b[1;33m*\u001b[0m\u001b[0margs\u001b[0m\u001b[1;33m,\u001b[0m \u001b[1;33m**\u001b[0m\u001b[0mkwargs\u001b[0m\u001b[1;33m)\u001b[0m\u001b[1;33m\u001b[0m\u001b[1;33m\u001b[0m\u001b[0m\n\u001b[0m\u001b[0;32m   1384\u001b[0m \u001b[1;33m\u001b[0m\u001b[0m\n\u001b[0;32m   1385\u001b[0m \u001b[1;33m\u001b[0m\u001b[0m\n",
      "\u001b[1;32m~\\Anaconda3\\envs\\tensorflow\\lib\\site-packages\\keras\\engine\\data_adapter.py\u001b[0m in \u001b[0;36m__init__\u001b[1;34m(self, x, y, sample_weight, batch_size, steps_per_epoch, initial_epoch, epochs, shuffle, class_weight, max_queue_size, workers, use_multiprocessing, model, steps_per_execution, distribute)\u001b[0m\n\u001b[0;32m   1136\u001b[0m \u001b[1;33m\u001b[0m\u001b[0m\n\u001b[0;32m   1137\u001b[0m     \u001b[0madapter_cls\u001b[0m \u001b[1;33m=\u001b[0m \u001b[0mselect_data_adapter\u001b[0m\u001b[1;33m(\u001b[0m\u001b[0mx\u001b[0m\u001b[1;33m,\u001b[0m \u001b[0my\u001b[0m\u001b[1;33m)\u001b[0m\u001b[1;33m\u001b[0m\u001b[1;33m\u001b[0m\u001b[0m\n\u001b[1;32m-> 1138\u001b[1;33m     self._adapter = adapter_cls(\n\u001b[0m\u001b[0;32m   1139\u001b[0m         \u001b[0mx\u001b[0m\u001b[1;33m,\u001b[0m\u001b[1;33m\u001b[0m\u001b[1;33m\u001b[0m\u001b[0m\n\u001b[0;32m   1140\u001b[0m         \u001b[0my\u001b[0m\u001b[1;33m,\u001b[0m\u001b[1;33m\u001b[0m\u001b[1;33m\u001b[0m\u001b[0m\n",
      "\u001b[1;32m~\\Anaconda3\\envs\\tensorflow\\lib\\site-packages\\keras\\engine\\data_adapter.py\u001b[0m in \u001b[0;36m__init__\u001b[1;34m(self, x, y, sample_weights, sample_weight_modes, batch_size, epochs, steps, shuffle, **kwargs)\u001b[0m\n\u001b[0;32m    239\u001b[0m \u001b[1;33m\u001b[0m\u001b[0m\n\u001b[0;32m    240\u001b[0m     \u001b[0mnum_samples\u001b[0m \u001b[1;33m=\u001b[0m \u001b[0mset\u001b[0m\u001b[1;33m(\u001b[0m\u001b[0mint\u001b[0m\u001b[1;33m(\u001b[0m\u001b[0mi\u001b[0m\u001b[1;33m.\u001b[0m\u001b[0mshape\u001b[0m\u001b[1;33m[\u001b[0m\u001b[1;36m0\u001b[0m\u001b[1;33m]\u001b[0m\u001b[1;33m)\u001b[0m \u001b[1;32mfor\u001b[0m \u001b[0mi\u001b[0m \u001b[1;32min\u001b[0m \u001b[0mtf\u001b[0m\u001b[1;33m.\u001b[0m\u001b[0mnest\u001b[0m\u001b[1;33m.\u001b[0m\u001b[0mflatten\u001b[0m\u001b[1;33m(\u001b[0m\u001b[0minputs\u001b[0m\u001b[1;33m)\u001b[0m\u001b[1;33m)\u001b[0m\u001b[1;33m.\u001b[0m\u001b[0mpop\u001b[0m\u001b[1;33m(\u001b[0m\u001b[1;33m)\u001b[0m\u001b[1;33m\u001b[0m\u001b[1;33m\u001b[0m\u001b[0m\n\u001b[1;32m--> 241\u001b[1;33m     \u001b[0m_check_data_cardinality\u001b[0m\u001b[1;33m(\u001b[0m\u001b[0minputs\u001b[0m\u001b[1;33m)\u001b[0m\u001b[1;33m\u001b[0m\u001b[1;33m\u001b[0m\u001b[0m\n\u001b[0m\u001b[0;32m    242\u001b[0m \u001b[1;33m\u001b[0m\u001b[0m\n\u001b[0;32m    243\u001b[0m     \u001b[1;31m# If batch_size is not passed but steps is, calculate from the input data.\u001b[0m\u001b[1;33m\u001b[0m\u001b[1;33m\u001b[0m\u001b[1;33m\u001b[0m\u001b[0m\n",
      "\u001b[1;32m~\\Anaconda3\\envs\\tensorflow\\lib\\site-packages\\keras\\engine\\data_adapter.py\u001b[0m in \u001b[0;36m_check_data_cardinality\u001b[1;34m(data)\u001b[0m\n\u001b[0;32m   1647\u001b[0m           label, \", \".join(str(i.shape[0]) for i in tf.nest.flatten(single_data)))\n\u001b[0;32m   1648\u001b[0m     \u001b[0mmsg\u001b[0m \u001b[1;33m+=\u001b[0m \u001b[1;34m\"Make sure all arrays contain the same number of samples.\"\u001b[0m\u001b[1;33m\u001b[0m\u001b[1;33m\u001b[0m\u001b[0m\n\u001b[1;32m-> 1649\u001b[1;33m     \u001b[1;32mraise\u001b[0m \u001b[0mValueError\u001b[0m\u001b[1;33m(\u001b[0m\u001b[0mmsg\u001b[0m\u001b[1;33m)\u001b[0m\u001b[1;33m\u001b[0m\u001b[1;33m\u001b[0m\u001b[0m\n\u001b[0m\u001b[0;32m   1650\u001b[0m \u001b[1;33m\u001b[0m\u001b[0m\n\u001b[0;32m   1651\u001b[0m \u001b[1;33m\u001b[0m\u001b[0m\n",
      "\u001b[1;31mValueError\u001b[0m: Data cardinality is ambiguous:\n  x sizes: 117978, 117978, 117978, 117978, 117978, 117978, 117978, 117978, 117978, 117978, 117978, 117978, 117978, 117978, 117978, 117978, 117978, 117978, 117978, 117978, 117978, 117978, 117978, 117978, 117978, 117978, 117978, 117978, 117978, 117978, 117978, 117978, 117978, 117978, 117978, 117978, 117978, 117978, 117978, 117978, 117978, 117978, 117978, 117978, 117978, 117978, 117978, 117978, 117978, 117978, 117978, 117978, 117978, 117978, 117978, 117978, 117978, 117978, 117978, 117978, 117978, 117978, 117978, 117978, 117978, 117978, 117978, 117978, 117978, 117978, 117978, 117978, 117978, 117978, 117978, 117978, 117978, 117978, 117978, 117978, 117978, 117978, 117978, 117978, 117978, 117978, 117978, 117978, 117978, 117978, 117978, 117978, 117978, 117978, 117978, 117978, 117978, 117978, 117978, 117978, 117978, 117978, 117978, 117978, 117978, 117978, 117978, 117978, 117978, 117978, 117978, 117978, 117978, 117978, 117978, 117978, 117978, 117978, 117978, 117978, 117978, 117978, 117978, 117978, 117978, 117978, 117978, 117978, 117978, 117978, 117978, 117978, 117978, 117978, 117978, 117978, 117978, 117978, 117978, 117978, 117978, 117978, 117978, 117978, 117978, 117978, 117978, 117978, 117978, 117978, 117978, 117978, 117978, 117978, 117978, 117978, 117978, 117978, 117978, 117978, 117978, 117978, 117978, 117978, 117978, 117978, 117978, 117978, 117978, 117978, 117978, 117978, 117978, 117978, 117978, 117978, 117978, 117978, 117978, 117978, 117978, 117978, 117978, 117978, 117978, 117978, 117978, 117978, 117978, 117978, 117978, 117978, 117978, 117978, 117978, 117978, 117978, 117978, 117978, 117978, 117978, 117978, 117978, 117978, 117978, 117978, 117978, 117978, 117978, 117978, 117978, 117978, 117978, 117978, 117978, 117978, 117978, 117978, 117978, 117978, 117978, 117978, 117978, 117978, 117978, 117978, 117978, 117978, 117978, 117978, 117978, 117978, 117978, 117978, 117978, 117978, 117978, 117978, 117978, 117978, 117978, 117978, 117978, 117978, 117978, 117978, 117978, 117978, 117978, 117978, 117978, 117978, 117978, 117978, 117978, 117978, 117978, 117978, 117978, 117978, 117978, 117978, 117978, 117978, 117978, 117978, 117978, 117978, 117978, 117978, 117978, 117978, 117978, 117978, 117978, 117978, 117978, 117978, 117978, 117978, 117978, 117978, 117978, 117978, 117978, 117978, 117978, 117978, 117978, 117978, 117978, 117978, 117978, 117978, 117978, 117978, 117978, 117978, 117978, 117978, 117978, 117978, 117978, 117978, 117978, 117978, 117978, 117978, 117978, 117978, 117978, 117978, 117978, 117978, 117978, 117978, 117978, 117978, 117978, 117978, 117978, 117978, 117978, 117978, 117978, 117978, 117978, 117978, 117978, 117978, 117978, 117978, 117978, 117978, 117978, 117978, 117978, 117978, 117978, 117978, 117978, 117978, 117978, 117978, 117978, 117978, 117978, 117978, 117978, 117978, 117978, 117978, 117978, 117978, 117978, 117978, 117978, 117978, 117978, 117978, 117978, 117978, 117978, 117978, 117978, 117978, 117978, 117978, 117978, 117978, 117978, 117978, 117978, 117978, 117978, 117978, 117978, 117978, 117978, 117978, 117978, 117978, 117978, 117978, 117978, 117978, 117978, 117978, 117978, 117978, 117978, 117978, 117978, 117978, 117978, 117978, 117978, 117978, 117978, 117978, 117978, 117978, 117978, 117978, 117978, 117978, 117978, 117978, 117978, 117978, 117978, 117978, 117978, 117978, 117978, 117978, 117978, 117978, 117978, 117978, 117978, 117978, 117978, 117978, 117978, 117978, 117978, 117978, 117978, 117978, 117978, 117978, 117978, 117978, 117978, 117978, 117978, 117978, 117978, 117978, 117978, 117978, 117978, 117978, 117978, 117978, 117978, 117978, 117978, 117978, 117978, 117978, 117978, 117978, 117978, 117978, 117978, 117978, 117978, 117978, 117978, 117978, 117978, 117978, 117978, 117978, 117978, 117978, 117978, 117978, 117978, 117978, 117978, 117978, 117978, 117978, 117978, 117978, 117978, 117978, 117978, 117978, 117978, 117978, 117978, 117978, 117978, 117978, 117978, 117978, 117978, 117978, 117978, 117978, 117978, 117978, 117978, 117978, 117978, 117978, 117978, 117978, 117978, 117978, 117978, 117978, 117978, 117978, 117978, 117978, 117978, 117978, 117978, 117978, 117978, 117978, 117978, 117978, 117978, 117978, 117978, 117978, 117978, 117978, 117978, 117978, 117978, 117978, 117978, 117978, 117978, 117978, 117978, 117978, 117978, 117978, 117978, 117978, 117978, 117978, 117978, 117978, 117978, 117978, 117978, 117978, 117978, 117978, 117978, 117978, 117978, 117978, 117978, 117978, 117978, 117978, 117978, 117978, 117978, 117978, 117978, 117978, 117978, 117978, 117978, 117978, 117978, 117978, 117978, 117978, 117978, 117978, 117978, 117978, 117978, 117978, 117978, 117978, 117978, 117978, 117978, 117978, 117978, 117978, 117978, 117978, 117978, 117978, 117978, 117978, 117978, 117978, 117978, 117978, 117978, 117978, 117978, 117978, 117978, 117978, 117978, 117978, 117978, 117978, 117978, 117978, 117978, 117978, 117978, 117978, 117978, 117978, 117978, 117978, 117978, 117978, 117978, 117978, 117978, 117978, 117978, 117978, 117978, 117978, 117978, 117978, 117978, 117978, 117978, 117978, 117978, 117978, 117978, 117978, 117978, 117978, 117978, 117978, 117978, 117978, 117978, 117978, 117978, 117978, 117978, 117978, 117978, 117978, 117978, 117978, 117978, 117978, 117978, 117978, 117978, 117978, 117978, 117978, 117978, 117978, 117978, 117978, 117978, 117978, 117978, 117978, 117978, 117978, 117978, 117978, 117978, 117978, 117978, 117978, 117978, 117978, 117978, 117978, 117978, 117978, 117978, 117978, 117978, 117978, 117978, 117978, 117978, 117978, 117978, 117978, 117978, 117978, 117978, 117978, 117978, 117978, 117978, 117978, 117978, 117978, 117978, 117978, 117978, 117978, 117978, 117978, 117978, 117978, 117978, 117978, 117978, 117978, 117978, 117978, 117978, 117978, 117978, 117978, 117978, 117978, 117978, 117978, 117978, 117978, 117978, 117978, 117978, 117978, 117978, 117978, 117978, 117978, 117978, 117978, 117978, 117978, 117978, 117978, 117978, 117978, 117978, 117978, 117978, 117978, 117978, 117978, 117978, 117978, 117978, 117978, 117978, 117978, 117978, 117978, 117978, 117978, 117978, 117978, 117978, 117978, 117978, 117978, 117978, 117978, 117978, 117978, 117978, 117978, 117978, 117978, 117978, 117978, 117978, 117978, 117978, 117978, 117978, 117978, 117978, 117978, 117978, 117978, 117978, 117978, 117978, 117978, 117978, 117978, 117978, 117978, 117978, 117978, 117978, 117978, 117978, 117978, 117978, 117978, 117978, 117978, 117978, 117978, 117978, 117978, 117978, 117978, 117978, 117978, 117978, 117978, 117978, 117978, 117978, 117978, 117978, 117978, 117978, 117978, 117978, 117978, 117978, 117978, 117978, 117978, 117978, 117978, 117978, 117978, 117978, 117978, 117978, 117978, 117978, 117978, 117978, 117978, 117978, 117978, 117978, 117978, 117978, 117978, 117978, 117978, 117978, 117978, 117978, 117978, 117978, 117978, 117978, 117978, 117978, 117978, 117978, 117978, 117978, 117978, 117978, 117978, 117978, 117978, 117978, 117978, 117978, 117978, 117978, 117978, 117978, 117978, 117978, 117978, 117978, 117978, 117978, 117978, 117978, 117978, 117978, 117978, 117978, 117978, 117978, 117978, 117978, 117978, 117978, 117978, 117978, 117978, 117978, 117978, 117978, 117978, 117978, 117978, 117978, 117978, 117978, 117978, 117978, 117978, 117978, 117978, 117978, 117978, 117978, 117978, 117978, 117978, 117978, 117978, 117978, 117978, 117978, 117978, 117978, 117978, 117978, 117978, 117978, 117978, 117978, 117978, 117978, 117978, 117978, 117978, 117978, 117978, 117978, 117978, 117978, 117978, 117978, 117978, 117978, 117978, 117978, 117978, 117978, 117978, 117978, 117978, 117978, 117978, 117978, 117978, 117978, 117978, 117978, 117978, 117978, 117978, 117978, 117978, 117978, 117978, 117978, 117978, 117978, 117978, 117978, 117978, 117978, 117978, 117978, 117978, 117978, 117978, 117978, 117978, 117978, 117978, 117978, 117978, 117978, 117978, 117978, 117978, 117978, 117978, 117978, 117978, 117978, 117978, 117978, 117978, 117978, 117978, 117978, 117978, 117978, 117978, 117978, 117978, 117978, 117978, 117978, 117978, 117978, 117978, 117978, 117978, 117978, 117978, 117978, 117978, 117978, 117978, 117978, 117978, 117978, 117978, 117978, 117978, 117978, 117978, 117978, 117978, 117978, 117978, 117978, 117978, 117978, 117978, 117978, 117978, 117978, 117978, 117978, 117978, 117978, 117978, 117978, 117978, 117978, 117978, 117978, 117978, 117978, 117978, 117978, 117978, 117978, 117978, 117978, 117978, 117978, 117978, 117978, 117978, 117978, 117978, 117978, 117978, 117978, 117978, 117978, 117978, 117978, 117978, 117978, 117978, 117978, 117978, 117978, 117978, 117978, 117978, 117978, 117978, 117978, 117978, 117978, 117978, 117978, 117978, 117978, 117978, 117978, 117978, 117978, 117978, 117978, 117978, 117978, 117978, 117978, 117978, 117978, 117978, 117978, 117978, 117978, 117978, 117978, 117978, 117978, 117978, 117978, 117978, 117978, 117978, 117978, 117978, 117978, 117978, 117978, 117978, 117978, 117978, 117978, 117978, 117978, 117978, 117978, 117978, 117978, 117978, 117978, 117978, 117978, 117978, 117978, 117978, 117978, 117978, 117978, 117978, 117978, 117978, 117978, 117978, 117978, 117978, 117978, 117978, 117978, 117978, 117978, 117978, 117978, 117978, 117978, 117978, 117978, 117978, 117978, 117978, 117978, 117978, 117978, 117978, 117978, 117978, 117978, 117978, 117978, 117978, 117978, 117978, 117978, 117978, 117978, 117978, 117978, 117978, 117978, 117978, 117978, 117978, 117978, 117978, 117978, 117978, 117978, 117978, 117978, 117978, 117978, 117978, 117978, 117978, 117978, 117978, 117978, 117978, 117978, 117978, 117978, 117978, 117978, 117978, 117978, 117978, 117978, 117978, 117978, 117978, 117978, 117978, 117978, 117978, 117978, 117978, 117978, 117978, 117978, 117978, 117978, 117978, 117978, 117978, 117978, 117978, 117978, 117978, 117978, 117978, 117978, 117978, 117978, 117978, 117978, 117978, 117978, 117978, 117978, 117978, 117978, 117978, 117978, 117978, 117978, 117978, 117978, 117978, 117978, 117978, 117978, 117978, 117978, 117978, 117978, 117978, 117978, 117978, 117978, 117978, 117978, 117978, 117978, 117978, 117978, 117978, 117978, 117978, 117978, 117978, 117978, 117978, 117978, 117978, 117978, 117978, 117978, 117978, 117978, 117978, 117978, 117978, 117978, 117978, 117978, 117978, 117978, 117978, 117978, 117978, 117978, 117978, 117978, 117978, 117978, 117978, 117978, 117978, 117978, 117978, 117978, 117978, 117978, 117978, 117978, 117978, 117978, 117978, 117978, 117978, 117978, 117978, 117978, 117978, 117978, 117978, 117978, 117978, 117978, 117978, 117978, 117978, 117978, 117978, 117978, 117978, 117978, 117978, 117978, 117978, 117978, 117978, 117978, 117978, 117978, 117978, 117978, 117978, 117978, 117978, 117978, 117978, 117978, 117978, 117978, 117978, 117978, 117978, 117978, 117978, 117978, 117978, 117978, 117978, 117978, 117978, 117978, 117978, 117978, 117978, 117978, 117978, 117978, 117978, 117978, 117978, 117978, 117978, 117978, 117978, 117978, 117978, 117978, 117978, 117978, 117978, 117978, 117978, 117978, 117978, 117978, 117978, 117978, 117978, 117978, 117978, 117978, 117978, 117978, 117978, 117978, 117978, 117978, 117978, 117978, 117978, 117978, 117978, 117978, 117978, 117978, 117978, 117978, 117978, 117978, 117978, 117978, 117978, 117978, 117978, 117978, 117978, 117978, 117978, 117978, 117978, 117978, 117978, 117978, 117978, 117978, 117978, 117978, 117978, 117978, 117978, 117978, 117978, 117978, 117978, 117978, 117978, 117978, 117978, 117978, 117978, 117978, 117978, 117978, 117978, 117978, 117978, 117978, 117978, 117978, 117978, 117978, 117978, 117978, 117978, 117978, 117978, 117978, 117978, 117978, 117978, 117978, 117978, 117978, 117978, 117978, 117978, 117978, 117978, 117978, 117978, 117978, 117978, 117978, 117978, 117978, 117978, 117978, 117978, 117978, 117978, 117978, 117978, 117978, 117978, 117978, 117978, 117978, 117978, 117978, 117978, 117978, 117978, 117978, 117978, 117978, 117978, 117978, 117978, 117978, 117978, 117978, 117978, 117978, 117978, 117978, 117978, 117978, 117978, 117978, 117978, 117978, 117978, 117978, 117978, 117978, 117978, 117978, 117978, 117978, 117978, 117978, 117978, 117978, 117978, 117978, 117978, 117978, 117978, 117978, 117978, 117978, 117978, 117978, 117978, 117978, 117978, 117978, 117978, 117978, 117978, 117978, 117978, 117978, 117978, 117978, 117978, 117978, 117978, 117978, 117978, 117978, 117978, 117978, 117978, 117978, 117978, 117978, 117978, 117978, 117978, 117978, 117978, 117978, 117978, 117978, 117978, 117978, 117978, 117978, 117978, 117978, 117978, 117978, 117978, 117978, 117978, 117978, 117978, 117978, 117978, 117978, 117978, 117978, 117978, 117978, 117978, 117978, 117978, 117978, 117978, 117978, 117978, 117978, 117978, 117978, 117978, 117978, 117978, 117978, 117978, 117978, 117978, 117978, 117978, 117978, 117978, 117978, 117978, 117978, 117978, 117978, 117978, 117978, 117978, 117978, 117978, 117978, 117978, 117978, 117978, 117978, 117978, 117978, 117978, 117978, 117978, 117978, 117978, 117978, 117978, 117978, 117978, 117978, 117978, 117978, 117978, 117978, 117978, 117978, 117978, 117978, 117978, 117978, 117978, 117978, 117978, 117978, 117978, 117978, 117978, 117978, 117978, 117978, 117978, 117978, 117978, 117978, 117978, 117978, 117978, 117978, 117978, 117978, 117978, 117978, 117978, 117978, 117978, 117978, 117978, 117978, 117978, 117978, 117978, 117978, 117978, 117978, 117978, 117978, 117978, 117978, 117978, 117978, 117978, 117978, 117978, 117978, 117978, 117978, 117978, 117978, 117978, 117978, 117978, 117978, 117978, 117978, 117978, 117978, 117978, 117978, 117978, 117978, 117978, 117978, 117978, 117978, 117978, 117978, 117978, 117978, 117978, 117978, 117978, 117978, 117978, 117978, 117978, 117978, 117978, 117978, 117978, 117978, 117978, 117978, 117978, 117978, 117978, 117978, 117978, 117978, 117978, 117978, 117978, 117978, 117978, 117978, 117978, 117978, 117978, 117978, 117978, 117978, 117978, 117978, 117978, 117978, 117978, 117978, 117978, 117978, 117978, 117978, 117978, 117978, 117978, 117978, 117978, 117978, 117978, 117978, 117978, 117978, 117978, 117978, 117978, 117978, 117978, 117978, 117978, 117978, 117978, 117978, 117978, 117978, 117978, 117978, 117978, 117978, 117978, 117978, 117978, 117978, 117978, 117978, 117978, 117978, 117978, 117978, 117978, 117978, 117978, 117978, 117978, 117978, 117978, 117978, 117978, 117978, 117978, 117978, 117978, 117978, 117978, 117978, 117978, 117978, 117978, 117978, 117978, 117978, 117978, 117978, 117978, 117978, 117978, 117978, 117978, 117978, 117978, 117978, 117978, 117978, 117978, 117978, 117978, 117978, 117978, 117978, 117978, 117978, 117978, 117978, 117978, 117978, 117978, 117978, 117978, 117978, 117978, 117978, 117978, 117978, 117978, 117978, 117978, 117978, 117978, 117978, 117978, 117978, 117978, 117978, 117978, 117978, 117978, 117978, 117978, 117978, 117978, 117978, 117978, 117978, 117978, 117978, 117978, 117978, 117978, 117978, 117978, 117978, 117978, 117978, 117978, 117978, 117978, 117978, 117978, 117978, 117978, 117978, 117978, 117978, 117978, 117978, 117978, 117978, 117978, 117978, 117978, 117978, 117978, 117978, 117978, 117978, 117978, 117978, 117978, 117978, 117978, 117978, 117978, 117978, 117978, 117978, 117978, 117978, 117978, 117978, 117978, 117978, 117978, 117978, 117978, 117978, 117978, 117978, 117978, 117978, 117978, 117978, 117978, 117978, 117978, 117978, 117978, 117978, 117978, 117978, 117978, 117978, 117978, 117978, 117978, 117978, 117978, 117978, 117978, 117978, 117978, 117978, 117978, 117978, 117978, 117978, 117978, 117978, 117978, 117978, 117978, 117978, 117978, 117978, 117978, 117978, 117978, 117978, 117978, 117978, 117978, 117978, 117978, 117978, 117978, 117978, 117978, 117978, 117978, 117978, 117978, 117978, 117978, 117978, 117978, 117978, 117978, 117978, 117978, 117978, 117978, 117978, 117978, 117978, 117978, 117978, 117978, 117978, 117978, 117978, 117978, 117978, 117978, 117978, 117978, 117978, 117978, 117978, 117978, 117978, 117978, 117978, 117978, 117978, 117978, 117978, 117978, 117978, 117978, 117978, 117978, 117978, 117978, 117978, 117978, 117978, 117978, 117978, 117978, 117978, 117978, 117978, 117978, 117978, 117978, 117978, 117978, 117978, 117978, 117978, 117978, 117978, 117978, 117978, 117978, 117978, 117978, 117978, 117978, 117978, 117978, 117978, 117978, 117978, 117978, 117978, 117978, 117978, 117978, 117978, 117978, 117978, 117978, 117978, 117978, 117978, 117978, 117978, 117978, 117978, 117978, 117978, 117978, 117978, 117978, 117978, 117978, 117978, 117978, 117978, 117978, 117978, 117978, 117978, 117978, 117978, 117978, 117978, 117978, 117978, 117978, 117978, 117978, 117978, 117978, 117978, 117978, 117978, 117978, 117978, 117978, 117978, 117978, 117978, 117978, 117978, 117978, 117978, 117978, 117978, 117978, 117978, 117978, 117978, 117978, 117978, 117978, 117978, 117978, 117978, 117978, 117978, 117978, 117978, 117978, 117978, 117978, 117978, 117978, 117978, 117978, 117978, 117978, 117978, 117978, 117978, 117978, 117978, 117978, 117978, 117978, 117978, 117978, 117978, 117978, 117978, 117978, 117978, 117978, 117978, 117978, 117978, 117978, 117978, 117978, 117978, 117978, 117978, 117978, 117978, 117978, 117978, 117978, 117978, 117978, 117978, 117978, 117978, 117978, 117978, 117978, 117978, 117978, 117978, 117978, 117978, 117978, 117978, 117978, 117978, 117978, 117978, 117978, 117978, 117978, 117978, 117978, 117978, 117978, 117978, 117978, 117978, 117978, 117978, 117978, 117978, 117978, 117978, 117978, 117978, 117978, 117978, 117978, 117978, 117978, 117978, 117978, 117978, 117978, 117978, 117978, 117978, 117978, 117978, 117978, 117978, 117978, 117978, 117978, 117978, 117978, 117978, 117978, 117978, 117978, 117978, 117978, 117978, 117978, 117978, 117978, 117978, 117978, 117978, 117978, 117978, 117978, 117978, 117978, 117978, 117978, 117978, 117978, 117978, 117978, 117978, 117978, 117978, 117978, 117978, 117978, 117978, 117978, 117978, 117978, 117978, 117978, 117978, 117978, 117978, 117978, 117978, 117978, 117978, 117978, 117978, 117978, 117978, 117978, 117978, 117978, 117978, 117978, 117978, 117978, 117978, 117978, 117978, 117978, 117978, 117978, 117978, 117978, 117978, 117978, 117978, 117978, 117978, 117978, 117978, 117978, 117978, 117978, 117978, 117978, 117978, 117978, 117978, 117978, 117978, 117978, 117978, 117978, 117978, 117978, 117978, 117978, 117978, 117978, 117978, 117978, 117978, 117978, 117978, 117978, 117978, 117978, 117978, 117978, 117978, 117978, 117978, 117978, 117978, 117978, 117978, 117978, 117978, 117978, 117978, 117978, 117978, 117978, 117978, 117978, 117978, 117978, 117978, 117978, 117978, 117978, 117978, 117978, 117978, 117978, 117978, 117978, 117978, 117978, 117978, 117978, 117978, 117978, 117978, 117978, 117978, 117978, 117978, 117978, 117978, 117978, 117978, 117978, 117978, 117978, 117978, 117978, 117978, 117978, 117978, 117978, 117978, 117978, 117978, 117978, 117978, 117978, 117978, 117978, 117978, 117978, 117978, 117978, 117978, 117978, 117978, 117978, 117978, 117978, 117978, 117978, 117978, 117978, 117978, 117978, 117978, 117978, 117978, 117978, 117978, 117978, 117978, 117978, 117978, 117978, 117978, 117978, 117978, 117978, 117978, 117978, 117978, 117978, 117978, 117978, 117978, 117978, 117978, 117978, 117978, 117978, 117978, 117978, 117978, 117978, 117978, 117978, 117978, 117978, 117978, 117978, 117978, 117978, 117978, 117978, 117978, 117978, 117978, 117978, 117978, 117978, 117978, 117978, 117978, 117978, 117978, 117978, 117978, 117978, 117978, 117978, 117978, 117978, 117978, 117978, 117978, 117978, 117978, 117978, 117978, 117978, 117978, 117978, 117978, 117978, 117978, 117978, 117978, 117978, 117978, 117978, 117978, 117978, 117978, 117978, 117978, 117978, 117978, 117978, 117978, 117978, 117978, 117978, 117978, 117978, 117978, 117978, 117978, 117978, 117978, 117978, 117978, 117978, 117978, 117978, 117978, 117978, 117978, 117978, 117978, 117978, 117978, 117978, 117978, 117978, 117978, 117978, 117978, 117978, 117978, 117978, 117978, 117978, 117978, 117978, 117978, 117978, 117978, 117978, 117978, 117978, 117978, 117978, 117978, 117978, 117978, 117978, 117978, 117978, 117978, 117978, 117978, 117978, 117978, 117978, 117978, 117978, 117978, 117978, 117978, 117978, 117978, 117978, 117978, 117978, 117978, 117978, 117978, 117978, 117978, 117978, 117978, 117978, 117978, 117978, 117978, 117978, 117978, 117978, 117978, 117978, 117978, 117978, 117978, 117978, 117978, 117978, 117978, 117978, 117978, 117978, 117978, 117978, 117978, 117978, 117978, 117978, 117978, 117978, 117978, 117978, 117978, 117978, 117978, 117978, 117978, 117978, 117978, 117978, 117978, 117978, 117978, 117978, 117978, 117978, 117978, 117978, 117978, 117978, 117978, 117978, 117978, 117978, 117978, 117978, 117978, 117978, 117978, 117978, 117978, 117978, 117978, 117978, 117978, 117978, 117978, 117978, 117978, 117978, 117978, 117978, 117978, 117978, 117978, 117978, 117978, 117978, 117978, 117978, 117978, 117978, 117978, 117978, 117978, 117978, 117978, 117978, 117978, 117978, 117978, 117978, 117978, 117978, 117978, 117978, 117978, 117978, 117978, 117978, 117978, 117978, 117978, 117978, 117978, 117978, 117978, 117978, 117978, 117978, 117978, 117978, 117978, 117978, 117978, 117978, 117978, 117978, 117978, 117978, 117978, 117978, 117978, 117978, 117978, 117978, 117978, 117978, 117978, 117978, 117978, 117978, 117978, 117978, 117978, 117978, 117978, 117978, 117978, 117978, 117978, 117978, 117978, 117978, 117978, 117978, 117978, 117978, 117978, 117978, 117978, 117978, 117978, 117978, 117978, 117978, 117978, 117978, 117978, 117978, 117978, 117978, 117978, 117978, 117978, 117978, 117978, 117978, 117978, 117978, 117978, 117978, 117978, 117978, 117978, 117978, 117978, 117978, 117978, 117978, 117978, 117978, 117978, 117978, 117978, 117978, 117978, 117978, 117978, 117978, 117978, 117978, 117978, 117978, 117978, 117978, 117978, 117978, 117978, 117978, 117978, 117978, 117978, 117978, 117978, 117978, 117978, 117978, 117978, 117978, 117978, 117978, 117978, 117978, 117978, 117978, 117978, 117978, 117978, 117978, 117978, 117978, 117978, 117978, 117978, 117978, 117978, 117978, 117978, 117978, 117978, 117978, 117978, 117978, 117978, 117978, 117978, 117978, 117978, 117978, 117978, 117978, 117978, 117978, 117978, 117978, 117978, 117978, 117978, 117978, 117978, 117978, 117978, 117978, 117978, 117978, 117978, 117978, 117978, 117978, 117978, 117978, 117978, 117978, 117978, 117978, 117978, 117978, 117978, 117978, 117978, 117978, 117978, 117978, 117978, 117978, 117978, 117978, 117978, 117978, 117978, 117978, 117978, 117978, 117978, 117978, 117978, 117978, 117978, 117978, 117978, 117978, 117978, 117978, 117978, 117978, 117978, 117978, 117978, 117978, 117978, 117978, 117978, 117978, 117978, 117978, 117978, 117978, 117978, 117978, 117978, 117978, 117978, 117978, 117978, 117978, 117978, 117978, 117978, 117978, 117978, 117978, 117978, 117978, 117978, 117978, 117978, 117978, 117978, 117978, 117978, 117978, 117978, 117978, 117978, 117978, 117978, 117978, 117978, 117978, 117978, 117978, 117978, 117978, 117978, 117978, 117978, 117978, 117978, 117978, 117978, 117978, 117978, 117978, 117978, 117978, 117978, 117978, 117978, 117978, 117978, 117978, 117978, 117978, 117978, 117978, 117978, 117978, 117978, 117978, 117978, 117978, 117978, 117978, 117978, 117978, 117978, 117978, 117978, 117978, 117978, 117978, 117978, 117978, 117978, 117978, 117978, 117978, 117978, 117978, 117978, 117978, 117978, 117978, 117978, 117978, 117978, 117978, 117978, 117978, 117978, 117978, 117978, 117978, 117978, 117978, 117978, 117978, 117978, 117978, 117978, 117978, 117978, 117978, 117978, 117978, 117978, 117978, 117978, 117978, 117978, 117978, 117978, 117978, 117978, 117978, 117978, 117978, 117978, 117978, 117978, 117978, 117978, 117978, 117978, 117978, 117978, 117978, 117978, 117978, 117978, 117978, 117978, 117978, 117978, 117978, 117978, 117978, 117978, 117978, 117978, 117978, 117978, 117978, 117978, 117978, 117978, 117978, 117978, 117978, 117978, 117978, 117978, 117978, 117978, 117978, 117978, 117978, 117978, 117978, 117978, 117978, 117978, 117978, 117978, 117978, 117978, 117978, 117978, 117978, 117978, 117978, 117978, 117978, 117978, 117978, 117978, 117978, 117978, 117978, 117978, 117978, 117978, 117978, 117978, 117978, 117978, 117978, 117978, 117978, 117978, 117978, 117978, 117978, 117978, 117978, 117978, 117978, 117978, 117978, 117978, 117978, 117978, 117978, 117978, 117978, 117978, 117978, 117978, 117978, 117978, 117978, 117978, 117978, 117978, 117978, 117978, 117978, 117978, 117978, 117978, 117978, 117978, 117978, 117978, 117978, 117978, 117978, 117978, 117978, 117978, 117978, 117978, 117978, 117978, 117978, 117978, 117978, 117978, 117978, 117978, 117978, 117978, 117978, 117978, 117978, 117978, 117978, 117978, 117978, 117978, 117978, 117978, 117978, 117978, 117978, 117978, 117978, 117978, 117978, 117978, 117978, 117978, 117978, 117978, 117978, 117978, 117978, 117978, 117978, 117978, 117978, 117978, 117978, 117978, 117978, 117978, 117978, 117978, 117978, 117978, 117978, 117978, 117978, 117978, 117978, 117978, 117978, 117978, 117978, 117978, 117978, 117978, 117978, 117978, 117978, 117978, 117978, 117978, 117978, 117978, 117978, 117978, 117978, 117978, 117978, 117978, 117978, 117978, 117978, 117978, 117978, 117978, 117978, 117978, 117978, 117978, 117978, 117978, 117978, 117978, 117978, 117978, 117978, 117978, 117978, 117978, 117978, 117978, 117978, 117978, 117978, 117978, 117978, 117978, 117978, 117978, 117978, 117978, 117978, 117978, 117978, 117978, 117978, 117978, 117978, 117978, 117978, 117978, 117978, 117978, 117978, 117978, 117978, 117978, 117978, 117978, 117978, 117978, 117978, 117978, 117978, 117978, 117978, 117978, 117978, 117978, 117978, 117978, 117978, 117978, 117978, 117978, 117978, 117978, 117978, 117978, 117978, 117978, 117978, 117978, 117978, 117978, 117978, 117978, 117978, 117978, 117978, 117978, 117978, 117978, 117978, 117978, 117978, 117978, 117978, 117978, 117978, 117978, 117978, 117978, 117978, 117978, 117978, 117978, 117978, 117978, 117978, 117978, 117978, 117978, 117978, 117978, 117978, 117978, 117978, 117978, 117978, 117978, 117978, 117978, 117978, 117978, 117978, 117978, 117978, 117978, 117978, 117978, 117978, 117978, 117978, 117978, 117978, 117978, 117978, 117978, 117978, 117978, 117978, 117978, 117978, 117978, 117978, 117978, 117978, 117978, 117978, 117978, 117978, 117978, 117978, 117978, 117978, 117978, 117978, 117978, 117978, 117978, 117978, 117978, 117978, 117978, 117978, 117978, 117978, 117978, 117978, 117978, 117978, 117978, 117978, 117978, 117978, 117978, 117978, 117978, 117978, 117978, 117978, 117978, 117978, 117978, 117978, 117978, 117978, 117978, 117978, 117978, 117978, 117978, 117978, 117978, 117978, 117978, 117978, 117978, 117978, 117978, 117978, 117978, 117978, 117978, 117978, 117978, 117978, 117978, 117978, 117978, 117978, 117978, 117978, 117978, 117978, 117978, 117978, 117978, 117978, 117978, 117978, 117978, 117978, 117978, 117978, 117978, 117978, 117978, 117978, 117978, 117978, 117978, 117978, 117978, 117978, 117978, 117978, 117978, 117978, 117978, 117978, 117978, 117978, 117978, 117978, 117978, 117978, 117978, 117978, 117978, 117978, 117978, 117978, 117978, 117978, 117978, 117978, 117978, 117978, 117978, 117978, 117978, 117978, 117978, 117978, 117978, 117978, 117978, 117978, 117978, 117978, 117978, 117978, 117978, 117978, 117978, 117978, 117978, 117978, 117978, 117978, 117978, 117978, 117978, 117978, 117978, 117978, 117978, 117978, 117978, 117978, 117978, 117978, 117978, 117978, 117978, 117978, 117978, 117978, 117978, 117978, 117978, 117978, 117978, 117978, 117978, 117978, 117978, 117978, 117978, 117978, 117978, 117978, 117978, 117978, 117978, 117978, 117978, 117978, 117978, 117978, 117978, 117978, 117978, 117978, 117978, 117978, 117978, 117978, 117978, 117978, 117978, 117978, 117978, 117978, 117978, 117978, 117978, 117978, 117978, 117978, 117978, 117978, 117978, 117978, 117978, 117978, 117978, 117978, 117978, 117978, 117978, 117978, 117978, 117978, 117978, 117978, 117978, 117978, 117978, 117978, 117978, 117978, 117978, 117978, 117978, 117978, 117978, 117978, 117978, 117978, 117978, 117978, 117978, 117978, 117978, 117978, 117978, 117978, 117978, 117978, 117978, 117978, 117978, 117978, 117978, 117978, 117978, 117978, 117978, 117978, 117978, 117978, 117978, 117978, 117978, 117978, 117978, 117978, 117978, 117978, 117978, 117978, 117978, 117978, 117978, 117978, 117978, 117978, 117978, 117978, 117978, 117978, 117978, 117978, 117978, 117978, 117978, 117978, 117978, 117978, 117978, 117978, 117978, 117978, 117978, 117978, 117978, 117978, 117978, 117978, 117978, 117978, 117978, 117978, 117978, 117978, 117978, 117978, 117978, 117978, 117978, 117978, 117978, 117978, 117978, 117978, 117978, 117978, 117978, 117978, 117978, 117978, 117978, 117978, 117978, 117978, 117978, 117978, 117978, 117978, 117978, 117978, 117978, 117978, 117978, 117978, 117978, 117978, 117978, 117978, 117978, 117978, 117978, 117978, 117978, 117978, 117978, 117978, 117978, 117978, 117978, 117978, 117978, 117978, 117978, 117978, 117978, 117978, 117978, 117978, 117978, 117978, 117978, 117978, 117978, 117978, 117978, 117978, 117978, 117978, 117978, 117978, 117978, 117978, 117978, 117978, 117978, 117978, 117978, 117978, 117978, 117978, 117978, 117978, 117978, 117978, 117978, 117978, 117978, 117978, 117978, 117978, 117978, 117978, 117978, 117978, 117978, 117978, 117978, 117978, 117978, 117978, 117978, 117978, 117978, 117978, 117978, 117978, 117978, 117978, 117978, 117978, 117978, 117978, 117978, 117978, 117978, 117978, 117978, 117978, 117978, 117978, 117978, 117978, 117978, 117978, 117978, 117978, 117978, 117978, 117978, 117978, 117978, 117978, 117978, 117978, 117978, 117978, 117978, 117978, 117978, 117978, 117978, 117978, 117978, 117978, 117978, 117978, 117978, 117978, 117978, 117978, 117978, 117978, 117978, 117978, 117978, 117978, 117978, 117978, 117978, 117978, 117978, 117978, 117978, 117978, 117978, 117978, 117978, 117978, 117978, 117978, 117978, 117978, 117978, 117978, 117978, 117978, 117978, 117978, 117978, 117978, 117978, 117978, 117978, 117978, 117978, 117978, 117978, 117978, 117978, 117978, 117978, 117978, 117978, 117978, 117978, 117978, 117978, 117978, 117978, 117978, 117978, 117978, 117978, 117978, 117978, 117978, 117978, 117978, 117978, 117978, 117978, 117978, 117978, 117978, 117978, 117978, 117978, 117978, 117978, 117978, 117978, 117978, 117978, 117978, 117978, 117978, 117978, 117978, 117978, 117978, 117978, 117978, 117978, 117978, 117978, 117978, 117978, 117978, 117978, 117978, 117978, 117978, 117978, 117978, 117978, 117978, 117978, 117978, 117978, 117978, 117978, 117978, 117978, 117978, 117978, 117978, 117978, 117978, 117978, 117978, 117978, 117978, 117978, 117978, 117978, 117978, 117978, 117978, 117978, 117978, 117978, 117978, 117978, 117978, 117978, 117978, 117978, 117978, 117978, 117978, 117978, 117978, 117978, 117978, 117978, 117978, 117978, 117978, 117978, 117978, 117978, 117978, 117978, 117978, 117978, 117978, 117978, 117978, 117978, 117978, 117978, 117978, 117978, 117978, 117978, 117978, 117978, 117978, 117978, 117978, 117978, 117978, 117978, 117978, 117978, 117978, 117978, 117978, 117978, 117978, 117978, 117978, 117978, 117978, 117978, 117978, 117978, 117978, 117978, 117978, 117978, 117978, 117978, 117978, 117978, 117978, 117978, 117978, 117978, 117978, 117978, 117978, 117978, 117978, 117978, 117978, 117978, 117978, 117978, 117978, 117978, 117978, 117978, 117978, 117978, 117978, 117978, 117978, 117978, 117978, 117978, 117978, 117978, 117978, 117978, 117978, 117978, 117978, 117978, 117978, 117978, 117978, 117978, 117978, 117978, 117978, 117978, 117978, 117978, 117978, 117978, 117978, 117978, 117978, 117978, 117978, 117978, 117978, 117978, 117978, 117978, 117978, 117978, 117978, 117978, 117978, 117978, 117978, 117978, 117978, 117978, 117978, 117978, 117978, 117978, 117978, 117978, 117978, 117978, 117978, 117978, 117978, 117978, 117978, 117978, 117978, 117978, 117978, 117978, 117978, 117978, 117978, 117978, 117978, 117978, 117978, 117978, 117978, 117978, 117978, 117978, 117978, 117978, 117978, 117978, 117978, 117978, 117978, 117978, 117978, 117978, 117978, 117978, 117978, 117978, 117978, 117978, 117978, 117978, 117978, 117978, 117978, 117978, 117978, 117978, 117978, 117978, 117978, 117978, 117978, 117978, 117978, 117978, 117978, 117978, 117978, 117978, 117978, 117978, 117978, 117978, 117978, 117978, 117978, 117978, 117978, 117978, 117978, 117978, 117978, 117978, 117978, 117978, 117978, 117978, 117978, 117978, 117978, 117978, 117978, 117978, 117978, 117978, 117978, 117978, 117978, 117978, 117978, 117978, 117978, 117978, 117978, 117978, 117978, 117978, 117978, 117978, 117978, 117978, 117978, 117978, 117978, 117978, 117978, 117978, 117978, 117978, 117978, 117978, 117978, 117978, 117978, 117978, 117978, 117978, 117978, 117978, 117978, 117978, 117978, 117978, 117978, 117978, 117978, 117978, 117978, 117978, 117978, 117978, 117978, 117978, 117978, 117978, 117978, 117978, 117978, 117978, 117978, 117978, 117978, 117978, 117978, 117978, 117978, 117978, 117978, 117978, 117978, 117978, 117978, 117978, 117978, 117978, 117978, 117978, 117978, 117978, 117978, 117978, 117978, 117978, 117978, 117978, 117978, 117978, 117978, 117978, 117978, 117978, 117978, 117978, 117978, 117978, 117978, 117978, 117978, 117978, 117978, 117978, 117978, 117978, 117978, 117978, 117978, 117978, 117978, 117978, 117978, 117978, 117978, 117978, 117978, 117978, 117978, 117978, 117978, 117978, 117978, 117978, 117978, 117978, 117978, 117978, 117978, 117978, 117978, 117978, 117978, 117978, 117978, 117978, 117978, 117978, 117978, 117978, 117978, 117978, 117978, 117978, 117978, 117978, 117978, 117978, 117978, 117978, 117978, 117978, 117978, 117978, 117978, 117978, 117978, 117978, 117978, 117978, 117978, 117978, 117978, 117978, 117978, 117978, 117978, 117978, 117978, 117978, 117978, 117978, 117978, 117978, 117978, 117978, 117978, 117978, 117978, 117978, 117978, 117978, 117978, 117978, 117978, 117978, 117978, 117978, 117978, 117978, 117978, 117978, 117978, 117978, 117978, 117978, 117978, 117978, 117978, 117978, 117978, 117978, 117978, 117978, 117978, 117978, 117978, 117978, 117978, 117978, 117978, 117978, 117978, 117978, 117978, 117978, 117978, 117978, 117978, 117978, 117978, 117978, 117978, 117978, 117978, 117978, 117978, 117978, 117978, 117978, 117978, 117978, 117978, 117978, 117978, 117978, 117978, 117978, 117978, 117978, 117978, 117978, 117978, 117978, 117978, 117978, 117978, 117978, 117978, 117978, 117978, 117978, 117978, 117978, 117978, 117978, 117978, 117978, 117978, 117978, 117978, 117978, 117978, 117978, 117978, 117978, 117978, 117978, 117978, 117978, 117978, 117978, 117978, 117978, 117978, 117978, 117978, 117978, 117978, 117978, 117978, 117978, 117978, 117978, 117978, 117978, 117978, 117978, 117978, 117978, 117978, 117978, 117978, 117978, 117978, 117978, 117978, 117978, 117978, 117978, 117978, 117978, 117978, 117978, 117978, 117978, 117978, 117978, 117978, 117978, 117978, 117978, 117978, 117978, 117978, 117978, 117978, 117978, 117978, 117978, 117978, 117978, 117978, 117978, 117978, 117978, 117978, 117978, 117978, 117978, 117978, 117978, 117978, 117978, 117978, 117978, 117978, 117978, 117978, 117978, 117978, 117978, 117978, 117978, 117978, 117978, 117978, 117978, 117978, 117978, 117978, 117978, 117978, 117978, 117978, 117978, 117978, 117978, 117978, 117978, 117978, 117978, 117978, 117978, 117978, 117978, 117978, 117978, 117978, 117978, 117978, 117978, 117978, 117978, 117978, 117978, 117978, 117978, 117978, 117978, 117978, 117978, 117978, 117978, 117978, 117978, 117978, 117978, 117978, 117978, 117978, 117978, 117978, 117978, 117978, 117978, 117978, 117978, 117978, 117978, 117978, 117978, 117978, 117978, 117978, 117978, 117978, 117978, 117978, 117978, 117978, 117978, 117978, 117978, 117978, 117978, 117978, 117978, 117978, 117978, 117978, 117978, 117978, 117978, 117978, 117978, 117978, 117978, 117978, 117978, 117978, 117978, 117978, 117978, 117978, 117978, 117978, 117978, 117978, 117978, 117978, 117978, 117978, 117978, 117978, 117978, 117978, 117978, 117978, 117978, 117978, 117978, 117978, 117978, 117978, 117978, 117978, 117978, 117978, 117978, 117978, 117978, 117978, 117978, 117978, 117978, 117978, 117978, 117978, 117978, 117978, 117978, 117978, 117978, 117978, 117978, 117978, 117978, 117978, 117978, 117978, 117978, 117978, 117978, 117978, 117978, 117978, 117978, 117978, 117978, 117978, 117978, 117978, 117978, 117978, 117978, 117978, 117978, 117978, 117978, 117978, 117978, 117978, 117978, 117978, 117978, 117978, 117978, 117978, 117978, 117978, 117978, 117978, 117978, 117978, 117978, 117978, 117978, 117978, 117978, 117978, 117978, 117978, 117978, 117978, 117978, 117978, 117978, 117978, 117978, 117978, 117978, 117978, 117978, 117978, 117978, 117978, 117978, 117978, 117978, 117978, 117978, 117978, 117978, 117978, 117978, 117978, 117978, 117978, 117978, 117978, 117978, 117978, 117978, 117978, 117978, 117978, 117978, 117978, 117978, 117978, 117978, 117978, 117978, 117978, 117978, 117978, 117978, 117978, 117978, 117978, 117978, 117978, 117978, 117978, 117978, 117978, 117978, 117978, 117978, 117978, 117978, 117978, 117978, 117978, 117978, 117978, 117978, 117978, 117978, 117978, 117978, 117978, 117978, 117978, 117978, 117978, 117978, 117978, 117978, 117978, 117978, 117978, 117978, 117978, 117978, 117978, 117978, 117978, 117978, 117978, 117978, 117978, 117978, 117978, 117978, 117978, 117978, 117978, 117978, 117978, 117978, 117978, 117978, 117978, 117978, 117978, 117978, 117978, 117978, 117978, 117978, 117978, 117978, 117978, 117978, 117978, 117978, 117978, 117978, 117978, 117978, 117978, 117978, 117978, 117978, 117978, 117978, 117978, 117978, 117978, 117978, 117978, 117978, 117978, 117978, 117978, 117978, 117978, 117978, 117978, 117978, 117978, 117978, 117978, 117978, 117978, 117978, 117978, 117978, 117978, 117978, 117978, 117978, 117978, 117978, 117978, 117978, 117978, 117978, 117978, 117978, 117978, 117978, 117978, 117978, 117978, 117978, 117978, 117978, 117978, 117978, 117978, 117978, 117978, 117978, 117978, 117978, 117978, 117978, 117978, 117978, 117978, 117978, 117978, 117978, 117978, 117978, 117978, 117978, 117978, 117978, 117978, 117978, 117978, 117978, 117978, 117978, 117978, 117978, 117978, 117978, 117978, 117978, 117978, 117978, 117978, 117978, 117978, 117978, 117978, 117978, 117978, 117978, 117978, 117978, 117978, 117978, 117978, 117978, 117978, 117978, 117978, 117978, 117978, 117978, 117978, 117978, 117978, 117978, 117978, 117978, 117978, 117978, 117978, 117978, 117978, 117978, 117978, 117978, 117978, 117978, 117978, 117978, 117978, 117978, 117978, 117978, 117978, 117978, 117978, 117978, 117978, 117978, 117978, 117978, 117978, 117978, 117978, 117978, 117978, 117978, 117978, 117978, 117978, 117978, 117978, 117978, 117978, 117978, 117978, 117978, 117978, 117978, 117978, 117978, 117978, 117978, 117978, 117978, 117978, 117978, 117978, 117978, 117978, 117978, 117978, 117978, 117978, 117978, 117978, 117978, 117978, 117978, 117978, 117978, 117978, 117978, 117978, 117978, 117978, 117978, 117978, 117978, 117978, 117978, 117978, 117978, 117978, 117978, 117978, 117978, 117978, 117978, 117978, 117978, 117978, 117978, 117978, 117978, 117978, 117978, 117978, 117978, 117978, 117978, 117978, 117978, 117978, 117978, 117978, 117978, 117978, 117978, 117978, 117978, 117978, 117978, 117978, 117978, 117978, 117978, 117978, 117978, 117978, 117978, 117978, 117978, 117978, 117978, 117978, 117978, 117978, 117978, 117978, 117978, 117978, 117978, 117978, 117978, 117978, 117978, 117978, 117978, 117978, 117978, 117978, 117978, 117978, 117978, 117978, 117978, 117978, 117978, 117978, 117978, 117978, 117978, 117978, 117978, 117978, 117978, 117978, 117978, 117978, 117978, 117978, 117978, 117978, 117978, 117978, 117978, 117978, 117978, 117978, 117978, 117978, 117978, 117978, 117978, 117978, 117978, 117978, 117978, 117978, 117978, 117978, 117978, 117978, 117978, 117978, 117978, 117978, 117978, 117978, 117978, 117978, 117978, 117978, 117978, 117978, 117978, 117978, 117978, 117978, 117978, 117978, 117978, 117978, 117978, 117978, 117978, 117978, 117978, 117978, 117978, 117978, 117978, 117978, 117978, 117978, 117978, 117978, 117978, 117978, 117978, 117978, 117978, 117978, 117978, 117978, 117978, 117978, 117978, 117978, 117978, 117978, 117978, 117978, 117978, 117978, 117978, 117978, 117978, 117978, 117978, 117978, 117978, 117978, 117978, 117978, 117978, 117978, 117978, 117978, 117978, 117978, 117978, 117978, 117978, 117978, 117978, 117978, 117978, 117978, 117978, 117978, 117978, 117978, 117978, 117978, 117978, 117978, 117978, 117978, 117978, 117978, 117978, 117978, 117978, 117978, 117978, 117978, 117978, 117978, 117978, 117978, 117978, 117978, 117978, 117978, 117978, 117978, 117978, 117978, 117978, 117978, 117978, 117978, 117978, 117978, 117978, 117978, 117978, 117978, 117978, 117978, 117978, 117978, 117978, 117978, 117978, 117978, 117978, 117978, 117978, 117978, 117978, 117978, 117978, 117978, 117978, 117978, 117978, 117978, 117978, 117978, 117978, 117978, 117978, 117978, 117978, 117978, 117978, 117978, 117978, 117978, 117978, 117978, 117978, 117978, 117978, 117978, 117978, 117978, 117978, 117978, 117978, 117978, 117978, 117978, 117978, 117978, 117978, 117978, 117978, 117978, 117978, 117978, 117978, 117978, 117978, 117978, 117978, 117978, 117978, 117978, 117978, 117978, 117978, 117978, 117978, 117978, 117978, 117978, 117978, 117978, 117978, 117978, 117978, 117978, 117978, 117978, 117978, 117978, 117978, 117978, 117978, 117978, 117978, 117978, 117978, 117978, 117978, 117978, 117978, 117978, 117978, 117978, 117978, 117978, 117978, 117978, 117978, 117978, 117978, 117978, 117978, 117978, 117978, 117978, 117978, 117978, 117978, 117978, 117978, 117978, 117978, 117978, 117978, 117978, 117978, 117978, 117978, 117978, 117978, 117978, 117978, 117978, 117978, 117978, 117978, 117978, 117978, 117978, 117978, 117978, 117978, 117978, 117978, 117978, 117978, 117978, 117978, 117978, 117978, 117978, 117978, 117978, 117978, 117978, 117978, 117978, 117978, 117978, 117978, 117978, 117978, 117978, 117978, 117978, 117978, 117978, 117978, 117978, 117978, 117978, 117978, 117978, 117978, 117978, 117978, 117978, 117978, 117978, 117978, 117978, 117978, 117978, 117978, 117978, 117978, 117978, 117978, 117978, 117978, 117978, 117978, 117978, 117978, 117978, 117978, 117978, 117978, 117978, 117978, 117978, 117978, 117978, 117978, 117978, 117978, 117978, 117978, 117978, 117978, 117978, 117978, 117978, 117978, 117978, 117978, 117978, 117978, 117978, 117978, 117978, 117978, 117978, 117978, 117978, 117978, 117978, 117978, 117978, 117978, 117978, 117978, 117978, 117978, 117978, 117978, 117978, 117978, 117978, 117978, 117978, 117978, 117978, 117978, 117978, 117978, 117978, 117978, 117978, 117978, 117978, 117978, 117978, 117978, 117978, 117978, 117978, 117978, 117978, 117978, 117978, 117978, 117978, 117978, 117978, 117978, 117978, 117978, 117978, 117978, 117978, 117978, 117978, 117978, 117978, 117978, 117978, 117978, 117978, 117978, 117978, 117978, 117978, 117978, 117978, 117978, 117978, 117978, 117978, 117978, 117978, 117978, 117978, 117978, 117978, 117978, 117978, 117978, 117978, 117978, 117978, 117978, 117978, 117978, 117978, 117978, 117978, 117978, 117978, 117978, 117978, 117978, 117978, 117978, 117978, 117978, 117978, 117978, 117978, 117978, 117978, 117978, 117978, 117978, 117978, 117978, 117978, 117978, 117978, 117978, 117978, 117978, 117978, 117978, 117978, 117978, 117978, 117978, 117978, 117978, 117978, 117978, 117978, 117978, 117978, 117978, 117978, 117978, 117978, 117978, 117978, 117978, 117978, 117978, 117978, 117978, 117978, 117978, 117978, 117978, 117978, 117978, 117978, 117978, 117978, 117978, 117978, 117978, 117978, 117978, 117978, 117978, 117978, 117978, 117978, 117978, 117978, 117978, 117978, 117978, 117978, 117978, 117978, 117978, 117978, 117978, 117978, 117978, 117978, 117978, 117978, 117978, 117978, 117978, 117978, 117978, 117978, 117978, 117978, 117978, 117978, 117978, 117978, 117978, 117978, 117978, 117978, 117978, 117978, 117978, 117978, 117978, 117978, 117978, 117978, 117978, 117978, 117978, 117978, 117978, 117978, 117978, 117978, 117978, 117978, 117978, 117978, 117978, 117978, 117978, 117978, 117978, 117978, 117978, 117978, 117978, 117978, 117978, 117978, 117978, 117978, 117978, 117978, 117978, 117978, 117978, 117978, 117978, 117978, 117978, 117978, 117978, 117978, 117978, 117978, 117978, 117978, 117978, 117978, 117978, 117978, 117978, 117978, 117978, 117978, 117978, 117978, 117978, 117978, 117978, 117978, 117978, 117978, 117978, 117978, 117978, 117978, 117978, 117978, 117978, 117978, 117978, 117978, 117978, 117978, 117978, 117978, 117978, 117978, 117978, 117978, 117978, 117978, 117978, 117978, 117978, 117978, 117978, 117978, 117978, 117978, 117978, 117978, 117978, 117978, 117978, 117978, 117978, 117978, 117978, 117978, 117978, 117978, 117978, 117978, 117978, 117978, 117978, 117978, 117978, 117978, 117978, 117978, 117978, 117978, 117978, 117978, 117978, 117978, 117978, 117978, 117978, 117978, 117978, 117978, 117978, 117978, 117978, 117978, 117978, 117978, 117978, 117978, 117978, 117978, 117978, 117978, 117978, 117978, 117978, 117978, 117978, 117978, 117978, 117978, 117978, 117978, 117978, 117978, 117978, 117978, 117978, 117978, 117978, 117978, 117978, 117978, 117978, 117978, 117978, 117978, 117978, 117978, 117978, 117978, 117978, 117978, 117978, 117978, 117978, 117978, 117978, 117978, 117978, 117978, 117978, 117978, 117978, 117978, 117978, 117978, 117978, 117978, 117978, 117978, 117978, 117978, 117978, 117978, 117978, 117978, 117978, 117978, 117978, 117978, 117978, 117978, 117978, 117978, 117978, 117978, 117978, 117978, 117978, 117978, 117978, 117978, 117978, 117978, 117978, 117978, 117978, 117978, 117978, 117978, 117978, 117978, 117978, 117978, 117978, 117978, 117978, 117978, 117978, 117978, 117978, 117978, 117978, 117978, 117978, 117978, 117978, 117978, 117978, 117978, 117978, 117978, 117978, 117978, 117978, 117978, 117978, 117978, 117978, 117978, 117978, 117978, 117978, 117978, 117978, 117978, 117978, 117978, 117978, 117978, 117978, 117978, 117978, 117978, 117978, 117978, 117978, 117978, 117978, 117978, 117978, 117978, 117978, 117978, 117978, 117978, 117978, 117978, 117978, 117978, 117978, 117978, 117978, 117978, 117978, 117978, 117978, 117978, 117978, 117978, 117978, 117978, 117978, 117978, 117978, 117978, 117978, 117978, 117978, 117978, 117978, 117978, 117978, 117978, 117978, 117978, 117978, 117978, 117978, 117978, 117978, 117978, 117978, 117978, 117978, 117978, 117978, 117978, 117978, 117978, 117978, 117978, 117978, 117978, 117978, 117978, 117978, 117978, 117978, 117978, 117978, 117978, 117978, 117978, 117978, 117978, 117978, 117978, 117978, 117978, 117978, 117978, 117978, 117978, 117978, 117978, 117978, 117978, 117978, 117978, 117978, 117978, 117978, 117978, 117978, 117978, 117978, 117978, 117978, 117978, 117978, 117978, 117978, 117978, 117978, 117978, 117978, 117978, 117978, 117978, 117978, 117978, 117978, 117978, 117978, 117978, 117978, 117978, 117978, 117978, 117978, 117978, 117978, 117978, 117978, 117978, 117978, 117978, 117978, 117978, 117978, 117978, 117978, 117978, 117978, 117978, 117978, 117978, 117978, 117978, 117978, 117978, 117978, 117978, 117978, 117978, 117978, 117978, 117978, 117978, 117978, 117978, 117978, 117978, 117978, 117978, 117978, 117978, 117978, 117978, 117978, 117978, 117978, 117978, 117978, 117978, 117978, 117978, 117978, 117978, 117978, 117978, 117978, 117978, 117978, 117978, 117978, 117978, 117978, 117978, 117978, 117978, 117978, 117978, 117978, 117978, 117978, 117978, 117978, 117978, 117978, 117978, 117978, 117978, 117978, 117978, 117978, 117978, 117978, 117978, 117978, 117978, 117978, 117978, 117978, 117978, 117978, 117978, 117978, 117978, 117978, 117978, 117978, 117978, 117978, 117978, 117978, 117978, 117978, 117978, 117978, 117978, 117978, 117978, 117978, 117978, 117978, 117978, 117978, 117978, 117978, 117978, 117978, 117978, 117978, 117978, 117978, 117978, 117978, 117978, 117978, 117978, 117978, 117978, 117978, 117978, 117978, 117978, 117978, 117978, 117978, 117978, 117978, 117978, 117978, 117978, 117978, 117978, 117978, 117978, 117978, 117978, 117978, 117978, 117978, 117978, 117978, 117978, 117978, 117978, 117978, 117978, 117978, 117978, 117978, 117978, 117978, 117978, 117978, 117978, 117978, 117978, 117978, 117978, 117978, 117978, 117978, 117978, 117978, 117978, 117978, 117978, 117978, 117978, 117978, 117978, 117978, 117978, 117978, 117978, 117978, 117978, 117978, 117978, 117978, 117978, 117978, 117978, 117978, 117978, 117978, 117978, 117978, 117978, 117978, 117978, 117978, 117978, 117978, 117978, 117978, 117978, 117978, 117978, 117978, 117978, 117978, 117978, 117978, 117978, 117978, 117978, 117978, 117978, 117978, 117978, 117978, 117978, 117978, 117978, 117978, 117978, 117978, 117978, 117978, 117978, 117978, 117978, 117978, 117978, 117978, 117978, 117978, 117978, 117978, 117978, 117978, 117978, 117978, 117978, 117978, 117978, 117978, 117978, 117978, 117978, 117978, 117978, 117978, 117978, 117978, 117978, 117978, 117978, 117978, 117978, 117978, 117978, 117978, 117978, 117978, 117978, 117978, 117978, 117978, 117978, 117978, 117978, 117978, 117978, 117978, 117978, 117978, 117978, 117978, 117978, 117978, 117978, 117978, 117978, 117978, 117978, 117978, 117978, 117978, 117978, 117978, 117978, 117978, 117978, 117978, 117978, 117978, 117978, 117978, 117978, 117978, 117978, 117978, 117978, 117978, 117978, 117978, 117978, 117978, 117978, 117978, 117978, 117978, 117978, 117978, 117978, 117978, 117978, 117978, 117978, 117978, 117978, 117978, 117978, 117978, 117978, 117978, 117978, 117978, 117978, 117978, 117978, 117978, 117978, 117978, 117978, 117978, 117978, 117978, 117978, 117978, 117978, 117978, 117978, 117978, 117978, 117978, 117978, 117978, 117978, 117978, 117978, 117978, 117978, 117978, 117978, 117978, 117978, 117978, 117978, 117978, 117978, 117978, 117978, 117978, 117978, 117978, 117978, 117978, 117978, 117978, 117978, 117978, 117978, 117978, 117978, 117978, 117978, 117978, 117978, 117978, 117978, 117978, 117978, 117978, 117978, 117978, 117978, 117978, 117978, 117978, 117978, 117978, 117978, 117978, 117978, 117978, 117978, 117978, 117978, 117978, 117978, 117978, 117978, 117978, 117978, 117978, 117978, 117978, 117978, 117978, 117978, 117978, 117978, 117978, 117978, 117978, 117978, 117978, 117978, 117978, 117978, 117978, 117978, 117978, 117978, 117978, 117978, 117978, 117978, 117978, 117978, 117978, 117978, 117978, 117978, 117978, 117978, 117978, 117978, 117978, 117978, 117978, 117978, 117978, 117978, 117978, 117978, 117978, 117978, 117978, 117978, 117978, 117978, 117978, 117978, 117978, 117978, 117978, 117978, 117978, 117978, 117978, 117978, 117978, 117978, 117978, 117978, 117978, 117978, 117978, 117978, 117978, 117978, 117978, 117978, 117978, 117978, 117978, 117978, 117978, 117978, 117978, 117978, 117978, 117978, 117978, 117978, 117978, 117978, 117978, 117978, 117978, 117978, 117978, 117978, 117978, 117978, 117978, 117978, 117978, 117978, 117978, 117978, 117978, 117978, 117978, 117978, 117978, 117978, 117978, 117978, 117978, 117978, 117978, 117978, 117978, 117978, 117978, 117978, 117978, 117978, 117978, 117978, 117978, 117978, 117978, 117978, 117978, 117978, 117978, 117978, 117978, 117978, 117978, 117978, 117978, 117978, 117978, 117978, 117978, 117978, 117978, 117978, 117978, 117978, 117978, 117978, 117978, 117978, 117978, 117978, 117978, 117978, 117978, 117978, 117978, 117978, 117978, 117978, 117978, 117978, 117978, 117978, 117978, 117978, 117978, 117978, 117978, 117978, 117978, 117978, 117978, 117978, 117978, 117978, 117978, 117978, 117978, 117978, 117978, 117978, 117978, 117978, 117978, 117978, 117978, 117978, 117978, 117978, 117978, 117978, 117978, 117978, 117978, 117978, 117978, 117978, 117978, 117978, 117978, 117978, 117978, 117978, 117978, 117978, 117978, 117978, 117978, 117978, 117978, 117978, 117978, 117978, 117978, 117978, 117978, 117978, 117978, 117978, 117978, 117978, 117978, 117978, 117978, 117978, 117978, 117978, 117978, 117978, 117978, 117978, 117978, 117978, 117978, 117978, 117978, 117978, 117978, 117978, 117978, 117978, 117978, 117978, 117978, 117978, 117978, 117978, 117978, 117978, 117978, 117978, 117978, 117978, 117978, 117978, 117978, 117978, 117978, 117978, 117978, 117978, 117978, 117978, 117978, 117978, 117978, 117978, 117978, 117978, 117978, 117978, 117978, 117978, 117978, 117978, 117978, 117978, 117978, 117978, 117978, 117978, 117978, 117978, 117978, 117978, 117978, 117978, 117978, 117978, 117978, 117978, 117978, 117978, 117978, 117978, 117978, 117978, 117978, 117978, 117978, 117978, 117978, 117978, 117978, 117978, 117978, 117978, 117978, 117978, 117978, 117978, 117978, 117978, 117978, 117978, 117978, 117978, 117978, 117978, 117978, 117978, 117978, 117978, 117978, 117978, 117978, 117978, 117978, 117978, 117978, 117978, 117978, 117978, 117978, 117978, 117978, 117978, 117978, 117978, 117978, 117978, 117978, 117978, 117978, 117978, 117978, 117978, 117978, 117978, 117978, 117978, 117978, 117978, 117978, 117978, 117978, 117978, 117978, 117978, 117978, 117978, 117978, 117978, 117978, 117978, 117978, 117978, 117978, 117978, 117978, 117978, 117978, 117978, 117978, 117978, 117978, 117978, 117978, 117978, 117978, 117978, 117978, 117978, 117978, 117978, 117978, 117978, 117978, 117978, 117978, 117978, 117978, 117978, 117978, 117978, 117978, 117978, 117978, 117978, 117978, 117978, 117978, 117978, 117978, 117978, 117978, 117978, 117978, 117978, 117978, 117978, 117978, 117978, 117978, 117978, 117978, 117978, 117978, 117978, 117978, 117978, 117978, 117978, 117978, 117978, 117978, 117978, 117978, 117978, 117978, 117978, 117978, 117978, 117978, 117978, 117978, 117978, 117978, 117978, 117978, 117978, 117978, 117978, 117978, 117978, 117978, 117978, 117978, 117978, 117978, 117978, 117978, 117978, 117978, 117978, 117978, 117978, 117978, 117978, 117978, 117978, 117978, 117978, 117978, 117978, 117978, 117978, 117978, 117978, 117978, 117978, 117978, 117978, 117978, 117978, 117978, 117978, 117978, 117978, 117978, 117978, 117978, 117978, 117978, 117978, 117978, 117978, 117978, 117978, 117978, 117978, 117978, 117978, 117978, 117978, 117978, 117978, 117978, 117978, 117978, 117978, 117978, 117978, 117978, 117978, 117978, 117978, 117978, 117978, 117978, 117978, 117978, 117978, 117978, 117978, 117978, 117978, 117978, 117978, 117978, 117978, 117978, 117978, 117978, 117978, 117978, 117978, 117978, 117978, 117978, 117978, 117978, 117978, 117978, 117978, 117978, 117978, 117978, 117978, 117978, 117978, 117978, 117978, 117978, 117978, 117978, 117978, 117978, 117978, 117978, 117978, 117978, 117978, 117978, 117978, 117978, 117978, 117978, 117978, 117978, 117978, 117978, 117978, 117978, 117978, 117978, 117978, 117978, 117978, 117978, 117978, 117978, 117978, 117978, 117978, 117978, 117978, 117978, 117978, 117978, 117978, 117978, 117978, 117978, 117978, 117978, 117978, 117978, 117978, 117978, 117978, 117978, 117978, 117978, 117978, 117978, 117978, 117978, 117978, 117978, 117978, 117978, 117978, 117978, 117978, 117978, 117978, 117978, 117978, 117978, 117978, 117978, 117978, 117978, 117978, 117978, 117978, 117978, 117978, 117978, 117978, 117978, 117978, 117978, 117978, 117978, 117978, 117978, 117978, 117978, 117978, 117978, 117978, 117978, 117978, 117978, 117978, 117978, 117978, 117978, 117978, 117978, 117978, 117978, 117978, 117978, 117978, 117978, 117978, 117978, 117978, 117978, 117978, 117978, 117978, 117978, 117978, 117978, 117978, 117978, 117978, 117978, 117978, 117978, 117978, 117978, 117978, 117978, 117978, 117978, 117978, 117978, 117978, 117978, 117978, 117978, 117978, 117978, 117978, 117978, 117978, 117978, 117978, 117978, 117978, 117978, 117978, 117978, 117978, 117978, 117978, 117978, 117978, 117978, 117978, 117978, 117978, 117978, 117978, 117978, 117978, 117978, 117978, 117978, 117978, 117978, 117978, 117978, 117978, 117978, 117978, 117978, 117978, 117978, 117978, 117978, 117978, 117978, 117978, 117978, 117978, 117978, 117978, 117978, 117978, 117978, 117978, 117978, 117978, 117978, 117978, 117978, 117978, 117978, 117978, 117978, 117978, 117978, 117978, 117978, 117978, 117978, 117978, 117978, 117978, 117978, 117978, 117978, 117978, 117978, 117978, 117978, 117978, 117978, 117978, 117978, 117978, 117978, 117978, 117978, 117978, 117978, 117978, 117978, 117978, 117978, 117978, 117978, 117978, 117978, 117978, 117978, 117978, 117978, 117978, 117978, 117978, 117978, 117978, 117978, 117978, 117978, 117978, 117978, 117978, 117978, 117978, 117978, 117978, 117978, 117978, 117978, 117978, 117978, 117978, 117978, 117978, 117978, 117978, 117978, 117978, 117978, 117978, 117978, 117978, 117978, 117978, 117978, 117978, 117978, 117978, 117978, 117978, 117978, 117978, 117978, 117978, 117978, 117978, 117978, 117978, 117978, 117978, 117978, 117978, 117978, 117978, 117978, 117978, 117978, 117978, 117978, 117978, 117978, 117978, 117978, 117978, 117978, 117978, 117978, 117978, 117978, 117978, 117978, 117978, 117978, 117978, 117978, 117978, 117978, 117978, 117978, 117978, 117978, 117978, 117978, 117978, 117978, 117978, 117978, 117978, 117978, 117978, 117978, 117978, 117978, 117978, 117978, 117978, 117978, 117978, 117978, 117978, 117978, 117978, 117978, 117978, 117978, 117978, 117978, 117978, 117978, 117978, 117978, 117978, 117978, 117978, 117978, 117978, 117978, 117978, 117978, 117978, 117978, 117978, 117978, 117978, 117978, 117978, 117978, 117978, 117978, 117978, 117978, 117978, 117978, 117978, 117978, 117978, 117978, 117978, 117978, 117978, 117978, 117978, 117978, 117978, 117978, 117978, 117978, 117978, 117978, 117978, 117978, 117978, 117978, 117978, 117978, 117978, 117978, 117978, 117978, 117978, 117978, 117978, 117978, 117978, 117978, 117978, 117978, 117978, 117978, 117978, 117978, 117978, 117978, 117978, 117978, 117978, 117978, 117978, 117978, 117978, 117978, 117978, 117978, 117978, 117978, 117978, 117978, 117978, 117978, 117978, 117978, 117978, 117978, 117978, 117978, 117978, 117978, 117978, 117978, 117978, 117978, 117978, 117978, 117978, 117978, 117978, 117978, 117978, 117978, 117978, 117978, 117978, 117978, 117978, 117978, 117978, 117978, 117978, 117978, 117978, 117978, 117978, 117978, 117978, 117978, 117978, 117978, 117978, 117978, 117978, 117978, 117978, 117978, 117978, 117978, 117978, 117978, 117978, 117978, 117978, 117978, 117978, 117978, 117978, 117978, 117978, 117978, 117978, 117978, 117978, 117978, 117978, 117978, 117978, 117978, 117978, 117978, 117978, 117978, 117978, 117978, 117978, 117978, 117978, 117978, 117978, 117978, 117978, 117978, 117978, 117978, 117978, 117978, 117978, 117978, 117978, 117978, 117978, 117978, 117978, 117978, 117978, 117978, 117978, 117978, 117978, 117978, 117978, 117978, 117978, 117978, 117978, 117978, 117978, 117978, 117978, 117978, 117978, 117978, 117978, 117978, 117978, 117978, 117978, 117978, 117978, 117978, 117978, 117978, 117978, 117978, 117978, 117978, 117978, 117978, 117978, 117978, 117978, 117978, 117978, 117978, 117978, 117978, 117978, 117978, 117978, 117978, 117978, 117978, 117978, 117978, 117978, 117978, 117978, 117978, 117978, 117978, 117978, 117978, 117978, 117978, 117978, 117978, 117978, 117978, 117978, 117978, 117978, 117978, 117978, 117978, 117978, 117978, 117978, 117978, 117978, 117978, 117978, 117978, 117978, 117978, 117978, 117978, 117978, 117978, 117978, 117978, 117978, 117978, 117978, 117978, 117978, 117978, 117978, 117978, 117978, 117978, 117978, 117978, 117978, 117978, 117978, 117978, 117978, 117978, 117978, 117978, 117978, 117978, 117978, 117978, 117978, 117978, 117978, 117978, 117978, 117978, 117978, 117978, 117978, 117978, 117978, 117978, 117978, 117978, 117978, 117978, 117978, 117978, 117978, 117978, 117978, 117978, 117978, 117978, 117978, 117978, 117978, 117978, 117978, 117978, 117978, 117978, 117978, 117978, 117978, 117978, 117978, 117978, 117978, 117978, 117978, 117978, 117978, 117978, 117978, 117978, 117978, 117978, 117978, 117978, 117978, 117978, 117978, 117978, 117978, 117978, 117978, 117978, 117978, 117978, 117978, 117978, 117978, 117978, 117978, 117978, 117978, 117978, 117978, 117978, 117978, 117978, 117978, 117978, 117978, 117978, 117978, 117978, 117978, 117978, 117978, 117978, 117978, 117978, 117978, 117978, 117978, 117978, 117978, 117978, 117978, 117978, 117978, 117978, 117978, 117978, 117978, 117978, 117978, 117978, 117978, 117978, 117978, 117978, 117978, 117978, 117978, 117978, 117978, 117978, 117978, 117978, 117978, 117978, 117978, 117978, 117978, 117978, 117978, 117978, 117978, 117978, 117978, 117978, 117978, 117978, 117978, 117978, 117978, 117978, 117978, 117978, 117978, 117978, 117978, 117978, 117978, 117978, 117978, 117978, 117978, 117978, 117978, 117978, 117978, 117978, 117978, 117978, 117978, 117978, 117978, 117978, 117978, 117978, 117978, 117978, 117978, 117978, 117978, 117978, 117978, 117978, 117978, 117978, 117978, 117978, 117978, 117978, 117978, 117978, 117978, 117978, 117978, 117978, 117978, 117978, 117978, 117978, 117978, 117978, 117978, 117978, 117978, 117978, 117978, 117978, 117978, 117978, 117978, 117978, 117978, 117978, 117978, 117978, 117978, 117978, 117978, 117978, 117978, 117978, 117978, 117978, 117978, 117978, 117978, 117978, 117978, 117978, 117978, 117978, 117978, 117978, 117978, 117978, 117978, 117978, 117978, 117978, 117978, 117978, 117978, 117978, 117978, 117978, 117978, 117978, 117978, 117978, 117978, 117978, 117978, 117978, 117978, 117978, 117978, 117978, 117978, 117978, 117978, 117978, 117978, 117978, 117978, 117978, 117978, 117978, 117978, 117978, 117978, 117978, 117978, 117978, 117978, 117978, 117978, 117978, 117978, 117978, 117978, 117978, 117978, 117978, 117978, 117978, 117978, 117978, 117978, 117978, 117978, 117978, 117978, 117978, 117978, 117978, 117978, 117978, 117978, 117978, 117978, 117978, 117978, 117978, 117978, 117978, 117978, 117978, 117978, 117978, 117978, 117978, 117978, 117978, 117978, 117978, 117978, 117978, 117978, 117978, 117978, 117978, 117978, 117978, 117978, 117978, 117978, 117978, 117978, 117978, 117978, 117978, 117978, 117978, 117978, 117978, 117978, 117978, 117978, 117978, 117978, 117978, 117978, 117978, 117978, 117978, 117978, 117978, 117978, 117978, 117978, 117978, 117978, 117978, 117978, 117978, 117978, 117978, 117978, 117978, 117978, 117978, 117978, 117978, 117978, 117978, 117978, 117978, 117978, 117978, 117978, 117978, 117978, 117978, 117978, 117978, 117978, 117978, 117978, 117978, 117978, 117978, 117978, 117978, 117978, 117978, 117978, 117978, 117978, 117978, 117978, 117978, 117978, 117978, 117978, 117978, 117978, 117978, 117978, 117978, 117978, 117978, 117978, 117978, 117978, 117978, 117978, 117978, 117978, 117978, 117978, 117978, 117978, 117978, 117978, 117978, 117978, 117978, 117978, 117978, 117978, 117978, 117978, 117978, 117978, 117978, 117978, 117978, 117978, 117978, 117978, 117978, 117978, 117978, 117978, 117978, 117978, 117978, 117978, 117978, 117978, 117978, 117978, 117978, 117978, 117978, 117978, 117978, 117978, 117978, 117978, 117978, 117978, 117978, 117978, 117978, 117978, 117978, 117978, 117978, 117978, 117978, 117978, 117978, 117978, 117978, 117978, 117978, 117978, 117978, 117978, 117978, 117978, 117978, 117978, 117978, 117978, 117978, 117978, 117978, 117978, 117978, 117978, 117978, 117978, 117978, 117978, 117978, 117978, 117978, 117978, 117978, 117978, 117978, 117978, 117978, 117978, 117978, 117978, 117978, 117978, 117978, 117978, 117978, 117978, 117978, 117978, 117978, 117978, 117978, 117978, 117978, 117978, 117978, 117978, 117978, 117978, 117978, 117978, 117978, 117978, 117978, 117978, 117978, 117978, 117978, 117978, 117978, 117978, 117978, 117978, 117978, 117978, 117978, 117978, 117978, 117978, 117978, 117978, 117978, 117978, 117978, 117978, 117978, 117978, 117978, 117978, 117978, 117978, 117978, 117978, 117978, 117978, 117978, 117978, 117978, 117978, 117978, 117978, 117978, 117978, 117978, 117978, 117978, 117978, 117978, 117978, 117978, 117978, 117978, 117978, 117978, 117978, 117978, 117978, 117978, 117978, 117978, 117978, 117978, 117978, 117978, 117978, 117978, 117978, 117978, 117978, 117978, 117978, 117978, 117978, 117978, 117978, 117978, 117978, 117978, 117978, 117978, 117978, 117978, 117978, 117978, 117978, 117978, 117978, 117978, 117978, 117978, 117978, 117978, 117978, 117978, 117978, 117978, 117978, 117978, 117978, 117978, 117978, 117978, 117978, 117978, 117978, 117978, 117978, 117978, 117978, 117978, 117978, 117978, 117978, 117978, 117978, 117978, 117978, 117978, 117978, 117978, 117978, 117978, 117978, 117978, 117978, 117978, 117978, 117978, 117978, 117978, 117978, 117978, 117978, 117978, 117978, 117978, 117978, 117978, 117978, 117978, 117978, 117978, 117978, 117978, 117978, 117978, 117978, 117978, 117978, 117978, 117978, 117978, 117978, 117978, 117978, 117978, 117978, 117978, 117978, 117978, 117978, 117978, 117978, 117978, 117978, 117978, 117978, 117978, 117978, 117978, 117978, 117978, 117978, 117978, 117978, 117978, 117978, 117978, 117978, 117978, 117978, 117978, 117978, 117978, 117978, 117978, 117978, 117978, 117978, 117978, 117978, 117978, 117978, 117978, 117978, 117978, 117978, 117978, 117978, 117978, 117978, 117978, 117978, 117978, 117978, 117978, 117978, 117978, 117978, 117978, 117978, 117978, 117978, 117978, 117978, 117978, 117978, 117978, 117978, 117978, 117978, 117978, 117978, 117978, 117978, 117978, 117978, 117978, 117978, 117978, 117978, 117978, 117978, 117978, 117978, 117978, 117978, 117978, 117978, 117978, 117978, 117978, 117978, 117978, 117978, 117978, 117978, 117978, 117978, 117978, 117978, 117978, 117978, 117978, 117978, 117978, 117978, 117978, 117978, 117978, 117978, 117978, 117978, 117978, 117978, 117978, 117978, 117978, 117978, 117978, 117978, 117978, 117978, 117978, 117978, 117978, 117978, 117978, 117978, 117978, 117978, 117978, 117978, 117978, 117978, 117978, 117978, 117978, 117978, 117978, 117978, 117978, 117978, 117978, 117978, 117978, 117978, 117978, 117978, 117978, 117978, 117978, 117978, 117978, 117978, 117978, 117978, 117978, 117978, 117978, 117978, 117978, 117978, 117978, 117978, 117978, 117978, 117978, 117978, 117978, 117978, 117978, 117978, 117978, 117978, 117978, 117978, 117978, 117978, 117978, 117978, 117978, 117978, 117978, 117978, 117978, 117978, 117978, 117978, 117978, 117978, 117978, 117978, 117978, 117978, 117978, 117978, 117978, 117978, 117978, 117978, 117978, 117978, 117978, 117978, 117978, 117978, 117978, 117978, 117978, 117978, 117978, 117978, 117978, 117978, 117978, 117978, 117978, 117978, 117978, 117978, 117978, 117978, 117978, 117978, 117978, 117978, 117978, 117978, 117978, 117978, 117978, 117978, 117978, 117978, 117978, 117978, 117978, 117978, 117978, 117978, 117978, 117978, 117978, 117978, 117978, 117978, 117978, 117978, 117978, 117978, 117978, 117978, 117978, 117978, 117978, 117978, 117978, 117978, 117978, 117978, 117978, 117978, 117978, 117978, 117978, 117978, 117978, 117978, 117978, 117978, 117978, 117978, 117978, 117978, 117978, 117978, 117978, 117978, 117978, 117978, 117978, 117978, 117978, 117978, 117978, 117978, 117978, 117978, 117978, 117978, 117978, 117978, 117978, 117978, 117978, 117978, 117978, 117978, 117978, 117978, 117978, 117978, 117978, 117978, 117978, 117978, 117978, 117978, 117978, 117978, 117978, 117978, 117978, 117978, 117978, 117978, 117978, 117978, 117978, 117978, 117978, 117978, 117978, 117978, 117978, 117978, 117978, 117978, 117978, 117978, 117978, 117978, 117978, 117978, 117978, 117978, 117978, 117978, 117978, 117978, 117978, 117978, 117978, 117978, 117978, 117978, 117978, 117978, 117978, 117978, 117978, 117978, 117978, 117978, 117978, 117978, 117978, 117978, 117978, 117978, 117978, 117978, 117978, 117978, 117978, 117978, 117978, 117978, 117978, 117978, 117978, 117978, 117978, 117978, 117978, 117978, 117978, 117978, 117978, 117978, 117978, 117978, 117978, 117978, 117978, 117978, 117978, 117978, 117978, 117978, 117978, 117978, 117978, 117978, 117978, 117978, 117978, 117978, 117978, 117978, 117978, 117978, 117978, 117978, 117978, 117978, 117978, 117978, 117978, 117978, 117978, 117978, 117978, 117978, 117978, 117978, 117978, 117978, 117978, 117978, 117978, 117978, 117978, 117978, 117978, 117978, 117978, 117978, 117978, 117978, 117978, 117978, 117978, 117978, 117978, 117978, 117978, 117978, 117978, 117978, 117978, 117978, 117978, 117978, 117978, 117978, 117978, 117978, 117978, 117978, 117978, 117978, 117978, 117978, 117978, 117978, 117978, 117978, 117978, 117978, 117978, 117978, 117978, 117978, 117978, 117978, 117978, 117978, 117978, 117978, 117978, 117978, 117978, 117978, 117978, 117978, 117978, 117978, 117978, 117978, 117978, 117978, 117978, 117978, 117978, 117978, 117978, 117978, 117978, 117978, 117978, 117978, 117978, 117978, 117978, 117978, 117978, 117978, 117978, 117978, 117978, 117978, 117978, 117978, 117978, 117978, 117978, 117978, 117978, 117978, 117978, 117978, 117978, 117978, 117978, 117978, 117978, 117978, 117978, 117978, 117978, 117978, 117978, 117978, 117978, 117978, 117978, 117978, 117978, 117978, 117978, 117978, 117978, 117978, 117978, 117978, 117978, 117978, 117978, 117978, 117978, 117978, 117978, 117978, 117978, 117978, 117978, 117978, 117978, 117978, 117978, 117978, 117978, 117978, 117978, 117978, 117978, 117978, 117978, 117978, 117978, 117978, 117978, 117978, 117978, 117978, 117978, 117978, 117978, 117978, 117978, 117978, 117978, 117978, 117978, 117978, 117978, 117978, 117978, 117978, 117978, 117978, 117978, 117978, 117978, 117978, 117978, 117978, 117978, 117978, 117978, 117978, 117978, 117978, 117978, 117978, 117978, 117978, 117978, 117978, 117978, 117978, 117978, 117978, 117978, 117978, 117978, 117978, 117978, 117978, 117978, 117978, 117978, 117978, 117978, 117978, 117978, 117978, 117978, 117978, 117978, 117978, 117978, 117978, 117978, 117978, 117978, 117978, 117978, 117978, 117978, 117978, 117978, 117978, 117978, 117978, 117978, 117978, 117978, 117978, 117978, 117978, 117978, 117978, 117978, 117978, 117978, 117978, 117978, 117978, 117978, 117978, 117978, 117978, 117978, 117978, 117978, 117978, 117978, 117978, 117978, 117978, 117978, 117978, 117978, 117978, 117978, 117978, 117978, 117978, 117978, 117978, 117978, 117978, 117978, 117978, 117978, 117978, 117978, 117978, 117978, 117978, 117978, 117978, 117978, 117978, 117978, 117978, 117978, 117978, 117978, 117978, 117978, 117978, 117978, 117978, 117978, 117978, 117978, 117978, 117978, 117978, 117978, 117978, 117978, 117978, 117978, 117978, 117978, 117978, 117978, 117978, 117978, 117978, 117978, 117978, 117978, 117978, 117978, 117978, 117978, 117978, 117978, 117978, 117978, 117978, 117978, 117978, 117978, 117978, 117978, 117978, 117978, 117978, 117978, 117978, 117978, 117978, 117978, 117978, 117978, 117978, 117978, 117978, 117978, 117978, 117978, 117978, 117978, 117978, 117978, 117978, 117978, 117978, 117978, 117978, 117978, 117978, 117978, 117978, 117978, 117978, 117978, 117978, 117978, 117978, 117978, 117978, 117978, 117978, 117978, 117978, 117978, 117978, 117978, 117978, 117978, 117978, 117978, 117978, 117978, 117978, 117978, 117978, 117978, 117978, 117978, 117978, 117978, 117978, 117978, 117978, 117978, 117978, 117978, 117978, 117978, 117978, 117978, 117978, 117978, 117978, 117978, 117978, 117978, 117978, 117978, 117978, 117978, 117978, 117978, 117978, 117978, 117978, 117978, 117978, 117978, 117978, 117978, 117978, 117978, 117978, 117978, 117978, 117978, 117978, 117978, 117978, 117978, 117978, 117978, 117978, 117978, 117978, 117978, 117978, 117978, 117978, 117978, 117978, 117978, 117978, 117978, 117978, 117978, 117978, 117978, 117978, 117978, 117978, 117978, 117978, 117978, 117978, 117978, 117978, 117978, 117978, 117978, 117978, 117978, 117978, 117978, 117978, 117978, 117978, 117978, 117978, 117978, 117978, 117978, 117978, 117978, 117978, 117978, 117978, 117978, 117978, 117978, 117978, 117978, 117978, 117978, 117978, 117978, 117978, 117978, 117978, 117978, 117978, 117978, 117978, 117978, 117978, 117978, 117978, 117978, 117978, 117978, 117978, 117978, 117978, 117978, 117978, 117978, 117978, 117978, 117978, 117978, 117978, 117978, 117978, 117978, 117978, 117978, 117978, 117978, 117978, 117978, 117978, 117978, 117978, 117978, 117978, 117978, 117978, 117978, 117978, 117978, 117978, 117978, 117978, 117978, 117978, 117978, 117978, 117978, 117978, 117978, 117978, 117978, 117978, 117978, 117978, 117978, 117978, 117978, 117978, 117978, 117978, 117978, 117978, 117978, 117978, 117978, 117978, 117978, 117978, 117978, 117978, 117978, 117978, 117978, 117978, 117978, 117978, 117978, 117978, 117978, 117978, 117978, 117978, 117978, 117978, 117978, 117978, 117978, 117978, 117978, 117978, 117978, 117978, 117978, 117978, 117978, 117978, 117978, 117978, 117978, 117978, 117978, 117978, 117978, 117978, 117978, 117978, 117978, 117978, 117978, 117978, 117978, 117978, 117978, 117978, 117978, 117978, 117978, 117978, 117978, 117978, 117978, 117978, 117978, 117978, 117978, 117978, 117978, 117978, 117978, 117978, 117978, 117978, 117978, 117978, 117978, 117978, 117978, 117978, 117978, 117978, 117978, 117978, 117978, 117978, 117978, 117978, 117978, 117978, 117978, 117978, 117978, 117978, 117978, 117978, 117978, 117978, 117978, 117978, 117978, 117978, 117978, 117978, 117978, 117978, 117978, 117978, 117978, 117978, 117978, 117978, 117978, 117978, 117978, 117978, 117978, 117978, 117978, 117978, 117978, 117978, 117978, 117978, 117978, 117978, 117978, 117978, 117978, 117978, 117978, 117978, 117978, 117978, 117978, 117978, 117978, 117978, 117978, 117978, 117978, 117978, 117978, 117978, 117978, 117978, 117978, 117978, 117978, 117978, 117978, 117978, 117978, 117978, 117978, 117978, 117978, 117978, 117978, 117978, 117978, 117978, 117978, 117978, 117978, 117978, 117978, 117978, 117978, 117978, 117978, 117978, 117978, 117978, 117978, 117978, 117978, 117978, 117978, 117978, 117978, 117978, 117978, 117978, 117978, 117978, 117978, 117978, 117978, 117978, 117978, 117978, 117978, 117978, 117978, 117978, 117978, 117978, 117978, 117978, 117978, 117978, 117978, 117978, 117978, 117978, 117978, 117978, 117978, 117978, 117978, 117978, 117978, 117978, 117978, 117978, 117978, 117978, 117978, 117978, 117978, 117978, 117978, 117978, 117978, 117978, 117978, 117978, 117978, 117978, 117978, 117978, 117978, 117978, 117978, 117978, 117978, 117978, 117978, 117978, 117978, 117978, 117978, 117978, 117978, 117978, 117978, 117978, 117978, 117978, 117978, 117978, 117978, 117978, 117978, 117978, 117978, 117978, 117978, 117978, 117978, 117978, 117978, 117978, 117978, 117978, 117978, 117978, 117978, 117978, 117978, 117978, 117978, 117978, 117978, 117978, 117978, 117978, 117978, 117978, 117978, 117978, 117978, 117978, 117978, 117978, 117978, 117978, 117978, 117978, 117978, 117978, 117978, 117978, 117978, 117978, 117978, 117978, 117978, 117978, 117978, 117978, 117978, 117978, 117978, 117978, 117978, 117978, 117978, 117978, 117978, 117978, 117978, 117978, 117978, 117978, 117978, 117978, 117978, 117978, 117978, 117978, 117978, 117978, 117978, 117978, 117978, 117978, 117978, 117978, 117978, 117978, 117978, 117978, 117978, 117978, 117978, 117978, 117978, 117978, 117978, 117978, 117978, 117978, 117978, 117978, 117978, 117978, 117978, 117978, 117978, 117978, 117978, 117978, 117978, 117978, 117978, 117978, 117978, 117978, 117978, 117978, 117978, 117978, 117978, 117978, 117978, 117978, 117978, 117978, 117978, 117978, 117978, 117978, 117978, 117978, 117978, 117978, 117978, 117978, 117978, 117978, 117978, 117978, 117978, 117978, 117978, 117978, 117978, 117978, 117978, 117978, 117978, 117978, 117978, 117978, 117978, 117978, 117978, 117978, 117978, 117978, 117978, 117978, 117978, 117978, 117978, 117978, 117978, 117978, 117978, 117978, 117978, 117978, 117978, 117978, 117978, 117978, 117978, 117978, 117978, 117978, 117978, 117978, 117978, 117978, 117978, 117978, 117978, 117978, 117978, 117978, 117978, 117978, 117978, 117978, 117978, 117978, 117978, 117978, 117978, 117978, 117978, 117978, 117978, 117978, 117978, 117978, 117978, 117978, 117978, 117978, 117978, 117978, 117978, 117978, 117978, 117978, 117978, 117978, 117978, 117978, 117978, 117978, 117978, 117978, 117978, 117978, 117978, 117978, 117978, 117978, 117978, 117978, 117978, 117978, 117978, 117978, 117978, 117978, 117978, 117978, 117978, 117978, 117978, 117978, 117978, 117978, 117978, 117978, 117978, 117978, 117978, 117978, 117978, 117978, 117978, 117978, 117978, 117978, 117978, 117978, 117978, 117978, 117978, 117978, 117978, 117978, 117978, 117978, 117978, 117978, 117978, 117978, 117978, 117978, 117978, 117978, 117978, 117978, 117978, 117978, 117978, 117978, 117978, 117978, 117978, 117978, 117978, 117978, 117978, 117978, 117978, 117978, 117978, 117978, 117978, 117978, 117978, 117978, 117978, 117978, 117978, 117978, 117978, 117978, 117978, 117978, 117978, 117978, 117978, 117978, 117978, 117978, 117978, 117978, 117978, 117978, 117978, 117978, 117978, 117978, 117978, 117978, 117978, 117978, 117978, 117978, 117978, 117978, 117978, 117978, 117978, 117978, 117978, 117978, 117978, 117978, 117978, 117978, 117978, 117978, 117978, 117978, 117978, 117978, 117978, 117978, 117978, 117978, 117978, 117978, 117978, 117978, 117978, 117978, 117978, 117978, 117978, 117978, 117978, 117978, 117978, 117978, 117978, 117978, 117978, 117978, 117978, 117978, 117978, 117978, 117978, 117978, 117978, 117978, 117978, 117978, 117978, 117978, 117978, 117978, 117978, 117978, 117978, 117978, 117978, 117978, 117978, 117978, 117978, 117978, 117978, 117978, 117978, 117978, 117978, 117978, 117978, 117978, 117978, 117978, 117978, 117978, 117978, 117978, 117978, 117978, 117978, 117978, 117978, 117978, 117978, 117978, 117978, 117978, 117978, 117978, 117978, 117978, 117978, 117978, 117978, 117978, 117978, 117978, 117978, 117978, 117978, 117978, 117978, 117978, 117978, 117978, 117978, 117978, 117978, 117978, 117978, 117978, 117978, 117978, 117978, 117978, 117978, 117978, 117978, 117978, 117978, 117978, 117978, 117978, 117978, 117978, 117978, 117978, 117978, 117978, 117978, 117978, 117978, 117978, 117978, 117978, 117978, 117978, 117978, 117978, 117978, 117978, 117978, 117978, 117978, 117978, 117978, 117978, 117978, 117978, 117978, 117978, 117978, 117978, 117978, 117978, 117978, 117978, 117978, 117978, 117978, 117978, 117978, 117978, 117978, 117978, 117978, 117978, 117978, 117978, 117978, 117978, 117978, 117978, 117978, 117978, 117978, 117978, 117978, 117978, 117978, 117978, 117978, 117978, 117978, 117978, 117978, 117978, 117978, 117978, 117978, 117978, 117978, 117978, 117978, 117978, 117978, 117978, 117978, 117978, 117978, 117978, 117978, 117978, 117978, 117978, 117978, 117978, 117978, 117978, 117978, 117978, 117978, 117978, 117978, 117978, 117978, 117978, 117978, 117978, 117978, 117978, 117978, 117978, 117978, 117978, 117978, 117978, 117978, 117978, 117978, 117978, 117978, 117978, 117978, 117978, 117978, 117978, 117978, 117978, 117978, 117978, 117978, 117978, 117978, 117978, 117978, 117978, 117978, 117978, 117978, 117978, 117978, 117978, 117978, 117978, 117978, 117978, 117978, 117978, 117978, 117978, 117978, 117978, 117978, 117978, 117978, 117978, 117978, 117978, 117978, 117978, 117978, 117978, 117978, 117978, 117978, 117978, 117978, 117978, 117978, 117978, 117978, 117978, 117978, 117978, 117978, 117978, 117978, 117978, 117978, 117978, 117978, 117978, 117978, 117978, 117978, 117978, 117978, 117978, 117978, 117978, 117978, 117978, 117978, 117978, 117978, 117978, 117978, 117978, 117978, 117978, 117978, 117978, 117978, 117978, 117978, 117978, 117978, 117978, 117978, 117978, 117978, 117978, 117978, 117978, 117978, 117978, 117978, 117978, 117978, 117978, 117978, 117978, 117978, 117978, 117978, 117978, 117978, 117978, 117978, 117978, 117978, 117978, 117978, 117978, 117978, 117978, 117978, 117978, 117978, 117978, 117978, 117978, 117978, 117978, 117978, 117978, 117978, 117978, 117978, 117978, 117978, 117978, 117978, 117978, 117978, 117978, 117978, 117978, 117978, 117978, 117978, 117978, 117978, 117978, 117978, 117978, 117978, 117978, 117978, 117978, 117978, 117978, 117978, 117978, 117978, 117978, 117978, 117978, 117978, 117978, 117978, 117978, 117978, 117978, 117978, 117978, 117978, 117978, 117978, 117978, 117978, 117978, 117978, 117978, 117978, 117978, 117978, 117978, 117978, 117978, 117978, 117978, 117978, 117978, 117978, 117978, 117978\n  y sizes: 10015\nMake sure all arrays contain the same number of samples."
     ]
    }
   ],
   "source": [
    "iv3_model.compile(optimizer='Adam',\n",
    "              loss=tf.nn.softmax_cross_entropy_with_logits,\n",
    "              metrics=['accuracy'])\n",
    "iv3_model.fit(new_IV3, new_y, epochs=5, validation_split=0.1)"
   ]
  },
  {
   "cell_type": "code",
   "execution_count": null,
   "id": "1f0bbb79",
   "metadata": {},
   "outputs": [],
   "source": []
  },
  {
   "cell_type": "code",
   "execution_count": null,
   "id": "ab4b5eee",
   "metadata": {},
   "outputs": [],
   "source": [
    "predict_y_iv3 = []\n",
    "temp_iv3 = iv3_model.predict(new_IV3)\n",
    "\n",
    "for i in tqdm(range(0, 10015)):\n",
    "    pred = np.argmax(temp_iv3[i])\n",
    "    predict_y_iv3.append(pred)"
   ]
  },
  {
   "cell_type": "code",
   "execution_count": null,
   "id": "867a970f",
   "metadata": {},
   "outputs": [],
   "source": [
    "predict_y_vgg = []\n",
    "temp_vgg = vgg_model.predict(new_VGG[-1001:])\n",
    "print(temp_vgg.shape)\n",
    "for i in tqdm(range(0, 1001)):\n",
    "    pred = np.argmax(temp_vgg[i])\n",
    "    predict_y_vgg.append(pred)"
   ]
  },
  {
   "cell_type": "code",
   "execution_count": null,
   "id": "8732efb8",
   "metadata": {},
   "outputs": [],
   "source": [
    "predict_y_res = []\n",
    "temp_res = res_model.predict(new_RES)\n",
    "for i in tqdm(range(0, 10015)):\n",
    "    pred = np.argmax(temp_res[i])\n",
    "    predict_y_res.append(pred)"
   ]
  },
  {
   "cell_type": "code",
   "execution_count": null,
   "id": "47d311ea",
   "metadata": {},
   "outputs": [],
   "source": [
    "cm_iv3 = tf.math.confusion_matrix(np.array(df['risk']), np.array(predict_y_iv3))"
   ]
  },
  {
   "cell_type": "code",
   "execution_count": null,
   "id": "43946da7",
   "metadata": {},
   "outputs": [],
   "source": [
    "cm_vgg = tf.math.confusion_matrix(np.array(df['risk'][-1001:]), np.array(predict_y_vgg))"
   ]
  },
  {
   "cell_type": "code",
   "execution_count": null,
   "id": "b2b3f48c",
   "metadata": {},
   "outputs": [],
   "source": [
    "cm_res = tf.math.confusion_matrix(np.array(df['risk']), np.array(predict_y_res))"
   ]
  },
  {
   "cell_type": "code",
   "execution_count": null,
   "id": "0b82c464",
   "metadata": {},
   "outputs": [],
   "source": [
    "cm_iv3 = np.array(cm_iv3).astype('float32')\n",
    "cm_vgg = np.array(cm_vgg).astype('float32')\n",
    "\n",
    "cm_res = np.array(cm_res).astype('float32')\n",
    "\n"
   ]
  },
  {
   "cell_type": "code",
   "execution_count": null,
   "id": "40d6d055",
   "metadata": {},
   "outputs": [],
   "source": [
    "cm_iv3[0] = cm_iv3[0] / 1356\n",
    "cm_iv3[1] = cm_iv3[1] / 6705\n",
    "cm_iv3[2] = cm_iv3[2] / 326\n",
    "cm_iv3[3] = cm_iv3[3] / 1627\n",
    "\n",
    "cm_vgg[0] = cm_vgg[0]/ cm_vgg[0].sum()\n",
    "cm_vgg[1] = cm_vgg[1]/ cm_vgg[1].sum()\n",
    "cm_vgg[2] = cm_vgg[2]/ cm_vgg[2].sum()\n",
    "cm_vgg[3] = cm_vgg[3]/ cm_vgg[3].sum()\n",
    "\n",
    "cm_res[0] = cm_res[0] / 1356\n",
    "cm_res[1] = cm_res[1] / 6705\n",
    "cm_res[2] = cm_res[2] / 326\n",
    "cm_res[3] = cm_res[3] / 1627"
   ]
  },
  {
   "cell_type": "code",
   "execution_count": null,
   "id": "f0ddbb53",
   "metadata": {},
   "outputs": [],
   "source": [
    "import seaborn as sns\n",
    "\n",
    "sns.heatmap(cm_iv3, annot=True)"
   ]
  },
  {
   "cell_type": "code",
   "execution_count": null,
   "id": "3e3c9334",
   "metadata": {},
   "outputs": [],
   "source": [
    "sns.heatmap(cm_vgg, annot=True)"
   ]
  },
  {
   "cell_type": "code",
   "execution_count": null,
   "id": "94f250af",
   "metadata": {},
   "outputs": [],
   "source": [
    "sns.heatmap(cm_res, annot=True)"
   ]
  },
  {
   "cell_type": "code",
   "execution_count": null,
   "id": "269d14b5",
   "metadata": {},
   "outputs": [],
   "source": [
    "feature_vector = []\n",
    "\n",
    "for i in tqdm(range(0, 10015)):\n",
    "    sex = 2 if df.iloc[i]['sex'] == 'male' else 1\n",
    "    age = df.iloc[i]['age']\n",
    "    loc = df.iloc[i]['localization']\n",
    "    \n",
    "    feat = np.array([])#np.array([age])#, sex])\n",
    "    \n",
    "    if loc == 'abdomen':\n",
    "        feat = np.concatenate((feat, tf.one_hot(0, 15)))\n",
    "    elif loc == 'scalp':\n",
    "        feat = np.concatenate((feat, tf.one_hot(1, 15)))\n",
    "    elif loc == 'lower extremity':\n",
    "        feat = np.concatenate((feat, tf.one_hot(2, 15)))\n",
    "    elif loc == 'trunk':\n",
    "        feat = np.concatenate((feat, tf.one_hot(3, 15)))\n",
    "    elif loc == 'upper extremity':\n",
    "        feat = np.concatenate((feat, tf.one_hot(4, 15)))\n",
    "    elif loc == 'back':\n",
    "        feat = np.concatenate((feat,tf.one_hot(5, 15)))\n",
    "    elif loc == 'neck':\n",
    "        feat = np.concatenate((feat,tf.one_hot(6, 15)))\n",
    "    elif loc == 'face':\n",
    "        feat = np.concatenate((feat,tf.one_hot(7, 15)))\n",
    "    elif loc == 'chest':\n",
    "        feat = np.concatenate((feat,tf.one_hot(8, 15)))\n",
    "    elif loc == 'foot':\n",
    "        feat = np.concatenate((feat,tf.one_hot(9, 15)))\n",
    "    elif loc == 'ear':\n",
    "        feat = np.concatenate((feat,tf.one_hot(10, 15)))\n",
    "    elif loc == 'unknown':\n",
    "        feat = np.concatenate((feat,tf.one_hot(11, 15)))\n",
    "    elif loc == 'hand':\n",
    "        feat = np.concatenate((feat,tf.one_hot(12, 15)))\n",
    "    elif loc == 'acral':\n",
    "        feat = np.concatenate((feat,tf.one_hot(13, 15)))\n",
    "    elif loc == 'genital':\n",
    "        feat = np.concatenate((feat,tf.one_hot(14, 15)))\n",
    "\n",
    "    feature_vector.append(feat)"
   ]
  },
  {
   "cell_type": "code",
   "execution_count": null,
   "id": "c00a86ba",
   "metadata": {},
   "outputs": [],
   "source": [
    "feat_X = np.array(feature_vector)"
   ]
  },
  {
   "cell_type": "code",
   "execution_count": null,
   "id": "908a0768",
   "metadata": {},
   "outputs": [],
   "source": [
    "feat_X[0].astype('float32')"
   ]
  },
  {
   "cell_type": "code",
   "execution_count": 29,
   "id": "ef08f703",
   "metadata": {},
   "outputs": [],
   "source": [
    "class_weights = {3:4,  1:1, 2:25, 0:4}"
   ]
  },
  {
   "cell_type": "code",
   "execution_count": 30,
   "id": "b6ce6366",
   "metadata": {},
   "outputs": [],
   "source": [
    "sample_weights = []\n",
    "\n",
    "for i in range(0, 10015):\n",
    "    sample_weights.append(class_weights[df.iloc[i]['risk']])\n",
    "    \n",
    "df['weight'] = sample_weights"
   ]
  },
  {
   "cell_type": "code",
   "execution_count": 31,
   "id": "abc433fc",
   "metadata": {},
   "outputs": [],
   "source": [
    "sample_weights = np.array(sample_weights)"
   ]
  },
  {
   "cell_type": "code",
   "execution_count": null,
   "id": "f27b66a9",
   "metadata": {},
   "outputs": [],
   "source": []
  },
  {
   "cell_type": "code",
   "execution_count": null,
   "id": "472a75df",
   "metadata": {},
   "outputs": [],
   "source": [
    "of_model = models.Sequential()\n",
    "\n",
    "of_model.add(layers.Dense(4))"
   ]
  },
  {
   "cell_type": "code",
   "execution_count": null,
   "id": "c682b677",
   "metadata": {},
   "outputs": [],
   "source": [
    "of_model.compile(optimizer='Adam',\n",
    "              loss=tf.nn.softmax_cross_entropy_with_logits,\n",
    "              metrics=['accuracy'])\n",
    "history = of_model.fit(feat_X, new_y, epochs=10, validation_split=0.1, sample_weight=sample_weights)"
   ]
  },
  {
   "cell_type": "code",
   "execution_count": null,
   "id": "24e17565",
   "metadata": {},
   "outputs": [],
   "source": [
    "import matplotlib.pyplot as plt\n",
    "plt.plot(history.history['loss'], label=\"train_loss\")\n",
    "plt.plot(history.history['val_loss'], label=\"val_loss\")\n",
    "\n",
    "plt.legend()"
   ]
  },
  {
   "cell_type": "code",
   "execution_count": null,
   "id": "0056b13a",
   "metadata": {},
   "outputs": [],
   "source": [
    "new_X = []\n",
    "\n",
    "for i in tqdm(range(0, 10015)):\n",
    "    feat = np.concatenate((temp_iv3[i] - 9, temp_vgg[i] + 1, temp_res[i] + 6, feature_vector[i]))\n",
    "    new_X.append(feat)\n",
    "    \n",
    "new_X = np.array(new_X)\n",
    "new_X.shape"
   ]
  },
  {
   "cell_type": "code",
   "execution_count": null,
   "id": "f120a8d7",
   "metadata": {},
   "outputs": [],
   "source": [
    "new_X[4]"
   ]
  },
  {
   "cell_type": "code",
   "execution_count": null,
   "id": "35b8d4bf",
   "metadata": {},
   "outputs": [],
   "source": [
    "new_y.shape"
   ]
  },
  {
   "cell_type": "code",
   "execution_count": null,
   "id": "f8465e11",
   "metadata": {},
   "outputs": [],
   "source": [
    "final_model = models.Sequential()\n",
    "\n",
    "final_model.add(layers.Dense(64, activation='relu'))\n",
    "final_model.add(layers.Dense(32, activation='relu'))\n",
    "final_model.add(layers.Dense(16, activation='relu'))\n",
    "final_model.add(layers.Dense(8, activation='relu'))\n",
    "final_model.add(layers.Dense(4))"
   ]
  },
  {
   "cell_type": "code",
   "execution_count": null,
   "id": "9dfb91ba",
   "metadata": {},
   "outputs": [],
   "source": [
    "final_model.compile(optimizer='Adam',\n",
    "              loss=tf.nn.softmax_cross_entropy_with_logits,\n",
    "              metrics=['accuracy'])\n",
    "final_model.fit(new_X, new_y, epochs=10, validation_split=0.1, shuffle=True)"
   ]
  },
  {
   "cell_type": "code",
   "execution_count": null,
   "id": "052a1c0d",
   "metadata": {},
   "outputs": [],
   "source": [
    "predict_y_final = []\n",
    "temp_final = final_model.predict(new_X)\n",
    "\n",
    "for i in tqdm(range(0, 10015)):\n",
    "    pred = np.argmax(temp_final[i])\n",
    "    predict_y_final.append(pred)"
   ]
  },
  {
   "cell_type": "code",
   "execution_count": null,
   "id": "ab085779",
   "metadata": {},
   "outputs": [],
   "source": [
    "cm_final = tf.math.confusion_matrix(np.array(df['risk']), np.array(predict_y_final))\n",
    "\n",
    "cm_final = np.array(cm_final).astype('float32')\n",
    "\n",
    "cm_final[0] = cm_final[0] / 1356\n",
    "cm_final[1] = cm_final[1] / 6705\n",
    "cm_final[2] = cm_final[2] / 326\n",
    "cm_final[3] = cm_final[3] / 1627"
   ]
  },
  {
   "cell_type": "code",
   "execution_count": null,
   "id": "f498f29f",
   "metadata": {},
   "outputs": [],
   "source": [
    "sns.heatmap(cm_final, annot=True)"
   ]
  },
  {
   "cell_type": "code",
   "execution_count": null,
   "id": "f62086c9",
   "metadata": {},
   "outputs": [],
   "source": []
  },
  {
   "cell_type": "code",
   "execution_count": null,
   "id": "b7083ae4",
   "metadata": {},
   "outputs": [],
   "source": []
  },
  {
   "cell_type": "code",
   "execution_count": null,
   "id": "7aa361bc",
   "metadata": {},
   "outputs": [],
   "source": []
  },
  {
   "cell_type": "code",
   "execution_count": null,
   "id": "75a93caa",
   "metadata": {},
   "outputs": [],
   "source": []
  },
  {
   "cell_type": "code",
   "execution_count": null,
   "id": "3783707d",
   "metadata": {},
   "outputs": [],
   "source": []
  },
  {
   "cell_type": "markdown",
   "id": "ca237e14",
   "metadata": {},
   "source": [
    "# New Original Model"
   ]
  },
  {
   "cell_type": "code",
   "execution_count": null,
   "id": "37a3417f",
   "metadata": {},
   "outputs": [],
   "source": [
    "df = pd.read_csv('./data/HAM10000_Metadata')"
   ]
  },
  {
   "cell_type": "code",
   "execution_count": null,
   "id": "effce3ad",
   "metadata": {},
   "outputs": [],
   "source": [
    "df = df.sample(frac = 1).reset_index()\n",
    "\n",
    "df.head()"
   ]
  },
  {
   "cell_type": "code",
   "execution_count": null,
   "id": "61549d1b",
   "metadata": {},
   "outputs": [],
   "source": [
    "risk = []\n",
    "\n",
    "for i in range(0, 10015):\n",
    "    if df.iloc[i]['dx'] in ['bkl', 'df', 'vasc']:\n",
    "        risk.append(0.0)\n",
    "    elif df.iloc[i]['dx'] == 'nv':\n",
    "        risk.append(1.0)\n",
    "    elif df.iloc[i]['dx'] == 'akiec':\n",
    "        risk.append(2.0)\n",
    "    elif df.iloc[i]['dx'] in ['mel', 'bcc']:\n",
    "        risk.append(3.0)\n",
    "        \n",
    "df['risk'] = risk\n",
    "\n",
    "df.head()"
   ]
  },
  {
   "cell_type": "code",
   "execution_count": null,
   "id": "0a92062b",
   "metadata": {},
   "outputs": [],
   "source": [
    "import seaborn as sns\n",
    "import matplotlib.pyplot as plt"
   ]
  },
  {
   "cell_type": "code",
   "execution_count": null,
   "id": "c245ac32",
   "metadata": {},
   "outputs": [],
   "source": [
    "fig, axs = plt.subplots(4,1, figsize=(15,30), sharex=True)\n",
    "\n",
    "sns.histplot(x='localization', data=df[df['risk'] == 0.0], color='green', stat='probability', ax=axs[0]).set_title('risk 0')\n",
    "sns.histplot(x='localization', data=df[df['risk'] == 1.0], color='yellow', stat='probability', ax=axs[1]).set_title('risk 1')\n",
    "sns.histplot(x='localization', data=df[df['risk'] == 2.0], color='orange', stat='probability', ax=axs[2]).set_title('risk 2')\n",
    "sns.histplot(x='localization', data=df[df['risk'] == 3.0], color='red', stat='probability', ax=axs[3]).set_title('risk 3')"
   ]
  },
  {
   "cell_type": "code",
   "execution_count": null,
   "id": "d8907408",
   "metadata": {},
   "outputs": [],
   "source": [
    "X = []\n",
    "\n",
    "for i in tqdm(range(0, 10015)):\n",
    "    file = df.iloc[i]['image_id']\n",
    "    \n",
    "    img = image.load_img('./Data/HAM10000_images/' + file + '.jpg', target_size= (150,200))\n",
    "    img = image.img_to_array(img) / 255.0\n",
    "    \n",
    "    \n",
    "    X.append(img)"
   ]
  },
  {
   "cell_type": "code",
   "execution_count": null,
   "id": "88fd32a0",
   "metadata": {},
   "outputs": [],
   "source": [
    "X = np.array(X)\n",
    "\n",
    "X.shape"
   ]
  },
  {
   "cell_type": "code",
   "execution_count": null,
   "id": "8202bb5a",
   "metadata": {},
   "outputs": [],
   "source": [
    "risk = []\n",
    "\n",
    "for ele in df['risk']:\n",
    "    risk.append(tf.one_hot(int(ele), 4))\n",
    "    \n",
    "y = np.array(risk)\n",
    "y.shape"
   ]
  },
  {
   "cell_type": "code",
   "execution_count": null,
   "id": "a4fee77e",
   "metadata": {},
   "outputs": [],
   "source": [
    "ori_model = models.Sequential()\n",
    "ori_model.add(layers.Conv2D(64, (3, 3), activation='tanh', input_shape=(150,200,3)))\n",
    "ori_model.add(layers.BatchNormalization())\n",
    "ori_model.add(layers.Activation(activations.elu))\n",
    "ori_model.add(layers.MaxPooling2D(2,2))\n",
    "\n",
    "\n",
    "ori_model.add(layers.Conv2D(32, (3, 3), activation='tanh'))\n",
    "ori_model.add(layers.BatchNormalization())\n",
    "ori_model.add(layers.Activation(activations.elu))\n",
    "ori_model.add(layers.MaxPooling2D(2,2))\n",
    "\n",
    "\n",
    "ori_model.add(layers.Conv2D(16, (3, 3), activation='tanh'))\n",
    "ori_model.add(layers.BatchNormalization())\n",
    "ori_model.add(layers.Activation(activations.elu))\n",
    "ori_model.add(layers.MaxPooling2D(2,2))\n",
    "\n",
    "\n",
    "ori_model.add(layers.Flatten(name=\"feature_output\"))\n",
    "\n",
    "ori_model.add(layers.Dense(1024, activation='relu'))\n",
    "ori_model.add(layers.Dense(256, activation='relu'))\n",
    "ori_model.add(layers.Dense(64, activation='relu'))\n",
    "ori_model.add(layers.Dense(4))"
   ]
  },
  {
   "cell_type": "code",
   "execution_count": null,
   "id": "230d7536",
   "metadata": {},
   "outputs": [],
   "source": [
    "ori_model.compile(optimizer='Adam',\n",
    "              loss=tf.nn.softmax_cross_entropy_with_logits,\n",
    "              metrics=['accuracy'])\n",
    "ori_model.fit(X, y, epochs=25, validation_split=0.1, batch_size=16)"
   ]
  },
  {
   "cell_type": "code",
   "execution_count": null,
   "id": "9d5119ed",
   "metadata": {},
   "outputs": [],
   "source": [
    "ori_model.save('./models/feature')"
   ]
  },
  {
   "cell_type": "code",
   "execution_count": null,
   "id": "6690ba6d",
   "metadata": {},
   "outputs": [],
   "source": [
    "loaded_model = tf.keras.models.load_model(\"./models/feature\")\n",
    "\n",
    "\n",
    "feature_extractor = tf.keras.Model(\n",
    "    inputs=loaded_model.inputs,\n",
    "    outputs=loaded_model.get_layer(name=\"feature_output\").output,\n",
    ")"
   ]
  },
  {
   "cell_type": "code",
   "execution_count": null,
   "id": "09f93869",
   "metadata": {},
   "outputs": [],
   "source": [
    "feature_vector = []\n",
    "\n",
    "for i in tqdm(range(0, 10015)):\n",
    "    sex = 0 if df.iloc[i]['sex'] == 'male' else 1\n",
    "    age = df.iloc[i]['age']\n",
    "    loc = df.iloc[i]['localization']\n",
    "    \n",
    "    feat = np.array([sex, age])\n",
    "    \n",
    "    if loc == 'abdomen':\n",
    "        feat = np.concatenate((feat, tf.one_hot(0, 15)))\n",
    "    elif loc == 'scalp':\n",
    "        feat = np.concatenate((feat, tf.one_hot(1, 15)))\n",
    "    elif loc == 'lower extremity':\n",
    "        feat = np.concatenate((feat, tf.one_hot(2, 15)))\n",
    "    elif loc == 'trunk':\n",
    "        feat = np.concatenate((feat, tf.one_hot(3, 15)))\n",
    "    elif loc == 'upper extremity':\n",
    "        feat = np.concatenate((feat, tf.one_hot(4, 15)))\n",
    "    elif loc == 'back':\n",
    "        feat = np.concatenate((feat,tf.one_hot(5, 15)))\n",
    "    elif loc == 'neck':\n",
    "        feat = np.concatenate((feat,tf.one_hot(6, 15)))\n",
    "    elif loc == 'face':\n",
    "        feat = np.concatenate((feat,tf.one_hot(7, 15)))\n",
    "    elif loc == 'chest':\n",
    "        feat = np.concatenate((feat,tf.one_hot(8, 15)))\n",
    "    elif loc == 'foot':\n",
    "        feat = np.concatenate((feat,tf.one_hot(9, 15)))\n",
    "    elif loc == 'ear':\n",
    "        feat = np.concatenate((feat,tf.one_hot(10, 15)))\n",
    "    elif loc == 'unknown':\n",
    "        feat = np.concatenate((feat,tf.one_hot(11, 15)))\n",
    "    elif loc == 'hand':\n",
    "        feat = np.concatenate((feat,tf.one_hot(12, 15)))\n",
    "    elif loc == 'acral':\n",
    "        feat = np.concatenate((feat,tf.one_hot(13, 15)))\n",
    "    elif loc == 'genital':\n",
    "        feat = np.concatenate((feat,tf.one_hot(14, 15)))\n",
    "\n",
    "    feature_vector.append(feat)"
   ]
  },
  {
   "cell_type": "code",
   "execution_count": null,
   "id": "693d5b24",
   "metadata": {},
   "outputs": [],
   "source": [
    "feature_vector = np.array(feature_vector)"
   ]
  },
  {
   "cell_type": "code",
   "execution_count": null,
   "id": "c3013ddf",
   "metadata": {},
   "outputs": [],
   "source": [
    "feature_vector.shape"
   ]
  },
  {
   "cell_type": "code",
   "execution_count": null,
   "id": "b197306e",
   "metadata": {},
   "outputs": [],
   "source": [
    "image_features = feature_extractor(X)"
   ]
  },
  {
   "cell_type": "code",
   "execution_count": null,
   "id": "8dd43b5d",
   "metadata": {},
   "outputs": [],
   "source": [
    "X = []\n",
    "for img_feat, feat in zip(image_features, feature_vector):\n",
    "    X.append(np.concatenate((img_feat, feat)))\n",
    "\n",
    "X = np.array(X)"
   ]
  },
  {
   "cell_type": "code",
   "execution_count": null,
   "id": "d94dcf4b",
   "metadata": {},
   "outputs": [],
   "source": [
    "model = models.Sequential()\n",
    "\n",
    "model.add(layers.Dense(1024, activation='relu'))\n",
    "model.add(layers.Dense(256, activation='relu'))\n",
    "model.add(layers.Dense(64, activation='relu'))\n",
    "model.add(layers.Dense(4))"
   ]
  },
  {
   "cell_type": "code",
   "execution_count": null,
   "id": "e0df2c32",
   "metadata": {},
   "outputs": [],
   "source": [
    "model.compile(optimizer='Adam',\n",
    "              loss=tf.nn.softmax_cross_entropy_with_logits,\n",
    "              metrics=['accuracy'])\n",
    "model.fit(X, y, epochs=25, validation_split=0.1, batch_size=16, sample_weight=sample_weights)"
   ]
  },
  {
   "cell_type": "code",
   "execution_count": null,
   "id": "7dbd7666",
   "metadata": {},
   "outputs": [],
   "source": []
  },
  {
   "cell_type": "code",
   "execution_count": null,
   "id": "675306d8",
   "metadata": {},
   "outputs": [],
   "source": []
  },
  {
   "cell_type": "code",
   "execution_count": null,
   "id": "9c933e1f",
   "metadata": {},
   "outputs": [],
   "source": []
  },
  {
   "cell_type": "code",
   "execution_count": null,
   "id": "186014f5",
   "metadata": {},
   "outputs": [],
   "source": []
  },
  {
   "cell_type": "code",
   "execution_count": null,
   "id": "d3ef2a71",
   "metadata": {},
   "outputs": [],
   "source": []
  },
  {
   "cell_type": "code",
   "execution_count": null,
   "id": "9e9ddfa0",
   "metadata": {},
   "outputs": [],
   "source": []
  },
  {
   "cell_type": "code",
   "execution_count": null,
   "id": "afb2d761",
   "metadata": {},
   "outputs": [],
   "source": []
  },
  {
   "cell_type": "code",
   "execution_count": null,
   "id": "856ab873",
   "metadata": {},
   "outputs": [],
   "source": []
  },
  {
   "cell_type": "code",
   "execution_count": null,
   "id": "16d8b6ea",
   "metadata": {},
   "outputs": [],
   "source": []
  },
  {
   "cell_type": "code",
   "execution_count": null,
   "id": "41f79c73",
   "metadata": {},
   "outputs": [],
   "source": []
  },
  {
   "cell_type": "code",
   "execution_count": null,
   "id": "27c6a057",
   "metadata": {},
   "outputs": [],
   "source": []
  },
  {
   "cell_type": "code",
   "execution_count": null,
   "id": "ffd864c0",
   "metadata": {},
   "outputs": [],
   "source": []
  },
  {
   "cell_type": "code",
   "execution_count": null,
   "id": "c61ce2ef",
   "metadata": {},
   "outputs": [],
   "source": []
  },
  {
   "cell_type": "code",
   "execution_count": null,
   "id": "2029e44e",
   "metadata": {},
   "outputs": [],
   "source": [
    "df = pd.read_csv('./data/HAM10000_Metadata')"
   ]
  },
  {
   "cell_type": "code",
   "execution_count": null,
   "id": "0efd391a",
   "metadata": {},
   "outputs": [],
   "source": [
    "df = df.sample(frac = 1).reset_index()\n",
    "\n",
    "df.head()"
   ]
  },
  {
   "cell_type": "code",
   "execution_count": null,
   "id": "63abb2c3",
   "metadata": {},
   "outputs": [],
   "source": [
    "risk = []\n",
    "\n",
    "for i in range(0, 10015):\n",
    "    if df.iloc[i]['dx'] in ['bkl', 'df', 'vasc']:\n",
    "        risk.append('no')\n",
    "    elif df.iloc[i]['dx'] == 'nv':\n",
    "        risk.append('lo')\n",
    "    elif df.iloc[i]['dx'] == 'akiec':\n",
    "        risk.append('md')\n",
    "    elif df.iloc[i]['dx'] in ['mel', 'bcc']:\n",
    "        risk.append('hi')\n",
    "        \n",
    "df['risk'] = risk\n",
    "\n",
    "df.head()"
   ]
  },
  {
   "cell_type": "code",
   "execution_count": null,
   "id": "37d46b5f",
   "metadata": {},
   "outputs": [],
   "source": [
    "df['image_id'] = df['image_id'].apply(lambda x: x + '.jpg')\n",
    "\n",
    "df.head()"
   ]
  },
  {
   "cell_type": "code",
   "execution_count": null,
   "id": "1b17f6e0",
   "metadata": {},
   "outputs": [],
   "source": [
    "# VGG-16\n",
    "VGG_load = VGG16(weights='imagenet')\n",
    "\n",
    "model = models.Sequential()\n",
    "model.add(VGG_load)\n",
    "model.add(layers.Dense(4))"
   ]
  },
  {
   "cell_type": "code",
   "execution_count": null,
   "id": "90f10b29",
   "metadata": {},
   "outputs": [],
   "source": [
    "data_gen = ImageDataGenerator(\n",
    "    rotation_range=90, \n",
    "    width_shift_range=0.2, \n",
    "    height_shift_range=0.2,\n",
    "    horizontal_flip=True, preprocessing_function = tf.keras.applications.vgg16.preprocess_input,\n",
    "    vertical_flip=True, validation_split=0.1, zoom_range=0.3)"
   ]
  },
  {
   "cell_type": "code",
   "execution_count": null,
   "id": "29185a04",
   "metadata": {},
   "outputs": [],
   "source": [
    "df['risk'].value_counts()"
   ]
  },
  {
   "cell_type": "code",
   "execution_count": null,
   "id": "1d6ead26",
   "metadata": {},
   "outputs": [],
   "source": [
    "data_gen.flow_from_dataframe(df, directory='./data/HAM10000_images',\n",
    "                                          x_col='image_id', y_col='risk', target_size=(224,224),\n",
    "                                          subset='training').class_indices"
   ]
  },
  {
   "cell_type": "code",
   "execution_count": null,
   "id": "67a5a030",
   "metadata": {},
   "outputs": [],
   "source": [
    "data_gen.flow_from_dataframe(df, directory='./data/HAM10000_images',\n",
    "                                          x_col='image_id', y_col='risk', target_size=(224,224),\n",
    "                                          subset='validation').class_indices"
   ]
  },
  {
   "cell_type": "code",
   "execution_count": null,
   "id": "9e3e8065",
   "metadata": {},
   "outputs": [],
   "source": [
    "class_weights = {'hi':1, 'lo':0.25, 'md':5, 'no':1}"
   ]
  },
  {
   "cell_type": "code",
   "execution_count": null,
   "id": "3db25929",
   "metadata": {},
   "outputs": [],
   "source": [
    "sample_weights = []\n",
    "\n",
    "for i in range(0, 10015):\n",
    "    sample_weights.append(class_weights[df.iloc[i]['risk']])\n",
    "    \n",
    "df['weight'] = sample_weights\n",
    "\n",
    "df.head()"
   ]
  },
  {
   "cell_type": "code",
   "execution_count": null,
   "id": "8922b629",
   "metadata": {},
   "outputs": [],
   "source": [
    "model.compile(optimizer=tf.keras.optimizers.Adam(learning_rate=0.00001),\n",
    "              loss=tf.nn.softmax_cross_entropy_with_logits,\n",
    "              metrics=['accuracy'])\n",
    "\n",
    "model.fit(\n",
    "    x=data_gen.flow_from_dataframe(df, directory='./data/HAM10000_images', weight_col='weight',\n",
    "                                          x_col='image_id', y_col='risk', target_size=(224,224),\n",
    "                                          subset='training'),\n",
    "    validation_data=data_gen.flow_from_dataframe(df, directory='./data/HAM10000_images', weight_col='weight',\n",
    "                                          x_col='image_id', y_col='risk', target_size=(224,224),\n",
    "                                          subset='validation'),\n",
    "    epochs=50)"
   ]
  },
  {
   "cell_type": "code",
   "execution_count": null,
   "id": "38117486",
   "metadata": {},
   "outputs": [],
   "source": [
    "feature_vector = []\n",
    "\n",
    "for i in tqdm(range(0, 10015)):\n",
    "    sex = 0 if df.iloc[i]['sex'] == 'male' else 1\n",
    "    age = df.iloc[i]['age']\n",
    "    loc = df.iloc[i]['localization']\n",
    "    \n",
    "    feat = np.array([sex, age])\n",
    "    \n",
    "    if loc == 'abdomen':\n",
    "        feat = np.concatenate((feat, tf.one_hot(0, 15)))\n",
    "    elif loc == 'scalp':\n",
    "        feat = np.concatenate((feat, tf.one_hot(1, 15)))\n",
    "    elif loc == 'lower extremity':\n",
    "        feat = np.concatenate((feat, tf.one_hot(2, 15)))\n",
    "    elif loc == 'trunk':\n",
    "        feat = np.concatenate((feat, tf.one_hot(3, 15)))\n",
    "    elif loc == 'upper extremity':\n",
    "        feat = np.concatenate((feat, tf.one_hot(4, 15)))\n",
    "    elif loc == 'back':\n",
    "        feat = np.concatenate((feat,tf.one_hot(5, 15)))\n",
    "    elif loc == 'neck':\n",
    "        feat = np.concatenate((feat,tf.one_hot(6, 15)))\n",
    "    elif loc == 'face':\n",
    "        feat = np.concatenate((feat,tf.one_hot(7, 15)))\n",
    "    elif loc == 'chest':\n",
    "        feat = np.concatenate((feat,tf.one_hot(8, 15)))\n",
    "    elif loc == 'foot':\n",
    "        feat = np.concatenate((feat,tf.one_hot(9, 15)))\n",
    "    elif loc == 'ear':\n",
    "        feat = np.concatenate((feat,tf.one_hot(10, 15)))\n",
    "    elif loc == 'unknown':\n",
    "        feat = np.concatenate((feat,tf.one_hot(11, 15)))\n",
    "    elif loc == 'hand':\n",
    "        feat = np.concatenate((feat,tf.one_hot(12, 15)))\n",
    "    elif loc == 'acral':\n",
    "        feat = np.concatenate((feat,tf.one_hot(13, 15)))\n",
    "    elif loc == 'genital':\n",
    "        feat = np.concatenate((feat,tf.one_hot(14, 15)))\n",
    "\n",
    "    feature_vector.append(feat)\n",
    "feature_vector = np.array(feature_vector)\n",
    "\n",
    "feature_vector.shape"
   ]
  },
  {
   "cell_type": "code",
   "execution_count": null,
   "id": "aea9a476",
   "metadata": {},
   "outputs": [],
   "source": [
    "unique, counts = np.unique(feature_vector, return_counts=True, axis=1)"
   ]
  },
  {
   "cell_type": "code",
   "execution_count": null,
   "id": "076d8374",
   "metadata": {},
   "outputs": [],
   "source": [
    "unique"
   ]
  },
  {
   "cell_type": "code",
   "execution_count": null,
   "id": "f6fc4bdc",
   "metadata": {},
   "outputs": [],
   "source": [
    "feature_extractor = tf.keras.Model(\n",
    "    inputs=VGG_load.inputs,\n",
    "    outputs=VGG_load.layers[-4].output,\n",
    ")"
   ]
  },
  {
   "cell_type": "code",
   "execution_count": null,
   "id": "54dd9cbb",
   "metadata": {},
   "outputs": [],
   "source": [
    "preprocessed = []\n",
    "\n",
    "for i in tqdm(range(0, 10015)):\n",
    "    file = df.iloc[i]['image_id']\n",
    "    feat_vec = feature_vector[i]    \n",
    "    \n",
    "    img = image.load_img('./Data/HAM10000_images/' + file, target_size= (224,224))\n",
    "    img = image.img_to_array(img)\n",
    "    # img = np.expand_dims(img, axis=0)\n",
    "    img = tf.keras.applications.vgg16.preprocess_input(img)\n",
    "    img_feat = feature_extractor(img)\n",
    "\n",
    "    preprocessed.append(np.concatenate((img_feat, feat_vec)))\n",
    "    \n",
    "preprocessed = np.array(preprocessed)"
   ]
  },
  {
   "cell_type": "code",
   "execution_count": null,
   "id": "78572b49",
   "metadata": {},
   "outputs": [],
   "source": [
    "ohr = []\n",
    "\n",
    "for i in range(0, 10015):\n",
    "    risk = df.iloc[i]['risk']\n",
    "    \n",
    "    if risk == 'no':\n",
    "        ohr.append(tf.one_hot(0, 4))\n",
    "    elif risk == 'lo':\n",
    "        ohr.append(tf.one_hot(1, 4))\n",
    "    elif risk == 'md':\n",
    "        ohr.append(tf.one_hot(2, 4))\n",
    "    elif risk == 'hi':\n",
    "        ohr.append(tf.one_hot(3, 4))\n",
    "        \n",
    "ohr = np.array(ohr)\n",
    "\n",
    "ohr.shape"
   ]
  },
  {
   "cell_type": "code",
   "execution_count": null,
   "id": "503ce71a",
   "metadata": {},
   "outputs": [],
   "source": [
    "ohr"
   ]
  },
  {
   "cell_type": "code",
   "execution_count": null,
   "id": "3e31ccf6",
   "metadata": {},
   "outputs": [],
   "source": [
    "new_model = models.Sequential()\n",
    "new_model.add(layers.Dense(4096, activation='relu'))\n",
    "new_model.add(layers.Dense(2048, activation='relu'))\n",
    "new_model.add(layers.Dense(512, activation='relu'))\n",
    "new_model.add(layers.Dense(128, activation='relu'))\n",
    "new_model.add(layers.Dense(4))"
   ]
  },
  {
   "cell_type": "code",
   "execution_count": null,
   "id": "eec650b5",
   "metadata": {},
   "outputs": [],
   "source": [
    "new_model.compile(optimizer='Adam',\n",
    "              loss=tf.nn.softmax_cross_entropy_with_logits,\n",
    "              metrics=['accuracy'])\n",
    "new_model.fit(preprocessed, ohr, sample_weight=np.array(df['weight']), epochs=10, validation_split=0.1)"
   ]
  },
  {
   "cell_type": "code",
   "execution_count": null,
   "id": "9b9aaa19",
   "metadata": {},
   "outputs": [],
   "source": []
  }
 ],
 "metadata": {
  "kernelspec": {
   "display_name": "tensorflow gpu",
   "language": "python",
   "name": "tensorflow"
  },
  "language_info": {
   "codemirror_mode": {
    "name": "ipython",
    "version": 3
   },
   "file_extension": ".py",
   "mimetype": "text/x-python",
   "name": "python",
   "nbconvert_exporter": "python",
   "pygments_lexer": "ipython3",
   "version": "3.8.10"
  }
 },
 "nbformat": 4,
 "nbformat_minor": 5
}
