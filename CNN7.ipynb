{
 "cells": [
  {
   "cell_type": "code",
   "execution_count": 1,
   "id": "8d9c9bed",
   "metadata": {},
   "outputs": [],
   "source": [
    "import pandas as pd\n",
    "from tensorflow.keras.preprocessing import image\n",
    "\n",
    "import tensorflow as tf\n",
    "\n",
    "from tensorflow.keras.applications.inception_v3 import InceptionV3\n",
    "from tensorflow.keras.applications.vgg16 import VGG16\n",
    "from tensorflow.keras.applications.resnet_v2 import ResNet152V2\n",
    "\n",
    "from tensorflow.keras.preprocessing.image import ImageDataGenerator\n",
    "from tensorflow.keras import layers\n",
    "from tensorflow.keras import models\n",
    "from tensorflow.keras import activations\n",
    "from tqdm import tqdm\n",
    "import numpy as np"
   ]
  },
  {
   "cell_type": "code",
   "execution_count": null,
   "id": "cb2b2cd6",
   "metadata": {},
   "outputs": [],
   "source": []
  },
  {
   "cell_type": "code",
   "execution_count": 2,
   "id": "783a9b2b",
   "metadata": {},
   "outputs": [
    {
     "name": "stdout",
     "output_type": "stream",
     "text": [
      "Num GPUs Available:  1\n"
     ]
    }
   ],
   "source": [
    "print(\"Num GPUs Available: \", len(tf.config.list_physical_devices('GPU')))"
   ]
  },
  {
   "cell_type": "code",
   "execution_count": 3,
   "id": "261c3484",
   "metadata": {},
   "outputs": [],
   "source": [
    "df = pd.read_csv('./data/HAM10000_Metadata')"
   ]
  },
  {
   "cell_type": "markdown",
   "id": "81ddfe42",
   "metadata": {},
   "source": [
    "(Warning for Sunlight, increased risk of cancer) Actinic keratoses and intraepithelial carcinoma / Bowen's disease (__akiec__), 0\n",
    "\n",
    "(Skin cancer) basal cell carcinoma (__bcc__), 1\n",
    "\n",
    "(HARMLESS) benign keratosis-like lesions (solar lentigines / seborrheic keratoses and lichen-planus like keratoses, __bkl__), 2\n",
    "\n",
    "(HARMLESS) dermatofibroma (__df__),  3\n",
    "\n",
    "melanoma (__mel__),  4\n",
    "\n",
    "(Not entirely harmless) melanocytic nevi (__nv__)   5\n",
    "\n",
    "(HARMLESS) vascular lesions (angiomas, angiokeratomas, pyogenic granulomas and hemorrhage, __vasc__). 6 \n",
    "\n",
    "\n",
    "More than 50% of lesions are confirmed through histopathology (histo), the ground truth for the rest of the cases is either follow-up examination (follow_up), expert consensus (consensus), or confirmation by in-vivo confocal microscopy (confocal). The dataset includes lesions with multiple images, which can be tracked by the lesion_id-column within the HAM10000_metadata file."
   ]
  },
  {
   "cell_type": "code",
   "execution_count": 4,
   "id": "544945c3",
   "metadata": {},
   "outputs": [
    {
     "data": {
      "text/html": [
       "<div>\n",
       "<style scoped>\n",
       "    .dataframe tbody tr th:only-of-type {\n",
       "        vertical-align: middle;\n",
       "    }\n",
       "\n",
       "    .dataframe tbody tr th {\n",
       "        vertical-align: top;\n",
       "    }\n",
       "\n",
       "    .dataframe thead th {\n",
       "        text-align: right;\n",
       "    }\n",
       "</style>\n",
       "<table border=\"1\" class=\"dataframe\">\n",
       "  <thead>\n",
       "    <tr style=\"text-align: right;\">\n",
       "      <th></th>\n",
       "      <th>lesion_id</th>\n",
       "      <th>image_id</th>\n",
       "      <th>dx</th>\n",
       "      <th>dx_type</th>\n",
       "      <th>age</th>\n",
       "      <th>sex</th>\n",
       "      <th>localization</th>\n",
       "      <th>dataset</th>\n",
       "    </tr>\n",
       "  </thead>\n",
       "  <tbody>\n",
       "    <tr>\n",
       "      <th>0</th>\n",
       "      <td>HAM_0000118</td>\n",
       "      <td>ISIC_0027419</td>\n",
       "      <td>bkl</td>\n",
       "      <td>histo</td>\n",
       "      <td>80.0</td>\n",
       "      <td>male</td>\n",
       "      <td>scalp</td>\n",
       "      <td>vidir_modern</td>\n",
       "    </tr>\n",
       "    <tr>\n",
       "      <th>1</th>\n",
       "      <td>HAM_0000118</td>\n",
       "      <td>ISIC_0025030</td>\n",
       "      <td>bkl</td>\n",
       "      <td>histo</td>\n",
       "      <td>80.0</td>\n",
       "      <td>male</td>\n",
       "      <td>scalp</td>\n",
       "      <td>vidir_modern</td>\n",
       "    </tr>\n",
       "    <tr>\n",
       "      <th>2</th>\n",
       "      <td>HAM_0002730</td>\n",
       "      <td>ISIC_0026769</td>\n",
       "      <td>bkl</td>\n",
       "      <td>histo</td>\n",
       "      <td>80.0</td>\n",
       "      <td>male</td>\n",
       "      <td>scalp</td>\n",
       "      <td>vidir_modern</td>\n",
       "    </tr>\n",
       "    <tr>\n",
       "      <th>3</th>\n",
       "      <td>HAM_0002730</td>\n",
       "      <td>ISIC_0025661</td>\n",
       "      <td>bkl</td>\n",
       "      <td>histo</td>\n",
       "      <td>80.0</td>\n",
       "      <td>male</td>\n",
       "      <td>scalp</td>\n",
       "      <td>vidir_modern</td>\n",
       "    </tr>\n",
       "    <tr>\n",
       "      <th>4</th>\n",
       "      <td>HAM_0001466</td>\n",
       "      <td>ISIC_0031633</td>\n",
       "      <td>bkl</td>\n",
       "      <td>histo</td>\n",
       "      <td>75.0</td>\n",
       "      <td>male</td>\n",
       "      <td>ear</td>\n",
       "      <td>vidir_modern</td>\n",
       "    </tr>\n",
       "  </tbody>\n",
       "</table>\n",
       "</div>"
      ],
      "text/plain": [
       "     lesion_id      image_id   dx dx_type   age   sex localization  \\\n",
       "0  HAM_0000118  ISIC_0027419  bkl   histo  80.0  male        scalp   \n",
       "1  HAM_0000118  ISIC_0025030  bkl   histo  80.0  male        scalp   \n",
       "2  HAM_0002730  ISIC_0026769  bkl   histo  80.0  male        scalp   \n",
       "3  HAM_0002730  ISIC_0025661  bkl   histo  80.0  male        scalp   \n",
       "4  HAM_0001466  ISIC_0031633  bkl   histo  75.0  male          ear   \n",
       "\n",
       "        dataset  \n",
       "0  vidir_modern  \n",
       "1  vidir_modern  \n",
       "2  vidir_modern  \n",
       "3  vidir_modern  \n",
       "4  vidir_modern  "
      ]
     },
     "execution_count": 4,
     "metadata": {},
     "output_type": "execute_result"
    }
   ],
   "source": [
    "df.head()"
   ]
  },
  {
   "cell_type": "code",
   "execution_count": 5,
   "id": "89856d5a",
   "metadata": {},
   "outputs": [
    {
     "data": {
      "text/html": [
       "<div>\n",
       "<style scoped>\n",
       "    .dataframe tbody tr th:only-of-type {\n",
       "        vertical-align: middle;\n",
       "    }\n",
       "\n",
       "    .dataframe tbody tr th {\n",
       "        vertical-align: top;\n",
       "    }\n",
       "\n",
       "    .dataframe thead th {\n",
       "        text-align: right;\n",
       "    }\n",
       "</style>\n",
       "<table border=\"1\" class=\"dataframe\">\n",
       "  <thead>\n",
       "    <tr style=\"text-align: right;\">\n",
       "      <th></th>\n",
       "      <th>index</th>\n",
       "      <th>lesion_id</th>\n",
       "      <th>image_id</th>\n",
       "      <th>dx</th>\n",
       "      <th>dx_type</th>\n",
       "      <th>age</th>\n",
       "      <th>sex</th>\n",
       "      <th>localization</th>\n",
       "      <th>dataset</th>\n",
       "    </tr>\n",
       "  </thead>\n",
       "  <tbody>\n",
       "    <tr>\n",
       "      <th>0</th>\n",
       "      <td>3775</td>\n",
       "      <td>HAM_0007467</td>\n",
       "      <td>ISIC_0029085</td>\n",
       "      <td>nv</td>\n",
       "      <td>follow_up</td>\n",
       "      <td>65.0</td>\n",
       "      <td>female</td>\n",
       "      <td>lower extremity</td>\n",
       "      <td>vidir_molemax</td>\n",
       "    </tr>\n",
       "    <tr>\n",
       "      <th>1</th>\n",
       "      <td>6820</td>\n",
       "      <td>HAM_0000682</td>\n",
       "      <td>ISIC_0030786</td>\n",
       "      <td>nv</td>\n",
       "      <td>histo</td>\n",
       "      <td>45.0</td>\n",
       "      <td>male</td>\n",
       "      <td>upper extremity</td>\n",
       "      <td>vidir_modern</td>\n",
       "    </tr>\n",
       "    <tr>\n",
       "      <th>2</th>\n",
       "      <td>4505</td>\n",
       "      <td>HAM_0006119</td>\n",
       "      <td>ISIC_0029944</td>\n",
       "      <td>nv</td>\n",
       "      <td>follow_up</td>\n",
       "      <td>40.0</td>\n",
       "      <td>female</td>\n",
       "      <td>upper extremity</td>\n",
       "      <td>vidir_molemax</td>\n",
       "    </tr>\n",
       "    <tr>\n",
       "      <th>3</th>\n",
       "      <td>498</td>\n",
       "      <td>HAM_0005708</td>\n",
       "      <td>ISIC_0029791</td>\n",
       "      <td>bkl</td>\n",
       "      <td>histo</td>\n",
       "      <td>70.0</td>\n",
       "      <td>female</td>\n",
       "      <td>upper extremity</td>\n",
       "      <td>rosendahl</td>\n",
       "    </tr>\n",
       "    <tr>\n",
       "      <th>4</th>\n",
       "      <td>5405</td>\n",
       "      <td>HAM_0000944</td>\n",
       "      <td>ISIC_0027864</td>\n",
       "      <td>nv</td>\n",
       "      <td>follow_up</td>\n",
       "      <td>75.0</td>\n",
       "      <td>male</td>\n",
       "      <td>upper extremity</td>\n",
       "      <td>vidir_molemax</td>\n",
       "    </tr>\n",
       "  </tbody>\n",
       "</table>\n",
       "</div>"
      ],
      "text/plain": [
       "   index    lesion_id      image_id   dx    dx_type   age     sex  \\\n",
       "0   3775  HAM_0007467  ISIC_0029085   nv  follow_up  65.0  female   \n",
       "1   6820  HAM_0000682  ISIC_0030786   nv      histo  45.0    male   \n",
       "2   4505  HAM_0006119  ISIC_0029944   nv  follow_up  40.0  female   \n",
       "3    498  HAM_0005708  ISIC_0029791  bkl      histo  70.0  female   \n",
       "4   5405  HAM_0000944  ISIC_0027864   nv  follow_up  75.0    male   \n",
       "\n",
       "      localization        dataset  \n",
       "0  lower extremity  vidir_molemax  \n",
       "1  upper extremity   vidir_modern  \n",
       "2  upper extremity  vidir_molemax  \n",
       "3  upper extremity      rosendahl  \n",
       "4  upper extremity  vidir_molemax  "
      ]
     },
     "execution_count": 5,
     "metadata": {},
     "output_type": "execute_result"
    }
   ],
   "source": [
    "df = df.sample(frac = 1).reset_index()\n",
    "\n",
    "df.head()"
   ]
  },
  {
   "cell_type": "code",
   "execution_count": 6,
   "id": "3064aeaa",
   "metadata": {},
   "outputs": [
    {
     "data": {
      "text/plain": [
       "array(['lower extremity', 'upper extremity', 'back', 'face', 'abdomen',\n",
       "       'foot', 'unknown', 'trunk', 'neck', 'scalp', 'chest', 'genital',\n",
       "       'hand', 'ear', 'acral'], dtype=object)"
      ]
     },
     "execution_count": 6,
     "metadata": {},
     "output_type": "execute_result"
    }
   ],
   "source": [
    "df['localization'].unique()"
   ]
  },
  {
   "cell_type": "code",
   "execution_count": 7,
   "id": "73cbe319",
   "metadata": {},
   "outputs": [
    {
     "name": "stderr",
     "output_type": "stream",
     "text": [
      "100%|██████████████████████████████████████████████████████████████████████████| 10015/10015 [00:06<00:00, 1618.60it/s]\n"
     ]
    }
   ],
   "source": [
    "feature_vector = []\n",
    "\n",
    "for i in tqdm(range(0, 10015)):\n",
    "    sex = [1, 0, 0]\n",
    "    if df.iloc[i]['sex'] == 'male':\n",
    "        sex = [0, 1, 0]\n",
    "    elif df.iloc[i]['sex'] == 'female':\n",
    "        sex = [0, 0, 1]\n",
    "        \n",
    "    age = df.iloc[i]['age'] / 80\n",
    "    loc = df.iloc[i]['localization']\n",
    "    \n",
    "    feat = np.array(sex)\n",
    "    \n",
    "    if loc == 'abdomen':\n",
    "        feat = np.concatenate((feat, tf.one_hot(0, 15)))# - 0.5))\n",
    "    elif loc == 'scalp':\n",
    "        feat = np.concatenate((feat, tf.one_hot(1, 15)))# - 0.5))\n",
    "    elif loc == 'lower extremity':\n",
    "        feat = np.concatenate((feat, tf.one_hot(2, 15)))# - 0.5))\n",
    "    elif loc == 'trunk':\n",
    "        feat = np.concatenate((feat, tf.one_hot(3, 15)))# - 0.5))\n",
    "    elif loc == 'upper extremity':\n",
    "        feat = np.concatenate((feat, tf.one_hot(4, 15)))# - 0.5))\n",
    "    elif loc == 'back':\n",
    "        feat = np.concatenate((feat,tf.one_hot(5, 15)))# - 0.5))\n",
    "    elif loc == 'neck':\n",
    "        feat = np.concatenate((feat,tf.one_hot(6, 15)))# - 0.5))\n",
    "    elif loc == 'face':\n",
    "        feat = np.concatenate((feat,tf.one_hot(7, 15)))# - 0.5))\n",
    "    elif loc == 'chest':\n",
    "        feat = np.concatenate((feat,tf.one_hot(8, 15)))# - 0.5))\n",
    "    elif loc == 'foot':\n",
    "        feat = np.concatenate((feat,tf.one_hot(9, 15)))# - 0.5))\n",
    "    elif loc == 'ear':\n",
    "        feat = np.concatenate((feat,tf.one_hot(10, 15)))# - 0.5))\n",
    "    elif loc == 'unknown':\n",
    "        feat = np.concatenate((feat,tf.one_hot(11, 15)))# - 0.5))\n",
    "    elif loc == 'hand':\n",
    "        feat = np.concatenate((feat,tf.one_hot(12, 15)))# - 0.5))\n",
    "    elif loc == 'acral':\n",
    "        feat = np.concatenate((feat,tf.one_hot(13, 15)))# - 0.5))\n",
    "    elif loc == 'genital':\n",
    "        feat = np.concatenate((feat,tf.one_hot(14, 15)))# - 0.5))\n",
    "\n",
    "    feature_vector.append(feat)\n",
    "    \n",
    "feat_X = np.array(feature_vector)"
   ]
  },
  {
   "cell_type": "code",
   "execution_count": null,
   "id": "09427483",
   "metadata": {},
   "outputs": [],
   "source": [
    "feat_X[0]"
   ]
  },
  {
   "cell_type": "code",
   "execution_count": 35,
   "id": "a8a5e4b8",
   "metadata": {},
   "outputs": [
    {
     "name": "stderr",
     "output_type": "stream",
     "text": [
      "100%|████████████████████████████████████████████████████████████████████████████| 10015/10015 [06:01<00:00, 27.69it/s]\n"
     ]
    }
   ],
   "source": [
    "# VGG-16\n",
    "preprocessed = []\n",
    "\n",
    "VGG_load = VGG16(weights='imagenet', include_top=False)\n",
    "model = models.Sequential()\n",
    "model.add(VGG_load)\n",
    "model.add(layers.Flatten())\n",
    "\n",
    "\n",
    "for i in tqdm(range(0, 10015)):\n",
    "    file = df.iloc[i]['image_id']\n",
    "    feat = feat_X[i]\n",
    "    \n",
    "    img = image.load_img('./Data/HAM10000_images/' + file + '.jpg', target_size= (224,224))\n",
    "    img = image.img_to_array(img)\n",
    "    img = np.expand_dims(img, axis=0)\n",
    "    img = tf.keras.applications.vgg16.preprocess_input(img)\n",
    "    preds = model.predict(img).reshape(25088)\n",
    "\n",
    "    preprocessed.append(np.concatenate((preds, feat)))\n",
    "\n",
    "'''mx = 0\n",
    "for i in range(0, 10015):\n",
    "    if mx < np.amax(preprocessed[i]):\n",
    "        mx = np.amax(preprocessed[i])\n",
    "\n",
    "preprocessed = list(preprocessed / mx)\n",
    "'''\n",
    "df['VGG16'] = preprocessed"
   ]
  },
  {
   "cell_type": "code",
   "execution_count": 8,
   "id": "88325339",
   "metadata": {},
   "outputs": [
    {
     "name": "stderr",
     "output_type": "stream",
     "text": [
      "100%|████████████████████████████████████████████████████████████████████████████| 10015/10015 [07:22<00:00, 22.61it/s]\n"
     ]
    }
   ],
   "source": [
    "# Inception\n",
    "preprocessed = []\n",
    "\n",
    "IV3_load = InceptionV3(weights='imagenet', include_top=False)\n",
    "model = models.Sequential()\n",
    "model.add(IV3_load)\n",
    "model.add(layers.Flatten())\n",
    "\n",
    "for i in tqdm(range(0, 10015)):\n",
    "    file = df.iloc[i]['image_id']\n",
    "    feat = feat_X[i]\n",
    "    \n",
    "    img = image.load_img('./Data/HAM10000_images/' + file + '.jpg', target_size= (299,299))\n",
    "    img = image.img_to_array(img)\n",
    "    img = np.expand_dims(img, axis=0)\n",
    "    img = tf.keras.applications.inception_v3.preprocess_input(img)\n",
    "    preds = model.predict(img).reshape(131072)\n",
    "\n",
    "    preprocessed.append(np.concatenate((preds, feat)))\n",
    "    \n",
    "'''mx = 0\n",
    "for i in range(0, 10015):\n",
    "    if mx < np.amax(preprocessed[i]):\n",
    "        mx = np.amax(preprocessed[i])\n",
    "\n",
    "preprocessed = list(preprocessed / mx)\n",
    "'''\n",
    "df['IV3'] = preprocessed"
   ]
  },
  {
   "cell_type": "code",
   "execution_count": 9,
   "id": "4a0493b0",
   "metadata": {},
   "outputs": [
    {
     "name": "stderr",
     "output_type": "stream",
     "text": [
      "100%|████████████████████████████████████████████████████████████████████████████| 10015/10015 [08:46<00:00, 19.01it/s]\n"
     ]
    }
   ],
   "source": [
    "# ResNet\n",
    "preprocessed = []\n",
    "\n",
    "resnet_load = ResNet152V2(weights='imagenet', include_top=False)\n",
    "model = models.Sequential()\n",
    "model.add(resnet_load)\n",
    "model.add(layers.Flatten())\n",
    "\n",
    "\n",
    "for i in tqdm(range(0, 10015)):\n",
    "    file = df.iloc[i]['image_id']\n",
    "    feat = feat_X[i]    \n",
    "    \n",
    "    img = image.load_img('./Data/HAM10000_images/' + file + '.jpg', target_size= (224,224))\n",
    "    img = image.img_to_array(img)\n",
    "    img = np.expand_dims(img, axis=0)\n",
    "    img = tf.keras.applications.resnet_v2.preprocess_input(img)\n",
    "    preds = model.predict(img).reshape(100352)\n",
    "\n",
    "    preprocessed.append(np.concatenate((preds, feat)))\n",
    "\n",
    "'''mx = 0\n",
    "for i in range(0, 10015):\n",
    "    if mx < np.amax(preprocessed[i]):\n",
    "        mx = np.amax(preprocessed[i])\n",
    "\n",
    "preprocessed = list(preprocessed / mx)\n",
    "'''\n",
    "\n",
    "df['resnet'] = preprocessed"
   ]
  },
  {
   "cell_type": "code",
   "execution_count": 10,
   "id": "8d4b2329",
   "metadata": {},
   "outputs": [],
   "source": [
    "risk = []\n",
    "\n",
    "for i in range(0, 10015):\n",
    "    if df.iloc[i]['dx'] in ['bkl', 'df', 'vasc']:\n",
    "        risk.append(0.0)\n",
    "    elif df.iloc[i]['dx'] == 'nv':\n",
    "        risk.append(1.0)\n",
    "    elif df.iloc[i]['dx'] == 'akiec':\n",
    "        risk.append(2.0)\n",
    "    elif df.iloc[i]['dx'] in ['mel', 'bcc']:\n",
    "        risk.append(3.0)\n",
    "        \n",
    "df['risk'] = risk"
   ]
  },
  {
   "cell_type": "markdown",
   "id": "c49e2d58",
   "metadata": {},
   "source": [
    "# 1000 Images for validation"
   ]
  },
  {
   "cell_type": "code",
   "execution_count": 11,
   "id": "d0cc10d8",
   "metadata": {},
   "outputs": [],
   "source": [
    "from tensorflow.keras.callbacks import EarlyStopping\n",
    "\n",
    "earlystop_callback = EarlyStopping(\n",
    "  monitor='val_accuracy', min_delta=0.001,\n",
    "  patience=3, restore_best_weights=True)"
   ]
  },
  {
   "cell_type": "code",
   "execution_count": 36,
   "id": "96b7bf1a",
   "metadata": {},
   "outputs": [],
   "source": [
    "VGG_X_trn = np.array(df['VGG16'])[:-1000]\n",
    "#IV3_X_trn = np.array(df['IV3'])[:-1000]\n",
    "#RES_X_trn = np.array(df['resnet'])[:-1000]\n",
    "\n",
    "VGG_X_val = np.array(df['VGG16'])[-1000:]\n",
    "#IV3_X_val = np.array(df['IV3'])[-1000:]\n",
    "#RES_X_val = np.array(df['resnet'])[-1000:]"
   ]
  },
  {
   "cell_type": "code",
   "execution_count": 13,
   "id": "7a30f467",
   "metadata": {},
   "outputs": [],
   "source": [
    "y_trn = np.array(df['risk'])[:-1000]\n",
    "y_val = np.array(df['risk'])[-1000:]"
   ]
  },
  {
   "cell_type": "code",
   "execution_count": 14,
   "id": "9fe1fa29",
   "metadata": {},
   "outputs": [
    {
     "data": {
      "text/plain": [
       "139"
      ]
     },
     "execution_count": 14,
     "metadata": {},
     "output_type": "execute_result"
    }
   ],
   "source": [
    "(y_val == 0).sum()"
   ]
  },
  {
   "cell_type": "code",
   "execution_count": 15,
   "id": "983e3e48",
   "metadata": {},
   "outputs": [],
   "source": [
    "#Weight Set up\n",
    "class_weights = {3:4,  1:0.6, 2:25, 0:4}\n",
    "\n",
    "sample_weights = []\n",
    "\n",
    "for i in range(0, 10015):\n",
    "    sample_weights.append(class_weights[df.iloc[i]['risk']])\n",
    "    \n",
    "df['weight'] = sample_weights\n",
    "sample_weights = np.array(sample_weights)\n",
    "sample_weights = sample_weights[:-1000]"
   ]
  },
  {
   "cell_type": "code",
   "execution_count": null,
   "id": "d52baf7d",
   "metadata": {},
   "outputs": [],
   "source": [
    "sample_weights.shape"
   ]
  },
  {
   "cell_type": "markdown",
   "id": "0dfc33a1",
   "metadata": {},
   "source": [
    "# VGG model setup"
   ]
  },
  {
   "cell_type": "code",
   "execution_count": 20,
   "id": "97c802b2",
   "metadata": {},
   "outputs": [
    {
     "data": {
      "text/plain": [
       "(9015, 4)"
      ]
     },
     "execution_count": 20,
     "metadata": {},
     "output_type": "execute_result"
    }
   ],
   "source": [
    "new_y_trn = []\n",
    "for ele in y_trn:\n",
    "    new_y_trn.append(np.array(tf.one_hot(ele, 4)))\n",
    "    \n",
    "new_y_trn = np.array(new_y_trn)\n",
    "\n",
    "new_y_trn.shape"
   ]
  },
  {
   "cell_type": "code",
   "execution_count": 21,
   "id": "f449ff20",
   "metadata": {},
   "outputs": [
    {
     "data": {
      "text/plain": [
       "(1000, 4)"
      ]
     },
     "execution_count": 21,
     "metadata": {},
     "output_type": "execute_result"
    }
   ],
   "source": [
    "new_y_val = []\n",
    "for ele in y_val:\n",
    "    new_y_val.append(np.array(tf.one_hot(ele, 4)))\n",
    "    \n",
    "new_y_val = np.array(new_y_val)\n",
    "\n",
    "new_y_val.shape"
   ]
  },
  {
   "cell_type": "code",
   "execution_count": 37,
   "id": "a6cf5a4d",
   "metadata": {},
   "outputs": [
    {
     "name": "stderr",
     "output_type": "stream",
     "text": [
      "100%|████████████████████████████████████████████████████████████████████████████| 9015/9015 [00:01<00:00, 8949.53it/s]\n"
     ]
    },
    {
     "data": {
      "text/plain": [
       "(9015, 25106)"
      ]
     },
     "execution_count": 37,
     "metadata": {},
     "output_type": "execute_result"
    }
   ],
   "source": [
    "new_VGG_trn = []\n",
    "\n",
    "for i in tqdm(range(0, 9015)):\n",
    "    new_VGG_trn.append(np.array(VGG_X_trn[i]))\n",
    "\n",
    "new_VGG_trn = np.array(new_VGG_trn)\n",
    "\n",
    "new_VGG_trn.shape"
   ]
  },
  {
   "cell_type": "code",
   "execution_count": 38,
   "id": "0ab8bce7",
   "metadata": {},
   "outputs": [
    {
     "name": "stderr",
     "output_type": "stream",
     "text": [
      "100%|████████████████████████████████████████████████████████████████████████████| 1000/1000 [00:00<00:00, 6774.83it/s]\n"
     ]
    },
    {
     "data": {
      "text/plain": [
       "(1000, 25106)"
      ]
     },
     "execution_count": 38,
     "metadata": {},
     "output_type": "execute_result"
    }
   ],
   "source": [
    "new_VGG_val = []\n",
    "\n",
    "for i in tqdm(range(0, 1000)):\n",
    "    new_VGG_val.append(np.array(VGG_X_val[i]))\n",
    "\n",
    "new_VGG_val = np.array(new_VGG_val)\n",
    "\n",
    "new_VGG_val.shape"
   ]
  },
  {
   "cell_type": "code",
   "execution_count": null,
   "id": "0e608897",
   "metadata": {},
   "outputs": [],
   "source": [
    "new_y_trn"
   ]
  },
  {
   "cell_type": "code",
   "execution_count": 39,
   "id": "68834235",
   "metadata": {},
   "outputs": [],
   "source": [
    "vgg_model = models.Sequential()\n",
    "vgg_model.add(layers.Dense(8192, activation='relu'))\n",
    "vgg_model.add(layers.Dense(4096, activation='relu'))\n",
    "vgg_model.add(layers.Dense(2048, activation='relu'))\n",
    "vgg_model.add(layers.Dense(1024, activation='relu'))\n",
    "vgg_model.add(layers.Dense(512, activation='relu'))\n",
    "vgg_model.add(layers.Dense(128, activation='relu'))\n",
    "vgg_model.add(layers.Dense(4))"
   ]
  },
  {
   "cell_type": "code",
   "execution_count": 40,
   "id": "f5801ad0",
   "metadata": {},
   "outputs": [
    {
     "name": "stdout",
     "output_type": "stream",
     "text": [
      "Epoch 1/30\n",
      "282/282 [==============================] - 5s 17ms/step - loss: 3.0802 - accuracy: 0.5350 - val_loss: 1.1969 - val_accuracy: 0.5130\n",
      "Epoch 2/30\n",
      "282/282 [==============================] - 5s 17ms/step - loss: 1.5754 - accuracy: 0.7034 - val_loss: 0.8448 - val_accuracy: 0.6270\n",
      "Epoch 3/30\n",
      "282/282 [==============================] - 5s 17ms/step - loss: 0.7992 - accuracy: 0.8266 - val_loss: 0.9228 - val_accuracy: 0.6830\n",
      "Epoch 4/30\n",
      "282/282 [==============================] - 5s 17ms/step - loss: 0.4395 - accuracy: 0.9021 - val_loss: 0.7476 - val_accuracy: 0.7890\n",
      "Epoch 5/30\n",
      "282/282 [==============================] - 5s 17ms/step - loss: 0.2696 - accuracy: 0.9292 - val_loss: 0.8253 - val_accuracy: 0.7980\n",
      "Epoch 6/30\n",
      "282/282 [==============================] - 5s 17ms/step - loss: 0.1627 - accuracy: 0.9583 - val_loss: 0.9599 - val_accuracy: 0.7550\n",
      "Epoch 7/30\n",
      "282/282 [==============================] - 5s 17ms/step - loss: 0.2491 - accuracy: 0.9573 - val_loss: 1.1317 - val_accuracy: 0.7180\n",
      "Epoch 8/30\n",
      "282/282 [==============================] - 5s 17ms/step - loss: 0.3339 - accuracy: 0.9417 - val_loss: 0.8719 - val_accuracy: 0.7630\n"
     ]
    },
    {
     "data": {
      "text/plain": [
       "<keras.callbacks.History at 0x28b09808790>"
      ]
     },
     "execution_count": 40,
     "metadata": {},
     "output_type": "execute_result"
    }
   ],
   "source": [
    "vgg_model.compile(optimizer=tf.keras.optimizers.Adam(learning_rate=0.00005),\n",
    "              loss=tf.nn.softmax_cross_entropy_with_logits,\n",
    "              metrics=['accuracy'])\n",
    "vgg_model.fit(new_VGG_trn, new_y_trn, \n",
    "              epochs=30, \n",
    "              validation_data=(new_VGG_val, new_y_val), \n",
    "              callbacks=[earlystop_callback],\n",
    "             class_weight = class_weights)"
   ]
  },
  {
   "cell_type": "markdown",
   "id": "ffde3a98",
   "metadata": {},
   "source": [
    "# ResNet setup"
   ]
  },
  {
   "cell_type": "code",
   "execution_count": 16,
   "id": "1274a1cf",
   "metadata": {},
   "outputs": [
    {
     "name": "stderr",
     "output_type": "stream",
     "text": [
      "100%|████████████████████████████████████████████████████████████████████████████| 9015/9015 [00:05<00:00, 1721.71it/s]\n"
     ]
    },
    {
     "data": {
      "text/plain": [
       "(9015, 100370)"
      ]
     },
     "execution_count": 16,
     "metadata": {},
     "output_type": "execute_result"
    }
   ],
   "source": [
    "new_RES_trn = []\n",
    "\n",
    "for i in tqdm(range(0, 9015)):\n",
    "    new_RES_trn.append(np.array(RES_X_trn[i]))\n",
    "\n",
    "new_RES_trn = np.array(new_RES_trn)\n",
    "\n",
    "new_RES_trn.shape"
   ]
  },
  {
   "cell_type": "code",
   "execution_count": 17,
   "id": "cee13ca9",
   "metadata": {},
   "outputs": [
    {
     "name": "stderr",
     "output_type": "stream",
     "text": [
      "100%|████████████████████████████████████████████████████████████████████████████| 1000/1000 [00:00<00:00, 2278.81it/s]\n"
     ]
    },
    {
     "data": {
      "text/plain": [
       "(1000, 100370)"
      ]
     },
     "execution_count": 17,
     "metadata": {},
     "output_type": "execute_result"
    }
   ],
   "source": [
    "new_RES_val = []\n",
    "\n",
    "for i in tqdm(range(0, 1000)):\n",
    "    new_RES_val.append(np.array(RES_X_val[i]))\n",
    "\n",
    "new_RES_val = np.array(new_RES_val)\n",
    "\n",
    "new_RES_val.shape"
   ]
  },
  {
   "cell_type": "code",
   "execution_count": 18,
   "id": "acf3646e",
   "metadata": {},
   "outputs": [],
   "source": [
    "res_model = models.Sequential()\n",
    "#res_model.add(layers.Dense(8192, activation='relu'))\n",
    "res_model.add(layers.Dense(4096, activation='relu'))\n",
    "#res_model.add(layers.Dense(2048, activation='relu'))\n",
    "res_model.add(layers.Dense(1024, activation='relu'))\n",
    "#res_model.add(layers.Dense(512, activation='relu'))\n",
    "res_model.add(layers.Dense(128, activation='relu'))\n",
    "res_model.add(layers.Dense(4))"
   ]
  },
  {
   "cell_type": "code",
   "execution_count": 22,
   "id": "768b87fe",
   "metadata": {},
   "outputs": [
    {
     "name": "stdout",
     "output_type": "stream",
     "text": [
      "Epoch 1/30\n",
      "282/282 [==============================] - 8s 28ms/step - loss: 3.0153 - accuracy: 0.5493 - val_loss: 1.5545 - val_accuracy: 0.4460\n",
      "Epoch 2/30\n",
      "282/282 [==============================] - 8s 27ms/step - loss: 1.4414 - accuracy: 0.7290 - val_loss: 0.8217 - val_accuracy: 0.6680\n",
      "Epoch 3/30\n",
      "282/282 [==============================] - 8s 27ms/step - loss: 0.6808 - accuracy: 0.8376 - val_loss: 0.7216 - val_accuracy: 0.7300\n",
      "Epoch 4/30\n",
      "282/282 [==============================] - 8s 27ms/step - loss: 0.4230 - accuracy: 0.8961 - val_loss: 0.7222 - val_accuracy: 0.7620\n",
      "Epoch 5/30\n",
      "282/282 [==============================] - 8s 27ms/step - loss: 0.2294 - accuracy: 0.9360 - val_loss: 0.9138 - val_accuracy: 0.7230\n",
      "Epoch 6/30\n",
      "282/282 [==============================] - 8s 27ms/step - loss: 0.0981 - accuracy: 0.9677 - val_loss: 0.8856 - val_accuracy: 0.7710\n",
      "Epoch 7/30\n",
      "282/282 [==============================] - 8s 27ms/step - loss: 0.0346 - accuracy: 0.9903 - val_loss: 1.0557 - val_accuracy: 0.7610\n",
      "Epoch 8/30\n",
      "282/282 [==============================] - 8s 27ms/step - loss: 0.0113 - accuracy: 0.9980 - val_loss: 1.0237 - val_accuracy: 0.7800\n",
      "Epoch 9/30\n",
      "282/282 [==============================] - 8s 27ms/step - loss: 0.0028 - accuracy: 1.0000 - val_loss: 1.0670 - val_accuracy: 0.7790\n",
      "Epoch 10/30\n",
      "282/282 [==============================] - 8s 27ms/step - loss: 0.0014 - accuracy: 1.0000 - val_loss: 1.1135 - val_accuracy: 0.7810\n",
      "Epoch 11/30\n",
      "282/282 [==============================] - 8s 27ms/step - loss: 8.9198e-04 - accuracy: 1.0000 - val_loss: 1.1477 - val_accuracy: 0.7790\n",
      "Epoch 12/30\n",
      "282/282 [==============================] - 8s 27ms/step - loss: 6.0647e-04 - accuracy: 1.0000 - val_loss: 1.1812 - val_accuracy: 0.7760\n",
      "Epoch 13/30\n",
      "282/282 [==============================] - 8s 27ms/step - loss: 4.3457e-04 - accuracy: 1.0000 - val_loss: 1.2038 - val_accuracy: 0.7730\n"
     ]
    },
    {
     "data": {
      "text/plain": [
       "<keras.callbacks.History at 0x28b4791c430>"
      ]
     },
     "execution_count": 22,
     "metadata": {},
     "output_type": "execute_result"
    }
   ],
   "source": [
    "res_model.compile(optimizer=tf.keras.optimizers.Adam(learning_rate=0.00005),\n",
    "              loss=tf.nn.softmax_cross_entropy_with_logits,\n",
    "              metrics=['accuracy'])\n",
    "res_model.fit(new_RES_trn, new_y_trn, \n",
    "              epochs=30, callbacks=[earlystop_callback],\n",
    "              validation_data=(new_RES_val, new_y_val),\n",
    "             class_weight = class_weights)"
   ]
  },
  {
   "cell_type": "markdown",
   "id": "09fdf489",
   "metadata": {},
   "source": [
    "# Inception V3 setup"
   ]
  },
  {
   "cell_type": "code",
   "execution_count": 23,
   "id": "94a49d02",
   "metadata": {},
   "outputs": [
    {
     "name": "stderr",
     "output_type": "stream",
     "text": [
      "100%|█████████████████████████████████████████████████████████████████████████████| 9015/9015 [00:36<00:00, 247.28it/s]\n"
     ]
    },
    {
     "data": {
      "text/plain": [
       "(9015, 131090)"
      ]
     },
     "execution_count": 23,
     "metadata": {},
     "output_type": "execute_result"
    }
   ],
   "source": [
    "new_IV3_trn = []\n",
    "\n",
    "for i in tqdm(range(0, 9015)):\n",
    "    new_IV3_trn.append(np.array(IV3_X_trn[i]))\n",
    "\n",
    "new_IV3_trn = np.array(new_IV3_trn)\n",
    "\n",
    "new_IV3_trn.shape"
   ]
  },
  {
   "cell_type": "code",
   "execution_count": 24,
   "id": "aa4b80df",
   "metadata": {},
   "outputs": [
    {
     "name": "stderr",
     "output_type": "stream",
     "text": [
      "100%|█████████████████████████████████████████████████████████████████████████████| 1000/1000 [00:01<00:00, 519.25it/s]\n"
     ]
    },
    {
     "data": {
      "text/plain": [
       "(1000, 131090)"
      ]
     },
     "execution_count": 24,
     "metadata": {},
     "output_type": "execute_result"
    }
   ],
   "source": [
    "new_IV3_val = []\n",
    "\n",
    "for i in tqdm(range(0, 1000)):\n",
    "    new_IV3_val.append(np.array(IV3_X_val[i]))\n",
    "\n",
    "new_IV3_val = np.array(new_IV3_val)\n",
    "\n",
    "new_IV3_val.shape"
   ]
  },
  {
   "cell_type": "code",
   "execution_count": 25,
   "id": "8308fc05",
   "metadata": {},
   "outputs": [],
   "source": [
    "iv3_model = models.Sequential()\n",
    "#iv3_model.add(layers.Dense(8192, activation='relu'))\n",
    "iv3_model.add(layers.Dense(1024, activation='relu'))\n",
    "#iv3_model.add(layers.Dense(2048, activation='relu'))\n",
    "iv3_model.add(layers.Dense(256, activation='relu'))\n",
    "#iv3_model.add(layers.Dense(512, activation='relu'))\n",
    "#iv3_model.add(layers.Dense(128, activation='relu'))\n",
    "iv3_model.add(layers.Dense(4))"
   ]
  },
  {
   "cell_type": "code",
   "execution_count": 26,
   "id": "84b6f400",
   "metadata": {},
   "outputs": [
    {
     "name": "stdout",
     "output_type": "stream",
     "text": [
      "Epoch 1/30\n",
      "282/282 [==============================] - 5s 16ms/step - loss: 3.3624 - accuracy: 0.5320 - val_loss: 1.0885 - val_accuracy: 0.5560\n",
      "Epoch 2/30\n",
      "282/282 [==============================] - 4s 14ms/step - loss: 1.8105 - accuracy: 0.7019 - val_loss: 0.7833 - val_accuracy: 0.6730\n",
      "Epoch 3/30\n",
      "282/282 [==============================] - 4s 14ms/step - loss: 1.2187 - accuracy: 0.7806 - val_loss: 0.7621 - val_accuracy: 0.6970\n",
      "Epoch 4/30\n",
      "282/282 [==============================] - 4s 14ms/step - loss: 0.7237 - accuracy: 0.8465 - val_loss: 0.6533 - val_accuracy: 0.7620\n",
      "Epoch 5/30\n",
      "282/282 [==============================] - 4s 14ms/step - loss: 0.4336 - accuracy: 0.9026 - val_loss: 0.7020 - val_accuracy: 0.7440\n",
      "Epoch 6/30\n",
      "282/282 [==============================] - 4s 14ms/step - loss: 0.2776 - accuracy: 0.9314 - val_loss: 0.7128 - val_accuracy: 0.7640\n",
      "Epoch 7/30\n",
      "282/282 [==============================] - 4s 14ms/step - loss: 0.1454 - accuracy: 0.9615 - val_loss: 0.7080 - val_accuracy: 0.7630\n",
      "Epoch 8/30\n",
      "282/282 [==============================] - 4s 14ms/step - loss: 0.0910 - accuracy: 0.9783 - val_loss: 0.8922 - val_accuracy: 0.7100\n",
      "Epoch 9/30\n",
      "282/282 [==============================] - 4s 14ms/step - loss: 0.0606 - accuracy: 0.9885 - val_loss: 0.7931 - val_accuracy: 0.7870\n",
      "Epoch 10/30\n",
      "282/282 [==============================] - 4s 14ms/step - loss: 0.0337 - accuracy: 0.9949 - val_loss: 0.8142 - val_accuracy: 0.7850\n",
      "Epoch 11/30\n",
      "282/282 [==============================] - 4s 13ms/step - loss: 0.0208 - accuracy: 0.9979 - val_loss: 0.7862 - val_accuracy: 0.7970\n",
      "Epoch 12/30\n",
      "282/282 [==============================] - 4s 14ms/step - loss: 0.0104 - accuracy: 0.9998 - val_loss: 0.8027 - val_accuracy: 0.7940\n",
      "Epoch 13/30\n",
      "282/282 [==============================] - 4s 14ms/step - loss: 0.0067 - accuracy: 1.0000 - val_loss: 0.8401 - val_accuracy: 0.7960\n",
      "Epoch 14/30\n",
      "282/282 [==============================] - 4s 14ms/step - loss: 0.0045 - accuracy: 1.0000 - val_loss: 0.8745 - val_accuracy: 0.7930\n"
     ]
    },
    {
     "data": {
      "text/plain": [
       "<keras.callbacks.History at 0x28b23a002e0>"
      ]
     },
     "execution_count": 26,
     "metadata": {},
     "output_type": "execute_result"
    }
   ],
   "source": [
    "iv3_model.compile(optimizer=tf.keras.optimizers.Adam(learning_rate=0.00005),\n",
    "              loss=tf.nn.softmax_cross_entropy_with_logits,\n",
    "              metrics=['accuracy'])\n",
    "iv3_model.fit(new_IV3_trn, new_y_trn, \n",
    "              epochs=30, callbacks=[earlystop_callback],\n",
    "              validation_data=(new_IV3_val, new_y_val),\n",
    "             class_weight = class_weights)"
   ]
  },
  {
   "cell_type": "markdown",
   "id": "b2a1907b",
   "metadata": {},
   "source": [
    "# Making the confusion matrices"
   ]
  },
  {
   "cell_type": "code",
   "execution_count": 27,
   "id": "ab4b5eee",
   "metadata": {},
   "outputs": [
    {
     "name": "stderr",
     "output_type": "stream",
     "text": [
      "100%|██████████████████████████████████████████████████████████████████████████| 1000/1000 [00:00<00:00, 334207.49it/s]\n"
     ]
    }
   ],
   "source": [
    "predict_y_iv3_val = []\n",
    "temp_iv3_trn = iv3_model.predict(new_IV3_trn)\n",
    "temp_iv3_val = iv3_model.predict(new_IV3_val)\n",
    "\n",
    "\n",
    "for i in tqdm(range(0, 1000)):\n",
    "    pred = np.argmax(temp_iv3_val[i])\n",
    "    predict_y_iv3_val.append(pred)"
   ]
  },
  {
   "cell_type": "code",
   "execution_count": 41,
   "id": "c72647b8",
   "metadata": {},
   "outputs": [
    {
     "name": "stderr",
     "output_type": "stream",
     "text": [
      "100%|██████████████████████████████████████████████████████████████████████████| 1000/1000 [00:00<00:00, 334234.12it/s]\n"
     ]
    }
   ],
   "source": [
    "predict_y_vgg_val = []\n",
    "temp_vgg_trn = vgg_model.predict(new_VGG_trn)\n",
    "temp_vgg_val = vgg_model.predict(new_VGG_val)\n",
    "\n",
    "\n",
    "for i in tqdm(range(0, 1000)):\n",
    "    pred = np.argmax(temp_vgg_val[i])\n",
    "    predict_y_vgg_val.append(pred)"
   ]
  },
  {
   "cell_type": "code",
   "execution_count": 28,
   "id": "b2321236",
   "metadata": {},
   "outputs": [
    {
     "name": "stderr",
     "output_type": "stream",
     "text": [
      "100%|██████████████████████████████████████████████████████████████████████████| 1000/1000 [00:00<00:00, 250675.59it/s]\n"
     ]
    }
   ],
   "source": [
    "predict_y_res_val = []\n",
    "temp_res_val = res_model.predict(new_RES_val)\n",
    "temp_res_trn = res_model.predict(new_RES_trn)\n",
    "\n",
    "\n",
    "for i in tqdm(range(0, 1000)):\n",
    "    pred = np.argmax(temp_res_val[i])\n",
    "    predict_y_res_val.append(pred)"
   ]
  },
  {
   "cell_type": "code",
   "execution_count": 29,
   "id": "47d311ea",
   "metadata": {},
   "outputs": [],
   "source": [
    "cm_iv3 = tf.math.confusion_matrix(np.array(df['risk'])[-1000:], np.array(predict_y_iv3_val))"
   ]
  },
  {
   "cell_type": "code",
   "execution_count": 42,
   "id": "884315a9",
   "metadata": {},
   "outputs": [],
   "source": [
    "cm_vgg = tf.math.confusion_matrix(np.array(df['risk'])[-1000:], np.array(predict_y_vgg_val))"
   ]
  },
  {
   "cell_type": "code",
   "execution_count": 30,
   "id": "e8080de6",
   "metadata": {},
   "outputs": [],
   "source": [
    "cm_res = tf.math.confusion_matrix(np.array(df['risk'])[-1000:], np.array(predict_y_res_val))"
   ]
  },
  {
   "cell_type": "code",
   "execution_count": 44,
   "id": "2172301f",
   "metadata": {},
   "outputs": [],
   "source": [
    "#cm_iv3 = np.array(cm_iv3).astype('float32')\n",
    "cm_vgg = np.array(cm_vgg).astype('float32')\n",
    "#cm_res = np.array(cm_res).astype('float32')"
   ]
  },
  {
   "cell_type": "code",
   "execution_count": 32,
   "id": "40d6d055",
   "metadata": {},
   "outputs": [],
   "source": [
    "cm_iv3[0] = cm_iv3[0] / (1.0 * cm_iv3[0].sum())\n",
    "cm_iv3[1] = cm_iv3[1] / (1.0 * cm_iv3[1].sum())\n",
    "cm_iv3[2] = cm_iv3[2] / (1.0 * cm_iv3[2].sum())\n",
    "cm_iv3[3] = cm_iv3[3] / (1.0 * cm_iv3[3].sum())\n",
    "\n",
    "cm_res[0] = cm_res[0] / (1.0 * cm_res[0].sum())\n",
    "cm_res[1] = cm_res[1] / (1.0 * cm_res[1].sum())\n",
    "cm_res[2] = cm_res[2] / (1.0 * cm_res[2].sum())\n",
    "cm_res[3] = cm_res[3] / (1.0 * cm_res[3].sum())"
   ]
  },
  {
   "cell_type": "code",
   "execution_count": 45,
   "id": "9ca44a4a",
   "metadata": {},
   "outputs": [],
   "source": [
    "cm_vgg[0] = cm_vgg[0] / (1.0 * cm_vgg[0].sum())\n",
    "cm_vgg[1] = cm_vgg[1] / (1.0 * cm_vgg[1].sum())\n",
    "cm_vgg[2] = cm_vgg[2] / (1.0 * cm_vgg[2].sum())\n",
    "cm_vgg[3] = cm_vgg[3] / (1.0 * cm_vgg[3].sum())"
   ]
  },
  {
   "cell_type": "code",
   "execution_count": 33,
   "id": "ed887e08",
   "metadata": {},
   "outputs": [
    {
     "data": {
      "text/plain": [
       "<AxesSubplot:>"
      ]
     },
     "execution_count": 33,
     "metadata": {},
     "output_type": "execute_result"
    },
    {
     "data": {
      "image/png": "[encoded data removed]",
      "text/plain": [
       "<Figure size 432x288 with 2 Axes>"
      ]
     },
     "metadata": {
      "needs_background": "light"
     },
     "output_type": "display_data"
    }
   ],
   "source": [
    "import seaborn as sns\n",
    "\n",
    "sns.heatmap(cm_iv3, annot=True)"
   ]
  },
  {
   "cell_type": "code",
   "execution_count": 46,
   "id": "3e3c9334",
   "metadata": {},
   "outputs": [
    {
     "data": {
      "image/png": "[encoded data removed]",
      "text/plain": [
       "<Figure size 432x288 with 2 Axes>"
      ]
     },
     "metadata": {
      "needs_background": "light"
     },
     "output_type": "display_data"
    }
   ],
   "source": [
    "sns.heatmap(cm_vgg, annot=True);"
   ]
  },
  {
   "cell_type": "code",
   "execution_count": 34,
   "id": "94f250af",
   "metadata": {},
   "outputs": [
    {
     "data": {
      "text/plain": [
       "<AxesSubplot:>"
      ]
     },
     "execution_count": 34,
     "metadata": {},
     "output_type": "execute_result"
    },
    {
     "data": {
      "image/png": "[encoded data removed]",
      "text/plain": [
       "<Figure size 432x288 with 2 Axes>"
      ]
     },
     "metadata": {
      "needs_background": "light"
     },
     "output_type": "display_data"
    }
   ],
   "source": [
    "sns.heatmap(cm_res, annot=True)"
   ]
  },
  {
   "cell_type": "markdown",
   "id": "266e10ab",
   "metadata": {},
   "source": [
    "# Stacking the models"
   ]
  },
  {
   "cell_type": "code",
   "execution_count": 47,
   "id": "a25a8bfd",
   "metadata": {},
   "outputs": [],
   "source": [
    "max_iv3, max_vgg, max_res = 0, 0, 0\n",
    "\n",
    "max_iv3 = np.amax([np.amax(temp_iv3_trn), np.amax(temp_iv3_val)])\n",
    "max_vgg = np.amax([np.amax(temp_vgg_trn), np.amax(temp_vgg_val)])\n",
    "max_res = np.amax([np.amax(temp_res_trn), np.amax(temp_res_val)])"
   ]
  },
  {
   "cell_type": "code",
   "execution_count": 48,
   "id": "0056b13a",
   "metadata": {},
   "outputs": [
    {
     "name": "stderr",
     "output_type": "stream",
     "text": [
      "100%|██████████████████████████████████████████████████████████████████████████| 9015/9015 [00:00<00:00, 157659.56it/s]\n"
     ]
    },
    {
     "data": {
      "text/plain": [
       "(9015, 12)"
      ]
     },
     "execution_count": 48,
     "metadata": {},
     "output_type": "execute_result"
    }
   ],
   "source": [
    "new_X_trn = []\n",
    "\n",
    "for i in tqdm(range(0, 9015)):\n",
    "    feat = np.concatenate(( (temp_iv3_trn[i] / max_iv3), \n",
    "                            (temp_vgg_trn[i] / max_vgg), \n",
    "                            (temp_res_trn[i] / max_res) ))\n",
    "    new_X_trn.append(feat)\n",
    "    \n",
    "new_X_trn = np.array(new_X_trn)\n",
    "new_X_trn.shape"
   ]
  },
  {
   "cell_type": "code",
   "execution_count": 49,
   "id": "592459da",
   "metadata": {},
   "outputs": [
    {
     "data": {
      "text/plain": [
       "5.3547115"
      ]
     },
     "execution_count": 49,
     "metadata": {},
     "output_type": "execute_result"
    }
   ],
   "source": [
    "temp_vgg_val.std()"
   ]
  },
  {
   "cell_type": "code",
   "execution_count": 50,
   "id": "8ee8cf03",
   "metadata": {},
   "outputs": [
    {
     "name": "stderr",
     "output_type": "stream",
     "text": [
      "100%|██████████████████████████████████████████████████████████████████████████| 1000/1000 [00:00<00:00, 334260.76it/s]\n"
     ]
    },
    {
     "data": {
      "text/plain": [
       "(1000, 12)"
      ]
     },
     "execution_count": 50,
     "metadata": {},
     "output_type": "execute_result"
    }
   ],
   "source": [
    "new_X_val = []\n",
    "\n",
    "for i in tqdm(range(0, 1000)):\n",
    "    feat = np.concatenate(( (temp_iv3_val[i]), \n",
    "                            (temp_vgg_val[i]), \n",
    "                            (temp_res_val[i] )))\n",
    "    new_X_val.append(feat)\n",
    "    \n",
    "new_X_val = np.array(new_X_val)\n",
    "new_X_val.shape"
   ]
  },
  {
   "cell_type": "code",
   "execution_count": 51,
   "id": "adfe1d6e",
   "metadata": {},
   "outputs": [],
   "source": [
    "final_model = models.Sequential()\n",
    "\n",
    "final_model.add(layers.Dense(64, activation='relu'))\n",
    "final_model.add(layers.Dense(32, activation='relu'))\n",
    "final_model.add(layers.Dense(16, activation='relu'))\n",
    "final_model.add(layers.Dense(8, activation='relu'))\n",
    "final_model.add(layers.Dense(4))"
   ]
  },
  {
   "cell_type": "code",
   "execution_count": 52,
   "id": "eee4a9ad",
   "metadata": {},
   "outputs": [
    {
     "name": "stdout",
     "output_type": "stream",
     "text": [
      "Epoch 1/10\n",
      "282/282 [==============================] - 1s 2ms/step - loss: 1.1899 - accuracy: 0.9320 - val_loss: 13.5844 - val_accuracy: 0.8160\n",
      "Epoch 2/10\n",
      "282/282 [==============================] - 1s 2ms/step - loss: 0.0077 - accuracy: 1.0000 - val_loss: 17.9265 - val_accuracy: 0.8120\n",
      "Epoch 3/10\n",
      "282/282 [==============================] - 1s 2ms/step - loss: 0.0018 - accuracy: 1.0000 - val_loss: 20.3195 - val_accuracy: 0.8120\n",
      "Epoch 4/10\n",
      "282/282 [==============================] - 1s 2ms/step - loss: 8.0716e-04 - accuracy: 1.0000 - val_loss: 22.0215 - val_accuracy: 0.8110\n"
     ]
    },
    {
     "data": {
      "text/plain": [
       "<keras.callbacks.History at 0x28e0aa90a90>"
      ]
     },
     "execution_count": 52,
     "metadata": {},
     "output_type": "execute_result"
    }
   ],
   "source": [
    "final_model.compile(optimizer='Adam',\n",
    "              loss=tf.nn.softmax_cross_entropy_with_logits,\n",
    "              metrics=['accuracy'])\n",
    "final_model.fit(new_X_trn, new_y_trn, \n",
    "                epochs=10, callbacks=[earlystop_callback],\n",
    "                validation_data=(new_X_val, new_y_val),\n",
    "             class_weight = class_weights)"
   ]
  },
  {
   "cell_type": "code",
   "execution_count": 53,
   "id": "132cb531",
   "metadata": {},
   "outputs": [
    {
     "name": "stderr",
     "output_type": "stream",
     "text": [
      "100%|██████████████████████████████████████████████████████████████████████████| 1000/1000 [00:00<00:00, 501291.26it/s]\n"
     ]
    }
   ],
   "source": [
    "predict_y_final_val = []\n",
    "temp_final_val = final_model.predict(new_X_val)\n",
    "\n",
    "for i in tqdm(range(0, 1000)):\n",
    "    pred = np.argmax(temp_final_val[i])\n",
    "    predict_y_final_val.append(pred)"
   ]
  },
  {
   "cell_type": "code",
   "execution_count": 54,
   "id": "20bb38f1",
   "metadata": {},
   "outputs": [],
   "source": [
    "cm_final = tf.math.confusion_matrix(np.array(df['risk'])[-1000:], np.array(predict_y_final_val))\n",
    "\n",
    "cm_final = np.array(cm_final).astype('float32')\n",
    "\n",
    "cm_final[0] = cm_final[0] / (1.0 * cm_final[0].sum())\n",
    "cm_final[1] = cm_final[1] / (1.0 * cm_final[1].sum())\n",
    "cm_final[2] = cm_final[2] / (1.0 * cm_final[2].sum())\n",
    "cm_final[3] = cm_final[3] / (1.0 * cm_final[3].sum())"
   ]
  },
  {
   "cell_type": "code",
   "execution_count": 55,
   "id": "c32c0245",
   "metadata": {},
   "outputs": [
    {
     "data": {
      "image/png": "[encoded data removed]",
      "text/plain": [
       "<Figure size 432x288 with 2 Axes>"
      ]
     },
     "metadata": {
      "needs_background": "light"
     },
     "output_type": "display_data"
    }
   ],
   "source": [
    "final_heat = sns.heatmap(cm_final, annot=True)"
   ]
  },
  {
   "cell_type": "code",
   "execution_count": null,
   "id": "3d908629",
   "metadata": {},
   "outputs": [],
   "source": []
  },
  {
   "cell_type": "code",
   "execution_count": null,
   "id": "d85a7f4b",
   "metadata": {},
   "outputs": [],
   "source": []
  },
  {
   "cell_type": "code",
   "execution_count": null,
   "id": "7e93276e",
   "metadata": {},
   "outputs": [],
   "source": []
  },
  {
   "cell_type": "code",
   "execution_count": null,
   "id": "bf784f12",
   "metadata": {},
   "outputs": [],
   "source": []
  },
  {
   "cell_type": "code",
   "execution_count": null,
   "id": "451c81bd",
   "metadata": {},
   "outputs": [],
   "source": []
  },
  {
   "cell_type": "code",
   "execution_count": null,
   "id": "0b5d759d",
   "metadata": {},
   "outputs": [],
   "source": []
  },
  {
   "cell_type": "code",
   "execution_count": null,
   "id": "a7c0a4f4",
   "metadata": {},
   "outputs": [],
   "source": []
  },
  {
   "cell_type": "code",
   "execution_count": null,
   "id": "72ea31af",
   "metadata": {},
   "outputs": [],
   "source": []
  },
  {
   "cell_type": "code",
   "execution_count": null,
   "id": "c5c58a0d",
   "metadata": {},
   "outputs": [],
   "source": []
  },
  {
   "cell_type": "code",
   "execution_count": null,
   "id": "812eb71e",
   "metadata": {},
   "outputs": [],
   "source": []
  },
  {
   "cell_type": "code",
   "execution_count": null,
   "id": "2f9aafe4",
   "metadata": {},
   "outputs": [],
   "source": []
  },
  {
   "cell_type": "code",
   "execution_count": null,
   "id": "ad8d1017",
   "metadata": {},
   "outputs": [],
   "source": []
  },
  {
   "cell_type": "code",
   "execution_count": null,
   "id": "a44184de",
   "metadata": {},
   "outputs": [],
   "source": []
  },
  {
   "cell_type": "code",
   "execution_count": null,
   "id": "0dde4a06",
   "metadata": {},
   "outputs": [],
   "source": []
  },
  {
   "cell_type": "code",
   "execution_count": null,
   "id": "0c9e3e3b",
   "metadata": {},
   "outputs": [],
   "source": []
  },
  {
   "cell_type": "code",
   "execution_count": null,
   "id": "4c2963ca",
   "metadata": {},
   "outputs": [],
   "source": []
  },
  {
   "cell_type": "code",
   "execution_count": null,
   "id": "fbbd2efc",
   "metadata": {},
   "outputs": [],
   "source": []
  },
  {
   "cell_type": "markdown",
   "id": "ca237e14",
   "metadata": {},
   "source": [
    "# New Original Model"
   ]
  },
  {
   "cell_type": "code",
   "execution_count": null,
   "id": "37a3417f",
   "metadata": {},
   "outputs": [],
   "source": [
    "df = pd.read_csv('./data/HAM10000_Metadata')"
   ]
  },
  {
   "cell_type": "code",
   "execution_count": null,
   "id": "effce3ad",
   "metadata": {},
   "outputs": [],
   "source": [
    "df = df.sample(frac = 1).reset_index()\n",
    "\n",
    "df.head()"
   ]
  },
  {
   "cell_type": "code",
   "execution_count": null,
   "id": "61549d1b",
   "metadata": {},
   "outputs": [],
   "source": [
    "risk = []\n",
    "\n",
    "for i in range(0, 10015):\n",
    "    if df.iloc[i]['dx'] in ['bkl', 'df', 'vasc']:\n",
    "        risk.append(0.0)\n",
    "    elif df.iloc[i]['dx'] == 'nv':\n",
    "        risk.append(1.0)\n",
    "    elif df.iloc[i]['dx'] == 'akiec':\n",
    "        risk.append(2.0)\n",
    "    elif df.iloc[i]['dx'] in ['mel', 'bcc']:\n",
    "        risk.append(3.0)\n",
    "        \n",
    "df['risk'] = risk\n",
    "\n",
    "df.head()"
   ]
  },
  {
   "cell_type": "code",
   "execution_count": null,
   "id": "0a92062b",
   "metadata": {},
   "outputs": [],
   "source": [
    "import seaborn as sns\n",
    "import matplotlib.pyplot as plt"
   ]
  },
  {
   "cell_type": "code",
   "execution_count": null,
   "id": "c245ac32",
   "metadata": {},
   "outputs": [],
   "source": [
    "fig, axs = plt.subplots(4,1, figsize=(15,30), sharex=True)\n",
    "\n",
    "sns.histplot(x='localization', data=df[df['risk'] == 0.0], color='green', stat='probability', ax=axs[0]).set_title('risk 0')\n",
    "sns.histplot(x='localization', data=df[df['risk'] == 1.0], color='yellow', stat='probability', ax=axs[1]).set_title('risk 1')\n",
    "sns.histplot(x='localization', data=df[df['risk'] == 2.0], color='orange', stat='probability', ax=axs[2]).set_title('risk 2')\n",
    "sns.histplot(x='localization', data=df[df['risk'] == 3.0], color='red', stat='probability', ax=axs[3]).set_title('risk 3')"
   ]
  },
  {
   "cell_type": "code",
   "execution_count": null,
   "id": "d8907408",
   "metadata": {},
   "outputs": [],
   "source": [
    "X = []\n",
    "\n",
    "for i in tqdm(range(0, 10015)):\n",
    "    file = df.iloc[i]['image_id']\n",
    "    \n",
    "    img = image.load_img('./Data/HAM10000_images/' + file + '.jpg', target_size= (150,200))\n",
    "    img = image.img_to_array(img) / 255.0\n",
    "    \n",
    "    \n",
    "    X.append(img)"
   ]
  },
  {
   "cell_type": "code",
   "execution_count": null,
   "id": "88fd32a0",
   "metadata": {},
   "outputs": [],
   "source": [
    "X = np.array(X)\n",
    "\n",
    "X.shape"
   ]
  },
  {
   "cell_type": "code",
   "execution_count": null,
   "id": "8202bb5a",
   "metadata": {},
   "outputs": [],
   "source": [
    "risk = []\n",
    "\n",
    "for ele in df['risk']:\n",
    "    risk.append(tf.one_hot(int(ele), 4))\n",
    "    \n",
    "y = np.array(risk)\n",
    "y.shape"
   ]
  },
  {
   "cell_type": "code",
   "execution_count": null,
   "id": "a4fee77e",
   "metadata": {},
   "outputs": [],
   "source": [
    "ori_model = models.Sequential()\n",
    "ori_model.add(layers.Conv2D(64, (3, 3), activation='tanh', input_shape=(150,200,3)))\n",
    "ori_model.add(layers.BatchNormalization())\n",
    "ori_model.add(layers.Activation(activations.elu))\n",
    "ori_model.add(layers.MaxPooling2D(2,2))\n",
    "\n",
    "\n",
    "ori_model.add(layers.Conv2D(32, (3, 3), activation='tanh'))\n",
    "ori_model.add(layers.BatchNormalization())\n",
    "ori_model.add(layers.Activation(activations.elu))\n",
    "ori_model.add(layers.MaxPooling2D(2,2))\n",
    "\n",
    "\n",
    "ori_model.add(layers.Conv2D(16, (3, 3), activation='tanh'))\n",
    "ori_model.add(layers.BatchNormalization())\n",
    "ori_model.add(layers.Activation(activations.elu))\n",
    "ori_model.add(layers.MaxPooling2D(2,2))\n",
    "\n",
    "\n",
    "ori_model.add(layers.Flatten(name=\"feature_output\"))\n",
    "\n",
    "ori_model.add(layers.Dense(1024, activation='relu'))\n",
    "ori_model.add(layers.Dense(256, activation='relu'))\n",
    "ori_model.add(layers.Dense(64, activation='relu'))\n",
    "ori_model.add(layers.Dense(4))"
   ]
  },
  {
   "cell_type": "code",
   "execution_count": null,
   "id": "230d7536",
   "metadata": {},
   "outputs": [],
   "source": [
    "ori_model.compile(optimizer='Adam',\n",
    "              loss=tf.nn.softmax_cross_entropy_with_logits,\n",
    "              metrics=['accuracy'])\n",
    "ori_model.fit(X, y, epochs=25, validation_split=0.1, batch_size=16)"
   ]
  },
  {
   "cell_type": "code",
   "execution_count": null,
   "id": "9d5119ed",
   "metadata": {},
   "outputs": [],
   "source": [
    "ori_model.save('./models/feature')"
   ]
  },
  {
   "cell_type": "code",
   "execution_count": null,
   "id": "6690ba6d",
   "metadata": {},
   "outputs": [],
   "source": [
    "loaded_model = tf.keras.models.load_model(\"./models/feature\")\n",
    "\n",
    "\n",
    "feature_extractor = tf.keras.Model(\n",
    "    inputs=loaded_model.inputs,\n",
    "    outputs=loaded_model.get_layer(name=\"feature_output\").output,\n",
    ")"
   ]
  },
  {
   "cell_type": "code",
   "execution_count": null,
   "id": "09f93869",
   "metadata": {},
   "outputs": [],
   "source": [
    "feature_vector = []\n",
    "\n",
    "for i in tqdm(range(0, 10015)):\n",
    "    sex = 0 if df.iloc[i]['sex'] == 'male' else 1\n",
    "    age = df.iloc[i]['age']\n",
    "    loc = df.iloc[i]['localization']\n",
    "    \n",
    "    feat = np.array([sex, age])\n",
    "    \n",
    "    if loc == 'abdomen':\n",
    "        feat = np.concatenate((feat, tf.one_hot(0, 15)))\n",
    "    elif loc == 'scalp':\n",
    "        feat = np.concatenate((feat, tf.one_hot(1, 15)))\n",
    "    elif loc == 'lower extremity':\n",
    "        feat = np.concatenate((feat, tf.one_hot(2, 15)))\n",
    "    elif loc == 'trunk':\n",
    "        feat = np.concatenate((feat, tf.one_hot(3, 15)))\n",
    "    elif loc == 'upper extremity':\n",
    "        feat = np.concatenate((feat, tf.one_hot(4, 15)))\n",
    "    elif loc == 'back':\n",
    "        feat = np.concatenate((feat,tf.one_hot(5, 15)))\n",
    "    elif loc == 'neck':\n",
    "        feat = np.concatenate((feat,tf.one_hot(6, 15)))\n",
    "    elif loc == 'face':\n",
    "        feat = np.concatenate((feat,tf.one_hot(7, 15)))\n",
    "    elif loc == 'chest':\n",
    "        feat = np.concatenate((feat,tf.one_hot(8, 15)))\n",
    "    elif loc == 'foot':\n",
    "        feat = np.concatenate((feat,tf.one_hot(9, 15)))\n",
    "    elif loc == 'ear':\n",
    "        feat = np.concatenate((feat,tf.one_hot(10, 15)))\n",
    "    elif loc == 'unknown':\n",
    "        feat = np.concatenate((feat,tf.one_hot(11, 15)))\n",
    "    elif loc == 'hand':\n",
    "        feat = np.concatenate((feat,tf.one_hot(12, 15)))\n",
    "    elif loc == 'acral':\n",
    "        feat = np.concatenate((feat,tf.one_hot(13, 15)))\n",
    "    elif loc == 'genital':\n",
    "        feat = np.concatenate((feat,tf.one_hot(14, 15)))\n",
    "\n",
    "    feature_vector.append(feat)"
   ]
  },
  {
   "cell_type": "code",
   "execution_count": null,
   "id": "693d5b24",
   "metadata": {},
   "outputs": [],
   "source": [
    "feature_vector = np.array(feature_vector)"
   ]
  },
  {
   "cell_type": "code",
   "execution_count": null,
   "id": "c3013ddf",
   "metadata": {},
   "outputs": [],
   "source": [
    "feature_vector.shape"
   ]
  },
  {
   "cell_type": "code",
   "execution_count": null,
   "id": "b197306e",
   "metadata": {},
   "outputs": [],
   "source": [
    "image_features = feature_extractor(X)"
   ]
  },
  {
   "cell_type": "code",
   "execution_count": null,
   "id": "8dd43b5d",
   "metadata": {},
   "outputs": [],
   "source": [
    "X = []\n",
    "for img_feat, feat in zip(image_features, feature_vector):\n",
    "    X.append(np.concatenate((img_feat, feat)))\n",
    "\n",
    "X = np.array(X)"
   ]
  },
  {
   "cell_type": "code",
   "execution_count": null,
   "id": "d94dcf4b",
   "metadata": {},
   "outputs": [],
   "source": [
    "model = models.Sequential()\n",
    "\n",
    "model.add(layers.Dense(1024, activation='relu'))\n",
    "model.add(layers.Dense(256, activation='relu'))\n",
    "model.add(layers.Dense(64, activation='relu'))\n",
    "model.add(layers.Dense(4))"
   ]
  },
  {
   "cell_type": "code",
   "execution_count": null,
   "id": "e0df2c32",
   "metadata": {},
   "outputs": [],
   "source": [
    "model.compile(optimizer='Adam',\n",
    "              loss=tf.nn.softmax_cross_entropy_with_logits,\n",
    "              metrics=['accuracy'])\n",
    "model.fit(X, y, epochs=25, validation_split=0.1, batch_size=16, sample_weight=sample_weights)"
   ]
  },
  {
   "cell_type": "code",
   "execution_count": null,
   "id": "7dbd7666",
   "metadata": {},
   "outputs": [],
   "source": []
  },
  {
   "cell_type": "code",
   "execution_count": null,
   "id": "675306d8",
   "metadata": {},
   "outputs": [],
   "source": []
  },
  {
   "cell_type": "code",
   "execution_count": null,
   "id": "9c933e1f",
   "metadata": {},
   "outputs": [],
   "source": []
  },
  {
   "cell_type": "code",
   "execution_count": null,
   "id": "186014f5",
   "metadata": {},
   "outputs": [],
   "source": []
  },
  {
   "cell_type": "code",
   "execution_count": null,
   "id": "d3ef2a71",
   "metadata": {},
   "outputs": [],
   "source": []
  },
  {
   "cell_type": "code",
   "execution_count": null,
   "id": "9e9ddfa0",
   "metadata": {},
   "outputs": [],
   "source": []
  },
  {
   "cell_type": "code",
   "execution_count": null,
   "id": "afb2d761",
   "metadata": {},
   "outputs": [],
   "source": []
  },
  {
   "cell_type": "code",
   "execution_count": null,
   "id": "856ab873",
   "metadata": {},
   "outputs": [],
   "source": []
  },
  {
   "cell_type": "code",
   "execution_count": null,
   "id": "16d8b6ea",
   "metadata": {},
   "outputs": [],
   "source": []
  },
  {
   "cell_type": "code",
   "execution_count": null,
   "id": "41f79c73",
   "metadata": {},
   "outputs": [],
   "source": []
  },
  {
   "cell_type": "code",
   "execution_count": null,
   "id": "27c6a057",
   "metadata": {},
   "outputs": [],
   "source": []
  },
  {
   "cell_type": "code",
   "execution_count": null,
   "id": "ffd864c0",
   "metadata": {},
   "outputs": [],
   "source": []
  },
  {
   "cell_type": "code",
   "execution_count": null,
   "id": "c61ce2ef",
   "metadata": {},
   "outputs": [],
   "source": []
  },
  {
   "cell_type": "code",
   "execution_count": null,
   "id": "2029e44e",
   "metadata": {},
   "outputs": [],
   "source": [
    "df = pd.read_csv('./data/HAM10000_Metadata')"
   ]
  },
  {
   "cell_type": "code",
   "execution_count": null,
   "id": "0efd391a",
   "metadata": {},
   "outputs": [],
   "source": [
    "df = df.sample(frac = 1).reset_index()\n",
    "\n",
    "df.head()"
   ]
  },
  {
   "cell_type": "code",
   "execution_count": null,
   "id": "63abb2c3",
   "metadata": {},
   "outputs": [],
   "source": [
    "risk = []\n",
    "\n",
    "for i in range(0, 10015):\n",
    "    if df.iloc[i]['dx'] in ['bkl', 'df', 'vasc']:\n",
    "        risk.append('no')\n",
    "    elif df.iloc[i]['dx'] == 'nv':\n",
    "        risk.append('lo')\n",
    "    elif df.iloc[i]['dx'] == 'akiec':\n",
    "        risk.append('md')\n",
    "    elif df.iloc[i]['dx'] in ['mel', 'bcc']:\n",
    "        risk.append('hi')\n",
    "        \n",
    "df['risk'] = risk\n",
    "\n",
    "df.head()"
   ]
  },
  {
   "cell_type": "code",
   "execution_count": null,
   "id": "37d46b5f",
   "metadata": {},
   "outputs": [],
   "source": [
    "df['image_id'] = df['image_id'].apply(lambda x: x + '.jpg')\n",
    "\n",
    "df.head()"
   ]
  },
  {
   "cell_type": "code",
   "execution_count": null,
   "id": "1b17f6e0",
   "metadata": {},
   "outputs": [],
   "source": [
    "# VGG-16\n",
    "VGG_load = VGG16(weights='imagenet')\n",
    "\n",
    "model = models.Sequential()\n",
    "model.add(VGG_load)\n",
    "model.add(layers.Dense(4))"
   ]
  },
  {
   "cell_type": "code",
   "execution_count": null,
   "id": "90f10b29",
   "metadata": {},
   "outputs": [],
   "source": [
    "data_gen = ImageDataGenerator(\n",
    "    rotation_range=90, \n",
    "    width_shift_range=0.2, \n",
    "    height_shift_range=0.2,\n",
    "    horizontal_flip=True, preprocessing_function = tf.keras.applications.vgg16.preprocess_input,\n",
    "    vertical_flip=True, validation_split=0.1, zoom_range=0.3)"
   ]
  },
  {
   "cell_type": "code",
   "execution_count": null,
   "id": "29185a04",
   "metadata": {},
   "outputs": [],
   "source": [
    "df['risk'].value_counts()"
   ]
  },
  {
   "cell_type": "code",
   "execution_count": null,
   "id": "1d6ead26",
   "metadata": {},
   "outputs": [],
   "source": [
    "data_gen.flow_from_dataframe(df, directory='./data/HAM10000_images',\n",
    "                                          x_col='image_id', y_col='risk', target_size=(224,224),\n",
    "                                          subset='training').class_indices"
   ]
  },
  {
   "cell_type": "code",
   "execution_count": null,
   "id": "67a5a030",
   "metadata": {},
   "outputs": [],
   "source": [
    "data_gen.flow_from_dataframe(df, directory='./data/HAM10000_images',\n",
    "                                          x_col='image_id', y_col='risk', target_size=(224,224),\n",
    "                                          subset='validation').class_indices"
   ]
  },
  {
   "cell_type": "code",
   "execution_count": null,
   "id": "9e3e8065",
   "metadata": {},
   "outputs": [],
   "source": [
    "class_weights = {'hi':1, 'lo':0.25, 'md':5, 'no':1}"
   ]
  },
  {
   "cell_type": "code",
   "execution_count": null,
   "id": "3db25929",
   "metadata": {},
   "outputs": [],
   "source": [
    "sample_weights = []\n",
    "\n",
    "for i in range(0, 10015):\n",
    "    sample_weights.append(class_weights[df.iloc[i]['risk']])\n",
    "    \n",
    "df['weight'] = sample_weights\n",
    "\n",
    "df.head()"
   ]
  },
  {
   "cell_type": "code",
   "execution_count": null,
   "id": "8922b629",
   "metadata": {},
   "outputs": [],
   "source": [
    "model.compile(optimizer=tf.keras.optimizers.Adam(learning_rate=0.00001),\n",
    "              loss=tf.nn.softmax_cross_entropy_with_logits,\n",
    "              metrics=['accuracy'])\n",
    "\n",
    "model.fit(\n",
    "    x=data_gen.flow_from_dataframe(df, directory='./data/HAM10000_images', weight_col='weight',\n",
    "                                          x_col='image_id', y_col='risk', target_size=(224,224),\n",
    "                                          subset='training'),\n",
    "    validation_data=data_gen.flow_from_dataframe(df, directory='./data/HAM10000_images', weight_col='weight',\n",
    "                                          x_col='image_id', y_col='risk', target_size=(224,224),\n",
    "                                          subset='validation'),\n",
    "    epochs=50)"
   ]
  },
  {
   "cell_type": "code",
   "execution_count": null,
   "id": "38117486",
   "metadata": {},
   "outputs": [],
   "source": [
    "feature_vector = []\n",
    "\n",
    "for i in tqdm(range(0, 10015)):\n",
    "    sex = 0 if df.iloc[i]['sex'] == 'male' else 1\n",
    "    age = df.iloc[i]['age']\n",
    "    loc = df.iloc[i]['localization']\n",
    "    \n",
    "    feat = np.array([sex, age])\n",
    "    \n",
    "    if loc == 'abdomen':\n",
    "        feat = np.concatenate((feat, tf.one_hot(0, 15)))\n",
    "    elif loc == 'scalp':\n",
    "        feat = np.concatenate((feat, tf.one_hot(1, 15)))\n",
    "    elif loc == 'lower extremity':\n",
    "        feat = np.concatenate((feat, tf.one_hot(2, 15)))\n",
    "    elif loc == 'trunk':\n",
    "        feat = np.concatenate((feat, tf.one_hot(3, 15)))\n",
    "    elif loc == 'upper extremity':\n",
    "        feat = np.concatenate((feat, tf.one_hot(4, 15)))\n",
    "    elif loc == 'back':\n",
    "        feat = np.concatenate((feat,tf.one_hot(5, 15)))\n",
    "    elif loc == 'neck':\n",
    "        feat = np.concatenate((feat,tf.one_hot(6, 15)))\n",
    "    elif loc == 'face':\n",
    "        feat = np.concatenate((feat,tf.one_hot(7, 15)))\n",
    "    elif loc == 'chest':\n",
    "        feat = np.concatenate((feat,tf.one_hot(8, 15)))\n",
    "    elif loc == 'foot':\n",
    "        feat = np.concatenate((feat,tf.one_hot(9, 15)))\n",
    "    elif loc == 'ear':\n",
    "        feat = np.concatenate((feat,tf.one_hot(10, 15)))\n",
    "    elif loc == 'unknown':\n",
    "        feat = np.concatenate((feat,tf.one_hot(11, 15)))\n",
    "    elif loc == 'hand':\n",
    "        feat = np.concatenate((feat,tf.one_hot(12, 15)))\n",
    "    elif loc == 'acral':\n",
    "        feat = np.concatenate((feat,tf.one_hot(13, 15)))\n",
    "    elif loc == 'genital':\n",
    "        feat = np.concatenate((feat,tf.one_hot(14, 15)))\n",
    "\n",
    "    feature_vector.append(feat)\n",
    "feature_vector = np.array(feature_vector)\n",
    "\n",
    "feature_vector.shape"
   ]
  },
  {
   "cell_type": "code",
   "execution_count": null,
   "id": "aea9a476",
   "metadata": {},
   "outputs": [],
   "source": [
    "unique, counts = np.unique(feature_vector, return_counts=True, axis=1)"
   ]
  },
  {
   "cell_type": "code",
   "execution_count": null,
   "id": "076d8374",
   "metadata": {},
   "outputs": [],
   "source": [
    "unique"
   ]
  },
  {
   "cell_type": "code",
   "execution_count": null,
   "id": "f6fc4bdc",
   "metadata": {},
   "outputs": [],
   "source": [
    "feature_extractor = tf.keras.Model(\n",
    "    inputs=VGG_load.inputs,\n",
    "    outputs=VGG_load.layers[-4].output,\n",
    ")"
   ]
  },
  {
   "cell_type": "code",
   "execution_count": null,
   "id": "54dd9cbb",
   "metadata": {},
   "outputs": [],
   "source": [
    "preprocessed = []\n",
    "\n",
    "for i in tqdm(range(0, 10015)):\n",
    "    file = df.iloc[i]['image_id']\n",
    "    feat_vec = feature_vector[i]    \n",
    "    \n",
    "    img = image.load_img('./Data/HAM10000_images/' + file, target_size= (224,224))\n",
    "    img = image.img_to_array(img)\n",
    "    # img = np.expand_dims(img, axis=0)\n",
    "    img = tf.keras.applications.vgg16.preprocess_input(img)\n",
    "    img_feat = feature_extractor(img)\n",
    "\n",
    "    preprocessed.append(np.concatenate((img_feat, feat_vec)))\n",
    "    \n",
    "preprocessed = np.array(preprocessed)"
   ]
  },
  {
   "cell_type": "code",
   "execution_count": null,
   "id": "78572b49",
   "metadata": {},
   "outputs": [],
   "source": [
    "ohr = []\n",
    "\n",
    "for i in range(0, 10015):\n",
    "    risk = df.iloc[i]['risk']\n",
    "    \n",
    "    if risk == 'no':\n",
    "        ohr.append(tf.one_hot(0, 4))\n",
    "    elif risk == 'lo':\n",
    "        ohr.append(tf.one_hot(1, 4))\n",
    "    elif risk == 'md':\n",
    "        ohr.append(tf.one_hot(2, 4))\n",
    "    elif risk == 'hi':\n",
    "        ohr.append(tf.one_hot(3, 4))\n",
    "        \n",
    "ohr = np.array(ohr)\n",
    "\n",
    "ohr.shape"
   ]
  },
  {
   "cell_type": "code",
   "execution_count": null,
   "id": "503ce71a",
   "metadata": {},
   "outputs": [],
   "source": [
    "ohr"
   ]
  },
  {
   "cell_type": "code",
   "execution_count": null,
   "id": "3e31ccf6",
   "metadata": {},
   "outputs": [],
   "source": [
    "new_model = models.Sequential()\n",
    "new_model.add(layers.Dense(4096, activation='relu'))\n",
    "new_model.add(layers.Dense(2048, activation='relu'))\n",
    "new_model.add(layers.Dense(512, activation='relu'))\n",
    "new_model.add(layers.Dense(128, activation='relu'))\n",
    "new_model.add(layers.Dense(4))"
   ]
  },
  {
   "cell_type": "code",
   "execution_count": null,
   "id": "eec650b5",
   "metadata": {},
   "outputs": [],
   "source": [
    "new_model.compile(optimizer='Adam',\n",
    "              loss=tf.nn.softmax_cross_entropy_with_logits,\n",
    "              metrics=['accuracy'])\n",
    "new_model.fit(preprocessed, ohr, sample_weight=np.array(df['weight']), epochs=10, validation_split=0.1)"
   ]
  },
  {
   "cell_type": "code",
   "execution_count": null,
   "id": "9b9aaa19",
   "metadata": {},
   "outputs": [],
   "source": []
  }
 ],
 "metadata": {
  "kernelspec": {
   "display_name": "tensorflow gpu",
   "language": "python",
   "name": "tensorflow"
  },
  "language_info": {
   "codemirror_mode": {
    "name": "ipython",
    "version": 3
   },
   "file_extension": ".py",
   "mimetype": "text/x-python",
   "name": "python",
   "nbconvert_exporter": "python",
   "pygments_lexer": "ipython3",
   "version": "3.8.10"
  }
 },
 "nbformat": 4,
 "nbformat_minor": 5
}
