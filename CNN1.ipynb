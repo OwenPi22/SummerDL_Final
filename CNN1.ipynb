{
 "cells": [
  {
   "cell_type": "code",
   "execution_count": 1,
   "id": "8d9c9bed",
   "metadata": {},
   "outputs": [],
   "source": [
    "import pandas as pd\n",
    "from tensorflow.keras.preprocessing import image\n",
    "\n",
    "import os \n",
    "\n",
    "import tensorflow as tf\n",
    "\n",
    "from tensorflow.keras.applications.inception_v3 import InceptionV3\n",
    "from tensorflow.keras.applications.vgg16 import VGG16\n",
    "from tensorflow.keras.applications.resnet_v2 import ResNet152V2\n",
    "\n",
    "import matplotlib.pyplot as plt\n",
    "\n",
    "from tensorflow.keras import layers\n",
    "from tensorflow.keras import models\n",
    "from tqdm import tqdm\n",
    "import numpy as np"
   ]
  },
  {
   "cell_type": "code",
   "execution_count": 2,
   "id": "261c3484",
   "metadata": {},
   "outputs": [],
   "source": [
    "df = pd.read_csv('./data/HAM10000_Metadata')"
   ]
  },
  {
   "cell_type": "code",
   "execution_count": null,
   "id": "02707059",
   "metadata": {},
   "outputs": [],
   "source": [
    "from tensorflow.keras import backend as K\n",
    "K.clear_session()"
   ]
  },
  {
   "cell_type": "code",
   "execution_count": 3,
   "id": "09f44649",
   "metadata": {},
   "outputs": [
    {
     "name": "stdout",
     "output_type": "stream",
     "text": [
      "Num GPUs Available:  1\n"
     ]
    }
   ],
   "source": [
    "print(\"Num GPUs Available: \", len(tf.config.list_physical_devices('GPU')))"
   ]
  },
  {
   "cell_type": "markdown",
   "id": "81ddfe42",
   "metadata": {},
   "source": [
    "(Warning for Sunlight, increased risk of cancer) Actinic keratoses and intraepithelial carcinoma / Bowen's disease (__akiec__), 0\n",
    "\n",
    "(Skin cancer) basal cell carcinoma (__bcc__), 1\n",
    "\n",
    "(HARMLESS) benign keratosis-like lesions (solar lentigines / seborrheic keratoses and lichen-planus like keratoses, __bkl__), 2\n",
    "\n",
    "(HARMLESS) dermatofibroma (__df__),  3\n",
    "\n",
    "melanoma (__mel__),  4\n",
    "\n",
    "(Not entirely harmless) melanocytic nevi (__nv__)   5\n",
    "\n",
    "(HARMLESS) vascular lesions (angiomas, angiokeratomas, pyogenic granulomas and hemorrhage, __vasc__). 6 \n",
    "\n",
    "\n",
    "More than 50% of lesions are confirmed through histopathology (histo), the ground truth for the rest of the cases is either follow-up examination (follow_up), expert consensus (consensus), or confirmation by in-vivo confocal microscopy (confocal). The dataset includes lesions with multiple images, which can be tracked by the lesion_id-column within the HAM10000_metadata file."
   ]
  },
  {
   "cell_type": "code",
   "execution_count": null,
   "id": "083194f5",
   "metadata": {},
   "outputs": [],
   "source": [
    "# Number of cases where we can use LSTM\n",
    "\n",
    "(df['lesion_id'].value_counts() > 1).sum()"
   ]
  },
  {
   "cell_type": "code",
   "execution_count": null,
   "id": "544945c3",
   "metadata": {},
   "outputs": [],
   "source": [
    "df.head()"
   ]
  },
  {
   "cell_type": "code",
   "execution_count": null,
   "id": "254fb57b",
   "metadata": {},
   "outputs": [],
   "source": [
    "df = df.sample(frac = 1).reset_index()\n",
    "\n",
    "df.head()"
   ]
  },
  {
   "cell_type": "code",
   "execution_count": null,
   "id": "798d7981",
   "metadata": {},
   "outputs": [],
   "source": [
    "df['localization'].unique()"
   ]
  },
  {
   "cell_type": "code",
   "execution_count": null,
   "id": "8fa336d9",
   "metadata": {},
   "outputs": [],
   "source": [
    "temp = []\n",
    "\n",
    "for i in range(0, 10015):\n",
    "    loc = df.iloc[i]['localization']\n",
    "    if loc == 'abdomen':\n",
    "        temp.append(tf.one_hot(0, 15))\n",
    "    elif loc == 'scalp':\n",
    "        temp.append(tf.one_hot(1, 15))\n",
    "    elif loc == 'lower extremity':\n",
    "        temp.append(tf.one_hot(2, 15))\n",
    "    elif loc == 'trunk':\n",
    "        temp.append(tf.one_hot(3, 15))\n",
    "    elif loc == 'upper extremity':\n",
    "        temp.append(tf.one_hot(4, 15))\n",
    "    elif loc == 'back':\n",
    "        temp.append(tf.one_hot(5, 15))\n",
    "    elif loc == 'neck':\n",
    "        temp.append(tf.one_hot(6, 15))\n",
    "    elif loc == 'face':\n",
    "        temp.append(tf.one_hot(7, 15))\n",
    "    elif loc == 'chest':\n",
    "        temp.append(tf.one_hot(8, 15))\n",
    "    elif loc == 'foot':\n",
    "        temp.append(tf.one_hot(9, 15))\n",
    "    elif loc == 'ear':\n",
    "        temp.append(tf.one_hot(10, 15))\n",
    "    elif loc == 'unknown':\n",
    "        temp.append(tf.one_hot(11, 15))\n",
    "    elif loc == 'hand':\n",
    "        temp.append(tf.one_hot(12, 15))\n",
    "    elif loc == 'acral':\n",
    "        temp.append(tf.one_hot(13, 15))\n",
    "    elif loc == 'genital':\n",
    "        temp.append(tf.one_hot(14, 15))"
   ]
  },
  {
   "cell_type": "code",
   "execution_count": null,
   "id": "44c3d05c",
   "metadata": {
    "scrolled": false
   },
   "outputs": [],
   "source": [
    "one_hot_loc = np.array(temp)\n",
    "\n",
    "one_hot_loc"
   ]
  },
  {
   "cell_type": "code",
   "execution_count": 3,
   "id": "a8a5e4b8",
   "metadata": {},
   "outputs": [
    {
     "name": "stderr",
     "output_type": "stream",
     "text": [
      "100%|████████████████████████████████████████████████████████████████████████████| 10015/10015 [05:01<00:00, 33.19it/s]\n"
     ]
    }
   ],
   "source": [
    "# VGG-16\n",
    "preprocessed = []\n",
    "\n",
    "VGG_load = VGG16(weights='imagenet', include_top=False)\n",
    "model = models.Sequential()\n",
    "model.add(VGG_load)\n",
    "model.add(layers.Flatten())\n",
    "\n",
    "\n",
    "for i in tqdm(range(0, 10015)):\n",
    "    file = df.iloc[i]['image_id']\n",
    "    #ohl = one_hot_loc[i]\n",
    "    \n",
    "    img = image.load_img('./Data/HAM10000_images/' + file + '.jpg', target_size= (224,224))\n",
    "    img = image.img_to_array(img)\n",
    "    img = np.expand_dims(img, axis=0)\n",
    "    img = tf.keras.applications.vgg16.preprocess_input(img)\n",
    "    preds = model.predict(img).reshape(25088)\n",
    "\n",
    "    preprocessed.append(preds) #np.concatenate((preds, ohl)))\n",
    "    \n",
    "df['VGG16'] = preprocessed"
   ]
  },
  {
   "cell_type": "code",
   "execution_count": null,
   "id": "88325339",
   "metadata": {},
   "outputs": [],
   "source": [
    "# Inception\n",
    "preprocessed = []\n",
    "\n",
    "IV3_load = InceptionV3(weights='imagenet', include_top=False)\n",
    "model = models.Sequential()\n",
    "model.add(IV3_load)\n",
    "model.add(layers.Flatten())\n",
    "\n",
    "for i in tqdm(range(0, 10015)):\n",
    "    file = df.iloc[i]['image_id']\n",
    "    ohl = one_hot_loc[i]\n",
    "    \n",
    "    img = image.load_img('./Data/HAM10000_images/' + file + '.jpg', target_size= (299,299))\n",
    "    img = image.img_to_array(img)\n",
    "    img = np.expand_dims(img, axis=0)\n",
    "    img = tf.keras.applications.inception_v3.preprocess_input(img)\n",
    "    preds = model.predict(img).reshape(131072)\n",
    "\n",
    "    preprocessed.append(np.concatenate((preds, ohl)))\n",
    "    \n",
    "df['IV3'] = preprocessed"
   ]
  },
  {
   "cell_type": "code",
   "execution_count": null,
   "id": "4a0493b0",
   "metadata": {},
   "outputs": [],
   "source": [
    "# ResNet\n",
    "preprocessed = []\n",
    "\n",
    "resnet_load = ResNet152V2(weights='imagenet', include_top=False)\n",
    "model = models.Sequential()\n",
    "model.add(resnet_load)\n",
    "model.add(layers.Flatten())\n",
    "\n",
    "\n",
    "for i in tqdm(range(0, 10015)):\n",
    "    file = df.iloc[i]['image_id']\n",
    "    ohl = one_hot_loc[i]    \n",
    "    \n",
    "    img = image.load_img('./Data/HAM10000_images/' + file + '.jpg', target_size= (224,224))\n",
    "    img = image.img_to_array(img)\n",
    "    img = np.expand_dims(img, axis=0)\n",
    "    img = tf.keras.applications.resnet_v2.preprocess_input(img)\n",
    "    preds = model.predict(img).reshape(100352)\n",
    "\n",
    "    preprocessed.append(np.concatenate((preds, ohl)))\n",
    "    \n",
    "df['resnet'] = preprocessed"
   ]
  },
  {
   "cell_type": "code",
   "execution_count": 26,
   "id": "ff649448",
   "metadata": {},
   "outputs": [],
   "source": [
    "labels = []\n",
    "for i in range(0, 10015):\n",
    "    dx = df.iloc[i]['dx']\n",
    "    if dx == 'akiec':\n",
    "        labels.append(tf.one_hot(0, 7))\n",
    "    elif dx == 'bcc':\n",
    "        labels.append(tf.one_hot(1, 7))\n",
    "    elif dx == 'bkl':\n",
    "        labels.append(tf.one_hot(2, 7))\n",
    "    elif dx == 'df':\n",
    "        labels.append(tf.one_hot(3, 7))\n",
    "    elif dx == 'mel':\n",
    "        labels.append(tf.one_hot(4, 7))\n",
    "    elif dx == 'nv':\n",
    "        labels.append(tf.one_hot(5, 7))\n",
    "    elif dx == 'vasc':\n",
    "        labels.append(tf.one_hot(6, 7))\n",
    "        \n",
    "df['one_hot'] = labels"
   ]
  },
  {
   "cell_type": "code",
   "execution_count": null,
   "id": "d4cf74db",
   "metadata": {},
   "outputs": [],
   "source": [
    "df.head()"
   ]
  },
  {
   "cell_type": "markdown",
   "id": "dfae4ccc",
   "metadata": {},
   "source": [
    "(Warning for Sunlight, increased risk of cancer) Actinic keratoses and intraepithelial carcinoma / Bowen's disease (__akiec__), 0\n",
    "\n",
    "(Skin cancer) basal cell carcinoma (__bcc__), 1\n",
    "\n",
    "(HARMLESS) benign keratosis-like lesions (solar lentigines / seborrheic keratoses and lichen-planus like keratoses, __bkl__), 2\n",
    "\n",
    "(HARMLESS) dermatofibroma (__df__),  3\n",
    "\n",
    "melanoma (__mel__),  4\n",
    "\n",
    "(Not entirely harmless) melanocytic nevi (__nv__)   5\n",
    "\n",
    "(HARMLESS) vascular lesions (angiomas, angiokeratomas, pyogenic granulomas and hemorrhage, __vasc__). 6 \n",
    "\n",
    "\n",
    "More than 50% of lesions are confirmed through histopathology (histo), the ground truth for the rest of the cases is either follow-up examination (follow_up), expert consensus (consensus), or confirmation by in-vivo confocal microscopy (confocal). The dataset includes lesions with multiple images, which can be tracked by the lesion_id-column within the HAM10000_metadata file."
   ]
  },
  {
   "cell_type": "code",
   "execution_count": 27,
   "id": "8d4b2329",
   "metadata": {},
   "outputs": [
    {
     "data": {
      "text/html": [
       "<div>\n",
       "<style scoped>\n",
       "    .dataframe tbody tr th:only-of-type {\n",
       "        vertical-align: middle;\n",
       "    }\n",
       "\n",
       "    .dataframe tbody tr th {\n",
       "        vertical-align: top;\n",
       "    }\n",
       "\n",
       "    .dataframe thead th {\n",
       "        text-align: right;\n",
       "    }\n",
       "</style>\n",
       "<table border=\"1\" class=\"dataframe\">\n",
       "  <thead>\n",
       "    <tr style=\"text-align: right;\">\n",
       "      <th></th>\n",
       "      <th>lesion_id</th>\n",
       "      <th>image_id</th>\n",
       "      <th>dx</th>\n",
       "      <th>dx_type</th>\n",
       "      <th>age</th>\n",
       "      <th>sex</th>\n",
       "      <th>localization</th>\n",
       "      <th>dataset</th>\n",
       "      <th>VGG16</th>\n",
       "      <th>one_hot</th>\n",
       "      <th>risk</th>\n",
       "    </tr>\n",
       "  </thead>\n",
       "  <tbody>\n",
       "    <tr>\n",
       "      <th>0</th>\n",
       "      <td>HAM_0000118</td>\n",
       "      <td>ISIC_0027419</td>\n",
       "      <td>bkl</td>\n",
       "      <td>histo</td>\n",
       "      <td>80.0</td>\n",
       "      <td>male</td>\n",
       "      <td>scalp</td>\n",
       "      <td>vidir_modern</td>\n",
       "      <td>[0.0, 0.0, 11.025183, 0.0, 0.08699386, 0.0, 0....</td>\n",
       "      <td>(tf.Tensor(0.0, shape=(), dtype=float32), tf.T...</td>\n",
       "      <td>0.0</td>\n",
       "    </tr>\n",
       "    <tr>\n",
       "      <th>1</th>\n",
       "      <td>HAM_0000118</td>\n",
       "      <td>ISIC_0025030</td>\n",
       "      <td>bkl</td>\n",
       "      <td>histo</td>\n",
       "      <td>80.0</td>\n",
       "      <td>male</td>\n",
       "      <td>scalp</td>\n",
       "      <td>vidir_modern</td>\n",
       "      <td>[0.0, 0.0, 1.2556057, 0.72405547, 0.0, 0.0, 0....</td>\n",
       "      <td>(tf.Tensor(0.0, shape=(), dtype=float32), tf.T...</td>\n",
       "      <td>0.0</td>\n",
       "    </tr>\n",
       "    <tr>\n",
       "      <th>2</th>\n",
       "      <td>HAM_0002730</td>\n",
       "      <td>ISIC_0026769</td>\n",
       "      <td>bkl</td>\n",
       "      <td>histo</td>\n",
       "      <td>80.0</td>\n",
       "      <td>male</td>\n",
       "      <td>scalp</td>\n",
       "      <td>vidir_modern</td>\n",
       "      <td>[0.0, 0.0, 6.389563, 0.0, 0.0, 0.0, 0.0, 0.0, ...</td>\n",
       "      <td>(tf.Tensor(0.0, shape=(), dtype=float32), tf.T...</td>\n",
       "      <td>0.0</td>\n",
       "    </tr>\n",
       "    <tr>\n",
       "      <th>3</th>\n",
       "      <td>HAM_0002730</td>\n",
       "      <td>ISIC_0025661</td>\n",
       "      <td>bkl</td>\n",
       "      <td>histo</td>\n",
       "      <td>80.0</td>\n",
       "      <td>male</td>\n",
       "      <td>scalp</td>\n",
       "      <td>vidir_modern</td>\n",
       "      <td>[0.0, 0.0, 0.0, 0.0, 0.0, 0.0, 0.0, 0.0, 0.0, ...</td>\n",
       "      <td>(tf.Tensor(0.0, shape=(), dtype=float32), tf.T...</td>\n",
       "      <td>0.0</td>\n",
       "    </tr>\n",
       "    <tr>\n",
       "      <th>4</th>\n",
       "      <td>HAM_0001466</td>\n",
       "      <td>ISIC_0031633</td>\n",
       "      <td>bkl</td>\n",
       "      <td>histo</td>\n",
       "      <td>75.0</td>\n",
       "      <td>male</td>\n",
       "      <td>ear</td>\n",
       "      <td>vidir_modern</td>\n",
       "      <td>[0.0, 0.0, 0.0, 0.0, 0.0, 0.0, 0.0, 0.0, 0.0, ...</td>\n",
       "      <td>(tf.Tensor(0.0, shape=(), dtype=float32), tf.T...</td>\n",
       "      <td>0.0</td>\n",
       "    </tr>\n",
       "  </tbody>\n",
       "</table>\n",
       "</div>"
      ],
      "text/plain": [
       "     lesion_id      image_id   dx dx_type   age   sex localization  \\\n",
       "0  HAM_0000118  ISIC_0027419  bkl   histo  80.0  male        scalp   \n",
       "1  HAM_0000118  ISIC_0025030  bkl   histo  80.0  male        scalp   \n",
       "2  HAM_0002730  ISIC_0026769  bkl   histo  80.0  male        scalp   \n",
       "3  HAM_0002730  ISIC_0025661  bkl   histo  80.0  male        scalp   \n",
       "4  HAM_0001466  ISIC_0031633  bkl   histo  75.0  male          ear   \n",
       "\n",
       "        dataset                                              VGG16  \\\n",
       "0  vidir_modern  [0.0, 0.0, 11.025183, 0.0, 0.08699386, 0.0, 0....   \n",
       "1  vidir_modern  [0.0, 0.0, 1.2556057, 0.72405547, 0.0, 0.0, 0....   \n",
       "2  vidir_modern  [0.0, 0.0, 6.389563, 0.0, 0.0, 0.0, 0.0, 0.0, ...   \n",
       "3  vidir_modern  [0.0, 0.0, 0.0, 0.0, 0.0, 0.0, 0.0, 0.0, 0.0, ...   \n",
       "4  vidir_modern  [0.0, 0.0, 0.0, 0.0, 0.0, 0.0, 0.0, 0.0, 0.0, ...   \n",
       "\n",
       "                                             one_hot  risk  \n",
       "0  (tf.Tensor(0.0, shape=(), dtype=float32), tf.T...   0.0  \n",
       "1  (tf.Tensor(0.0, shape=(), dtype=float32), tf.T...   0.0  \n",
       "2  (tf.Tensor(0.0, shape=(), dtype=float32), tf.T...   0.0  \n",
       "3  (tf.Tensor(0.0, shape=(), dtype=float32), tf.T...   0.0  \n",
       "4  (tf.Tensor(0.0, shape=(), dtype=float32), tf.T...   0.0  "
      ]
     },
     "execution_count": 27,
     "metadata": {},
     "output_type": "execute_result"
    }
   ],
   "source": [
    "risk = []\n",
    "\n",
    "for i in range(0, 10015):\n",
    "    if df.iloc[i]['dx'] in ['bkl', 'df', 'vasc']:\n",
    "        risk.append(0.0)\n",
    "    elif df.iloc[i]['dx'] == 'nv':\n",
    "        risk.append(1.0)\n",
    "    elif df.iloc[i]['dx'] == 'akiec':\n",
    "        risk.append(2.0)\n",
    "    elif df.iloc[i]['dx'] in ['mel', 'bcc']:\n",
    "        risk.append(3.0)\n",
    "        \n",
    "df['risk'] = risk\n",
    "\n",
    "df.head()"
   ]
  },
  {
   "cell_type": "code",
   "execution_count": null,
   "id": "363cb1d7",
   "metadata": {},
   "outputs": [],
   "source": [
    "df[df['risk'] == 3.0]['dx'].value_counts()"
   ]
  },
  {
   "cell_type": "code",
   "execution_count": 29,
   "id": "4d9beeb5",
   "metadata": {},
   "outputs": [
    {
     "data": {
      "text/plain": [
       "nv       6705\n",
       "mel      1113\n",
       "bkl      1099\n",
       "bcc       514\n",
       "akiec     327\n",
       "vasc      142\n",
       "df        115\n",
       "Name: dx, dtype: int64"
      ]
     },
     "execution_count": 29,
     "metadata": {},
     "output_type": "execute_result"
    }
   ],
   "source": [
    "df[\"dx\"].value_counts()"
   ]
  },
  {
   "cell_type": "code",
   "execution_count": 30,
   "id": "69bbc774",
   "metadata": {},
   "outputs": [
    {
     "data": {
      "text/plain": [
       "1.0    6705\n",
       "3.0    1627\n",
       "0.0    1356\n",
       "2.0     327\n",
       "Name: risk, dtype: int64"
      ]
     },
     "execution_count": 30,
     "metadata": {},
     "output_type": "execute_result"
    }
   ],
   "source": [
    "df[\"risk\"].value_counts()"
   ]
  },
  {
   "cell_type": "code",
   "execution_count": 5,
   "id": "0f70f755",
   "metadata": {},
   "outputs": [],
   "source": [
    "import pickle"
   ]
  },
  {
   "cell_type": "code",
   "execution_count": null,
   "id": "3b7d46af",
   "metadata": {},
   "outputs": [],
   "source": [
    "pickle_out = open(\"VGG16.pickle\", \"wb\")\n",
    "pickle.dump(df[\"VGG16\"], pickle_out)\n",
    "pickle_out.close()\n",
    "\n",
    "pickle_out = open(\"IV3.pickle\", \"wb\")\n",
    "pickle.dump(df[\"IV3\"], pickle_out)\n",
    "pickle_out.close()\n",
    "\n",
    "pickle_out = open(\"resnet.pickle\", \"wb\")\n",
    "pickle.dump(df[\"resnet\"], pickle_out)\n",
    "pickle_out.close()"
   ]
  },
  {
   "cell_type": "code",
   "execution_count": null,
   "id": "972b46f4",
   "metadata": {},
   "outputs": [],
   "source": [
    "pickle_out = open(\"one_hot.pickle\", \"wb\")\n",
    "pickle.dump(df[\"one_hot\"], pickle_out)\n",
    "pickle_out.close()\n",
    "\n",
    "pickle_out = open(\"risk.pickle\", \"wb\")\n",
    "pickle.dump(df[\"risk\"], pickle_out)\n",
    "pickle_out.close()"
   ]
  },
  {
   "cell_type": "code",
   "execution_count": 6,
   "id": "b1b34f3a",
   "metadata": {},
   "outputs": [],
   "source": [
    "pickle_in = open(\"VGG16.pickle\", \"rb\")\n",
    "z_vgg = pickle.load(pickle_in)\n",
    "\n",
    "pickle_in = open(\"IV3.pickle\", \"rb\")\n",
    "z_iv3 = pickle.load(pickle_in)\n",
    "\n",
    "pickle_in = open(\"resnet.pickle\", \"rb\")\n",
    "z_res = pickle.load(pickle_in)"
   ]
  },
  {
   "cell_type": "code",
   "execution_count": 7,
   "id": "1566b6d7",
   "metadata": {},
   "outputs": [],
   "source": [
    "pickle_in = open(\"one_hot.pickle\", \"rb\")\n",
    "z_one_hot = pickle.load(pickle_in)\n",
    "\n",
    "pickle_in = open(\"risk.pickle\", \"rb\")\n",
    "z_risk = pickle.load(pickle_in)"
   ]
  },
  {
   "cell_type": "code",
   "execution_count": null,
   "id": "2477303a",
   "metadata": {},
   "outputs": [],
   "source": [
    "vg_z = np.array(z_vgg)\n",
    "iv_z = np.array(z_iv3)\n",
    "res_z = np.array(z_res)\n",
    "one_hot_z = np.array(z_one_hot)\n",
    "risk_z = np.array(z_risk)"
   ]
  },
  {
   "cell_type": "code",
   "execution_count": null,
   "id": "99bda12d",
   "metadata": {},
   "outputs": [],
   "source": [
    "df[\"one_hot\"]"
   ]
  },
  {
   "cell_type": "code",
   "execution_count": 18,
   "id": "f425420d",
   "metadata": {},
   "outputs": [
    {
     "data": {
      "text/plain": [
       "(10015,)"
      ]
     },
     "execution_count": 18,
     "metadata": {},
     "output_type": "execute_result"
    }
   ],
   "source": [
    "VGG_X.shape"
   ]
  },
  {
   "cell_type": "code",
   "execution_count": 8,
   "id": "96b7bf1a",
   "metadata": {},
   "outputs": [],
   "source": [
    "VGG_X = np.array(df[\"VGG16\"])\n",
    "IV3_X = np.array(z_iv3)\n",
    "RES_X = np.array(z_res)"
   ]
  },
  {
   "cell_type": "code",
   "execution_count": 9,
   "id": "7a30f467",
   "metadata": {},
   "outputs": [],
   "source": [
    "#y = np.array(df['one_hot'])\n",
    "\n",
    "y = np.array(z_risk)"
   ]
  },
  {
   "cell_type": "code",
   "execution_count": 32,
   "id": "8e255d46",
   "metadata": {},
   "outputs": [
    {
     "data": {
      "text/plain": [
       "array([3., 1., 1., ..., 1., 1., 1.])"
      ]
     },
     "execution_count": 32,
     "metadata": {},
     "output_type": "execute_result"
    }
   ],
   "source": []
  },
  {
   "cell_type": "code",
   "execution_count": 13,
   "id": "68fd79d0",
   "metadata": {},
   "outputs": [
    {
     "data": {
      "text/plain": [
       "(10015, 4)"
      ]
     },
     "execution_count": 13,
     "metadata": {},
     "output_type": "execute_result"
    }
   ],
   "source": [
    "new_y = []\n",
    "for ele in y:\n",
    "    new_y.append(tf.one_hot(int(ele), 4))\n",
    "    \n",
    "new_y = np.array(new_y)\n",
    "\n",
    "new_y.shape"
   ]
  },
  {
   "cell_type": "code",
   "execution_count": 14,
   "id": "6e59ea07",
   "metadata": {},
   "outputs": [
    {
     "data": {
      "text/plain": [
       "array([[0., 0., 0., 1.],\n",
       "       [0., 1., 0., 0.],\n",
       "       [0., 1., 0., 0.],\n",
       "       ...,\n",
       "       [0., 1., 0., 0.],\n",
       "       [0., 1., 0., 0.],\n",
       "       [0., 1., 0., 0.]], dtype=float32)"
      ]
     },
     "execution_count": 14,
     "metadata": {},
     "output_type": "execute_result"
    }
   ],
   "source": [
    "new_y"
   ]
  },
  {
   "cell_type": "code",
   "execution_count": 15,
   "id": "a92e6603",
   "metadata": {},
   "outputs": [],
   "source": [
    "#vgg_model.add(layers.Dense(8192, activation='relu'))\n",
    "#vgg_model.add(layers.Dense(4096, activation='relu'))\n",
    "#vgg_model.add(layers.Dense(2048, activation='relu'))\n",
    "vgg_model.add(layers.Dense(1024, activation='relu',input_shape = [25088]))\n",
    "vgg_model.add(layers.Dense(512, activation='relu'))\n",
    "vgg_model.add(layers.Dense(128, activation='relu'))\n",
    "vgg_model.add(layers.Dense(4))"
   ]
  },
  {
   "cell_type": "code",
   "execution_count": null,
   "id": "e3316d3e",
   "metadata": {},
   "outputs": [],
   "source": [
    "#new_VGG = np.asarray(new_VGG).astype('float32')"
   ]
  },
  {
   "cell_type": "code",
   "execution_count": null,
   "id": "c32c4503",
   "metadata": {},
   "outputs": [],
   "source": [
    "new_y"
   ]
  },
  {
   "cell_type": "code",
   "execution_count": 16,
   "id": "804b36dd",
   "metadata": {},
   "outputs": [
    {
     "data": {
      "text/plain": [
       "(10015, 25088)"
      ]
     },
     "execution_count": 16,
     "metadata": {},
     "output_type": "execute_result"
    }
   ],
   "source": [
    "VGG_X.shape\n",
    "\n",
    "new_VGG = []\n",
    "for i in range(0, 10015):\n",
    "    new_VGG.append(VGG_X[i])\n",
    "    \n",
    "new_VGG = np.array(new_VGG)\n",
    "new_VGG.shape"
   ]
  },
  {
   "cell_type": "code",
   "execution_count": 41,
   "id": "e47f3f1a",
   "metadata": {},
   "outputs": [
    {
     "data": {
      "text/plain": [
       "(10015, 100367)"
      ]
     },
     "execution_count": 41,
     "metadata": {},
     "output_type": "execute_result"
    }
   ],
   "source": [
    "new_RES = []\n",
    "for i in range(0, 10015):\n",
    "    new_RES.append(RES_X[i])\n",
    "    \n",
    "new_RES = np.array(new_RES)\n",
    "new_RES.shape"
   ]
  },
  {
   "cell_type": "code",
   "execution_count": 42,
   "id": "4ce0c1fc",
   "metadata": {},
   "outputs": [
    {
     "data": {
      "text/plain": [
       "(10015, 131087)"
      ]
     },
     "execution_count": 42,
     "metadata": {},
     "output_type": "execute_result"
    }
   ],
   "source": [
    "new_IV3 = []\n",
    "for i in range(0, 10015):\n",
    "    new_IV3.append(IV3_X[i])\n",
    "    \n",
    "new_IV3 = np.array(new_IV3)\n",
    "new_IV3.shape"
   ]
  },
  {
   "cell_type": "code",
   "execution_count": 17,
   "id": "f5801ad0",
   "metadata": {
    "scrolled": true
   },
   "outputs": [
    {
     "name": "stdout",
     "output_type": "stream",
     "text": [
      "Train on 9013 samples, validate on 1002 samples\n",
      "Epoch 1/10\n",
      "8960/9013 [============================>.] - ETA: 0s - loss: 2.3496 - accuracy: 0.5760\n",
      "Epoch 00001: saving model to training_1/cp.ckpt\n",
      "9013/9013 [==============================] - 3s 322us/sample - loss: 2.3429 - accuracy: 0.5761 - val_loss: 1.0651 - val_accuracy: 0.6228\n",
      "Epoch 2/10\n",
      "8960/9013 [============================>.] - ETA: 0s - loss: 0.9299 - accuracy: 0.6650\n",
      "Epoch 00002: saving model to training_1/cp.ckpt\n",
      "9013/9013 [==============================] - 3s 298us/sample - loss: 0.9293 - accuracy: 0.6653 - val_loss: 1.1689 - val_accuracy: 0.6557\n",
      "Epoch 3/10\n",
      "8992/9013 [============================>.] - ETA: 0s - loss: 0.7599 - accuracy: 0.7159\n",
      "Epoch 00003: saving model to training_1/cp.ckpt\n",
      "9013/9013 [==============================] - 3s 305us/sample - loss: 0.7596 - accuracy: 0.7157 - val_loss: 1.2262 - val_accuracy: 0.6507\n",
      "Epoch 4/10\n",
      "8896/9013 [============================>.] - ETA: 0s - loss: 0.5832 - accuracy: 0.7827\n",
      "Epoch 00004: saving model to training_1/cp.ckpt\n",
      "9013/9013 [==============================] - 3s 302us/sample - loss: 0.5839 - accuracy: 0.7826 - val_loss: 1.2750 - val_accuracy: 0.6178\n",
      "Epoch 5/10\n",
      "8992/9013 [============================>.] - ETA: 0s - loss: 0.4511 - accuracy: 0.8322\n",
      "Epoch 00005: saving model to training_1/cp.ckpt\n",
      "9013/9013 [==============================] - 3s 307us/sample - loss: 0.4520 - accuracy: 0.8319 - val_loss: 1.3995 - val_accuracy: 0.5579\n",
      "Epoch 6/10\n",
      "8864/9013 [============================>.] - ETA: 0s - loss: 0.3388 - accuracy: 0.8762\n",
      "Epoch 00006: saving model to training_1/cp.ckpt\n",
      "9013/9013 [==============================] - 3s 312us/sample - loss: 0.3455 - accuracy: 0.8745 - val_loss: 1.8696 - val_accuracy: 0.5399\n",
      "Epoch 7/10\n",
      "8768/9013 [============================>.] - ETA: 0s - loss: 0.2992 - accuracy: 0.8987\n",
      "Epoch 00007: saving model to training_1/cp.ckpt\n",
      "9013/9013 [==============================] - 3s 315us/sample - loss: 0.3010 - accuracy: 0.8975 - val_loss: 2.0086 - val_accuracy: 0.5519\n",
      "Epoch 8/10\n",
      "8960/9013 [============================>.] - ETA: 0s - loss: 0.2145 - accuracy: 0.9306\n",
      "Epoch 00008: saving model to training_1/cp.ckpt\n",
      "9013/9013 [==============================] - 3s 308us/sample - loss: 0.2140 - accuracy: 0.9307 - val_loss: 2.2077 - val_accuracy: 0.5778\n",
      "Epoch 9/10\n",
      "8768/9013 [============================>.] - ETA: 0s - loss: 0.2051 - accuracy: 0.9321\n",
      "Epoch 00009: saving model to training_1/cp.ckpt\n",
      "9013/9013 [==============================] - 3s 318us/sample - loss: 0.2068 - accuracy: 0.9315 - val_loss: 2.3051 - val_accuracy: 0.5669\n",
      "Epoch 10/10\n",
      "8800/9013 [============================>.] - ETA: 0s - loss: 0.2014 - accuracy: 0.9380\n",
      "Epoch 00010: saving model to training_1/cp.ckpt\n",
      "9013/9013 [==============================] - 3s 299us/sample - loss: 0.1997 - accuracy: 0.9382 - val_loss: 2.6402 - val_accuracy: 0.6018\n"
     ]
    },
    {
     "data": {
      "text/plain": [
       "<tensorflow.python.keras.callbacks.History at 0x1f052e254c8>"
      ]
     },
     "execution_count": 17,
     "metadata": {},
     "output_type": "execute_result"
    }
   ],
   "source": [
    "vgg_model.compile(optimizer='Adam',\n",
    "              loss=tf.nn.softmax_cross_entropy_with_logits,\n",
    "              metrics=['accuracy'])\n",
    "\n",
    "checkpoint_path = \"training_1/cp.ckpt\"\n",
    "checkpoint_dir = os.path.dirname(checkpoint_path)\n",
    "\n",
    "cp_callback = tf.keras.callbacks.ModelCheckpoint(filepath=checkpoint_path,\n",
    "                                                 save_weights_only=True,\n",
    "                                                 verbose=1)\n",
    "\n",
    "\n",
    "vgg_model.fit(new_VGG, new_y, epochs=10, validation_split=0.1, callbacks = [cp_callback])"
   ]
  },
  {
   "cell_type": "code",
   "execution_count": 98,
   "id": "12e09e42",
   "metadata": {},
   "outputs": [
    {
     "ename": "TypeError",
     "evalue": "can't pickle _thread.RLock objects",
     "output_type": "error",
     "traceback": [
      "\u001b[1;31m---------------------------------------------------------------------------\u001b[0m",
      "\u001b[1;31mTypeError\u001b[0m                                 Traceback (most recent call last)",
      "\u001b[1;32m<ipython-input-98-20327b7a6c73>\u001b[0m in \u001b[0;36m<module>\u001b[1;34m\u001b[0m\n\u001b[0;32m      5\u001b[0m \u001b[0mpkl_filename\u001b[0m \u001b[1;33m=\u001b[0m \u001b[1;34m\"pickle_model.pkl\"\u001b[0m\u001b[1;33m\u001b[0m\u001b[1;33m\u001b[0m\u001b[0m\n\u001b[0;32m      6\u001b[0m \u001b[1;32mwith\u001b[0m \u001b[0mopen\u001b[0m\u001b[1;33m(\u001b[0m\u001b[0mpkl_filename\u001b[0m\u001b[1;33m,\u001b[0m \u001b[1;34m'wb'\u001b[0m\u001b[1;33m)\u001b[0m \u001b[1;32mas\u001b[0m \u001b[0mfile\u001b[0m\u001b[1;33m:\u001b[0m\u001b[1;33m\u001b[0m\u001b[1;33m\u001b[0m\u001b[0m\n\u001b[1;32m----> 7\u001b[1;33m     \u001b[0mpickle\u001b[0m\u001b[1;33m.\u001b[0m\u001b[0mdump\u001b[0m\u001b[1;33m(\u001b[0m\u001b[0mvgg_model\u001b[0m\u001b[1;33m,\u001b[0m \u001b[0mfile\u001b[0m\u001b[1;33m)\u001b[0m\u001b[1;33m\u001b[0m\u001b[1;33m\u001b[0m\u001b[0m\n\u001b[0m",
      "\u001b[1;31mTypeError\u001b[0m: can't pickle _thread.RLock objects"
     ]
    }
   ],
   "source": [
    "#weigh = vgg_model.get_weights()\n",
    "\n",
    "#path = r\"C:\\Users\\15521\\Desktop\\Deep Learning\\Final\\VGG_weight.pkl\"\n",
    "\n",
    "pkl_filename = \"pickle_model.pkl\"\n",
    "with open(pkl_filename, 'wb') as file:\n",
    "    pickle.dump(vgg_model, file)"
   ]
  },
  {
   "cell_type": "code",
   "execution_count": 46,
   "id": "e8426319",
   "metadata": {},
   "outputs": [
    {
     "data": {
      "image/png": "[encoded data removed]",
      "text/plain": [
       "<Figure size 432x288 with 1 Axes>"
      ]
     },
     "metadata": {
      "needs_background": "light"
     },
     "output_type": "display_data"
    }
   ],
   "source": [
    "loss = vgg_model.history.history['loss']\n",
    "val_loss = vgg_model.history.history['val_loss']\n",
    "epochs = range(1, len(loss) + 1)\n",
    "plt.plot(epochs, loss, 'bo', label='Training loss')\n",
    "plt.plot(epochs, val_loss, 'b', label='Validation loss')\n",
    "plt.title('Training and validation loss')\n",
    "plt.xlabel('Epochs')\n",
    "plt.ylabel('Loss')\n",
    "plt.legend()\n",
    "plt.savefig('VGG_Loss.png', dpi = 300)\n",
    "plt.show()"
   ]
  },
  {
   "cell_type": "code",
   "execution_count": 47,
   "id": "e6f97aed",
   "metadata": {},
   "outputs": [
    {
     "data": {
      "image/png": "[encoded data removed]",
      "text/plain": [
       "<Figure size 432x288 with 1 Axes>"
      ]
     },
     "metadata": {
      "needs_background": "light"
     },
     "output_type": "display_data"
    }
   ],
   "source": [
    "plt.clf()\n",
    "acc = vgg_model.history.history['accuracy']\n",
    "val_acc = vgg_model.history.history['val_accuracy']\n",
    "plt.plot(epochs, acc, 'bo', label='Training acc')\n",
    "plt.plot(epochs, val_acc, 'b', label='Validation acc')\n",
    "plt.title('Training and validation accuracy')\n",
    "plt.xlabel('Epochs')\n",
    "plt.ylabel('Acc')\n",
    "plt.legend()\n",
    "plt.savefig('VGG_Acc.png', dpi = 300)\n",
    "plt.show()"
   ]
  },
  {
   "cell_type": "code",
   "execution_count": 48,
   "id": "acf3646e",
   "metadata": {},
   "outputs": [],
   "source": [
    "res_model = models.Sequential()\n",
    "#res_model.add(layers.Dense(8192, activation='relu'))\n",
    "#res_model.add(layers.Dense(4096, activation='relu'))\n",
    "#res_model.add(layers.Dense(2048, activation='relu'))\n",
    "res_model.add(layers.Dense(1024, activation='relu', input_shape = [100367]))\n",
    "res_model.add(layers.Dense(512, activation='relu'))\n",
    "res_model.add(layers.Dense(128, activation='relu'))\n",
    "res_model.add(layers.Dense(4))"
   ]
  },
  {
   "cell_type": "code",
   "execution_count": 49,
   "id": "768b87fe",
   "metadata": {},
   "outputs": [
    {
     "name": "stdout",
     "output_type": "stream",
     "text": [
      "Train on 9013 samples, validate on 1002 samples\n",
      "Epoch 1/20\n",
      "9013/9013 [==============================] - 10s 1ms/sample - loss: 1.7678 - accuracy: 0.7030 - val_loss: 0.6460 - val_accuracy: 0.7515\n",
      "Epoch 2/20\n",
      "9013/9013 [==============================] - 9s 1ms/sample - loss: 0.4018 - accuracy: 0.8527 - val_loss: 0.5984 - val_accuracy: 0.7605\n",
      "Epoch 3/20\n",
      "9013/9013 [==============================] - 9s 1ms/sample - loss: 0.2170 - accuracy: 0.9236 - val_loss: 0.7603 - val_accuracy: 0.7605\n",
      "Epoch 4/20\n",
      "9013/9013 [==============================] - 9s 1ms/sample - loss: 0.1631 - accuracy: 0.9436 - val_loss: 0.8885 - val_accuracy: 0.7665\n",
      "Epoch 5/20\n",
      "9013/9013 [==============================] - 9s 1ms/sample - loss: 0.1024 - accuracy: 0.9646 - val_loss: 0.8713 - val_accuracy: 0.7774\n",
      "Epoch 6/20\n",
      "9013/9013 [==============================] - 9s 1ms/sample - loss: 0.0530 - accuracy: 0.9834 - val_loss: 1.1835 - val_accuracy: 0.7764\n",
      "Epoch 7/20\n",
      "9013/9013 [==============================] - 9s 1ms/sample - loss: 0.0670 - accuracy: 0.9780 - val_loss: 1.4237 - val_accuracy: 0.7615\n",
      "Epoch 8/20\n",
      "9013/9013 [==============================] - 9s 963us/sample - loss: 0.1251 - accuracy: 0.9594 - val_loss: 1.0413 - val_accuracy: 0.7774\n",
      "Epoch 9/20\n",
      "9013/9013 [==============================] - 9s 974us/sample - loss: 0.1099 - accuracy: 0.9647 - val_loss: 1.1024 - val_accuracy: 0.7355\n",
      "Epoch 10/20\n",
      "9013/9013 [==============================] - 9s 980us/sample - loss: 0.0756 - accuracy: 0.9759 - val_loss: 1.2710 - val_accuracy: 0.7814\n",
      "Epoch 11/20\n",
      "9013/9013 [==============================] - 9s 985us/sample - loss: 0.0483 - accuracy: 0.9845 - val_loss: 1.0875 - val_accuracy: 0.7954\n",
      "Epoch 12/20\n",
      "9013/9013 [==============================] - 9s 985us/sample - loss: 0.0201 - accuracy: 0.9935 - val_loss: 1.3778 - val_accuracy: 0.7475\n",
      "Epoch 13/20\n",
      "9013/9013 [==============================] - 9s 988us/sample - loss: 0.0438 - accuracy: 0.9860 - val_loss: 1.6840 - val_accuracy: 0.6966\n",
      "Epoch 14/20\n",
      "9013/9013 [==============================] - 8s 914us/sample - loss: 0.0523 - accuracy: 0.9842 - val_loss: 1.9183 - val_accuracy: 0.7565\n",
      "Epoch 15/20\n",
      "9013/9013 [==============================] - 8s 935us/sample - loss: 0.0903 - accuracy: 0.9737 - val_loss: 0.9966 - val_accuracy: 0.7754\n",
      "Epoch 16/20\n",
      "9013/9013 [==============================] - 8s 917us/sample - loss: 0.0434 - accuracy: 0.9878 - val_loss: 1.6794 - val_accuracy: 0.7335\n",
      "Epoch 17/20\n",
      "9013/9013 [==============================] - 9s 1ms/sample - loss: 0.0457 - accuracy: 0.9850 - val_loss: 1.2884 - val_accuracy: 0.7715\n",
      "Epoch 18/20\n",
      "9013/9013 [==============================] - 9s 984us/sample - loss: 0.0432 - accuracy: 0.9850 - val_loss: 1.3398 - val_accuracy: 0.7665\n",
      "Epoch 19/20\n",
      "9013/9013 [==============================] - 9s 996us/sample - loss: 0.0336 - accuracy: 0.9901 - val_loss: 1.7233 - val_accuracy: 0.7615\n",
      "Epoch 20/20\n",
      "9013/9013 [==============================] - 9s 1ms/sample - loss: 0.0373 - accuracy: 0.9892 - val_loss: 1.4909 - val_accuracy: 0.7784\n"
     ]
    },
    {
     "data": {
      "text/plain": [
       "<tensorflow.python.keras.callbacks.History at 0x15bc8894a08>"
      ]
     },
     "execution_count": 49,
     "metadata": {},
     "output_type": "execute_result"
    }
   ],
   "source": [
    "res_model.compile(optimizer='Adam',\n",
    "              loss=tf.nn.softmax_cross_entropy_with_logits,\n",
    "              metrics=['accuracy'])\n",
    "res_model.fit(new_RES, new_y, epochs=20, validation_split=0.1)"
   ]
  },
  {
   "cell_type": "code",
   "execution_count": 50,
   "id": "abf2b62a",
   "metadata": {},
   "outputs": [
    {
     "data": {
      "image/png": "[encoded data removed]",
      "text/plain": [
       "<Figure size 432x288 with 1 Axes>"
      ]
     },
     "metadata": {
      "needs_background": "light"
     },
     "output_type": "display_data"
    }
   ],
   "source": [
    "loss = res_model.history.history['loss']\n",
    "val_loss = res_model.history.history['val_loss']\n",
    "epochs = range(1, len(loss) + 1)\n",
    "plt.plot(epochs, loss, 'bo', label='Training loss')\n",
    "plt.plot(epochs, val_loss, 'b', label='Validation loss')\n",
    "plt.title('Training and validation loss')\n",
    "plt.xlabel('Epochs')\n",
    "plt.ylabel('Loss')\n",
    "plt.legend()\n",
    "plt.savefig('RES_Loss.png', dpi = 300)\n",
    "plt.show()"
   ]
  },
  {
   "cell_type": "code",
   "execution_count": 51,
   "id": "866e528a",
   "metadata": {},
   "outputs": [
    {
     "data": {
      "image/png": "[encoded data removed]",
      "text/plain": [
       "<Figure size 432x288 with 1 Axes>"
      ]
     },
     "metadata": {
      "needs_background": "light"
     },
     "output_type": "display_data"
    }
   ],
   "source": [
    "plt.clf()\n",
    "acc = res_model.history.history['accuracy']\n",
    "val_acc = res_model.history.history['val_accuracy']\n",
    "plt.plot(epochs, acc, 'bo', label='Training acc')\n",
    "plt.plot(epochs, val_acc, 'b', label='Validation acc')\n",
    "plt.title('Training and validation accuracy')\n",
    "plt.xlabel('Epochs')\n",
    "plt.ylabel('Acc')\n",
    "plt.legend()\n",
    "plt.savefig('RES_Acc.png', dpi = 300)\n",
    "plt.show()"
   ]
  },
  {
   "cell_type": "code",
   "execution_count": 54,
   "id": "4f258be9",
   "metadata": {
    "scrolled": true
   },
   "outputs": [
    {
     "data": {
      "text/plain": [
       "risk  localization   \n",
       "0.0   face                327\n",
       "      lower extremity     283\n",
       "      back                226\n",
       "      upper extremity     139\n",
       "      trunk               104\n",
       "      chest                80\n",
       "      abdomen              73\n",
       "      scalp                36\n",
       "      neck                 34\n",
       "      unknown              23\n",
       "      hand                 19\n",
       "      ear                   6\n",
       "      foot                  3\n",
       "      genital               3\n",
       "1.0   lower extremity    1479\n",
       "      back               1427\n",
       "      trunk              1241\n",
       "      abdomen             860\n",
       "      upper extremity     655\n",
       "      foot                284\n",
       "      chest               200\n",
       "      unknown             196\n",
       "      face                100\n",
       "      neck                 81\n",
       "      hand                 55\n",
       "      genital              45\n",
       "      scalp                45\n",
       "      ear                  30\n",
       "      acral                 7\n",
       "2.0   face                113\n",
       "      lower extremity      65\n",
       "      upper extremity      62\n",
       "      back                 29\n",
       "      scalp                14\n",
       "      hand                 13\n",
       "      chest                12\n",
       "      neck                 10\n",
       "      abdomen               5\n",
       "      ear                   3\n",
       "      trunk                 1\n",
       "3.0   back                510\n",
       "      upper extremity     262\n",
       "      lower extremity     250\n",
       "      face                205\n",
       "      chest               115\n",
       "      abdomen              84\n",
       "      trunk                58\n",
       "      neck                 43\n",
       "      scalp                33\n",
       "      foot                 32\n",
       "      ear                  17\n",
       "      unknown              15\n",
       "      hand                  3\n",
       "Name: localization, dtype: int64"
      ]
     },
     "execution_count": 54,
     "metadata": {},
     "output_type": "execute_result"
    }
   ],
   "source": [
    "df.groupby(\"risk\")[\"localization\"].value_counts()"
   ]
  },
  {
   "cell_type": "code",
   "execution_count": 55,
   "id": "8308fc05",
   "metadata": {},
   "outputs": [],
   "source": [
    "iv3_model = models.Sequential()\n",
    "#iv3_model.add(layers.Dense(8192, activation='relu'))\n",
    "#iv3_model.add(layers.Dense(4096, activation='relu'))\n",
    "#iv3_model.add(layers.Dense(2048, activation='relu'))\n",
    "iv3_model.add(layers.Dense(1024, activation='relu', input_shape = [131087]))\n",
    "iv3_model.add(layers.Dense(512, activation='relu'))\n",
    "iv3_model.add(layers.Dense(128, activation='relu'))\n",
    "iv3_model.add(layers.Dense(4))"
   ]
  },
  {
   "cell_type": "code",
   "execution_count": 57,
   "id": "84b6f400",
   "metadata": {},
   "outputs": [
    {
     "name": "stdout",
     "output_type": "stream",
     "text": [
      "Train on 9013 samples, validate on 1002 samples\n",
      "Epoch 1/20\n",
      "9013/9013 [==============================] - 12s 1ms/sample - loss: 0.1793 - accuracy: 0.9462 - val_loss: 1.0507 - val_accuracy: 0.7675\n",
      "Epoch 2/20\n",
      "9013/9013 [==============================] - 12s 1ms/sample - loss: 0.1072 - accuracy: 0.9644 - val_loss: 1.3267 - val_accuracy: 0.7545\n",
      "Epoch 3/20\n",
      "9013/9013 [==============================] - 12s 1ms/sample - loss: 0.1108 - accuracy: 0.9642 - val_loss: 0.8789 - val_accuracy: 0.7675\n",
      "Epoch 4/20\n",
      "9013/9013 [==============================] - 12s 1ms/sample - loss: 0.0883 - accuracy: 0.9697 - val_loss: 1.6794 - val_accuracy: 0.7395\n",
      "Epoch 5/20\n",
      "9013/9013 [==============================] - 12s 1ms/sample - loss: 0.0710 - accuracy: 0.9756 - val_loss: 1.1815 - val_accuracy: 0.7575\n",
      "Epoch 6/20\n",
      "9013/9013 [==============================] - 12s 1ms/sample - loss: 0.0448 - accuracy: 0.9846 - val_loss: 1.2368 - val_accuracy: 0.7625\n",
      "Epoch 7/20\n",
      "9013/9013 [==============================] - 12s 1ms/sample - loss: 0.0597 - accuracy: 0.9812 - val_loss: 1.4460 - val_accuracy: 0.7196\n",
      "Epoch 8/20\n",
      "9013/9013 [==============================] - 12s 1ms/sample - loss: 0.0668 - accuracy: 0.9775 - val_loss: 1.4085 - val_accuracy: 0.7545\n",
      "Epoch 9/20\n",
      "9013/9013 [==============================] - 12s 1ms/sample - loss: 0.0261 - accuracy: 0.9909 - val_loss: 1.3143 - val_accuracy: 0.7754\n",
      "Epoch 10/20\n",
      "9013/9013 [==============================] - 12s 1ms/sample - loss: 0.0501 - accuracy: 0.9848 - val_loss: 1.2170 - val_accuracy: 0.7655\n",
      "Epoch 11/20\n",
      "9013/9013 [==============================] - 12s 1ms/sample - loss: 0.0267 - accuracy: 0.9913 - val_loss: 1.5521 - val_accuracy: 0.7355\n",
      "Epoch 12/20\n",
      "9013/9013 [==============================] - 12s 1ms/sample - loss: 0.1128 - accuracy: 0.9645 - val_loss: 1.3073 - val_accuracy: 0.7645\n",
      "Epoch 13/20\n",
      "9013/9013 [==============================] - 12s 1ms/sample - loss: 0.0378 - accuracy: 0.9886 - val_loss: 1.5558 - val_accuracy: 0.7136\n",
      "Epoch 14/20\n",
      "9013/9013 [==============================] - 12s 1ms/sample - loss: 0.0363 - accuracy: 0.9895 - val_loss: 1.4073 - val_accuracy: 0.7555\n",
      "Epoch 15/20\n",
      "9013/9013 [==============================] - 12s 1ms/sample - loss: 0.0256 - accuracy: 0.9919 - val_loss: 1.2715 - val_accuracy: 0.7525\n",
      "Epoch 16/20\n",
      "9013/9013 [==============================] - 12s 1ms/sample - loss: 0.0163 - accuracy: 0.9952 - val_loss: 1.5940 - val_accuracy: 0.7595\n",
      "Epoch 17/20\n",
      "9013/9013 [==============================] - 11s 1ms/sample - loss: 0.0208 - accuracy: 0.9928 - val_loss: 1.4810 - val_accuracy: 0.7705\n",
      "Epoch 18/20\n",
      "9013/9013 [==============================] - 12s 1ms/sample - loss: 0.0374 - accuracy: 0.9876 - val_loss: 1.1162 - val_accuracy: 0.7575\n",
      "Epoch 19/20\n",
      "9013/9013 [==============================] - 12s 1ms/sample - loss: 0.0408 - accuracy: 0.9858 - val_loss: 1.1480 - val_accuracy: 0.7495\n",
      "Epoch 20/20\n",
      "9013/9013 [==============================] - 12s 1ms/sample - loss: 0.0297 - accuracy: 0.9903 - val_loss: 1.5526 - val_accuracy: 0.7715\n"
     ]
    },
    {
     "data": {
      "text/plain": [
       "<tensorflow.python.keras.callbacks.History at 0x15bc86ee548>"
      ]
     },
     "execution_count": 57,
     "metadata": {},
     "output_type": "execute_result"
    }
   ],
   "source": [
    "iv3_model.compile(optimizer='Adam',\n",
    "              loss=tf.nn.softmax_cross_entropy_with_logits,\n",
    "              metrics=['accuracy'])\n",
    "iv3_model.fit(new_IV3, new_y, epochs=20, validation_split=0.1)"
   ]
  },
  {
   "cell_type": "code",
   "execution_count": 58,
   "id": "1f0bbb79",
   "metadata": {},
   "outputs": [
    {
     "data": {
      "image/png": "[encoded data removed]",
      "text/plain": [
       "<Figure size 432x288 with 1 Axes>"
      ]
     },
     "metadata": {
      "needs_background": "light"
     },
     "output_type": "display_data"
    }
   ],
   "source": [
    "loss = iv3_model.history.history['loss']\n",
    "val_loss = iv3_model.history.history['val_loss']\n",
    "epochs = range(1, len(loss) + 1)\n",
    "plt.plot(epochs, loss, 'bo', label='Training loss')\n",
    "plt.plot(epochs, val_loss, 'b', label='Validation loss')\n",
    "plt.title('Training and validation loss')\n",
    "plt.xlabel('Epochs')\n",
    "plt.ylabel('Loss')\n",
    "plt.legend()\n",
    "plt.savefig('IV3_Loss.png', dpi = 300)\n",
    "plt.show()"
   ]
  },
  {
   "cell_type": "code",
   "execution_count": 59,
   "id": "01563844",
   "metadata": {},
   "outputs": [
    {
     "data": {
      "image/png": "[encoded data removed]",
      "text/plain": [
       "<Figure size 432x288 with 1 Axes>"
      ]
     },
     "metadata": {
      "needs_background": "light"
     },
     "output_type": "display_data"
    }
   ],
   "source": [
    "plt.clf()\n",
    "acc = iv3_model.history.history['accuracy']\n",
    "val_acc = iv3_model.history.history['val_accuracy']\n",
    "plt.plot(epochs, acc, 'bo', label='Training acc')\n",
    "plt.plot(epochs, val_acc, 'b', label='Validation acc')\n",
    "plt.title('Training and validation accuracy')\n",
    "plt.xlabel('Epochs')\n",
    "plt.ylabel('Acc')\n",
    "plt.legend()\n",
    "plt.savefig('IV3_Acc.png', dpi = 300)\n",
    "plt.show()"
   ]
  },
  {
   "cell_type": "code",
   "execution_count": 79,
   "id": "5f1f58f3",
   "metadata": {},
   "outputs": [],
   "source": [
    "pickle_in = open(\"VGG_weight.pkl\", \"rb\")\n",
    "VGG_weight = pickle.load(pickle_in)"
   ]
  },
  {
   "cell_type": "code",
   "execution_count": 88,
   "id": "44c2c1ee",
   "metadata": {},
   "outputs": [
    {
     "data": {
      "text/plain": [
       "<tensorflow.python.keras.engine.sequential.Sequential at 0x15bc8ee6248>"
      ]
     },
     "execution_count": 88,
     "metadata": {},
     "output_type": "execute_result"
    }
   ],
   "source": [
    "iv3_model"
   ]
  },
  {
   "cell_type": "code",
   "execution_count": 82,
   "id": "6140f4e1",
   "metadata": {},
   "outputs": [],
   "source": [
    "vgg_test = models.Sequential()\n",
    "#vgg_model.add(layers.Dense(8192, activation='relu'))\n",
    "#vgg_model.add(layers.Dense(4096, activation='relu'))\n",
    "#vgg_model.add(layers.Dense(2048, activation='relu'))\n",
    "vgg_test.add(layers.Dense(1024, activation='relu',input_shape = [25088]))\n",
    "vgg_test.add(layers.Dense(512, activation='relu'))\n",
    "vgg_test.add(layers.Dense(128, activation='relu'))\n",
    "vgg_test.add(layers.Dense(4))"
   ]
  },
  {
   "cell_type": "code",
   "execution_count": 99,
   "id": "e243ca32",
   "metadata": {},
   "outputs": [],
   "source": [
    "vgg_test.set_weights(VGG_weight)"
   ]
  },
  {
   "cell_type": "code",
   "execution_count": 102,
   "id": "2cf12a11",
   "metadata": {},
   "outputs": [],
   "source": [
    "img = image.load_img(\"ISIC_0024306.jpg\", target_size= (224,224))\n",
    "img = image.img_to_array(img)\n",
    "img = np.expand_dims(img, axis=0)\n",
    "img = tf.keras.applications.vgg16.preprocess_input(img)\n",
    "preds = model.predict(img).reshape(25088)"
   ]
  },
  {
   "cell_type": "code",
   "execution_count": 108,
   "id": "24c401da",
   "metadata": {},
   "outputs": [],
   "source": []
  },
  {
   "cell_type": "code",
   "execution_count": 114,
   "id": "7f43be13",
   "metadata": {},
   "outputs": [
    {
     "data": {
      "text/plain": [
       "(25088,)"
      ]
     },
     "execution_count": 114,
     "metadata": {},
     "output_type": "execute_result"
    }
   ],
   "source": [
    "preds.shape"
   ]
  },
  {
   "cell_type": "code",
   "execution_count": 113,
   "id": "8d10480f",
   "metadata": {},
   "outputs": [
    {
     "data": {
      "text/plain": [
       "(25088,)"
      ]
     },
     "execution_count": 113,
     "metadata": {},
     "output_type": "execute_result"
    }
   ],
   "source": [
    "preds.shape"
   ]
  },
  {
   "cell_type": "code",
   "execution_count": 115,
   "id": "af8bc464",
   "metadata": {},
   "outputs": [
    {
     "data": {
      "text/plain": [
       "array([[-13.825001 ,  -9.6455345,  71.92838  , -38.156006 ]],\n",
       "      dtype=float32)"
      ]
     },
     "execution_count": 115,
     "metadata": {},
     "output_type": "execute_result"
    }
   ],
   "source": [
    "vgg_test.predict(np.array([preds]))"
   ]
  },
  {
   "cell_type": "code",
   "execution_count": null,
   "id": "0012640e",
   "metadata": {},
   "outputs": [],
   "source": []
  }
 ],
 "metadata": {
  "kernelspec": {
   "display_name": "Python(tensorflow)",
   "language": "python",
   "name": "tensorflow"
  },
  "language_info": {
   "codemirror_mode": {
    "name": "ipython",
    "version": 3
   },
   "file_extension": ".py",
   "mimetype": "text/x-python",
   "name": "python",
   "nbconvert_exporter": "python",
   "pygments_lexer": "ipython3",
   "version": "3.7.10"
  }
 },
 "nbformat": 4,
 "nbformat_minor": 5
}
