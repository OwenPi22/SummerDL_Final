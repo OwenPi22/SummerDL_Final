{
 "cells": [
  {
   "cell_type": "code",
   "execution_count": 1,
   "id": "fd805bf7",
   "metadata": {},
   "outputs": [],
   "source": [
    "import pandas as pd\n",
    "from tensorflow.keras.preprocessing import image\n",
    "\n",
    "import tensorflow as tf\n",
    "\n",
    "from tensorflow.keras.applications.inception_v3 import InceptionV3\n",
    "from tensorflow.keras.applications.vgg16 import VGG16\n",
    "from tensorflow.keras.applications.resnet_v2 import ResNet152V2\n",
    "\n",
    "from tensorflow.keras.preprocessing.image import ImageDataGenerator\n",
    "from tensorflow.keras import layers\n",
    "from tensorflow.keras import models\n",
    "from tensorflow.keras import activations\n",
    "from tqdm import tqdm\n",
    "import numpy as np\n",
    "\n",
    "import seaborn as sns\n"
   ]
  },
  {
   "cell_type": "code",
   "execution_count": 2,
   "id": "584487a3",
   "metadata": {},
   "outputs": [],
   "source": [
    "#Unagumented\n",
    "df = pd.read_csv('./Unaug_Data/HAM10000_Metadata')"
   ]
  },
  {
   "cell_type": "code",
   "execution_count": 3,
   "id": "891b535d",
   "metadata": {},
   "outputs": [],
   "source": [
    "#Unaugmented\n",
    "NUM_VAL = 1000\n",
    "NUM_TRN = 10015 - 1000\n",
    "TOTAL = 10015"
   ]
  },
  {
   "cell_type": "code",
   "execution_count": 4,
   "id": "252aaa03",
   "metadata": {},
   "outputs": [
    {
     "data": {
      "text/html": [
       "<div>\n",
       "<style scoped>\n",
       "    .dataframe tbody tr th:only-of-type {\n",
       "        vertical-align: middle;\n",
       "    }\n",
       "\n",
       "    .dataframe tbody tr th {\n",
       "        vertical-align: top;\n",
       "    }\n",
       "\n",
       "    .dataframe thead th {\n",
       "        text-align: right;\n",
       "    }\n",
       "</style>\n",
       "<table border=\"1\" class=\"dataframe\">\n",
       "  <thead>\n",
       "    <tr style=\"text-align: right;\">\n",
       "      <th></th>\n",
       "      <th>index</th>\n",
       "      <th>lesion_id</th>\n",
       "      <th>image_id</th>\n",
       "      <th>dx</th>\n",
       "      <th>dx_type</th>\n",
       "      <th>age</th>\n",
       "      <th>sex</th>\n",
       "      <th>localization</th>\n",
       "      <th>dataset</th>\n",
       "    </tr>\n",
       "  </thead>\n",
       "  <tbody>\n",
       "    <tr>\n",
       "      <th>0</th>\n",
       "      <td>4805</td>\n",
       "      <td>HAM_0002101</td>\n",
       "      <td>ISIC_0029398</td>\n",
       "      <td>nv</td>\n",
       "      <td>follow_up</td>\n",
       "      <td>35.0</td>\n",
       "      <td>female</td>\n",
       "      <td>upper extremity</td>\n",
       "      <td>vidir_molemax</td>\n",
       "    </tr>\n",
       "    <tr>\n",
       "      <th>1</th>\n",
       "      <td>8641</td>\n",
       "      <td>HAM_0000851</td>\n",
       "      <td>ISIC_0025074</td>\n",
       "      <td>nv</td>\n",
       "      <td>histo</td>\n",
       "      <td>50.0</td>\n",
       "      <td>female</td>\n",
       "      <td>back</td>\n",
       "      <td>rosendahl</td>\n",
       "    </tr>\n",
       "    <tr>\n",
       "      <th>2</th>\n",
       "      <td>1274</td>\n",
       "      <td>HAM_0006803</td>\n",
       "      <td>ISIC_0032400</td>\n",
       "      <td>mel</td>\n",
       "      <td>histo</td>\n",
       "      <td>60.0</td>\n",
       "      <td>female</td>\n",
       "      <td>abdomen</td>\n",
       "      <td>vidir_modern</td>\n",
       "    </tr>\n",
       "    <tr>\n",
       "      <th>3</th>\n",
       "      <td>9774</td>\n",
       "      <td>HAM_0005389</td>\n",
       "      <td>ISIC_0031012</td>\n",
       "      <td>akiec</td>\n",
       "      <td>histo</td>\n",
       "      <td>70.0</td>\n",
       "      <td>male</td>\n",
       "      <td>lower extremity</td>\n",
       "      <td>rosendahl</td>\n",
       "    </tr>\n",
       "    <tr>\n",
       "      <th>4</th>\n",
       "      <td>3957</td>\n",
       "      <td>HAM_0005326</td>\n",
       "      <td>ISIC_0026145</td>\n",
       "      <td>nv</td>\n",
       "      <td>follow_up</td>\n",
       "      <td>45.0</td>\n",
       "      <td>female</td>\n",
       "      <td>trunk</td>\n",
       "      <td>vidir_molemax</td>\n",
       "    </tr>\n",
       "  </tbody>\n",
       "</table>\n",
       "</div>"
      ],
      "text/plain": [
       "   index    lesion_id      image_id     dx    dx_type   age     sex  \\\n",
       "0   4805  HAM_0002101  ISIC_0029398     nv  follow_up  35.0  female   \n",
       "1   8641  HAM_0000851  ISIC_0025074     nv      histo  50.0  female   \n",
       "2   1274  HAM_0006803  ISIC_0032400    mel      histo  60.0  female   \n",
       "3   9774  HAM_0005389  ISIC_0031012  akiec      histo  70.0    male   \n",
       "4   3957  HAM_0005326  ISIC_0026145     nv  follow_up  45.0  female   \n",
       "\n",
       "      localization        dataset  \n",
       "0  upper extremity  vidir_molemax  \n",
       "1             back      rosendahl  \n",
       "2          abdomen   vidir_modern  \n",
       "3  lower extremity      rosendahl  \n",
       "4            trunk  vidir_molemax  "
      ]
     },
     "execution_count": 4,
     "metadata": {},
     "output_type": "execute_result"
    }
   ],
   "source": [
    "df = df.sample(frac = 1).reset_index()\n",
    "\n",
    "df.head()"
   ]
  },
  {
   "cell_type": "code",
   "execution_count": 5,
   "id": "05ceb620",
   "metadata": {},
   "outputs": [
    {
     "data": {
      "text/html": [
       "<div>\n",
       "<style scoped>\n",
       "    .dataframe tbody tr th:only-of-type {\n",
       "        vertical-align: middle;\n",
       "    }\n",
       "\n",
       "    .dataframe tbody tr th {\n",
       "        vertical-align: top;\n",
       "    }\n",
       "\n",
       "    .dataframe thead th {\n",
       "        text-align: right;\n",
       "    }\n",
       "</style>\n",
       "<table border=\"1\" class=\"dataframe\">\n",
       "  <thead>\n",
       "    <tr style=\"text-align: right;\">\n",
       "      <th></th>\n",
       "      <th>index</th>\n",
       "      <th>lesion_id</th>\n",
       "      <th>image_id</th>\n",
       "      <th>dx</th>\n",
       "      <th>dx_type</th>\n",
       "      <th>age</th>\n",
       "      <th>sex</th>\n",
       "      <th>localization</th>\n",
       "      <th>dataset</th>\n",
       "      <th>risk</th>\n",
       "    </tr>\n",
       "  </thead>\n",
       "  <tbody>\n",
       "    <tr>\n",
       "      <th>0</th>\n",
       "      <td>4805</td>\n",
       "      <td>HAM_0002101</td>\n",
       "      <td>ISIC_0029398</td>\n",
       "      <td>nv</td>\n",
       "      <td>follow_up</td>\n",
       "      <td>35.0</td>\n",
       "      <td>female</td>\n",
       "      <td>upper extremity</td>\n",
       "      <td>vidir_molemax</td>\n",
       "      <td>1.0</td>\n",
       "    </tr>\n",
       "    <tr>\n",
       "      <th>1</th>\n",
       "      <td>8641</td>\n",
       "      <td>HAM_0000851</td>\n",
       "      <td>ISIC_0025074</td>\n",
       "      <td>nv</td>\n",
       "      <td>histo</td>\n",
       "      <td>50.0</td>\n",
       "      <td>female</td>\n",
       "      <td>back</td>\n",
       "      <td>rosendahl</td>\n",
       "      <td>1.0</td>\n",
       "    </tr>\n",
       "    <tr>\n",
       "      <th>2</th>\n",
       "      <td>1274</td>\n",
       "      <td>HAM_0006803</td>\n",
       "      <td>ISIC_0032400</td>\n",
       "      <td>mel</td>\n",
       "      <td>histo</td>\n",
       "      <td>60.0</td>\n",
       "      <td>female</td>\n",
       "      <td>abdomen</td>\n",
       "      <td>vidir_modern</td>\n",
       "      <td>3.0</td>\n",
       "    </tr>\n",
       "    <tr>\n",
       "      <th>3</th>\n",
       "      <td>9774</td>\n",
       "      <td>HAM_0005389</td>\n",
       "      <td>ISIC_0031012</td>\n",
       "      <td>akiec</td>\n",
       "      <td>histo</td>\n",
       "      <td>70.0</td>\n",
       "      <td>male</td>\n",
       "      <td>lower extremity</td>\n",
       "      <td>rosendahl</td>\n",
       "      <td>2.0</td>\n",
       "    </tr>\n",
       "    <tr>\n",
       "      <th>4</th>\n",
       "      <td>3957</td>\n",
       "      <td>HAM_0005326</td>\n",
       "      <td>ISIC_0026145</td>\n",
       "      <td>nv</td>\n",
       "      <td>follow_up</td>\n",
       "      <td>45.0</td>\n",
       "      <td>female</td>\n",
       "      <td>trunk</td>\n",
       "      <td>vidir_molemax</td>\n",
       "      <td>1.0</td>\n",
       "    </tr>\n",
       "  </tbody>\n",
       "</table>\n",
       "</div>"
      ],
      "text/plain": [
       "   index    lesion_id      image_id     dx    dx_type   age     sex  \\\n",
       "0   4805  HAM_0002101  ISIC_0029398     nv  follow_up  35.0  female   \n",
       "1   8641  HAM_0000851  ISIC_0025074     nv      histo  50.0  female   \n",
       "2   1274  HAM_0006803  ISIC_0032400    mel      histo  60.0  female   \n",
       "3   9774  HAM_0005389  ISIC_0031012  akiec      histo  70.0    male   \n",
       "4   3957  HAM_0005326  ISIC_0026145     nv  follow_up  45.0  female   \n",
       "\n",
       "      localization        dataset  risk  \n",
       "0  upper extremity  vidir_molemax   1.0  \n",
       "1             back      rosendahl   1.0  \n",
       "2          abdomen   vidir_modern   3.0  \n",
       "3  lower extremity      rosendahl   2.0  \n",
       "4            trunk  vidir_molemax   1.0  "
      ]
     },
     "execution_count": 5,
     "metadata": {},
     "output_type": "execute_result"
    }
   ],
   "source": [
    "#Unagumented\n",
    "risk = []\n",
    "\n",
    "for i in range(0, 10015):\n",
    "    if df.iloc[i]['dx'] in ['bkl', 'df', 'vasc']:\n",
    "        risk.append(0.0)\n",
    "    elif df.iloc[i]['dx'] == 'nv':\n",
    "        risk.append(1.0)\n",
    "    elif df.iloc[i]['dx'] == 'akiec':\n",
    "        risk.append(2.0)\n",
    "    elif df.iloc[i]['dx'] in ['mel', 'bcc']:\n",
    "        risk.append(3.0)\n",
    "        \n",
    "df['risk'] = risk\n",
    "\n",
    "df.head()"
   ]
  },
  {
   "cell_type": "code",
   "execution_count": 6,
   "id": "c82ae5c8",
   "metadata": {},
   "outputs": [],
   "source": [
    "np.set_printoptions(threshold=np.inf)"
   ]
  },
  {
   "cell_type": "code",
   "execution_count": null,
   "id": "dbc39504",
   "metadata": {},
   "outputs": [],
   "source": [
    "from tensorflow.keras.callbacks import EarlyStopping\n",
    "\n",
    "earlystop_callback = EarlyStopping(\n",
    "  monitor='val_accuracy', min_delta=0.001,\n",
    "  patience=3, restore_best_weights=True)"
   ]
  },
  {
   "cell_type": "code",
   "execution_count": null,
   "id": "5dd14530",
   "metadata": {},
   "outputs": [],
   "source": [
    "y_trn = np.array(df['risk'])[:(-1 * NUM_VAL)]\n",
    "y_val = np.array(df['risk'])[(-1 * NUM_VAL):]"
   ]
  },
  {
   "cell_type": "markdown",
   "id": "ec1340df",
   "metadata": {},
   "source": [
    "# Preprocessing VGG"
   ]
  },
  {
   "cell_type": "code",
   "execution_count": null,
   "id": "a306c4e1",
   "metadata": {},
   "outputs": [],
   "source": [
    "# VGG-16\n",
    "preprocessed = []\n",
    "\n",
    "VGG_load = VGG16(weights='imagenet', include_top=False)\n",
    "model = models.Sequential()\n",
    "model.add(VGG_load)\n",
    "model.add(layers.Flatten())\n",
    "\n",
    "\n",
    "for i in tqdm(range(0, TOTAL)):\n",
    "    file = df.iloc[i]['image_id']\n",
    "    \n",
    "    img = image.load_img('./Data/HAM10000_images/' + file + '.jpg', target_size= (224,224))\n",
    "    img = image.img_to_array(img)\n",
    "    img = np.expand_dims(img, axis=0)\n",
    "    img = tf.keras.applications.vgg16.preprocess_input(img)\n",
    "    preds = model.predict(img).reshape(25088)\n",
    "\n",
    "    preprocessed.append(preds)\n",
    "'''mx = 0\n",
    "for i in range(0, TOTAL):\n",
    "    if mx < np.amax(preprocessed[i]):\n",
    "        mx = np.amax(preprocessed[i])\n",
    "\n",
    "preprocessed = list(preprocessed / mx)\n",
    "'''\n",
    "VGG_X = preprocessed"
   ]
  },
  {
   "cell_type": "markdown",
   "id": "403ebdd3",
   "metadata": {},
   "source": [
    "# Run Training Model"
   ]
  },
  {
   "cell_type": "code",
   "execution_count": null,
   "id": "3e32a6c9",
   "metadata": {},
   "outputs": [],
   "source": [
    "VGG_X_val = np.array(VGG_X)"
   ]
  },
  {
   "cell_type": "code",
   "execution_count": null,
   "id": "07b0e931",
   "metadata": {},
   "outputs": [],
   "source": [
    "VGG_X_trn = np.array(VGG_X)[:(-1 * NUM_VAL)]\n",
    "\n",
    "VGG_X_val = np.array(VGG_X)[(-1 * NUM_VAL):]\n",
    "\n",
    "del VGG_X"
   ]
  },
  {
   "cell_type": "code",
   "execution_count": null,
   "id": "aa6295bc",
   "metadata": {},
   "outputs": [],
   "source": [
    "new_y_trn = []\n",
    "for ele in y_trn:\n",
    "    new_y_trn.append(np.array(tf.one_hot(ele, 4)))\n",
    "    \n",
    "new_y_trn = np.array(new_y_trn)\n",
    "\n",
    "new_y_trn.shape"
   ]
  },
  {
   "cell_type": "code",
   "execution_count": null,
   "id": "f82dd8c6",
   "metadata": {},
   "outputs": [],
   "source": [
    "new_y_val = []\n",
    "for ele in y_val:\n",
    "    new_y_val.append(np.array(tf.one_hot(ele, 4)))\n",
    "    \n",
    "new_y_val = np.array(new_y_val)\n",
    "\n",
    "new_y_val.shape"
   ]
  },
  {
   "cell_type": "code",
   "execution_count": null,
   "id": "18377167",
   "metadata": {},
   "outputs": [],
   "source": [
    "new_VGG_trn = []\n",
    "\n",
    "for i in tqdm(range(0, NUM_TRN)):\n",
    "    new_VGG_trn.append(np.array(VGG_X_trn[i]))\n",
    "\n",
    "new_VGG_trn = np.array(new_VGG_trn)"
   ]
  },
  {
   "cell_type": "code",
   "execution_count": null,
   "id": "ff66f4e5",
   "metadata": {},
   "outputs": [],
   "source": [
    "new_VGG_val = []\n",
    "\n",
    "for i in tqdm(range(0, NUM_VAL)):\n",
    "    new_VGG_val.append(np.array(VGG_X_val[i]))\n",
    "\n",
    "new_VGG_val = np.array(new_VGG_val)"
   ]
  },
  {
   "cell_type": "code",
   "execution_count": null,
   "id": "f20dff26",
   "metadata": {},
   "outputs": [],
   "source": [
    "vgg_model = models.Sequential()\n",
    "vgg_model.add(layers.Dense(8192, activation='relu'))\n",
    "vgg_model.add(layers.Dense(4096, activation='relu'))\n",
    "vgg_model.add(layers.Dense(2048, activation='relu'))\n",
    "vgg_model.add(layers.Dense(1024, activation='relu'))\n",
    "vgg_model.add(layers.Dense(512, activation='relu'))\n",
    "vgg_model.add(layers.Dense(128, activation='relu'))\n",
    "vgg_model.add(layers.Dense(4))"
   ]
  },
  {
   "cell_type": "code",
   "execution_count": null,
   "id": "6cf308bd",
   "metadata": {},
   "outputs": [],
   "source": [
    "vgg_model.compile(optimizer=tf.keras.optimizers.Adam(learning_rate=0.00005),\n",
    "              loss=tf.nn.softmax_cross_entropy_with_logits,\n",
    "              metrics=['accuracy'])\n",
    "vgg_model.fit(new_VGG_trn, new_y_trn, \n",
    "              epochs=30, \n",
    "              validation_data=(new_VGG_val, new_y_val), \n",
    "              callbacks=[earlystop_callback])"
   ]
  },
  {
   "cell_type": "code",
   "execution_count": null,
   "id": "6179029b",
   "metadata": {},
   "outputs": [],
   "source": [
    "predict_y_vgg_val = []\n",
    "temp_vgg_trn = vgg_model.predict(new_VGG_trn)\n",
    "temp_vgg_val = vgg_model.predict(new_VGG_val)\n",
    "\n",
    "del new_VGG_trn\n",
    "del new_VGG_val\n",
    "\n",
    "for i in tqdm(range(0, NUM_VAL)):\n",
    "    pred = np.argmax(temp_vgg_val[i])\n",
    "    predict_y_vgg_val.append(pred)"
   ]
  },
  {
   "cell_type": "markdown",
   "id": "b7d5d4fd",
   "metadata": {},
   "source": [
    "# Draw Heatmap"
   ]
  },
  {
   "cell_type": "code",
   "execution_count": null,
   "id": "877f65f5",
   "metadata": {},
   "outputs": [],
   "source": [
    "cm_vgg = tf.math.confusion_matrix(np.array(df['risk'])[(-1 * NUM_VAL):], np.array(predict_y_vgg_val))\n",
    "\n",
    "cm_vgg = np.array(cm_vgg).astype('float32')\n",
    "\n",
    "cm_vgg[0] = cm_vgg[0] / (1.0 * cm_vgg[0].sum())\n",
    "cm_vgg[1] = cm_vgg[1] / (1.0 * cm_vgg[1].sum())\n",
    "cm_vgg[2] = cm_vgg[2] / (1.0 * cm_vgg[2].sum())\n",
    "cm_vgg[3] = cm_vgg[3] / (1.0 * cm_vgg[3].sum())"
   ]
  },
  {
   "cell_type": "code",
   "execution_count": null,
   "id": "20d711a1",
   "metadata": {},
   "outputs": [],
   "source": [
    "svm = sns.heatmap(cm_vgg, annot=True);"
   ]
  },
  {
   "cell_type": "code",
   "execution_count": null,
   "id": "93b6e5de",
   "metadata": {},
   "outputs": [],
   "source": [
    "figure = svm.get_figure()\n",
    "figure.savefig(r\"A:\\Deep Learning\\Term Project\\Pic\\Ensemble-Resnet-no adjustment\\final.png\", dpi = 400)"
   ]
  }
 ],
 "metadata": {
  "kernelspec": {
   "display_name": "tensorflow gpu",
   "language": "python",
   "name": "tensorflow"
  },
  "language_info": {
   "codemirror_mode": {
    "name": "ipython",
    "version": 3
   },
   "file_extension": ".py",
   "mimetype": "text/x-python",
   "name": "python",
   "nbconvert_exporter": "python",
   "pygments_lexer": "ipython3",
   "version": "3.8.10"
  }
 },
 "nbformat": 4,
 "nbformat_minor": 5
}
